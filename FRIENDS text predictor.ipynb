{
  "nbformat": 4,
  "nbformat_minor": 0,
  "metadata": {
    "colab": {
      "name": "Lyrics Generator",
      "provenance": [],
      "collapsed_sections": []
    },
    "kernelspec": {
      "display_name": "Python 3",
      "language": "python",
      "name": "python3"
    },
    "language_info": {
      "codemirror_mode": {
        "name": "ipython",
        "version": 3
      },
      "file_extension": ".py",
      "mimetype": "text/x-python",
      "name": "python",
      "nbconvert_exporter": "python",
      "pygments_lexer": "ipython3",
      "version": "3.7.4"
    },
    "accelerator": "GPU"
  },
  "cells": [
    {
      "cell_type": "markdown",
      "metadata": {
        "id": "tcCD15vhHGbQ"
      },
      "source": [
        "Let's import all the libraries and classes we will need while making this project"
      ]
    },
    {
      "cell_type": "code",
      "metadata": {
        "id": "BOwsuGQQY9OL"
      },
      "source": [
        "from tensorflow.keras.preprocessing.sequence import pad_sequences\n",
        "from tensorflow.keras.layers import Embedding, LSTM, Dense, Dropout, Bidirectional\n",
        "from tensorflow.keras.preprocessing.text import Tokenizer\n",
        "from tensorflow.keras.models import Sequential\n",
        "from tensorflow.keras.optimizers import Adam\n",
        "\n",
        "from tensorflow.keras.regularizers import Regularizer\n",
        "\n",
        "import tensorflow.keras.utils as ku \n",
        "import numpy as np \n",
        "import random"
      ],
      "execution_count": 1,
      "outputs": []
    },
    {
      "cell_type": "markdown",
      "metadata": {
        "id": "EKAs7efCNDId"
      },
      "source": [
        "# Importing Data"
      ]
    },
    {
      "cell_type": "markdown",
      "metadata": {
        "id": "jXROh8GuHWeg"
      },
      "source": [
        "Now we will read the data. I'm reading the data from my github profile link, you can directly use txt files. "
      ]
    },
    {
      "cell_type": "code",
      "metadata": {
        "id": "V3oel-VxFsaK"
      },
      "source": [
        "import urllib.request\n",
        "data = ''\n",
        "\n",
        "url = \"https://raw.githubusercontent.com/ishantjuyal/Word-Prediction/master/Data/friends.txt\"\n",
        "data += urllib.request.urlopen(url).read().decode(\"utf-8\")"
      ],
      "execution_count": 2,
      "outputs": []
    },
    {
      "cell_type": "code",
      "metadata": {
        "id": "5BRo00AsgYcz",
        "outputId": "95d26af0-b67d-47de-b719-a7d5cd53c46b",
        "colab": {
          "base_uri": "https://localhost:8080/",
          "height": 34
        }
      },
      "source": [
        "len(data)"
      ],
      "execution_count": 3,
      "outputs": [
        {
          "output_type": "execute_result",
          "data": {
            "text/plain": [
              "3761819"
            ]
          },
          "metadata": {
            "tags": []
          },
          "execution_count": 3
        }
      ]
    },
    {
      "cell_type": "code",
      "metadata": {
        "id": "R6zfPAHRSr3M"
      },
      "source": [
        "import re\n",
        "data = re.sub(r'[^\\w\\s]', '', data)"
      ],
      "execution_count": 4,
      "outputs": []
    },
    {
      "cell_type": "markdown",
      "metadata": {
        "id": "K9MCosIcIH0n"
      },
      "source": [
        "Now we will convert data, which is a string to a list containing differrent sentences. \n",
        "As we can see, in the string, \"end of line\" is represented by \"\\r\\n\". So, we will split the string by \"\\r\\n\" and store them as list in corpus."
      ]
    },
    {
      "cell_type": "code",
      "metadata": {
        "id": "XvlyWKMRKNsy"
      },
      "source": [
        "# Splitting the string into sentences, while converting whole data into lowercase. \n",
        "corpus = data.lower().split(\"\\n\")"
      ],
      "execution_count": 5,
      "outputs": []
    },
    {
      "cell_type": "code",
      "metadata": {
        "id": "8U5dGCoYa9Gn"
      },
      "source": [
        "for i in range(len(corpus)):\n",
        "    sentence = corpus[i]\n",
        "    sentence = \"startsentence \" + sentence + \" endsentence\"\n",
        "    corpus[i] = sentence"
      ],
      "execution_count": 6,
      "outputs": []
    },
    {
      "cell_type": "code",
      "metadata": {
        "id": "-XQM2bq4GE-w"
      },
      "source": [
        "new_corpus = []\n",
        "\n",
        "for i in range(0, len(corpus)-1):\n",
        "    if i+1 in range(len(corpus)):\n",
        "        sentence = corpus[i] + \" newsentence \" + corpus[i+1]\n",
        "        new_corpus.append(sentence)"
      ],
      "execution_count": 7,
      "outputs": []
    },
    {
      "cell_type": "code",
      "metadata": {
        "id": "PHRnAsug10sw"
      },
      "source": [
        "temp = new_corpus[:10000]\n",
        "corpus = []\n",
        "for i in temp:\n",
        "    if i not in corpus:\n",
        "        corpus.append(i)"
      ],
      "execution_count": 8,
      "outputs": []
    },
    {
      "cell_type": "markdown",
      "metadata": {
        "id": "ztz9xk_LMlDb"
      },
      "source": [
        "Let's see how an element of corpus looks like. "
      ]
    },
    {
      "cell_type": "code",
      "metadata": {
        "id": "Ybw7Cit44X9e",
        "outputId": "50b182e2-c70c-439c-d649-d510a7b55100",
        "colab": {
          "base_uri": "https://localhost:8080/",
          "height": 34
        }
      },
      "source": [
        "len(corpus)"
      ],
      "execution_count": 9,
      "outputs": [
        {
          "output_type": "execute_result",
          "data": {
            "text/plain": [
              "9946"
            ]
          },
          "metadata": {
            "tags": []
          },
          "execution_count": 9
        }
      ]
    },
    {
      "cell_type": "code",
      "metadata": {
        "id": "-s7PZZxl3EFd",
        "outputId": "c52c2e9c-c04f-4943-c71e-243248e7c09c",
        "colab": {
          "base_uri": "https://localhost:8080/",
          "height": 35
        }
      },
      "source": [
        "corpus[3]"
      ],
      "execution_count": 10,
      "outputs": [
        {
          "output_type": "execute_result",
          "data": {
            "application/vnd.google.colaboratory.intrinsic+json": {
              "type": "string"
            },
            "text/plain": [
              "'startsentence  cmon youre going out with the guy theres endsentence newsentence startsentence gotta be something wrong with him  endsentence'"
            ]
          },
          "metadata": {
            "tags": []
          },
          "execution_count": 10
        }
      ]
    },
    {
      "cell_type": "markdown",
      "metadata": {
        "id": "rSuoyJVGI6D5"
      },
      "source": [
        "# Organising Data\n",
        "Now we will use Tokenizer to convert the words to word vectors. \n",
        "Our model understands numbers only, so we need to give it numbers instead of words. "
      ]
    },
    {
      "cell_type": "code",
      "metadata": {
        "id": "PRnDnCW-Z7qv"
      },
      "source": [
        "tokenizer = Tokenizer()\n",
        "\n",
        "tokenizer.fit_on_texts(corpus)\n",
        "total_words = len(tokenizer.word_index) + 1\n",
        "\n",
        "# create input sequences using list of tokens\n",
        "input_sequences = []\n",
        "for line in corpus:\n",
        "    token_list = tokenizer.texts_to_sequences([line])[0]\n",
        "    for i in range(1, len(token_list)):\n",
        "        n_gram_sequence = token_list[max(0, i-10):i+1]\n",
        "        input_sequences.append(n_gram_sequence)\n",
        "\n",
        "# pad sequences \n",
        "max_sequence_len = 11\n",
        "input_sequences = np.array(pad_sequences(input_sequences, maxlen=max_sequence_len, padding='pre'))\n",
        "\n",
        "# create predictors and label\n",
        "predictors, label = input_sequences[:,:-1],input_sequences[:,-1]\n",
        "\n",
        "label = ku.to_categorical(label, num_classes=total_words)"
      ],
      "execution_count": 11,
      "outputs": []
    },
    {
      "cell_type": "code",
      "metadata": {
        "id": "P-X6EuigK0AW",
        "outputId": "3659b192-041b-4153-c175-92eaad86587e",
        "colab": {
          "base_uri": "https://localhost:8080/",
          "height": 185
        }
      },
      "source": [
        "print(\"Input Sequences\")\n",
        "print(input_sequences)\n",
        "print(\"*****\")\n",
        "print(\"Shape of Input Sequences\", input_sequences.shape)"
      ],
      "execution_count": 12,
      "outputs": [
        {
          "output_type": "stream",
          "text": [
            "Input Sequences\n",
            "[[   0    0    0 ...    0    1 1364]\n",
            " [   0    0    0 ...    1 1364 1684]\n",
            " [   0    0    0 ... 1364 1684  675]\n",
            " ...\n",
            " [   1   69   38 ...    2    3    1]\n",
            " [  69   38    4 ...    3    1   19]\n",
            " [  38    4  222 ...    1   19    2]]\n",
            "*****\n",
            "Shape of Input Sequences (199102, 11)\n"
          ],
          "name": "stdout"
        }
      ]
    },
    {
      "cell_type": "code",
      "metadata": {
        "id": "-EuezRa8KNYC",
        "outputId": "a8e9ce87-d824-478b-b133-70f40e4f0eb5",
        "colab": {
          "base_uri": "https://localhost:8080/",
          "height": 185
        }
      },
      "source": [
        "print(\"Predictors\")\n",
        "print(predictors)\n",
        "print('*****')\n",
        "print(\"Shape of predictors is\", predictors.shape)"
      ],
      "execution_count": 13,
      "outputs": [
        {
          "output_type": "stream",
          "text": [
            "Predictors\n",
            "[[   0    0    0 ...    0    0    1]\n",
            " [   0    0    0 ...    0    1 1364]\n",
            " [   0    0    0 ...    1 1364 1684]\n",
            " ...\n",
            " [   1   69   38 ... 6375    2    3]\n",
            " [  69   38    4 ...    2    3    1]\n",
            " [  38    4  222 ...    3    1   19]]\n",
            "*****\n",
            "Shape of predictors is (199102, 10)\n"
          ],
          "name": "stdout"
        }
      ]
    },
    {
      "cell_type": "code",
      "metadata": {
        "id": "JXv6R3EwbZEt",
        "outputId": "8655fb4c-274b-46eb-d138-f96eb542e951",
        "colab": {
          "base_uri": "https://localhost:8080/",
          "height": 185
        }
      },
      "source": [
        "print(\"Label\")\n",
        "print(label)\n",
        "print(\"*****\")\n",
        "print(\"Shape of label\", label.shape)"
      ],
      "execution_count": 14,
      "outputs": [
        {
          "output_type": "stream",
          "text": [
            "Label\n",
            "[[0. 0. 0. ... 0. 0. 0.]\n",
            " [0. 0. 0. ... 0. 0. 0.]\n",
            " [0. 0. 0. ... 0. 0. 0.]\n",
            " ...\n",
            " [0. 1. 0. ... 0. 0. 0.]\n",
            " [0. 0. 0. ... 0. 0. 0.]\n",
            " [0. 0. 1. ... 0. 0. 0.]]\n",
            "*****\n",
            "Shape of label (199102, 6376)\n"
          ],
          "name": "stdout"
        }
      ]
    },
    {
      "cell_type": "markdown",
      "metadata": {
        "id": "_SyLUtByJ2WK"
      },
      "source": [
        "Now, we will start building model using Keras. We use LSTM so that our model could be more accurate and understand the context better. "
      ]
    },
    {
      "cell_type": "code",
      "metadata": {
        "id": "w9vH8Y59ajYL",
        "outputId": "702f10a0-77dd-4401-ea2d-a59c915f52d3",
        "colab": {
          "base_uri": "https://localhost:8080/",
          "height": 437
        }
      },
      "source": [
        "model = Sequential()\n",
        "model.add(Embedding(total_words, 50, input_length=max_sequence_len-1))  #(# Embedding Layer)\n",
        "model.add(Bidirectional(LSTM(256, return_sequences=True)))  #(An LSTM Layer)\n",
        "model.add(Dropout(0.3))  #(# A dropout layer for regularisation)\n",
        "model.add(LSTM(128, return_sequences= True))  #(# Another LSTM Layer)\n",
        "model.add(Dropout(0.3))\n",
        "model.add(LSTM(64))\n",
        "model.add(Dense(total_words/2, activation='relu'))  #(# A Dense Layer including regularizers)\n",
        "#(# Last Layer, the shape is equal to total number of words present in our vocabulary)\n",
        "model.add(Dense(total_words, activation='softmax'))  \n",
        "# Pick an optimizer\n",
        "model.compile(loss='categorical_crossentropy', optimizer='adam', metrics='accuracy')  #(# Pick a loss function and an optimizer)\n",
        "print(model.summary())"
      ],
      "execution_count": 15,
      "outputs": [
        {
          "output_type": "stream",
          "text": [
            "Model: \"sequential\"\n",
            "_________________________________________________________________\n",
            "Layer (type)                 Output Shape              Param #   \n",
            "=================================================================\n",
            "embedding (Embedding)        (None, 10, 50)            318800    \n",
            "_________________________________________________________________\n",
            "bidirectional (Bidirectional (None, 10, 512)           628736    \n",
            "_________________________________________________________________\n",
            "dropout (Dropout)            (None, 10, 512)           0         \n",
            "_________________________________________________________________\n",
            "lstm_1 (LSTM)                (None, 10, 128)           328192    \n",
            "_________________________________________________________________\n",
            "dropout_1 (Dropout)          (None, 10, 128)           0         \n",
            "_________________________________________________________________\n",
            "lstm_2 (LSTM)                (None, 64)                49408     \n",
            "_________________________________________________________________\n",
            "dense (Dense)                (None, 3188)              207220    \n",
            "_________________________________________________________________\n",
            "dense_1 (Dense)              (None, 6376)              20333064  \n",
            "=================================================================\n",
            "Total params: 21,865,420\n",
            "Trainable params: 21,865,420\n",
            "Non-trainable params: 0\n",
            "_________________________________________________________________\n",
            "None\n"
          ],
          "name": "stdout"
        }
      ]
    },
    {
      "cell_type": "code",
      "metadata": {
        "id": "AIg2f1HBxqof",
        "outputId": "b0ce0b98-ded9-498b-e8e8-21ce98967314",
        "colab": {
          "base_uri": "https://localhost:8080/",
          "height": 1000
        }
      },
      "source": [
        "history = model.fit(predictors, label, batch_size = 512, epochs= 120, verbose=1)"
      ],
      "execution_count": 16,
      "outputs": [
        {
          "output_type": "stream",
          "text": [
            "Epoch 1/120\n",
            "389/389 [==============================] - 15s 39ms/step - loss: 5.8341 - accuracy: 0.1262\n",
            "Epoch 2/120\n",
            "389/389 [==============================] - 15s 39ms/step - loss: 5.1738 - accuracy: 0.2042\n",
            "Epoch 3/120\n",
            "389/389 [==============================] - 15s 39ms/step - loss: 4.8417 - accuracy: 0.2194\n",
            "Epoch 4/120\n",
            "389/389 [==============================] - 15s 39ms/step - loss: 4.5829 - accuracy: 0.2382\n",
            "Epoch 5/120\n",
            "389/389 [==============================] - 15s 39ms/step - loss: 4.3878 - accuracy: 0.2490\n",
            "Epoch 6/120\n",
            "389/389 [==============================] - 15s 39ms/step - loss: 4.2157 - accuracy: 0.2585\n",
            "Epoch 7/120\n",
            "389/389 [==============================] - 15s 39ms/step - loss: 4.0547 - accuracy: 0.2664\n",
            "Epoch 8/120\n",
            "389/389 [==============================] - 15s 39ms/step - loss: 3.9031 - accuracy: 0.2736\n",
            "Epoch 9/120\n",
            "389/389 [==============================] - 15s 39ms/step - loss: 3.7555 - accuracy: 0.2804\n",
            "Epoch 10/120\n",
            "389/389 [==============================] - 15s 39ms/step - loss: 3.6209 - accuracy: 0.2875\n",
            "Epoch 11/120\n",
            "389/389 [==============================] - 15s 39ms/step - loss: 3.4874 - accuracy: 0.2962\n",
            "Epoch 12/120\n",
            "389/389 [==============================] - 15s 39ms/step - loss: 3.3668 - accuracy: 0.3043\n",
            "Epoch 13/120\n",
            "389/389 [==============================] - 15s 39ms/step - loss: 3.2475 - accuracy: 0.3158\n",
            "Epoch 14/120\n",
            "389/389 [==============================] - 15s 39ms/step - loss: 3.1364 - accuracy: 0.3270\n",
            "Epoch 15/120\n",
            "389/389 [==============================] - 15s 39ms/step - loss: 3.0284 - accuracy: 0.3399\n",
            "Epoch 16/120\n",
            "389/389 [==============================] - 15s 39ms/step - loss: 2.9246 - accuracy: 0.3530\n",
            "Epoch 17/120\n",
            "389/389 [==============================] - 15s 39ms/step - loss: 2.8303 - accuracy: 0.3651\n",
            "Epoch 18/120\n",
            "389/389 [==============================] - 15s 39ms/step - loss: 2.7354 - accuracy: 0.3806\n",
            "Epoch 19/120\n",
            "389/389 [==============================] - 15s 39ms/step - loss: 2.6502 - accuracy: 0.3937\n",
            "Epoch 20/120\n",
            "389/389 [==============================] - 15s 39ms/step - loss: 2.5688 - accuracy: 0.4078\n",
            "Epoch 21/120\n",
            "389/389 [==============================] - 15s 39ms/step - loss: 2.4907 - accuracy: 0.4196\n",
            "Epoch 22/120\n",
            "389/389 [==============================] - 15s 39ms/step - loss: 2.4165 - accuracy: 0.4326\n",
            "Epoch 23/120\n",
            "389/389 [==============================] - 15s 39ms/step - loss: 2.3475 - accuracy: 0.4457\n",
            "Epoch 24/120\n",
            "389/389 [==============================] - 15s 39ms/step - loss: 2.2809 - accuracy: 0.4582\n",
            "Epoch 25/120\n",
            "389/389 [==============================] - 15s 39ms/step - loss: 2.2204 - accuracy: 0.4686\n",
            "Epoch 26/120\n",
            "389/389 [==============================] - 15s 39ms/step - loss: 2.1636 - accuracy: 0.4807\n",
            "Epoch 27/120\n",
            "389/389 [==============================] - 15s 39ms/step - loss: 2.1071 - accuracy: 0.4917\n",
            "Epoch 28/120\n",
            "389/389 [==============================] - 15s 39ms/step - loss: 2.0489 - accuracy: 0.5036\n",
            "Epoch 29/120\n",
            "389/389 [==============================] - 15s 39ms/step - loss: 2.0013 - accuracy: 0.5145\n",
            "Epoch 30/120\n",
            "389/389 [==============================] - 15s 39ms/step - loss: 1.9520 - accuracy: 0.5241\n",
            "Epoch 31/120\n",
            "389/389 [==============================] - 15s 40ms/step - loss: 1.9083 - accuracy: 0.5340\n",
            "Epoch 32/120\n",
            "389/389 [==============================] - 15s 39ms/step - loss: 1.8624 - accuracy: 0.5448\n",
            "Epoch 33/120\n",
            "389/389 [==============================] - 15s 40ms/step - loss: 1.8170 - accuracy: 0.5550\n",
            "Epoch 34/120\n",
            "389/389 [==============================] - 15s 39ms/step - loss: 1.7797 - accuracy: 0.5621\n",
            "Epoch 35/120\n",
            "389/389 [==============================] - 16s 40ms/step - loss: 1.7384 - accuracy: 0.5732\n",
            "Epoch 36/120\n",
            "389/389 [==============================] - 16s 40ms/step - loss: 1.7032 - accuracy: 0.5809\n",
            "Epoch 37/120\n",
            "389/389 [==============================] - 16s 40ms/step - loss: 1.6646 - accuracy: 0.5906\n",
            "Epoch 38/120\n",
            "389/389 [==============================] - 15s 39ms/step - loss: 1.6284 - accuracy: 0.5996\n",
            "Epoch 39/120\n",
            "389/389 [==============================] - 15s 39ms/step - loss: 1.5969 - accuracy: 0.6054\n",
            "Epoch 40/120\n",
            "389/389 [==============================] - 15s 39ms/step - loss: 1.5686 - accuracy: 0.6114\n",
            "Epoch 41/120\n",
            "389/389 [==============================] - 15s 39ms/step - loss: 1.5395 - accuracy: 0.6193\n",
            "Epoch 42/120\n",
            "389/389 [==============================] - 15s 39ms/step - loss: 1.5075 - accuracy: 0.6286\n",
            "Epoch 43/120\n",
            "389/389 [==============================] - 15s 40ms/step - loss: 1.4829 - accuracy: 0.6333\n",
            "Epoch 44/120\n",
            "389/389 [==============================] - 15s 39ms/step - loss: 1.4529 - accuracy: 0.6405\n",
            "Epoch 45/120\n",
            "389/389 [==============================] - 15s 39ms/step - loss: 1.4305 - accuracy: 0.6463\n",
            "Epoch 46/120\n",
            "389/389 [==============================] - 15s 39ms/step - loss: 1.3989 - accuracy: 0.6536\n",
            "Epoch 47/120\n",
            "389/389 [==============================] - 15s 39ms/step - loss: 1.3836 - accuracy: 0.6583\n",
            "Epoch 48/120\n",
            "389/389 [==============================] - 15s 39ms/step - loss: 1.3567 - accuracy: 0.6659\n",
            "Epoch 49/120\n",
            "389/389 [==============================] - 15s 39ms/step - loss: 1.3321 - accuracy: 0.6708\n",
            "Epoch 50/120\n",
            "389/389 [==============================] - 15s 39ms/step - loss: 1.3131 - accuracy: 0.6764\n",
            "Epoch 51/120\n",
            "389/389 [==============================] - 15s 39ms/step - loss: 1.2943 - accuracy: 0.6818\n",
            "Epoch 52/120\n",
            "389/389 [==============================] - 15s 39ms/step - loss: 1.2732 - accuracy: 0.6870\n",
            "Epoch 53/120\n",
            "389/389 [==============================] - 15s 39ms/step - loss: 1.2527 - accuracy: 0.6914\n",
            "Epoch 54/120\n",
            "389/389 [==============================] - 15s 39ms/step - loss: 1.2364 - accuracy: 0.6963\n",
            "Epoch 55/120\n",
            "389/389 [==============================] - 15s 39ms/step - loss: 1.2221 - accuracy: 0.6996\n",
            "Epoch 56/120\n",
            "389/389 [==============================] - 15s 39ms/step - loss: 1.2030 - accuracy: 0.7053\n",
            "Epoch 57/120\n",
            "389/389 [==============================] - 15s 39ms/step - loss: 1.1866 - accuracy: 0.7094\n",
            "Epoch 58/120\n",
            "389/389 [==============================] - 15s 39ms/step - loss: 1.1666 - accuracy: 0.7148\n",
            "Epoch 59/120\n",
            "389/389 [==============================] - 15s 39ms/step - loss: 1.1552 - accuracy: 0.7173\n",
            "Epoch 60/120\n",
            "389/389 [==============================] - 15s 39ms/step - loss: 1.1399 - accuracy: 0.7210\n",
            "Epoch 61/120\n",
            "389/389 [==============================] - 15s 39ms/step - loss: 1.1259 - accuracy: 0.7240\n",
            "Epoch 62/120\n",
            "389/389 [==============================] - 15s 39ms/step - loss: 1.1092 - accuracy: 0.7294\n",
            "Epoch 63/120\n",
            "389/389 [==============================] - 15s 39ms/step - loss: 1.0998 - accuracy: 0.7320\n",
            "Epoch 64/120\n",
            "389/389 [==============================] - 15s 39ms/step - loss: 1.0865 - accuracy: 0.7350\n",
            "Epoch 65/120\n",
            "389/389 [==============================] - 15s 39ms/step - loss: 1.0730 - accuracy: 0.7387\n",
            "Epoch 66/120\n",
            "389/389 [==============================] - 15s 39ms/step - loss: 1.0633 - accuracy: 0.7410\n",
            "Epoch 67/120\n",
            "389/389 [==============================] - 15s 39ms/step - loss: 1.0540 - accuracy: 0.7438\n",
            "Epoch 68/120\n",
            "389/389 [==============================] - 15s 39ms/step - loss: 1.0434 - accuracy: 0.7460\n",
            "Epoch 69/120\n",
            "389/389 [==============================] - 15s 39ms/step - loss: 1.0306 - accuracy: 0.7501\n",
            "Epoch 70/120\n",
            "389/389 [==============================] - 15s 39ms/step - loss: 1.0190 - accuracy: 0.7536\n",
            "Epoch 71/120\n",
            "389/389 [==============================] - 15s 39ms/step - loss: 1.0003 - accuracy: 0.7591\n",
            "Epoch 72/120\n",
            "389/389 [==============================] - 15s 39ms/step - loss: 0.9949 - accuracy: 0.7596\n",
            "Epoch 73/120\n",
            "389/389 [==============================] - 15s 39ms/step - loss: 0.9903 - accuracy: 0.7605\n",
            "Epoch 74/120\n",
            "389/389 [==============================] - 15s 39ms/step - loss: 0.9851 - accuracy: 0.7612\n",
            "Epoch 75/120\n",
            "389/389 [==============================] - 15s 39ms/step - loss: 0.9706 - accuracy: 0.7661\n",
            "Epoch 76/120\n",
            "389/389 [==============================] - 16s 40ms/step - loss: 0.9636 - accuracy: 0.7682\n",
            "Epoch 77/120\n",
            "389/389 [==============================] - 15s 39ms/step - loss: 0.9518 - accuracy: 0.7712\n",
            "Epoch 78/120\n",
            "389/389 [==============================] - 16s 40ms/step - loss: 0.9523 - accuracy: 0.7709\n",
            "Epoch 79/120\n",
            "389/389 [==============================] - 15s 40ms/step - loss: 0.9401 - accuracy: 0.7735\n",
            "Epoch 80/120\n",
            "389/389 [==============================] - 15s 40ms/step - loss: 0.9281 - accuracy: 0.7777\n",
            "Epoch 81/120\n",
            "389/389 [==============================] - 15s 40ms/step - loss: 0.9216 - accuracy: 0.7793\n",
            "Epoch 82/120\n",
            "389/389 [==============================] - 15s 40ms/step - loss: 0.9150 - accuracy: 0.7804\n",
            "Epoch 83/120\n",
            "389/389 [==============================] - 15s 40ms/step - loss: 0.9095 - accuracy: 0.7818\n",
            "Epoch 84/120\n",
            "389/389 [==============================] - 15s 40ms/step - loss: 0.9062 - accuracy: 0.7827\n",
            "Epoch 85/120\n",
            "389/389 [==============================] - 15s 40ms/step - loss: 0.8986 - accuracy: 0.7853\n",
            "Epoch 86/120\n",
            "389/389 [==============================] - 15s 40ms/step - loss: 0.8913 - accuracy: 0.7863\n",
            "Epoch 87/120\n",
            "389/389 [==============================] - 15s 40ms/step - loss: 0.8826 - accuracy: 0.7889\n",
            "Epoch 88/120\n",
            "389/389 [==============================] - 15s 40ms/step - loss: 0.8796 - accuracy: 0.7896\n",
            "Epoch 89/120\n",
            "389/389 [==============================] - 15s 40ms/step - loss: 0.8718 - accuracy: 0.7931\n",
            "Epoch 90/120\n",
            "389/389 [==============================] - 15s 40ms/step - loss: 0.8640 - accuracy: 0.7937\n",
            "Epoch 91/120\n",
            "389/389 [==============================] - 15s 40ms/step - loss: 0.8594 - accuracy: 0.7951\n",
            "Epoch 92/120\n",
            "389/389 [==============================] - 15s 40ms/step - loss: 0.8541 - accuracy: 0.7965\n",
            "Epoch 93/120\n",
            "389/389 [==============================] - 15s 40ms/step - loss: 0.8511 - accuracy: 0.7975\n",
            "Epoch 94/120\n",
            "389/389 [==============================] - 15s 40ms/step - loss: 0.8467 - accuracy: 0.7987\n",
            "Epoch 95/120\n",
            "389/389 [==============================] - 15s 40ms/step - loss: 0.8408 - accuracy: 0.8000\n",
            "Epoch 96/120\n",
            "389/389 [==============================] - 16s 40ms/step - loss: 0.8360 - accuracy: 0.8005\n",
            "Epoch 97/120\n",
            "389/389 [==============================] - 15s 40ms/step - loss: 0.8287 - accuracy: 0.8034\n",
            "Epoch 98/120\n",
            "389/389 [==============================] - 15s 40ms/step - loss: 0.8227 - accuracy: 0.8051\n",
            "Epoch 99/120\n",
            "389/389 [==============================] - 15s 40ms/step - loss: 0.8160 - accuracy: 0.8072\n",
            "Epoch 100/120\n",
            "389/389 [==============================] - 15s 40ms/step - loss: 0.8164 - accuracy: 0.8067\n",
            "Epoch 101/120\n",
            "389/389 [==============================] - 15s 40ms/step - loss: 0.8107 - accuracy: 0.8082\n",
            "Epoch 102/120\n",
            "389/389 [==============================] - 15s 40ms/step - loss: 0.8054 - accuracy: 0.8095\n",
            "Epoch 103/120\n",
            "389/389 [==============================] - 15s 40ms/step - loss: 0.8031 - accuracy: 0.8098\n",
            "Epoch 104/120\n",
            "389/389 [==============================] - 15s 40ms/step - loss: 0.8000 - accuracy: 0.8105\n",
            "Epoch 105/120\n",
            "389/389 [==============================] - 15s 40ms/step - loss: 0.7934 - accuracy: 0.8121\n",
            "Epoch 106/120\n",
            "389/389 [==============================] - 15s 40ms/step - loss: 0.7911 - accuracy: 0.8133\n",
            "Epoch 107/120\n",
            "389/389 [==============================] - 15s 40ms/step - loss: 0.7860 - accuracy: 0.8146\n",
            "Epoch 108/120\n",
            "389/389 [==============================] - 15s 40ms/step - loss: 0.7793 - accuracy: 0.8164\n",
            "Epoch 109/120\n",
            "389/389 [==============================] - 15s 40ms/step - loss: 0.7804 - accuracy: 0.8156\n",
            "Epoch 110/120\n",
            "389/389 [==============================] - 16s 40ms/step - loss: 0.7720 - accuracy: 0.8190\n",
            "Epoch 111/120\n",
            "389/389 [==============================] - 15s 40ms/step - loss: 0.7725 - accuracy: 0.8187\n",
            "Epoch 112/120\n",
            "389/389 [==============================] - 15s 40ms/step - loss: 0.7670 - accuracy: 0.8202\n",
            "Epoch 113/120\n",
            "389/389 [==============================] - 15s 40ms/step - loss: 0.7637 - accuracy: 0.8208\n",
            "Epoch 114/120\n",
            "389/389 [==============================] - 16s 40ms/step - loss: 0.7654 - accuracy: 0.8203\n",
            "Epoch 115/120\n",
            "389/389 [==============================] - 15s 40ms/step - loss: 0.7590 - accuracy: 0.8225\n",
            "Epoch 116/120\n",
            "389/389 [==============================] - 16s 40ms/step - loss: 0.7578 - accuracy: 0.8220\n",
            "Epoch 117/120\n",
            "389/389 [==============================] - 16s 40ms/step - loss: 0.7514 - accuracy: 0.8241\n",
            "Epoch 118/120\n",
            "389/389 [==============================] - 16s 40ms/step - loss: 0.7483 - accuracy: 0.8250\n",
            "Epoch 119/120\n",
            "389/389 [==============================] - 15s 40ms/step - loss: 0.7475 - accuracy: 0.8248\n",
            "Epoch 120/120\n",
            "389/389 [==============================] - 16s 40ms/step - loss: 0.7441 - accuracy: 0.8253\n"
          ],
          "name": "stdout"
        }
      ]
    },
    {
      "cell_type": "markdown",
      "metadata": {
        "id": "blUBajLlOPyD"
      },
      "source": [
        "Now, we will see how our model performed with each iteration. "
      ]
    },
    {
      "cell_type": "code",
      "metadata": {
        "id": "XWTK8pcgsmqG"
      },
      "source": [
        "import matplotlib.pyplot as plt\n",
        "\n",
        "def plot_graph(history,string):\n",
        "    plt.plot(history.history[string])\n",
        "    plt.xlabel(\"Epochs\")\n",
        "    plt.ylabel(string)\n",
        "    plt.show()"
      ],
      "execution_count": 17,
      "outputs": []
    },
    {
      "cell_type": "code",
      "metadata": {
        "id": "srDqi-U3smqW",
        "outputId": "2330b6e9-3d95-4a93-dc07-834172c89cba",
        "colab": {
          "base_uri": "https://localhost:8080/",
          "height": 279
        }
      },
      "source": [
        "plot_graph(history,'accuracy')"
      ],
      "execution_count": 18,
      "outputs": [
        {
          "output_type": "display_data",
          "data": {
            "image/png": "[encoded data removed]",
            "text/plain": [
              "<Figure size 432x288 with 1 Axes>"
            ]
          },
          "metadata": {
            "tags": [],
            "needs_background": "light"
          }
        }
      ]
    },
    {
      "cell_type": "code",
      "metadata": {
        "id": "70XUUhDnTpuY",
        "outputId": "6bcc70da-9105-4ea2-fef6-bac25d69fa15",
        "colab": {
          "base_uri": "https://localhost:8080/",
          "height": 280
        }
      },
      "source": [
        "plot_graph(history,'loss')"
      ],
      "execution_count": 19,
      "outputs": [
        {
          "output_type": "display_data",
          "data": {
            "image/png": "[encoded data removed]",
            "text/plain": [
              "<Figure size 432x288 with 1 Axes>"
            ]
          },
          "metadata": {
            "tags": [],
            "needs_background": "light"
          }
        }
      ]
    },
    {
      "cell_type": "code",
      "metadata": {
        "id": "B3n3gF-wotgL",
        "outputId": "de321a90-4e72-4d65-cd5f-aef3dfa19f88",
        "colab": {
          "base_uri": "https://localhost:8080/",
          "height": 1000
        }
      },
      "source": [
        "# Further training if not satisfied\n",
        "history = model.fit(predictors, label, batch_size = 512, epochs= 30, verbose=1)"
      ],
      "execution_count": 31,
      "outputs": [
        {
          "output_type": "stream",
          "text": [
            "Epoch 1/30\n",
            "389/389 [==============================] - 16s 40ms/step - loss: 0.7414 - accuracy: 0.8263\n",
            "Epoch 2/30\n",
            "389/389 [==============================] - 16s 40ms/step - loss: 0.7358 - accuracy: 0.8285\n",
            "Epoch 3/30\n",
            "389/389 [==============================] - 16s 40ms/step - loss: 0.7333 - accuracy: 0.8292\n",
            "Epoch 4/30\n",
            "389/389 [==============================] - 15s 40ms/step - loss: 0.7351 - accuracy: 0.8274\n",
            "Epoch 5/30\n",
            "389/389 [==============================] - 15s 40ms/step - loss: 0.7305 - accuracy: 0.8290\n",
            "Epoch 6/30\n",
            "389/389 [==============================] - 15s 40ms/step - loss: 0.7257 - accuracy: 0.8311\n",
            "Epoch 7/30\n",
            "389/389 [==============================] - 15s 40ms/step - loss: 0.7223 - accuracy: 0.8317\n",
            "Epoch 8/30\n",
            "389/389 [==============================] - 15s 40ms/step - loss: 0.7231 - accuracy: 0.8318\n",
            "Epoch 9/30\n",
            "389/389 [==============================] - 15s 40ms/step - loss: 0.7227 - accuracy: 0.8321\n",
            "Epoch 10/30\n",
            "389/389 [==============================] - 15s 40ms/step - loss: 0.7159 - accuracy: 0.8337\n",
            "Epoch 11/30\n",
            "389/389 [==============================] - 15s 40ms/step - loss: 0.7126 - accuracy: 0.8342\n",
            "Epoch 12/30\n",
            "389/389 [==============================] - 15s 40ms/step - loss: 0.7114 - accuracy: 0.8349\n",
            "Epoch 13/30\n",
            "389/389 [==============================] - 15s 40ms/step - loss: 0.7093 - accuracy: 0.8346\n",
            "Epoch 14/30\n",
            "389/389 [==============================] - 15s 40ms/step - loss: 0.7061 - accuracy: 0.8367\n",
            "Epoch 15/30\n",
            "389/389 [==============================] - 15s 39ms/step - loss: 0.7055 - accuracy: 0.8367\n",
            "Epoch 16/30\n",
            "389/389 [==============================] - 15s 40ms/step - loss: 0.7042 - accuracy: 0.8361\n",
            "Epoch 17/30\n",
            "389/389 [==============================] - 15s 40ms/step - loss: 0.7023 - accuracy: 0.8365\n",
            "Epoch 18/30\n",
            "389/389 [==============================] - 15s 40ms/step - loss: 0.6987 - accuracy: 0.8382\n",
            "Epoch 19/30\n",
            "389/389 [==============================] - 15s 40ms/step - loss: 0.7009 - accuracy: 0.8371\n",
            "Epoch 20/30\n",
            "389/389 [==============================] - 15s 40ms/step - loss: 0.6939 - accuracy: 0.8403\n",
            "Epoch 21/30\n",
            "389/389 [==============================] - 15s 40ms/step - loss: 0.6916 - accuracy: 0.8399\n",
            "Epoch 22/30\n",
            "389/389 [==============================] - 15s 40ms/step - loss: 0.6885 - accuracy: 0.8404\n",
            "Epoch 23/30\n",
            "389/389 [==============================] - 16s 40ms/step - loss: 0.6853 - accuracy: 0.8418\n",
            "Epoch 24/30\n",
            "389/389 [==============================] - 15s 39ms/step - loss: 0.6871 - accuracy: 0.8407\n",
            "Epoch 25/30\n",
            "389/389 [==============================] - 15s 39ms/step - loss: 0.6848 - accuracy: 0.8415\n",
            "Epoch 26/30\n",
            "389/389 [==============================] - 15s 40ms/step - loss: 0.6856 - accuracy: 0.8419\n",
            "Epoch 27/30\n",
            "389/389 [==============================] - 15s 39ms/step - loss: 0.6844 - accuracy: 0.8416\n",
            "Epoch 28/30\n",
            "389/389 [==============================] - 15s 39ms/step - loss: 0.6815 - accuracy: 0.8426\n",
            "Epoch 29/30\n",
            "389/389 [==============================] - 15s 39ms/step - loss: 0.6768 - accuracy: 0.8443\n",
            "Epoch 30/30\n",
            "389/389 [==============================] - 15s 39ms/step - loss: 0.6758 - accuracy: 0.8440\n"
          ],
          "name": "stdout"
        }
      ]
    },
    {
      "cell_type": "code",
      "metadata": {
        "id": "B528MBF2i36c"
      },
      "source": [
        "# How to save your trained model\n",
        "\n",
        "# serialize to JSON\n",
        "json_file = model.to_json()\n",
        "with open(\"model.json\", \"w\") as file:\n",
        "   file.write(json_file)\n",
        "# serialize weights to HDF5\n",
        "model.save_weights(\"model.h5\")"
      ],
      "execution_count": null,
      "outputs": []
    },
    {
      "cell_type": "code",
      "metadata": {
        "id": "gVdOEp1bjHzI"
      },
      "source": [
        "# How to load your saved model\n",
        "\n",
        "from keras.models import model_from_json\n",
        "\n",
        "# load json and create model\n",
        "file = open('model.json', 'r')\n",
        "model_json = file.read()\n",
        "file.close()\n",
        "loaded_model = model_from_json(model_json)\n",
        "# load weights\n",
        "loaded_model.load_weights(\"model.h5\")"
      ],
      "execution_count": null,
      "outputs": []
    },
    {
      "cell_type": "markdown",
      "metadata": {
        "id": "LHaZnz8xpzY2"
      },
      "source": [
        "# Generate Lyrics"
      ]
    },
    {
      "cell_type": "code",
      "metadata": {
        "id": "S6L4WV_lsmq2"
      },
      "source": [
        "def get_lyrics(seed_text):\n",
        "    ans = True\n",
        "    end_count = 0\n",
        "    seed_text = \"startsentence \" + seed_text \n",
        "    while True:\n",
        "        token_list = tokenizer.texts_to_sequences([seed_text])[0]\n",
        "        token_list = pad_sequences([token_list], maxlen=max_sequence_len-1, padding='pre')\n",
        "        predicted = np.argmax(model.predict(token_list, verbose=0), axis = -1)\n",
        "        output_word = \"\"\n",
        "        for word, index in tokenizer.word_index.items():\n",
        "            if index == predicted:\n",
        "                output_word = word\n",
        "                break\n",
        "        if output_word == \"endsentence\":\n",
        "            end_count += 1\n",
        "\n",
        "        if end_count == 4:\n",
        "            new_sentence_words = seed_text.split()[1:]\n",
        "            seed_text = ' '.join(new_sentence_words)\n",
        "            return(seed_text)\n",
        "            ans = False\n",
        "            break\n",
        "        seed_text += \" \" + output_word\n",
        "    if ans == True:\n",
        "        new_sentence_words = seed_text.split()[1:]\n",
        "        seed_text = ' '.join(new_sentence_words)\n",
        "        return(seed_text)\n",
        "\n",
        "\n",
        "def make_lyrics(text):\n",
        "    seed_text = get_lyrics(text)\n",
        "    lyrics = seed_text.split(\"newsentence\")\n",
        "    for i in range(len(lyrics)):\n",
        "        sentence = lyrics[i]\n",
        "        words = sentence.split()\n",
        "        if \"endsentence\" in words:\n",
        "            words.remove(\"endsentence\")\n",
        "        if \"startsentence\" in words:\n",
        "            words.remove(\"startsentence\")\n",
        "        sentence = ' '.join(words)\n",
        "        lyrics[i] = sentence\n",
        "    return(lyrics)"
      ],
      "execution_count": 32,
      "outputs": []
    },
    {
      "cell_type": "code",
      "metadata": {
        "id": "0XUdq4yauKfQ"
      },
      "source": [
        "def get_text():\n",
        "    n = random.randint(0,len(corpus) - 1)\n",
        "    sentence = corpus[n]\n",
        "    seed = sentence.split()\n",
        "    seed = ' '.join(seed[1:5])\n",
        "    lyrics = make_lyrics(seed)\n",
        "    for sentence in lyrics:\n",
        "        print(sentence)"
      ],
      "execution_count": 33,
      "outputs": []
    },
    {
      "cell_type": "code",
      "metadata": {
        "id": "HobCL4MROG0t"
      },
      "source": [
        "def make_text(seed):\n",
        "    lyrics = make_lyrics(seed)\n",
        "    for sentence in lyrics:\n",
        "        print(sentence)"
      ],
      "execution_count": 34,
      "outputs": []
    },
    {
      "cell_type": "code",
      "metadata": {
        "id": "SpA6lNet3yY8",
        "outputId": "5459a412-6713-481e-e36e-93c930f502b5",
        "colab": {
          "base_uri": "https://localhost:8080/",
          "height": 84
        }
      },
      "source": [
        "get_text()"
      ],
      "execution_count": 35,
      "outputs": [
        {
          "output_type": "stream",
          "text": [
            "you are well um we we we were just wow\n",
            "what his beeper goes off great now im having a baby\n",
            "what\n",
            "i dont know maybe were some kinda magnets\n"
          ],
          "name": "stdout"
        }
      ]
    },
    {
      "cell_type": "code",
      "metadata": {
        "id": "9UhoEII4NoPZ",
        "outputId": "bba280bc-0c9d-4af3-a531-93682c3f0a96",
        "colab": {
          "base_uri": "https://localhost:8080/",
          "height": 84
        }
      },
      "source": [
        "get_text()"
      ],
      "execution_count": 36,
      "outputs": [
        {
          "output_type": "stream",
          "text": [
            "oh not at all i have no morals and i need the cash\n",
            "its like im lookin in a mirror anyway theyre called\n",
            "fishtachios they taste exactly like pistachios but theyre made primarily of\n",
            "reconstituted fish bits here try one youre not allergic to anything are you\n"
          ],
          "name": "stdout"
        }
      ]
    },
    {
      "cell_type": "code",
      "metadata": {
        "id": "8Hwnw77UNzEi",
        "outputId": "31fc7863-2317-43f5-b537-8d9ef056ce97",
        "colab": {
          "base_uri": "https://localhost:8080/",
          "height": 84
        }
      },
      "source": [
        "make_text(\"Central Perk\")"
      ],
      "execution_count": 37,
      "outputs": [
        {
          "output_type": "stream",
          "text": [
            "Central Perk everyone but rachel is there\n",
            "i remember the day i got my first pay check\n",
            "there was a cave in in one of the mines and eight people were killed\n",
            "wow you worked in a mine\n"
          ],
          "name": "stdout"
        }
      ]
    },
    {
      "cell_type": "code",
      "metadata": {
        "id": "RjTG1QVEP2w0",
        "outputId": "0f4a5736-9138-491e-9788-697a51edfcbc",
        "colab": {
          "base_uri": "https://localhost:8080/",
          "height": 84
        }
      },
      "source": [
        "get_text()"
      ],
      "execution_count": 38,
      "outputs": [
        {
          "output_type": "stream",
          "text": [
            "i dunno maybe you wanted your marriage to fail\n",
            "why why why dont the four have the grilled prawns\n",
            "hands meat to monica\n",
            "in a deep voice men are here\n"
          ],
          "name": "stdout"
        }
      ]
    },
    {
      "cell_type": "code",
      "metadata": {
        "id": "sMgRGAfIP9ss",
        "outputId": "11e4b958-0347-4910-904e-c22a7e7682de",
        "colab": {
          "base_uri": "https://localhost:8080/",
          "height": 101
        }
      },
      "source": [
        "get_text()"
      ],
      "execution_count": 39,
      "outputs": [
        {
          "output_type": "stream",
          "text": [
            "but its ross\n",
            "its perfect\n",
            "ok well what kind of ritual\n",
            "ok we can um we can burn the stuff they gave us\n",
            "or\n"
          ],
          "name": "stdout"
        }
      ]
    },
    {
      "cell_type": "code",
      "metadata": {
        "id": "pNlmHpnhQCWC",
        "outputId": "2ce399f6-0ff1-4c94-badc-5348bf5aa1dd",
        "colab": {
          "base_uri": "https://localhost:8080/",
          "height": 101
        }
      },
      "source": [
        "get_text()"
      ],
      "execution_count": 40,
      "outputs": [
        {
          "output_type": "stream",
          "text": [
            "impressed wow\n",
            "alright now you say something\n",
            "i dont know i just kinda ran into him last night\n",
            "where\n",
            "right where weve been looking all night\n"
          ],
          "name": "stdout"
        }
      ]
    },
    {
      "cell_type": "code",
      "metadata": {
        "id": "dU5SsslqQGpb"
      },
      "source": [
        ""
      ],
      "execution_count": null,
      "outputs": []
    }
  ]
}