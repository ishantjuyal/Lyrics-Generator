{
  "nbformat": 4,
  "nbformat_minor": 0,
  "metadata": {
    "colab": {
      "name": "Project 2 - Word Generator/ Predictor",
      "provenance": [],
      "collapsed_sections": []
    },
    "kernelspec": {
      "display_name": "Python 3",
      "language": "python",
      "name": "python3"
    },
    "language_info": {
      "codemirror_mode": {
        "name": "ipython",
        "version": 3
      },
      "file_extension": ".py",
      "mimetype": "text/x-python",
      "name": "python",
      "nbconvert_exporter": "python",
      "pygments_lexer": "ipython3",
      "version": "3.7.4"
    },
    "accelerator": "GPU"
  },
  "cells": [
    {
      "cell_type": "markdown",
      "metadata": {
        "id": "tcCD15vhHGbQ"
      },
      "source": [
        "Let's import all the libraries and classes we will need while making this project"
      ]
    },
    {
      "cell_type": "code",
      "metadata": {
        "id": "BOwsuGQQY9OL"
      },
      "source": [
        "from tensorflow.keras.preprocessing.sequence import pad_sequences\n",
        "from tensorflow.keras.layers import Embedding, LSTM, Dense, Dropout, Bidirectional\n",
        "from tensorflow.keras.preprocessing.text import Tokenizer\n",
        "from tensorflow.keras.models import Sequential\n",
        "from tensorflow.keras.optimizers import Adam\n",
        "\n",
        "from tensorflow.keras.regularizers import Regularizer\n",
        "\n",
        "import tensorflow.keras.utils as ku \n",
        "import numpy as np "
      ],
      "execution_count": 8,
      "outputs": []
    },
    {
      "cell_type": "markdown",
      "metadata": {
        "id": "EKAs7efCNDId"
      },
      "source": [
        "# Importing Data"
      ]
    },
    {
      "cell_type": "markdown",
      "metadata": {
        "id": "jXROh8GuHWeg"
      },
      "source": [
        "Now we will read the data. I'm reading the data from my github profile link, you can directly use txt files. "
      ]
    },
    {
      "cell_type": "code",
      "metadata": {
        "id": "V3oel-VxFsaK"
      },
      "source": [
        "import urllib.request\n",
        "\n",
        "url = \"https://raw.githubusercontent.com/ishantjuyal/Word-Prediction/master/Lyrics%20by%20Artists/Kanye_West.txt\"\n",
        "data = urllib.request.urlopen(url).read().decode(\"utf-8\")"
      ],
      "execution_count": 9,
      "outputs": []
    },
    {
      "cell_type": "markdown",
      "metadata": {
        "id": "K9MCosIcIH0n"
      },
      "source": [
        "Now we will convert data, which is a string to a list containing differrent sentences. \n",
        "As we can see, in the string, \"end of line\" is represented by \"\\r\\n\". So, we will split the string by \"\\r\\n\" and store them as list in corpus."
      ]
    },
    {
      "cell_type": "code",
      "metadata": {
        "id": "XvlyWKMRKNsy"
      },
      "source": [
        "# Splitting the string into sentences, while converting whole data into lowercase. \n",
        "corpus = data.lower().split(\"\\n\")\n",
        "\n",
        "# Now, to make sure no sentence appears twice in our corpus, we use set. Otherwise, it will make the model biased.\n",
        "corpus = list(set(corpus))"
      ],
      "execution_count": 12,
      "outputs": []
    },
    {
      "cell_type": "code",
      "metadata": {
        "id": "8U5dGCoYa9Gn"
      },
      "source": [
        "for i in range(len(corpus)):\n",
        "    sentence = corpus[i]\n",
        "    sentence = \"startsentence \" + sentence + \" endsentence\"\n",
        "    corpus[i] = sentence"
      ],
      "execution_count": 13,
      "outputs": []
    },
    {
      "cell_type": "markdown",
      "metadata": {
        "id": "ztz9xk_LMlDb"
      },
      "source": [
        "Let's see how an element of corpus looks like. "
      ]
    },
    {
      "cell_type": "code",
      "metadata": {
        "id": "kwQMFmCIMiFY",
        "outputId": "97cbebae-8fa2-4544-f599-0cf8e34c53e9",
        "colab": {
          "base_uri": "https://localhost:8080/",
          "height": 35
        }
      },
      "source": [
        "corpus[3]"
      ],
      "execution_count": 14,
      "outputs": [
        {
          "output_type": "execute_result",
          "data": {
            "application/vnd.google.colaboratory.intrinsic+json": {
              "type": "string"
            },
            "text/plain": [
              "'startsentence well whos maybach is this mr wests endsentence'"
            ]
          },
          "metadata": {
            "tags": []
          },
          "execution_count": 14
        }
      ]
    },
    {
      "cell_type": "markdown",
      "metadata": {
        "id": "XusOCWiyMrIb"
      },
      "source": [
        "As we can see, it is just a sentence without any \"\\r or \\n\""
      ]
    },
    {
      "cell_type": "markdown",
      "metadata": {
        "id": "rSuoyJVGI6D5"
      },
      "source": [
        "# Organising Data\n",
        "Now we will use Tokenizer to convert the words to word vectors. \n",
        "Our model understands numbers only, so we need to give it numbers instead of words. "
      ]
    },
    {
      "cell_type": "code",
      "metadata": {
        "id": "PRnDnCW-Z7qv"
      },
      "source": [
        "tokenizer = Tokenizer()\n",
        "\n",
        "tokenizer.fit_on_texts(corpus)\n",
        "total_words = len(tokenizer.word_index) + 1\n",
        "\n",
        "# create input sequences using list of tokens\n",
        "input_sequences = []\n",
        "for line in corpus:\n",
        "    token_list = tokenizer.texts_to_sequences([line])[0]\n",
        "    for i in range(1, len(token_list)):\n",
        "        n_gram_sequence = token_list[:i+1]\n",
        "        input_sequences.append(n_gram_sequence)\n",
        "\n",
        "\n",
        "# pad sequences \n",
        "max_sequence_len = max([len(x) for x in input_sequences])\n",
        "input_sequences = np.array(pad_sequences(input_sequences, maxlen=max_sequence_len, padding='pre'))\n",
        "\n",
        "# create predictors and label\n",
        "predictors, label = input_sequences[:,:-1],input_sequences[:,-1]\n",
        "\n",
        "label = ku.to_categorical(label, num_classes=total_words)"
      ],
      "execution_count": 15,
      "outputs": []
    },
    {
      "cell_type": "code",
      "metadata": {
        "id": "P-X6EuigK0AW",
        "outputId": "8a578567-1335-427d-a4ac-40da89d139eb",
        "colab": {
          "base_uri": "https://localhost:8080/"
        }
      },
      "source": [
        "print(\"Input Sequences\")\n",
        "print(input_sequences)\n",
        "print(\"*****\")\n",
        "print(\"Shape of Input Sequences\", input_sequences.shape)"
      ],
      "execution_count": 16,
      "outputs": [
        {
          "output_type": "stream",
          "text": [
            "Input Sequences\n",
            "[[   0    0    0 ...    0    1    2]\n",
            " [   0    0    0 ...    0    1 1331]\n",
            " [   0    0    0 ...    1 1331  245]\n",
            " ...\n",
            " [   0    0    0 ...  442   33 6143]\n",
            " [   0    0    0 ...   33 6143 1028]\n",
            " [   0    0    0 ... 6143 1028    2]]\n",
            "*****\n",
            "Shape of Input Sequences (56557, 21)\n"
          ],
          "name": "stdout"
        }
      ]
    },
    {
      "cell_type": "code",
      "metadata": {
        "id": "-EuezRa8KNYC",
        "outputId": "198d73c6-081f-46f0-92ee-54beb7528259",
        "colab": {
          "base_uri": "https://localhost:8080/"
        }
      },
      "source": [
        "print(\"Predictors\")\n",
        "print(predictors)\n",
        "print('*****')\n",
        "print(\"Shape of predictors is\", predictors.shape)"
      ],
      "execution_count": 17,
      "outputs": [
        {
          "output_type": "stream",
          "text": [
            "Predictors\n",
            "[[   0    0    0 ...    0    0    1]\n",
            " [   0    0    0 ...    0    0    1]\n",
            " [   0    0    0 ...    0    1 1331]\n",
            " ...\n",
            " [   0    0    0 ...    6  442   33]\n",
            " [   0    0    0 ...  442   33 6143]\n",
            " [   0    0    0 ...   33 6143 1028]]\n",
            "*****\n",
            "Shape of predictors is (56557, 20)\n"
          ],
          "name": "stdout"
        }
      ]
    },
    {
      "cell_type": "code",
      "metadata": {
        "id": "JXv6R3EwbZEt",
        "outputId": "5a45ca29-3601-49a5-e01e-54e3190b289c",
        "colab": {
          "base_uri": "https://localhost:8080/"
        }
      },
      "source": [
        "print(\"Label\")\n",
        "print(label)\n",
        "print(\"*****\")\n",
        "print(\"Shape of label\", label.shape)"
      ],
      "execution_count": 18,
      "outputs": [
        {
          "output_type": "stream",
          "text": [
            "Label\n",
            "[[0. 0. 1. ... 0. 0. 0.]\n",
            " [0. 0. 0. ... 0. 0. 0.]\n",
            " [0. 0. 0. ... 0. 0. 0.]\n",
            " ...\n",
            " [0. 0. 0. ... 0. 0. 1.]\n",
            " [0. 0. 0. ... 0. 0. 0.]\n",
            " [0. 0. 1. ... 0. 0. 0.]]\n",
            "*****\n",
            "Shape of label (56557, 6144)\n"
          ],
          "name": "stdout"
        }
      ]
    },
    {
      "cell_type": "markdown",
      "metadata": {
        "id": "_SyLUtByJ2WK"
      },
      "source": [
        "Now, we will start building model using Keras. We use LSTM so that our model could be more accurate and understand the context better. "
      ]
    },
    {
      "cell_type": "code",
      "metadata": {
        "id": "w9vH8Y59ajYL",
        "outputId": "d1b04574-3832-4975-b87e-53f921690d56",
        "colab": {
          "base_uri": "https://localhost:8080/"
        }
      },
      "source": [
        "model = Sequential()\n",
        "model.add(Embedding(total_words, 50, input_length=max_sequence_len-1))  #(# Embedding Layer)\n",
        "model.add(Bidirectional(LSTM(150, return_sequences=True)))  #(An LSTM Layer)\n",
        "model.add(Dropout(0.2))  #(# A dropout layer for regularisation)\n",
        "model.add(LSTM(100))  #(# Another LSTM Layer)\n",
        "model.add(Dense(total_words/2, activation='relu'))  #(# A Dense Layer including regularizers)\n",
        "#(# Last Layer, the shape is equal to total number of words present in our vocabulary)\n",
        "model.add(Dense(total_words, activation='softmax'))  \n",
        "# Pick an optimizer\n",
        "model.compile(loss='categorical_crossentropy', optimizer='adam', metrics='accuracy')  #(# Pick a loss function and an optimizer)\n",
        "print(model.summary())"
      ],
      "execution_count": 19,
      "outputs": [
        {
          "output_type": "stream",
          "text": [
            "Model: \"sequential\"\n",
            "_________________________________________________________________\n",
            "Layer (type)                 Output Shape              Param #   \n",
            "=================================================================\n",
            "embedding (Embedding)        (None, 20, 50)            307200    \n",
            "_________________________________________________________________\n",
            "bidirectional (Bidirectional (None, 20, 300)           241200    \n",
            "_________________________________________________________________\n",
            "dropout (Dropout)            (None, 20, 300)           0         \n",
            "_________________________________________________________________\n",
            "lstm_1 (LSTM)                (None, 100)               160400    \n",
            "_________________________________________________________________\n",
            "dense (Dense)                (None, 3072)              310272    \n",
            "_________________________________________________________________\n",
            "dense_1 (Dense)              (None, 6144)              18880512  \n",
            "=================================================================\n",
            "Total params: 19,899,584\n",
            "Trainable params: 19,899,584\n",
            "Non-trainable params: 0\n",
            "_________________________________________________________________\n",
            "None\n"
          ],
          "name": "stdout"
        }
      ]
    },
    {
      "cell_type": "code",
      "metadata": {
        "id": "AIg2f1HBxqof",
        "outputId": "ba8fdc61-5245-4bb8-df8b-be3f0cb9b9f3",
        "colab": {
          "base_uri": "https://localhost:8080/"
        }
      },
      "source": [
        "history = model.fit(predictors, label, epochs= 120, verbose=1)"
      ],
      "execution_count": 20,
      "outputs": [
        {
          "output_type": "stream",
          "text": [
            "Epoch 1/120\n",
            "1768/1768 [==============================] - 28s 16ms/step - loss: 6.2006 - accuracy: 0.1070\n",
            "Epoch 2/120\n",
            "1768/1768 [==============================] - 28s 16ms/step - loss: 5.7905 - accuracy: 0.1236\n",
            "Epoch 3/120\n",
            "1768/1768 [==============================] - 28s 16ms/step - loss: 5.5255 - accuracy: 0.1476\n",
            "Epoch 4/120\n",
            "1768/1768 [==============================] - 28s 16ms/step - loss: 5.3314 - accuracy: 0.1558\n",
            "Epoch 5/120\n",
            "1768/1768 [==============================] - 28s 16ms/step - loss: 5.1848 - accuracy: 0.1619\n",
            "Epoch 6/120\n",
            "1768/1768 [==============================] - 28s 16ms/step - loss: 5.0565 - accuracy: 0.1661\n",
            "Epoch 7/120\n",
            "1768/1768 [==============================] - 28s 16ms/step - loss: 4.9306 - accuracy: 0.1726\n",
            "Epoch 8/120\n",
            "1768/1768 [==============================] - 28s 16ms/step - loss: 4.8028 - accuracy: 0.1784\n",
            "Epoch 9/120\n",
            "1768/1768 [==============================] - 27s 16ms/step - loss: 4.6797 - accuracy: 0.1854\n",
            "Epoch 10/120\n",
            "1768/1768 [==============================] - 28s 16ms/step - loss: 4.5575 - accuracy: 0.1906\n",
            "Epoch 11/120\n",
            "1768/1768 [==============================] - 28s 16ms/step - loss: 4.4351 - accuracy: 0.1956\n",
            "Epoch 12/120\n",
            "1768/1768 [==============================] - 28s 16ms/step - loss: 4.3148 - accuracy: 0.2017\n",
            "Epoch 13/120\n",
            "1768/1768 [==============================] - 28s 16ms/step - loss: 4.1917 - accuracy: 0.2078\n",
            "Epoch 14/120\n",
            "1768/1768 [==============================] - 27s 16ms/step - loss: 4.0705 - accuracy: 0.2156\n",
            "Epoch 15/120\n",
            "1768/1768 [==============================] - 28s 16ms/step - loss: 3.9502 - accuracy: 0.2224\n",
            "Epoch 16/120\n",
            "1768/1768 [==============================] - 28s 16ms/step - loss: 3.8315 - accuracy: 0.2309\n",
            "Epoch 17/120\n",
            "1768/1768 [==============================] - 28s 16ms/step - loss: 3.7107 - accuracy: 0.2411\n",
            "Epoch 18/120\n",
            "1768/1768 [==============================] - 28s 16ms/step - loss: 3.5922 - accuracy: 0.2521\n",
            "Epoch 19/120\n",
            "1768/1768 [==============================] - 28s 16ms/step - loss: 3.4809 - accuracy: 0.2649\n",
            "Epoch 20/120\n",
            "1768/1768 [==============================] - 28s 16ms/step - loss: 3.3651 - accuracy: 0.2788\n",
            "Epoch 21/120\n",
            "1768/1768 [==============================] - 27s 16ms/step - loss: 3.2562 - accuracy: 0.2943\n",
            "Epoch 22/120\n",
            "1768/1768 [==============================] - 28s 16ms/step - loss: 3.1514 - accuracy: 0.3086\n",
            "Epoch 23/120\n",
            "1768/1768 [==============================] - 27s 16ms/step - loss: 3.0602 - accuracy: 0.3203\n",
            "Epoch 24/120\n",
            "1768/1768 [==============================] - 27s 16ms/step - loss: 2.9549 - accuracy: 0.3408\n",
            "Epoch 25/120\n",
            "1768/1768 [==============================] - 27s 16ms/step - loss: 2.8694 - accuracy: 0.3528\n",
            "Epoch 26/120\n",
            "1768/1768 [==============================] - 28s 16ms/step - loss: 2.7837 - accuracy: 0.3685\n",
            "Epoch 27/120\n",
            "1768/1768 [==============================] - 28s 16ms/step - loss: 2.7066 - accuracy: 0.3808\n",
            "Epoch 28/120\n",
            "1768/1768 [==============================] - 27s 16ms/step - loss: 2.6239 - accuracy: 0.3981\n",
            "Epoch 29/120\n",
            "1768/1768 [==============================] - 27s 16ms/step - loss: 2.5512 - accuracy: 0.4109\n",
            "Epoch 30/120\n",
            "1768/1768 [==============================] - 27s 15ms/step - loss: 2.4732 - accuracy: 0.4247\n",
            "Epoch 31/120\n",
            "1768/1768 [==============================] - 28s 16ms/step - loss: 2.4091 - accuracy: 0.4350\n",
            "Epoch 32/120\n",
            "1768/1768 [==============================] - 27s 15ms/step - loss: 2.3488 - accuracy: 0.4485\n",
            "Epoch 33/120\n",
            "1768/1768 [==============================] - 28s 16ms/step - loss: 2.2847 - accuracy: 0.4640\n",
            "Epoch 34/120\n",
            "1768/1768 [==============================] - 27s 15ms/step - loss: 2.2235 - accuracy: 0.4742\n",
            "Epoch 35/120\n",
            "1768/1768 [==============================] - 28s 16ms/step - loss: 2.1674 - accuracy: 0.4885\n",
            "Epoch 36/120\n",
            "1768/1768 [==============================] - 27s 16ms/step - loss: 2.1166 - accuracy: 0.4980\n",
            "Epoch 37/120\n",
            "1768/1768 [==============================] - 28s 16ms/step - loss: 2.0701 - accuracy: 0.5080\n",
            "Epoch 38/120\n",
            "1768/1768 [==============================] - 28s 16ms/step - loss: 2.0177 - accuracy: 0.5226\n",
            "Epoch 39/120\n",
            "1768/1768 [==============================] - 27s 16ms/step - loss: 1.9717 - accuracy: 0.5323\n",
            "Epoch 40/120\n",
            "1768/1768 [==============================] - 27s 16ms/step - loss: 1.9301 - accuracy: 0.5404\n",
            "Epoch 41/120\n",
            "1768/1768 [==============================] - 27s 16ms/step - loss: 1.8894 - accuracy: 0.5508\n",
            "Epoch 42/120\n",
            "1768/1768 [==============================] - 28s 16ms/step - loss: 1.8502 - accuracy: 0.5596\n",
            "Epoch 43/120\n",
            "1768/1768 [==============================] - 28s 16ms/step - loss: 1.8113 - accuracy: 0.5694\n",
            "Epoch 44/120\n",
            "1768/1768 [==============================] - 28s 16ms/step - loss: 1.7821 - accuracy: 0.5755\n",
            "Epoch 45/120\n",
            "1768/1768 [==============================] - 27s 16ms/step - loss: 1.7418 - accuracy: 0.5861\n",
            "Epoch 46/120\n",
            "1768/1768 [==============================] - 28s 16ms/step - loss: 1.7207 - accuracy: 0.5881\n",
            "Epoch 47/120\n",
            "1768/1768 [==============================] - 27s 16ms/step - loss: 1.6985 - accuracy: 0.5961\n",
            "Epoch 48/120\n",
            "1768/1768 [==============================] - 28s 16ms/step - loss: 1.6594 - accuracy: 0.6057\n",
            "Epoch 49/120\n",
            "1768/1768 [==============================] - 28s 16ms/step - loss: 1.6385 - accuracy: 0.6102\n",
            "Epoch 50/120\n",
            "1768/1768 [==============================] - 28s 16ms/step - loss: 1.6125 - accuracy: 0.6170\n",
            "Epoch 51/120\n",
            "1768/1768 [==============================] - 28s 16ms/step - loss: 1.5959 - accuracy: 0.6219\n",
            "Epoch 52/120\n",
            "1768/1768 [==============================] - 28s 16ms/step - loss: 1.5634 - accuracy: 0.6284\n",
            "Epoch 53/120\n",
            "1768/1768 [==============================] - 28s 16ms/step - loss: 1.5537 - accuracy: 0.6319\n",
            "Epoch 54/120\n",
            "1768/1768 [==============================] - 28s 16ms/step - loss: 1.5260 - accuracy: 0.6389\n",
            "Epoch 55/120\n",
            "1768/1768 [==============================] - 28s 16ms/step - loss: 1.5139 - accuracy: 0.6391\n",
            "Epoch 56/120\n",
            "1768/1768 [==============================] - 28s 16ms/step - loss: 1.4928 - accuracy: 0.6466\n",
            "Epoch 57/120\n",
            "1768/1768 [==============================] - 28s 16ms/step - loss: 1.4757 - accuracy: 0.6512\n",
            "Epoch 58/120\n",
            "1768/1768 [==============================] - 28s 16ms/step - loss: 1.4663 - accuracy: 0.6532\n",
            "Epoch 59/120\n",
            "1768/1768 [==============================] - 28s 16ms/step - loss: 1.4545 - accuracy: 0.6566\n",
            "Epoch 60/120\n",
            "1768/1768 [==============================] - 29s 16ms/step - loss: 1.4347 - accuracy: 0.6619\n",
            "Epoch 61/120\n",
            "1768/1768 [==============================] - 28s 16ms/step - loss: 1.4297 - accuracy: 0.6633\n",
            "Epoch 62/120\n",
            "1768/1768 [==============================] - 28s 16ms/step - loss: 1.4170 - accuracy: 0.6667\n",
            "Epoch 63/120\n",
            "1768/1768 [==============================] - 28s 16ms/step - loss: 1.3957 - accuracy: 0.6708\n",
            "Epoch 64/120\n",
            "1768/1768 [==============================] - 28s 16ms/step - loss: 1.3942 - accuracy: 0.6719\n",
            "Epoch 65/120\n",
            "1768/1768 [==============================] - 28s 16ms/step - loss: 1.3801 - accuracy: 0.6754\n",
            "Epoch 66/120\n",
            "1768/1768 [==============================] - 28s 16ms/step - loss: 1.3709 - accuracy: 0.6778\n",
            "Epoch 67/120\n",
            "1768/1768 [==============================] - 28s 16ms/step - loss: 1.3624 - accuracy: 0.6804\n",
            "Epoch 68/120\n",
            "1768/1768 [==============================] - 28s 16ms/step - loss: 1.3541 - accuracy: 0.6820\n",
            "Epoch 69/120\n",
            "1768/1768 [==============================] - 28s 16ms/step - loss: 1.3425 - accuracy: 0.6842\n",
            "Epoch 70/120\n",
            "1768/1768 [==============================] - 28s 16ms/step - loss: 1.3293 - accuracy: 0.6881\n",
            "Epoch 71/120\n",
            "1768/1768 [==============================] - 29s 16ms/step - loss: 1.3315 - accuracy: 0.6866\n",
            "Epoch 72/120\n",
            "1768/1768 [==============================] - 27s 16ms/step - loss: 1.3209 - accuracy: 0.6905\n",
            "Epoch 73/120\n",
            "1768/1768 [==============================] - 28s 16ms/step - loss: 1.3102 - accuracy: 0.6942\n",
            "Epoch 74/120\n",
            "1768/1768 [==============================] - 28s 16ms/step - loss: 1.3059 - accuracy: 0.6953\n",
            "Epoch 75/120\n",
            "1768/1768 [==============================] - 27s 15ms/step - loss: 1.2919 - accuracy: 0.6973\n",
            "Epoch 76/120\n",
            "1768/1768 [==============================] - 28s 16ms/step - loss: 1.2899 - accuracy: 0.6979\n",
            "Epoch 77/120\n",
            "1768/1768 [==============================] - 28s 16ms/step - loss: 1.2882 - accuracy: 0.6989\n",
            "Epoch 78/120\n",
            "1768/1768 [==============================] - 27s 16ms/step - loss: 1.2768 - accuracy: 0.7005\n",
            "Epoch 79/120\n",
            "1768/1768 [==============================] - 28s 16ms/step - loss: 1.2732 - accuracy: 0.7024\n",
            "Epoch 80/120\n",
            "1768/1768 [==============================] - 28s 16ms/step - loss: 1.2681 - accuracy: 0.7029\n",
            "Epoch 81/120\n",
            "1768/1768 [==============================] - 28s 16ms/step - loss: 1.2582 - accuracy: 0.7062\n",
            "Epoch 82/120\n",
            "1768/1768 [==============================] - 29s 16ms/step - loss: 1.2559 - accuracy: 0.7071\n",
            "Epoch 83/120\n",
            "1768/1768 [==============================] - 28s 16ms/step - loss: 1.2624 - accuracy: 0.7051\n",
            "Epoch 84/120\n",
            "1768/1768 [==============================] - 27s 16ms/step - loss: 1.2580 - accuracy: 0.7065\n",
            "Epoch 85/120\n",
            "1768/1768 [==============================] - 27s 16ms/step - loss: 1.2389 - accuracy: 0.7120\n",
            "Epoch 86/120\n",
            "1768/1768 [==============================] - 28s 16ms/step - loss: 1.2455 - accuracy: 0.7108\n",
            "Epoch 87/120\n",
            "1768/1768 [==============================] - 28s 16ms/step - loss: 1.2481 - accuracy: 0.7101\n",
            "Epoch 88/120\n",
            "1768/1768 [==============================] - 28s 16ms/step - loss: 1.2300 - accuracy: 0.7125\n",
            "Epoch 89/120\n",
            "1768/1768 [==============================] - 28s 16ms/step - loss: 1.2307 - accuracy: 0.7137\n",
            "Epoch 90/120\n",
            "1768/1768 [==============================] - 28s 16ms/step - loss: 1.2212 - accuracy: 0.7177\n",
            "Epoch 91/120\n",
            "1768/1768 [==============================] - 28s 16ms/step - loss: 1.2196 - accuracy: 0.7171\n",
            "Epoch 92/120\n",
            "1768/1768 [==============================] - 28s 16ms/step - loss: 1.2197 - accuracy: 0.7159\n",
            "Epoch 93/120\n",
            "1768/1768 [==============================] - 28s 16ms/step - loss: 1.2180 - accuracy: 0.7157\n",
            "Epoch 94/120\n",
            "1768/1768 [==============================] - 28s 16ms/step - loss: 1.2109 - accuracy: 0.7206\n",
            "Epoch 95/120\n",
            "1768/1768 [==============================] - 28s 16ms/step - loss: 1.2055 - accuracy: 0.7207\n",
            "Epoch 96/120\n",
            "1768/1768 [==============================] - 28s 16ms/step - loss: 1.2080 - accuracy: 0.7186\n",
            "Epoch 97/120\n",
            "1768/1768 [==============================] - 28s 16ms/step - loss: 1.2001 - accuracy: 0.7217\n",
            "Epoch 98/120\n",
            "1768/1768 [==============================] - 28s 16ms/step - loss: 1.1995 - accuracy: 0.7215\n",
            "Epoch 99/120\n",
            "1768/1768 [==============================] - 28s 16ms/step - loss: 1.2062 - accuracy: 0.7208\n",
            "Epoch 100/120\n",
            "1768/1768 [==============================] - 27s 16ms/step - loss: 1.1962 - accuracy: 0.7222\n",
            "Epoch 101/120\n",
            "1768/1768 [==============================] - 27s 16ms/step - loss: 1.1918 - accuracy: 0.7226\n",
            "Epoch 102/120\n",
            "1768/1768 [==============================] - 27s 16ms/step - loss: 1.1910 - accuracy: 0.7235\n",
            "Epoch 103/120\n",
            "1768/1768 [==============================] - 28s 16ms/step - loss: 1.1876 - accuracy: 0.7245\n",
            "Epoch 104/120\n",
            "1768/1768 [==============================] - 28s 16ms/step - loss: 1.1859 - accuracy: 0.7256\n",
            "Epoch 105/120\n",
            "1768/1768 [==============================] - 28s 16ms/step - loss: 1.1858 - accuracy: 0.7247\n",
            "Epoch 106/120\n",
            "1768/1768 [==============================] - 27s 16ms/step - loss: 1.1831 - accuracy: 0.7248\n",
            "Epoch 107/120\n",
            "1768/1768 [==============================] - 28s 16ms/step - loss: 1.1721 - accuracy: 0.7283\n",
            "Epoch 108/120\n",
            "1768/1768 [==============================] - 28s 16ms/step - loss: 1.1760 - accuracy: 0.7269\n",
            "Epoch 109/120\n",
            "1768/1768 [==============================] - 28s 16ms/step - loss: 1.1826 - accuracy: 0.7271\n",
            "Epoch 110/120\n",
            "1768/1768 [==============================] - 28s 16ms/step - loss: 1.1718 - accuracy: 0.7284\n",
            "Epoch 111/120\n",
            "1768/1768 [==============================] - 27s 16ms/step - loss: 1.1780 - accuracy: 0.7262\n",
            "Epoch 112/120\n",
            "1768/1768 [==============================] - 28s 16ms/step - loss: 1.1700 - accuracy: 0.7284\n",
            "Epoch 113/120\n",
            "1768/1768 [==============================] - 28s 16ms/step - loss: 1.1654 - accuracy: 0.7311\n",
            "Epoch 114/120\n",
            "1768/1768 [==============================] - 28s 16ms/step - loss: 1.1615 - accuracy: 0.7307\n",
            "Epoch 115/120\n",
            "1768/1768 [==============================] - 28s 16ms/step - loss: 1.1680 - accuracy: 0.7295\n",
            "Epoch 116/120\n",
            "1768/1768 [==============================] - 28s 16ms/step - loss: 1.1624 - accuracy: 0.7313\n",
            "Epoch 117/120\n",
            "1768/1768 [==============================] - 28s 16ms/step - loss: 1.1629 - accuracy: 0.7301\n",
            "Epoch 118/120\n",
            "1768/1768 [==============================] - 28s 16ms/step - loss: 1.1641 - accuracy: 0.7302\n",
            "Epoch 119/120\n",
            "1768/1768 [==============================] - 28s 16ms/step - loss: 1.1568 - accuracy: 0.7314\n",
            "Epoch 120/120\n",
            "1768/1768 [==============================] - 28s 16ms/step - loss: 1.1509 - accuracy: 0.7324\n"
          ],
          "name": "stdout"
        }
      ]
    },
    {
      "cell_type": "markdown",
      "metadata": {
        "id": "blUBajLlOPyD"
      },
      "source": [
        "Now, we will see how our model performed with each iteration. "
      ]
    },
    {
      "cell_type": "code",
      "metadata": {
        "id": "XWTK8pcgsmqG"
      },
      "source": [
        "import matplotlib.pyplot as plt\n",
        "\n",
        "def plot_graph(history,string):\n",
        "    plt.plot(history.history[string])\n",
        "    plt.xlabel(\"Epochs\")\n",
        "    plt.ylabel(string)\n",
        "    plt.show()"
      ],
      "execution_count": 21,
      "outputs": []
    },
    {
      "cell_type": "code",
      "metadata": {
        "id": "srDqi-U3smqW",
        "outputId": "a792e913-1de8-4bfa-ec3d-f41c0737abe1",
        "colab": {
          "base_uri": "https://localhost:8080/",
          "height": 279
        }
      },
      "source": [
        "plot_graph(history,'accuracy')"
      ],
      "execution_count": 22,
      "outputs": [
        {
          "output_type": "display_data",
          "data": {
            "image/png": "[encoded data removed]",
            "text/plain": [
              "<Figure size 432x288 with 1 Axes>"
            ]
          },
          "metadata": {
            "tags": [],
            "needs_background": "light"
          }
        }
      ]
    },
    {
      "cell_type": "code",
      "metadata": {
        "id": "70XUUhDnTpuY",
        "outputId": "14d409c2-a76d-4139-da3b-10a01c9b98c7",
        "colab": {
          "base_uri": "https://localhost:8080/",
          "height": 279
        }
      },
      "source": [
        "plot_graph(history,'loss')"
      ],
      "execution_count": 23,
      "outputs": [
        {
          "output_type": "display_data",
          "data": {
            "image/png": "[encoded data removed]",
            "text/plain": [
              "<Figure size 432x288 with 1 Axes>"
            ]
          },
          "metadata": {
            "tags": [],
            "needs_background": "light"
          }
        }
      ]
    },
    {
      "cell_type": "code",
      "metadata": {
        "id": "B3n3gF-wotgL",
        "outputId": "5253211f-8660-44b7-b4d0-9222f1d7a92c",
        "colab": {
          "base_uri": "https://localhost:8080/"
        }
      },
      "source": [
        "# Further training if not satisfied\n",
        "history = model.fit(predictors, label, epochs= 30, verbose=1)"
      ],
      "execution_count": 24,
      "outputs": [
        {
          "output_type": "stream",
          "text": [
            "Epoch 1/30\n",
            "1768/1768 [==============================] - 27s 15ms/step - loss: 1.1631 - accuracy: 0.7320\n",
            "Epoch 2/30\n",
            "1768/1768 [==============================] - 27s 15ms/step - loss: 1.1510 - accuracy: 0.7320\n",
            "Epoch 3/30\n",
            "1768/1768 [==============================] - 27s 16ms/step - loss: 1.1527 - accuracy: 0.7335\n",
            "Epoch 4/30\n",
            "1768/1768 [==============================] - 27s 15ms/step - loss: 1.1466 - accuracy: 0.7339\n",
            "Epoch 5/30\n",
            "1768/1768 [==============================] - 27s 16ms/step - loss: 1.1559 - accuracy: 0.7328\n",
            "Epoch 6/30\n",
            "1768/1768 [==============================] - 28s 16ms/step - loss: 1.1426 - accuracy: 0.7356\n",
            "Epoch 7/30\n",
            "1768/1768 [==============================] - 27s 15ms/step - loss: 1.1486 - accuracy: 0.7345\n",
            "Epoch 8/30\n",
            "1768/1768 [==============================] - 27s 15ms/step - loss: 1.1427 - accuracy: 0.7363\n",
            "Epoch 9/30\n",
            "1768/1768 [==============================] - 27s 15ms/step - loss: 1.1511 - accuracy: 0.7329\n",
            "Epoch 10/30\n",
            "1768/1768 [==============================] - 27s 15ms/step - loss: 1.1420 - accuracy: 0.7360\n",
            "Epoch 11/30\n",
            "1768/1768 [==============================] - 27s 15ms/step - loss: 1.1384 - accuracy: 0.7368\n",
            "Epoch 12/30\n",
            "1768/1768 [==============================] - 27s 15ms/step - loss: 1.1407 - accuracy: 0.7376\n",
            "Epoch 13/30\n",
            "1768/1768 [==============================] - 27s 15ms/step - loss: 1.1436 - accuracy: 0.7351\n",
            "Epoch 14/30\n",
            "1768/1768 [==============================] - 27s 15ms/step - loss: 1.1387 - accuracy: 0.7373\n",
            "Epoch 15/30\n",
            "1768/1768 [==============================] - 27s 15ms/step - loss: 1.1384 - accuracy: 0.7370\n",
            "Epoch 16/30\n",
            "1768/1768 [==============================] - 27s 16ms/step - loss: 1.1438 - accuracy: 0.7355\n",
            "Epoch 17/30\n",
            "1768/1768 [==============================] - 28s 16ms/step - loss: 1.1333 - accuracy: 0.7390\n",
            "Epoch 18/30\n",
            "1768/1768 [==============================] - 27s 15ms/step - loss: 1.1335 - accuracy: 0.7382\n",
            "Epoch 19/30\n",
            "1768/1768 [==============================] - 27s 15ms/step - loss: 1.1434 - accuracy: 0.7369\n",
            "Epoch 20/30\n",
            "1768/1768 [==============================] - 27s 15ms/step - loss: 1.1298 - accuracy: 0.7391\n",
            "Epoch 21/30\n",
            "1768/1768 [==============================] - 27s 15ms/step - loss: 1.1294 - accuracy: 0.7386\n",
            "Epoch 22/30\n",
            "1768/1768 [==============================] - 27s 15ms/step - loss: 1.1361 - accuracy: 0.7359\n",
            "Epoch 23/30\n",
            "1768/1768 [==============================] - 27s 15ms/step - loss: 1.1291 - accuracy: 0.7385\n",
            "Epoch 24/30\n",
            "1768/1768 [==============================] - 27s 15ms/step - loss: 1.1330 - accuracy: 0.7371\n",
            "Epoch 25/30\n",
            "1768/1768 [==============================] - 27s 15ms/step - loss: 1.1293 - accuracy: 0.7385\n",
            "Epoch 26/30\n",
            "1768/1768 [==============================] - 27s 15ms/step - loss: 1.1210 - accuracy: 0.7416\n",
            "Epoch 27/30\n",
            "1768/1768 [==============================] - 27s 16ms/step - loss: 1.1315 - accuracy: 0.7376\n",
            "Epoch 28/30\n",
            "1768/1768 [==============================] - 27s 15ms/step - loss: 1.1274 - accuracy: 0.7395\n",
            "Epoch 29/30\n",
            "1768/1768 [==============================] - 28s 16ms/step - loss: 1.1252 - accuracy: 0.7398\n",
            "Epoch 30/30\n",
            "1768/1768 [==============================] - 27s 15ms/step - loss: 1.1207 - accuracy: 0.7411\n"
          ],
          "name": "stdout"
        }
      ]
    },
    {
      "cell_type": "code",
      "metadata": {
        "id": "B528MBF2i36c"
      },
      "source": [
        "# How to save your trained model\n",
        "\n",
        "# serialize to JSON\n",
        "json_file = model.to_json()\n",
        "with open(\"model.json\", \"w\") as file:\n",
        "   file.write(json_file)\n",
        "# serialize weights to HDF5\n",
        "model.save_weights(\"model.h5\")"
      ],
      "execution_count": 42,
      "outputs": []
    },
    {
      "cell_type": "code",
      "metadata": {
        "id": "gVdOEp1bjHzI"
      },
      "source": [
        "# How to load your saved model\n",
        "\n",
        "from keras.models import model_from_json\n",
        "\n",
        "# load json and create model\n",
        "file = open('model.json', 'r')\n",
        "model_json = file.read()\n",
        "file.close()\n",
        "loaded_model = model_from_json(model_json)\n",
        "# load weights\n",
        "loaded_model.load_weights(\"model.h5\")"
      ],
      "execution_count": 44,
      "outputs": []
    },
    {
      "cell_type": "markdown",
      "metadata": {
        "id": "LHaZnz8xpzY2"
      },
      "source": [
        "# Generate Lyrics"
      ]
    },
    {
      "cell_type": "code",
      "metadata": {
        "id": "S6L4WV_lsmq2"
      },
      "source": [
        "def make_lyrics(seed_text):\n",
        "    ans = True\n",
        "    seed_text = \"startsentence \" + seed_text \n",
        "    while True:\n",
        "        token_list = tokenizer.texts_to_sequences([seed_text])[0]\n",
        "        token_list = pad_sequences([token_list], maxlen=max_sequence_len-1, padding='pre')\n",
        "        predicted = np.argmax(model.predict(token_list, verbose=0), axis = -1)\n",
        "        output_word = \"\"\n",
        "        for word, index in tokenizer.word_index.items():\n",
        "            if index == predicted:\n",
        "                output_word = word\n",
        "                break\n",
        "        if output_word == \"endsentence\":\n",
        "            new_sentence_words = seed_text.split()[1:]\n",
        "            seed_text = ' '.join(new_sentence_words)\n",
        "            print(seed_text)\n",
        "            ans = False\n",
        "            break\n",
        "        seed_text += \" \" + output_word\n",
        "    if ans == True:\n",
        "        new_sentence_words = seed_text.split()[1:]\n",
        "        seed_text = ' '.join(new_sentence_words)\n",
        "        print(seed_text)"
      ],
      "execution_count": 29,
      "outputs": []
    },
    {
      "cell_type": "code",
      "metadata": {
        "id": "QOkUwwAOKDJy",
        "outputId": "214c195d-0c33-4358-84fb-5a3750f665e0",
        "colab": {
          "base_uri": "https://localhost:8080/"
        }
      },
      "source": [
        "make_lyrics(\"How\")"
      ],
      "execution_count": 31,
      "outputs": [
        {
          "output_type": "stream",
          "text": [
            "How you gon lie to the lawyer\n"
          ],
          "name": "stdout"
        }
      ]
    },
    {
      "cell_type": "code",
      "metadata": {
        "id": "Qsb9RquVOdo8",
        "outputId": "81122b36-8eeb-4dd7-a5fe-e83c29974606",
        "colab": {
          "base_uri": "https://localhost:8080/"
        }
      },
      "source": [
        "make_lyrics(\"When I will\")"
      ],
      "execution_count": 32,
      "outputs": [
        {
          "output_type": "stream",
          "text": [
            "When I will make it to the other side of sanity\n"
          ],
          "name": "stdout"
        }
      ]
    },
    {
      "cell_type": "code",
      "metadata": {
        "id": "u9St39_AOmKM",
        "outputId": "ea053cda-7646-4c3d-f727-be4a42a13d88",
        "colab": {
          "base_uri": "https://localhost:8080/"
        }
      },
      "source": [
        "make_lyrics(\"Light in the\")"
      ],
      "execution_count": 33,
      "outputs": [
        {
          "output_type": "stream",
          "text": [
            "Light in the morning you gon make it too soon\n"
          ],
          "name": "stdout"
        }
      ]
    },
    {
      "cell_type": "code",
      "metadata": {
        "id": "RveFcd0hOvVr",
        "outputId": "25408931-4deb-4147-e605-27261256bf49",
        "colab": {
          "base_uri": "https://localhost:8080/"
        }
      },
      "source": [
        "make_lyrics(\"Walking\")"
      ],
      "execution_count": 34,
      "outputs": [
        {
          "output_type": "stream",
          "text": [
            "Walking down melrose spot where they sell clothes\n"
          ],
          "name": "stdout"
        }
      ]
    },
    {
      "cell_type": "code",
      "metadata": {
        "id": "ySdhR0oxO4GM",
        "outputId": "b3e31729-6766-4711-c116-7c9119cba94f",
        "colab": {
          "base_uri": "https://localhost:8080/"
        }
      },
      "source": [
        "make_lyrics(\"Do you\")"
      ],
      "execution_count": 35,
      "outputs": [
        {
          "output_type": "stream",
          "text": [
            "Do you mind if i\n"
          ],
          "name": "stdout"
        }
      ]
    },
    {
      "cell_type": "code",
      "metadata": {
        "id": "9y_T3Ujvg3cX",
        "outputId": "4d1c1d99-bea6-4d7a-f96b-c6ee934d3aec",
        "colab": {
          "base_uri": "https://localhost:8080/"
        }
      },
      "source": [
        "make_lyrics(\"Why would\")"
      ],
      "execution_count": 36,
      "outputs": [
        {
          "output_type": "stream",
          "text": [
            "Why would i mention your favorite song and you twerk\n"
          ],
          "name": "stdout"
        }
      ]
    },
    {
      "cell_type": "code",
      "metadata": {
        "id": "3ZaSp493s7Ll",
        "outputId": "5f2d61f5-76b2-4ad6-afa5-215b67e27139",
        "colab": {
          "base_uri": "https://localhost:8080/"
        }
      },
      "source": [
        "make_lyrics(\"She\")"
      ],
      "execution_count": 40,
      "outputs": [
        {
          "output_type": "stream",
          "text": [
            "She said you left your kids and they just like you\n"
          ],
          "name": "stdout"
        }
      ]
    },
    {
      "cell_type": "code",
      "metadata": {
        "id": "EFz5ZxJ9x9vB",
        "outputId": "5cf41c3f-b395-4198-a9d1-eb6cd3a4bc30",
        "colab": {
          "base_uri": "https://localhost:8080/"
        }
      },
      "source": [
        "make_lyrics(\"And all my people\")"
      ],
      "execution_count": 45,
      "outputs": [
        {
          "output_type": "stream",
          "text": [
            "And all my people bitch black\n"
          ],
          "name": "stdout"
        }
      ]
    },
    {
      "cell_type": "code",
      "metadata": {
        "id": "U3fQaM-G0GCA",
        "outputId": "aeb8ee53-2856-4d68-c786-ee7756f572d4",
        "colab": {
          "base_uri": "https://localhost:8080/"
        }
      },
      "source": [
        "make_lyrics(\"If this is\")"
      ],
      "execution_count": 46,
      "outputs": [
        {
          "output_type": "stream",
          "text": [
            "If this is your first time hearin this\n"
          ],
          "name": "stdout"
        }
      ]
    },
    {
      "cell_type": "code",
      "metadata": {
        "id": "WSHshet40Mbo"
      },
      "source": [
        ""
      ],
      "execution_count": null,
      "outputs": []
    }
  ]
}