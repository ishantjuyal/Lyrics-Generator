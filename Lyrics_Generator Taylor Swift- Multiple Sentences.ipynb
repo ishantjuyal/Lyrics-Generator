{
  "nbformat": 4,
  "nbformat_minor": 0,
  "metadata": {
    "colab": {
      "name": "Lyrics Generator",
      "provenance": [],
      "collapsed_sections": []
    },
    "kernelspec": {
      "display_name": "Python 3",
      "language": "python",
      "name": "python3"
    },
    "language_info": {
      "codemirror_mode": {
        "name": "ipython",
        "version": 3
      },
      "file_extension": ".py",
      "mimetype": "text/x-python",
      "name": "python",
      "nbconvert_exporter": "python",
      "pygments_lexer": "ipython3",
      "version": "3.7.4"
    },
    "accelerator": "GPU"
  },
  "cells": [
    {
      "cell_type": "markdown",
      "metadata": {
        "id": "tcCD15vhHGbQ"
      },
      "source": [
        "Let's import all the libraries and classes we will need while making this project"
      ]
    },
    {
      "cell_type": "code",
      "metadata": {
        "id": "BOwsuGQQY9OL"
      },
      "source": [
        "from tensorflow.keras.preprocessing.sequence import pad_sequences\n",
        "from tensorflow.keras.layers import Embedding, LSTM, Dense, Dropout, Bidirectional\n",
        "from tensorflow.keras.preprocessing.text import Tokenizer\n",
        "from tensorflow.keras.models import Sequential\n",
        "from tensorflow.keras.optimizers import Adam\n",
        "\n",
        "from tensorflow.keras.regularizers import Regularizer\n",
        "\n",
        "import tensorflow.keras.utils as ku \n",
        "import numpy as np "
      ],
      "execution_count": 1,
      "outputs": []
    },
    {
      "cell_type": "markdown",
      "metadata": {
        "id": "EKAs7efCNDId"
      },
      "source": [
        "# Importing Data"
      ]
    },
    {
      "cell_type": "markdown",
      "metadata": {
        "id": "jXROh8GuHWeg"
      },
      "source": [
        "Now we will read the data. I'm reading the data from my github profile link, you can directly use txt files. "
      ]
    },
    {
      "cell_type": "code",
      "metadata": {
        "id": "V3oel-VxFsaK"
      },
      "source": [
        "import urllib.request\n",
        "\n",
        "url = \"https://raw.githubusercontent.com/ishantjuyal/Word-Prediction/master/Data/Taylor_Swift.txt\"\n",
        "data = urllib.request.urlopen(url).read().decode(\"utf-8\")"
      ],
      "execution_count": 2,
      "outputs": []
    },
    {
      "cell_type": "code",
      "metadata": {
        "id": "5BRo00AsgYcz",
        "outputId": "850bd4ff-817a-404d-ceba-75f1472e78d8",
        "colab": {
          "base_uri": "https://localhost:8080/"
        }
      },
      "source": [
        "len(data)"
      ],
      "execution_count": 3,
      "outputs": [
        {
          "output_type": "execute_result",
          "data": {
            "text/plain": [
              "178471"
            ]
          },
          "metadata": {
            "tags": []
          },
          "execution_count": 3
        }
      ]
    },
    {
      "cell_type": "code",
      "metadata": {
        "id": "R6zfPAHRSr3M",
        "outputId": "35052a49-ca5c-4de4-8413-11201ea701e4",
        "colab": {
          "base_uri": "https://localhost:8080/",
          "height": 137
        }
      },
      "source": [
        "import re\n",
        "data = re.sub(r'[^\\w\\s]', '', data)\n",
        "data"
      ],
      "execution_count": 4,
      "outputs": [
        {
          "output_type": "execute_result",
          "data": {
            "application/vnd.google.colaboratory.intrinsic+json": {
              "type": "string"
            },
            "text/plain": [
              "'lyric\\r\\nHe said the way my blue eyes shined\\r\\nPut those Georgia stars to shame that night\\r\\nI said Thats a lie\\r\\nJust a boy in a Chevy truck\\r\\nThat had a tendency of gettin stuck\\r\\nOn backroads at night\\r\\nAnd I was right there beside him all summer long\\r\\nAnd then the time we woke up to find that summer gone\\r\\nBut when you think Tim McGraw\\r\\nI hope you think my favorite song\\r\\nThe one we danced to all night long\\r\\nThe moon like a spotlight on the lake\\r\\nWhen you think happiness\\r\\nI hope you think that little black dress\\r\\nThink of my head on your chest\\r\\nAnd my old faded blue jeans\\r\\nWhen you think Tim McGraw\\r\\nI hope you think of me\\r\\nSeptember saw a month of tears\\r\\nAnd thankin God that you werent here\\r\\nTo see me like that\\r\\nBut in a box beneath my bed\\r\\nIs a letter that you never read\\r\\nFrom three summers back\\r\\nIts hard not to find it all a little bittersweet\\r\\nAnd lookin back on all of that its nice to believe\\r\\nWhen you think Tim McGraw\\r\\nI hope you think my favorite song\\r\\nThe one we danced to all night long\\r\\nThe moon like a spotlight on the lake\\r\\nWhen you think happiness\\r\\nI hope you think that little black dress\\r\\nThink of my head on your chest\\r\\nAnd my old faded blue jeans\\r\\nWhen you think Tim McGraw\\r\\nI hope you think of me\\r\\nAnd Im back for the first time since then\\r\\nIm standin on your street\\r\\nAnd theres a letter left on your doorstep\\r\\nAnd the first thing that youll read is\\r\\nWhen you think Tim McGraw\\r\\nI hope you think my favorite song\\r\\nSomeday youll turn your radio on\\r\\nI hope it takes you back to that place\\r\\nWhen you think happiness\\r\\nI hope you think that little black dress\\r\\nThink of my head on your chest\\r\\nAnd my old faded blue jeans\\r\\nWhen you think Tim McGraw\\r\\nI hope you think of me\\r\\nOh think of me\\r\\nMmmm\\r\\nHe said the way my blue eyes shine\\r\\nPut those Georgia stars to shame that night\\r\\nI said Thats a lie\\r\\nState the obvious I didnt get my perfect fantasy\\r\\nI realize you love yourself more than you could ever love me\\r\\nSo go and tell your friends that Im obsessive and crazy\\r\\nThats fine Ill tell mine that youre gay\\r\\nBy the way\\r\\nI hate that stupid old pickup truck\\r\\nYou never let me drive\\r\\nYoure a redneck heartbreak\\r\\nWhos really bad at lying\\r\\nSo watch me strike a match\\r\\nOn all my wasted time\\r\\nAs far as Im concerned youre\\r\\nJust another picture to burn\\r\\nTheres no time for tears\\r\\nIm just sitting here planning my revenge\\r\\nTheres nothing stopping me\\r\\nFrom going out with all of your best friends\\r\\nAnd if you come around saying sorry to me\\r\\nMy daddys gonna show you how sorry youll be\\r\\nI hate that stupid old pickup truck\\r\\nYou never let me drive\\r\\nYoure a redneck heartbreak\\r\\nWhos really bad at lying\\r\\nSo watch me strike a match\\r\\nOn all my wasted time\\r\\nAs far as Im concerned youre\\r\\nJust another picture to burn\\r\\nAnd if youre missing me\\r\\nYoud better keep it to yourself\\r\\nCause coming back around here\\r\\nWould be bad for your health\\r\\nCause I hate that stupid old pickup truck\\r\\nYou never let me drive\\r\\nYoure a redneck heartbreak\\r\\nWhos really bad at lying\\r\\nSo watch me strike a match\\r\\nOn all my wasted time\\r\\nIn case you havent heard\\r\\nI really really hate that\\r\\nI hate that stupid old pickup truck\\r\\nYou never let me drive\\r\\nYoure a redneck heartbreak\\r\\nWhos really bad at lying\\r\\nSo watch me strike a match\\r\\nOn all my wasted time\\r\\nAs far as Im concerned youre\\r\\nJust another picture to burn\\r\\nBurn burn burn baby burn\\r\\nYoure just another picture to burn\\r\\nBaby burn\\r\\nDrew looks at me\\r\\nI fake a smile so he wont see\\r\\nThat I want and Im needing\\r\\nEverything that we should be\\r\\nIll bet shes beautiful that girl he talks about\\r\\nAnd shes got everything that I have to live without\\r\\nDrew talks to me\\r\\nI laugh cause its so damn funny\\r\\nThat I cant even see\\r\\nAnyone when hes with me\\r\\nHe says hes so in love hes finally got it right\\r\\nI wonder if he knows hes all I think about at night\\r\\nHes the reason for the teardrops on my guitar\\r\\nThe only thing that keeps me wishing on a wishing star\\r\\nHes the song in the car\\r\\nI keep singing dont know why I do\\r\\nDrew walks by me\\r\\nCant he tell that I cant breathe\\r\\nAnd there he goes so perfectly\\r\\nThe kind of flawless I wish I could be\\r\\nShed better hold him tight give him all her love\\r\\nLook in those beautiful eyes and know shes lucky cause\\r\\nHes the reason for the teardrops on my guitar\\r\\nThe only thing that keeps me wishing on a wishing star\\r\\nHes the song in the car\\r\\nI keep singing dont know why I do\\r\\nSo I drive home alone as I turn off the light\\r\\nIll put his picture down and maybe get some sleep tonight\\r\\nHes the reason for the teardrops on my guitar\\r\\nThe only one whos got enough of me to break my heart\\r\\nHes the song in the car\\r\\nI keep singing dont know why I do\\r\\nHes the time taken up but theres never enough\\r\\nAnd hes all that I need to fall into\\r\\nDrew looks at me\\r\\nI fake a smile so he wont see\\r\\nI dont know what I want so dont ask me\\r\\nCause Im still trying to figure it out\\r\\nDont know whats down this road Im just walking\\r\\nTrying to see through the rain coming down\\r\\nEven though Im not the only one\\r\\nWho feels the way I do\\r\\nIm alone on my own and thats all I know\\r\\nIll be strong Ill be wrong oh but life goes on\\r\\nOh Im just a girl trying to find a place in this world\\r\\nGot the radio on my old blue jeans\\r\\nAnd Im wearing my heart on my sleeve\\r\\nFeeling lucky today got the sunshine\\r\\nCould you tell me what more do I need\\r\\nAnd tomorrows just a mystery oh yeah\\r\\nBut thats OK\\r\\nIm alone on my own and thats all I know\\r\\nIll be strong Ill be wrong oh but life goes on\\r\\nOh Im just a girl trying to find a place in this world\\r\\nMaybe Im just a girl on a mission\\r\\nBut Im ready to fly\\r\\nIm alone on my own and thats all I know\\r\\nIll be strong Ill be wrong oh but life goes on\\r\\nOh Im alone on my own and thats all I know\\r\\nOh Im just a girl trying to find a place in this world\\r\\nOh Im just a girl\\r\\nOh Im just a girl oh oh\\r\\nOh Im just a girl\\r\\nYou have a way of coming easily to me\\r\\nAnd when you take you take the very best of me\\r\\nSo I start a fight cause I need to feel something\\r\\nAnd you do what you want cause Im not what you wanted\\r\\nOh what a shame what a rainy ending given to a perfect day\\r\\nJust walk away no use defending words that you will never say\\r\\nAnd now that Im sitting here thinking it through\\r\\nIve never been anywhere cold as you\\r\\nYou put up walls and paint them all a shade of gray\\r\\nAnd I stood there loving you and wished them all away\\r\\nAnd you come away with a great little story\\r\\nOf a mess of a dreamer with the nerve to adore you\\r\\nOh what a shame what a rainy ending given to a perfect day\\r\\nJust walk away no use defending words that you will never say\\r\\nAnd now that Im sitting here thinking it through\\r\\nIve never been anywhere cold as you\\r\\nYou never did give a damn thing honey but I cried cried for you\\r\\nAnd I know you wouldnt have told nobody if I died died for you\\r\\nDied for you\\r\\nOh what a shame what a rainy ending given to a perfect day\\r\\nEvery smile you fake is so condescending\\r\\nCounting all the scars you made\\r\\nAnd now that Im sitting here thinking it through\\r\\nIve never been anywhere cold as you\\r\\nI didnt know what I would find\\r\\nWhen I went looking for a reason I know\\r\\nI didnt read between the lines\\r\\nAnd baby Ive got nowhere to go\\r\\nI tried to take the road less traveled by\\r\\nBut nothing seems to work the first few times\\r\\nAm I right\\r\\nSo how can I ever try to be better\\r\\nNobody ever lets me in\\r\\nI can still see you this aint the best view\\r\\nOn the outside looking in\\r\\nIve been a lot of lonely places\\r\\nIve never been on the outside\\r\\nYou saw me there but never knew\\r\\nI would give it all up to be\\r\\nA part of this a part of you\\r\\nAnd now its all too late so you see\\r\\nYou couldve helped if you had wanted to\\r\\nBut no one notices until its too\\r\\nLate to do anything\\r\\nSo how can I ever try to be better\\r\\nNobody ever lets me in\\r\\nI can still see you this aint the best view\\r\\nOn the outside looking in\\r\\nIve been a lot of lonely places\\r\\nIve never been on the outside\\r\\nSo how can I ever try to be better\\r\\nNobody ever lets me in\\r\\nI can still see you this aint the best view\\r\\nOn the outside looking in\\r\\nIve been a lot of lonely places\\r\\nIve never been on the outside\\r\\nSeems the only one who doesnt see your beauty\\r\\nIs the face in the mirror looking back at you\\r\\nYou walk around here thinking youre not pretty\\r\\nBut thats not true cause I know you\\r\\nHold on\\r\\nBaby youre losing it\\r\\nThe waters high\\r\\nYoure jumping into it\\r\\nAnd letting go\\r\\nAnd no one knows\\r\\nThat you cry\\r\\nBut you dont tell anyone\\r\\nThat you might\\r\\nNot be the golden one\\r\\nAnd youre tied together with a smile\\r\\nBut youre coming undone\\r\\nI guess its true that love was all you wanted\\r\\nCause youre giving it away like its extra change\\r\\nHoping it will end up in his pocket\\r\\nBut he leaves you out like a penny in the rain\\r\\nOh cause its not his price to pay\\r\\nNot his price to pay\\r\\nHold on\\r\\nBaby youre losing it\\r\\nThe waters high\\r\\nYoure jumping into it\\r\\nAnd letting go\\r\\nAnd no one knows\\r\\nThat you cry\\r\\nBut you dont tell anyone\\r\\nThat you might\\r\\nNot be the golden one\\r\\nAnd youre tied together with a smile\\r\\nBut youre coming undone\\r\\nHold on\\r\\nBaby youre losing it\\r\\nThe waters high\\r\\nYoure jumping into it\\r\\nAnd letting go\\r\\nAnd no one knows\\r\\nThat you cry\\r\\nBut you dont tell anyone\\r\\nThat you might\\r\\nNot be the golden one\\r\\nAnd youre tied together with a smile\\r\\nBut youre coming undone\\r\\nYoure tied together with a smile\\r\\nBut youre coming undone oh\\r\\nGoodbye baby\\r\\nWith a smile baby baby\\r\\nCorys eyes are like a jungle\\r\\nHe smiles its like the radio\\r\\nHe whispers songs into my window\\r\\nIn words that nobody knows\\r\\nThese pretty girls on every corner\\r\\nThey watch him as hes walking home\\r\\nSaying Does he know\\r\\nWill you ever know\\r\\nYoure beautiful\\r\\nEvery little piece love\\r\\nAnd dont you know\\r\\nYoure really gonna be someone\\r\\nAsk anyone\\r\\nAnd when you find everything you looked for\\r\\nI hope your life will lead you back to my door\\r\\nOh but if it dont\\r\\nStay beautiful\\r\\nCory finds another way to be\\r\\nThe highlight of my day\\r\\nIm taking pictures in my mind\\r\\nSo I can save them for a rainy day\\r\\nIts hard to make a conversation\\r\\nWhen hes taking my breath away\\r\\nI should say hey by the way\\r\\nYoure beautiful\\r\\nEvery little piece love\\r\\nAnd dont you know\\r\\nYoure really gonna be someone\\r\\nAsk anyone\\r\\nAnd when you find everything you looked for\\r\\nI hope your life will lead you back to my door\\r\\nOh but if it dont\\r\\nStay beautiful\\r\\nIf you and I are a story\\r\\nThat never gets told\\r\\nIf what you are is a daydream\\r\\nIll never get to hold\\r\\nAt least youll know\\r\\nYoure beautiful\\r\\nEvery little piece love\\r\\nAnd dont you know\\r\\nYoure really gonna be someone\\r\\nAsk anyone\\r\\nAnd when you find everything you looked for\\r\\nI hope your life will lead you back to my front door\\r\\nOh but if it dont\\r\\nWill you stay\\r\\nBeautiful beautiful beautiful\\r\\nBeautiful beautiful beautiful\\r\\nLa la la\\r\\nOh oh oh oh\\r\\nOh but if it dont\\r\\nStay beautiful\\r\\nStay beautiful\\r\\nNa na na na na\\r\\nIts strange to think the songs we used to sing\\r\\nThe smiles the flowers everything is gone\\r\\nYesterday I found out about you\\r\\nEven now just looking at you feels wrong\\r\\nYou say that youd take it all back given one chance\\r\\nIt was a moment of weakness and you said Yes\\r\\nYou shouldve said No you shouldve gone home\\r\\nYou shouldve thought twice fore you let it all go\\r\\nYou shouldve know that word bout what you did with her\\r\\nGet back to me get back to me\\r\\nAnd I shouldve been there in the back of your mind\\r\\nI shouldnt be asking myself Why\\r\\nYou shouldnt be begging for forgiveness at my feet\\r\\nYou shouldve said no baby and you might still have me\\r\\nYou can see that Ive been crying\\r\\nBaby you know all the right things to say\\r\\nBut do you honestly expect me to believe\\r\\nWe could ever be the same\\r\\nYou say that the past is the past you need one chance\\r\\nIt was a moment of weakness and you said Yes\\r\\nYou shouldve said No you shouldve gone home\\r\\nYou shouldve thought twice fore you let it all go\\r\\nYou shouldve know that word bout what you did with her\\r\\nGet back to me get back to me\\r\\nAnd I shouldve been there in the back of your mind\\r\\nI shouldnt be asking myself Why\\r\\nYou shouldnt be begging for forgiveness at my feet\\r\\nYou shouldve said no baby and you might still have me\\r\\nI cant resist\\r\\nBefore you go tell me this\\r\\nWas it worth it\\r\\nWas she worth this\\r\\nNo no no no\\r\\nYou shouldve said No you shouldve gone home\\r\\nYou shouldve thought twice fore you let it all go\\r\\nYou shouldve know that word bout what you did with her\\r\\nGet back to me get back to me\\r\\nAnd I shouldve been there in the back of your mind\\r\\nI shouldnt be asking myself Why\\r\\nYou shouldnt be begging for forgiveness at my feet\\r\\nYou shouldve said no baby and you might still have me\\r\\nShe said I was seven and you were nine\\r\\nI looked at you like the stars that shined\\r\\nIn the sky the pretty lights\\r\\nAnd our daddies used to joke about the two of us\\r\\nGrowing up and falling in love and our mamas smiled\\r\\nAnd rolled their eyes and said oh my my my\\r\\nTake me back to the house in the backyard tree\\r\\nSaid youd beat me up you were bigger than me\\r\\nYou never did you never did\\r\\nTake me back when our world was one block wide\\r\\nI dared you to kiss me and ran when you tried\\r\\nJust two kids you and I\\r\\nOh my my my my\\r\\nWell I was sixteen when suddenly\\r\\nI wasnt that little girl you used to see\\r\\nBut your eyes still shined like pretty lights\\r\\nAnd our daddies used to joke about the two of us\\r\\nThey never believed wed really fall in love\\r\\nAnd our mamas smiled and rolled their eyes\\r\\nAnd said oh my my my\\r\\nTake me back to the creek beds we turned up\\r\\nTwo AM riding in your truck and all I need is you next to me\\r\\nTake me back to the time we had our very first fight\\r\\nThe slamming of doors instead of kissing goodnight\\r\\nYou stayed outside till the morning light\\r\\nOh my my my my\\r\\nA few years had gone and come around\\r\\nWe were sitting at our favorite spot in town\\r\\nAnd you looked at me got down on one knee\\r\\nTake me back to the time when we walked down the aisle\\r\\nOur whole town came and our mamas cried\\r\\nYou said I do and I did too\\r\\nTake me home where we met so many years before\\r\\nWell rock our babies on that very front porch\\r\\nAfter all this time you and I\\r\\nIll be eightyseven youll be eightynine\\r\\nIll still look at you like the stars that shine\\r\\nIn the sky oh my my my\\r\\nI was riding shotgun with my hair undone\\r\\nIn the front seat of his car\\r\\nHes got a onehand feel on the steering wheel\\r\\nThe other on my heart\\r\\nI look around turn the radio down\\r\\nHe says Baby is something wrong\\r\\nI say Nothing I was just thinking\\r\\nHow we dont have a song\\r\\nAnd he says\\r\\nOur song is the slamming screen door\\r\\nSneakin out late tapping on your window\\r\\nWhen were on the phone and you talk real slow\\r\\nCause its late and your mama dont know\\r\\nOur song is the way you laugh\\r\\nThe first date Man I didnt kiss her and I should have\\r\\nAnd when I got home fore I said amen\\r\\nAsking God if he could play it again\\r\\nI was walking up the front porch steps\\r\\nAfter everything that day\\r\\nHad gone all wrong and been trampled on\\r\\nAnd lost and thrown away\\r\\nGot to the hallway well on my way\\r\\nTo my lovin bed\\r\\nI almost didnt notice all the roses\\r\\nAnd the note that said\\r\\nOur song is the slamming screen door\\r\\nSneakin out late tapping on your window\\r\\nWhen were on the phone and you talk real slow\\r\\nCause its late and your mama dont know\\r\\nOur song is the way you laugh\\r\\nThe first date Man I didnt kiss her and I should have\\r\\nAnd when I got home fore I said amen\\r\\nAsking God if he could play it again\\r\\nIve heard every album listened to the radio\\r\\nWaited for something to come along\\r\\nThat was as good as our song\\r\\nCause our song is the slamming screen door\\r\\nSneakin out late tapping on his window\\r\\nWhen were on the phone and he talks real slow\\r\\nCause its late and his mama dont know\\r\\nOur song is the way he laughs\\r\\nThe first date Man I didnt kiss him and I should have\\r\\nAnd when I got home fore I said amen\\r\\nAsking God if he could play it again\\r\\nPlay it again\\r\\nI was riding shotgun with my hair undone\\r\\nIn the front seat of his car\\r\\nI grabbed a pen and an old napkin\\r\\nAnd I wrote down our song\\r\\nFriday night beneath the stars\\r\\nIn a field behind your yard\\r\\nYou and I are painting pictures in the sky\\r\\nAnd sometimes we dont say a thing\\r\\nJust listen to the crickets sing\\r\\nEverything I need is right here by my side\\r\\nAnd I know everything about you\\r\\nI dont wanna live without you\\r\\nIm only up when youre not down\\r\\nDont wanna fly if youre still on the ground\\r\\nIts like no matter what I do\\r\\nWell you drive me crazy half the time\\r\\nThe other half Im only trying to let you know that what I feel is true\\r\\nAnd Im only me when Im with you\\r\\nJust a small town boy and girl\\r\\nLiving in a crazy world\\r\\nTrying to figure out what is and isnt true\\r\\nAnd I dont try to hide my tears\\r\\nThe secrets or my deepest fears\\r\\nThrough it all nobody gets me like you do\\r\\nAnd you know everything about me\\r\\nYou say that you cant live without me\\r\\nIm only up when youre not down\\r\\nDont wanna fly if youre still on the ground\\r\\nIts like no matter what I do\\r\\nWell you drive me crazy half the time\\r\\nThe other half Im only trying to let you know that what I feel is true\\r\\nAnd Im only me when Im with you\\r\\nWhen Im with anybody else its so hard to be myself\\r\\nOnly you can tell\\r\\nThat Im only up when youre not down\\r\\nDont wanna fly if youre still on the ground\\r\\nIts like no matter what I do\\r\\nWell you drive me crazy half the time\\r\\nThe other half Im only trying to let you know that what I feel is true\\r\\nAnd Im only me\\r\\nWho I wanna be\\r\\nWell Im only me when Im with you\\r\\nWith you\\r\\nUh huh\\r\\nYeah\\r\\nShe cant see the way your eyes\\r\\nLight up when you smile\\r\\nShell never notice how you stop and stare\\r\\nWhenever she walks by\\r\\nAnd you cant see me wanting you the way you want her\\r\\nBut you are everything to me\\r\\nI just want to show you\\r\\nShe dont even know you\\r\\nShes never going to love you like I want to\\r\\nAnd you just see right through me\\r\\nIf you only knew me\\r\\nWe could be a beautiful\\r\\nMiracle\\r\\nUnbelievable\\r\\nInstead of just invisible\\r\\nTheres a fire inside of you\\r\\nThat cant help but shine through\\r\\nShes never going to see the light\\r\\nNo matter what you do\\r\\nAnd all I think about is how to make you think of me\\r\\nAnd everything that we could be\\r\\nI just want to show you\\r\\nShe dont even know you\\r\\nShes never going to love you like I want to\\r\\nAnd you just see right through me\\r\\nIf you only knew me\\r\\nWe could be a beautiful\\r\\nMiracle\\r\\nUnbelievable\\r\\nInstead of just invisible\\r\\nLike shadows in a faded light\\r\\nOh were invisible\\r\\nI just want to open your eyes\\r\\nAnd make you realize\\r\\nI just want to show you\\r\\nShe dont even know you\\r\\nBaby let me love you\\r\\nLet me want you\\r\\nYou just see right through me\\r\\nBut if you only knew me\\r\\nWe could be a beautiful\\r\\nMiracle\\r\\nUnbelievable\\r\\nInstead of just invisible\\r\\nShe cant see the way your eyes\\r\\nLight up when you smile\\r\\nWhy would you wanna break a perfectly good heart\\r\\nWhy would you wanna take our love and tear it all apart now\\r\\nWhy would you wanna make the very first scar\\r\\nWhy would you wanna break a perfectly good heart\\r\\nMaybe I shouldve seen the signs shouldve read the writing on the wall\\r\\nAnd realized by the distance in your eyes that I would be the one to fall\\r\\nNo matter what you say I still cant believe\\r\\nThat you would walk away\\r\\nIt dont make sense to me but\\r\\nWhy would you wanna break a perfectly good heart\\r\\nWhy would you wanna take our love and tear it all apartnow\\r\\nWhy would you wanna make the very first scar\\r\\nWhy would you wanna break a perfectly good heart\\r\\nIts not unbroken anymore\\r\\nHow do I get it back the way it was before\\r\\nWhy would you wanna break a perfectly good heart\\r\\nWhy would you wanna take our love and tear it all apart now\\r\\nWhy would you wanna make the very first scar\\r\\nWhy would you wanna break a perfectly good heart\\r\\nWhy would you wanna break a perfectly good heart\\r\\nWhy would you wanna take our love and tear it all apart now\\r\\nWhy would you wanna make the very first scar\\r\\nWhy would you wanna break a perfectly good heart\\r\\nTheres something bout the way\\r\\nThe street looks when its just rained\\r\\nTheres a glow off the pavement\\r\\nYou walk me to the car\\r\\nAnd you know I wanna ask you to dance right there\\r\\nIn the middle of the parking lot yeah\\r\\nOh yeah\\r\\nWere driving down the road\\r\\nI wonder if you know\\r\\nIm trying so hard not to get caught up now\\r\\nBut youre just so cool\\r\\nRun your hands through your hair\\r\\nAbsent mindedly making me want you\\r\\nAnd I dont know how it gets better than this\\r\\nYou take my hand and drag me head first\\r\\nFearless\\r\\nAnd I dont know why but with you Id dance in a storm in my best dress\\r\\nFearless\\r\\nSo baby drive slow\\r\\ntil we run out of road in this one horse town\\r\\nI wanna stay right here in this passengers seat\\r\\nYou put your eyes on me\\r\\nIn this moment now capture it remember it\\r\\nAnd I dont know how it gets better than this\\r\\nYou take my hand and drag me head first\\r\\nFearless\\r\\nAnd I dont know why but with you Id dance in a storm in my best dress\\r\\nFearless\\r\\nWell you stood there with me in the doorway\\r\\nMy hands shake Im not usually this way but\\r\\nYou pull me in and Im a little more brave\\r\\nIts the first kiss its flawless really something\\r\\nIts fearless\\r\\nOh yeah\\r\\nAnd I dont know how it gets better than this\\r\\nYou take my hand and drag me head first\\r\\nFearless\\r\\nAnd I dont know why but with you Id dance in a storm in my best dress\\r\\nFearless\\r\\nAnd I dont know how it gets better than this\\r\\nYou take my hand and drag me head first\\r\\nFearless\\r\\nAnd I dont know why but with you Id dance in a storm in my best dress\\r\\nFearless\\r\\nOh oh\\r\\nOh yeah\\r\\nYou take a deep breath and you walk through the doors\\r\\nIts the morning of your very first day\\r\\nYou say hi to your friends you aint seen in a while\\r\\nTry and stay out of everybodys way\\r\\nIts your freshman year and youre going to be here\\r\\nFor the next four years in this town\\r\\nHoping one of those senior boys will wink at you and say\\r\\nYou know I havent seen you around before\\r\\nBecause when youre fifteen and somebody tells you they love you\\r\\nYoure going to believe them\\r\\nAnd when youre fifteen feeling like theres nothing to figure out\\r\\nWell count to ten take it in\\r\\nThis is life before you know who youre going to be\\r\\nFifteen\\r\\nYou sit in class next to a redhead named Abigail\\r\\nAnd soon enough youre best friends\\r\\nLaughing at the other girls who think theyre so cool\\r\\nWell be outta here as soon as we can\\r\\nAnd then youre on your very first date and hes got a car\\r\\nAnd youre feeling like flying\\r\\nAnd your mommas waiting up and youre thinking hes the one\\r\\nAnd youre dancing round your room when the night ends\\r\\nWhen the night ends\\r\\nBecause when youre fifteen and somebody tells you they love you\\r\\nYoure going to believe them\\r\\nWhen youre fifteen and your first kiss\\r\\nMakes your head spin round\\r\\nBut in your life youll do things greater than\\r\\nDating the boy on the football team\\r\\nBut I didnt know it at fifteen\\r\\nWhen all you wanted was to be wanted\\r\\nWish you could go back and tell yourself what you know now\\r\\nBack then I swore I was going to marry him someday\\r\\nBut I realized some bigger dreams of mine\\r\\nAnd Abigail gave everything she had to a boy\\r\\nWho changed his mind and we both cried\\r\\nBecause when youre fifteen and somebody tells you they love you\\r\\nYoure going to believe them\\r\\nAnd when youre fifteen dont forget to look before you fall\\r\\nIve found time can heal most anything\\r\\nAnd you just might find who youre supposed to be\\r\\nI didnt know who I was supposed to be at fifteen\\r\\nLa la la la la la la la la la\\r\\nLa la la la la la la la la la\\r\\nLa la la la la la\\r\\nYour very first day\\r\\nTake a deep breath girl\\r\\nTake a deep breath as you walk through the doors\\r\\nWe were both young when I first saw you\\r\\nI close my eyes and the flashback starts\\r\\nIm standing there\\r\\nOn a balcony in summer air\\r\\nSee the lights see the party the ball gowns\\r\\nSee you make your way through the crowd\\r\\nAnd say hello\\r\\nLittle did I know\\r\\nThat you were Romeo you were throwing pebbles\\r\\nAnd my daddy said stay away from Juliet\\r\\nAnd I was crying on the staircase\\r\\nBegging you please dont go and I said\\r\\nRomeo take me somewhere we can be alone\\r\\nIll be waiting all theres left to do is run\\r\\nYoull be the prince and Ill be the princess\\r\\nIts a love story baby just say yes\\r\\nSo I sneak out to the garden to see you\\r\\nWe keep quiet cause were dead if they knew\\r\\nSo close your eyes\\r\\nEscape this town for a little while\\r\\nCause you were Romeo I was a scarlet letter\\r\\nAnd my daddy said Stay away from Juliet\\r\\nBut you were everything to me\\r\\nI was begging you please dont go and I said\\r\\nRomeo take me somewhere we can be alone\\r\\nIll be waiting all theres left to do is run\\r\\nYoull be the prince and Ill be the princess\\r\\nIts a love story baby just say yes\\r\\nRomeo save me theyre trying to tell me how to feel\\r\\nThis love is difficult but its real\\r\\nDont be afraid well make it out of this mess\\r\\nIts a love story baby just say yes\\r\\nOh oh\\r\\nI got tired of waiting\\r\\nWondering if you were ever coming around\\r\\nMy faith in you was fading\\r\\nWhen I met you on the outskirts of town and I said\\r\\nRomeo save me Ive been feeling so alone\\r\\nI keep waiting for you but you never come\\r\\nIs this in my head I dont know what to think\\r\\nHe knelt to the ground and pulled out a ring\\r\\nAnd said Marry me Juliet\\r\\nYoull never have to be alone\\r\\nI love you and thats all I really know\\r\\nI talked to your dad go pick out a white dress\\r\\nIts a love story baby just say yes\\r\\nOh oh\\r\\nOh oh\\r\\nBecause we were both young when I first saw you\\r\\nHey Stephen I know looks can be deceiving\\r\\nBut I know I saw a light in you\\r\\nAnd as we walked we were talking\\r\\nI didnt say half the things I wanted to\\r\\nOf all the girls tossing rocks at your window\\r\\nIll be the one waiting there even when its cold\\r\\nHey Stephen boy you might have me believing\\r\\nI dont always have to be alone\\r\\nCause I cant help it if you look like an angel\\r\\nCant help it if I wanna kiss you in the rain so\\r\\nCome feel this magic Ive been feeling since I met you\\r\\nCant help it if theres no one else\\r\\nMmm I cant help myself\\r\\nHey Stephen Ive been holding back this feeling\\r\\nSo I got some things to say to you\\r\\nIve seen it all so I thought\\r\\nBut I never seen nobody shine the way you do\\r\\nThe way you walk way you talk way you say my name\\r\\nIts beautiful wonderful dont you ever change\\r\\nHey Stephen why are people always leaving\\r\\nI think you and I should stay the same\\r\\nCause I cant help it if you look like an angel\\r\\nCant help it if I wanna kiss you in the rain so\\r\\nCome feel this magic Ive been feeling since I met you\\r\\nCant help it if theres no one else\\r\\nMmm I cant help myself\\r\\nTheyre dimming the street lights youre perfect for me\\r\\nWhy arent you here tonight\\r\\nIm waiting alone now so come on and come out\\r\\nAnd pull me near and shine shine shine\\r\\nHey Stephen I could give you fifty reasons\\r\\nWhy I should be the one you choose\\r\\nAll those other girls well theyre beautiful\\r\\nBut would they write a song for you\\r\\nCause I cant help it if you look like an angel\\r\\nCant help it if I wanna kiss you in the rain so\\r\\nCome feel this magic Ive been feeling since I met you\\r\\nCant help it if theres no one else\\r\\nMmm I cant help myself\\r\\nCause I cant help it if you look like an angel\\r\\nCant help it if I wanna kiss you in the rain so\\r\\nCome feel this magic Ive been feeling since I met you\\r\\nCant help it if theres no one else\\r\\nMmm I cant help myself\\r\\nMyself\\r\\nCant help myself\\r\\nI cant help myself\\r\\nSay youre sorry that face of an angel\\r\\nComes out just when you need it to\\r\\nAs I paced back and forth all this time\\r\\nCause I honestly believed in you\\r\\nHoldin on the days drag on\\r\\nStupid girl I shoulda known I shoulda known\\r\\nThat Im not a princess this aint a fairytale\\r\\nIm not the one youll sweep off her feet lead her up the stairwell\\r\\nThis aint Hollywood this is a small town\\r\\nI was a dreamer before you went and let me down\\r\\nNow its too late for you and your white horse\\r\\nTo come around\\r\\nBaby I was naive got lost in your eyes\\r\\nAnd never really had a chance\\r\\nMy mistake I didnt know to be in love\\r\\nYou had to fight to have the upper hand\\r\\nI had so many dreams about you and me\\r\\nHappy endings now I know\\r\\nThat Im not a princess this aint a fairytale\\r\\nIm not the one youll sweep off her feet lead her up the stairwell\\r\\nThis aint Hollywood this is a small town\\r\\nI was a dreamer before you went and let me down\\r\\nNow its too late for you and your white horse\\r\\nTo come around\\r\\nAnd there you are on your knees\\r\\nBeggin for forgiveness beggin for me\\r\\nJust like I always wanted\\r\\nBut Im so sorry\\r\\nCause Im not your princess this aint our fairytale\\r\\nIm gonna find someone someday\\r\\nWho might actually treat me well\\r\\nThis is a big world that was a small town\\r\\nThere in my rear view mirror disappearing now\\r\\nAnd its too late for you and your white horse\\r\\nNow its too late for you and your white horse\\r\\nTo catch me now\\r\\nOh whoa whoa whoa\\r\\nTry and catch me now oh\\r\\nIts too late to catch me now\\r\\nYoure on the phone with your girlfriend shes upset\\r\\nShes going off about something that you said\\r\\nCause she doesnt get your humor like I do\\r\\nIm in the room its a typical Tuesday night\\r\\nIm listening to the kind of music she doesnt like\\r\\nAnd shell never know your story like I do\\r\\nBut she wears short skirts I wear Tshirts\\r\\nShes Cheer Captain and Im on the bleachers\\r\\nDreaming about the day when you wake up and find\\r\\nThat what youre looking for has been here the whole time\\r\\nIf you could see that Im the one who understands you\\r\\nBeen here all along so why cant you see\\r\\nYou belong with me you belong with me\\r\\nWalking the streets with you and your wornout jeans\\r\\nI cant help thinking this is how it ought to be\\r\\nLaughing on a park bench thinking to myself\\r\\nHey isnt this easy\\r\\nAnd youve got a smile that could light up this whole town\\r\\nI havent seen it in a while since she brought you down\\r\\nYou say youre fine I know you better than that\\r\\nHey whatcha doing with a girl like that\\r\\nShe wears high heels I wear sneakers\\r\\nShes Cheer Captain and Im on the bleachers\\r\\nDreaming about the day when you wake up and find\\r\\nThat what youre looking for has been here the whole time\\r\\nIf you could see that Im the one who understands you\\r\\nBeen here all along so why cant you see\\r\\nYou belong with me\\r\\nStanding by and waiting at your back door\\r\\nAll this time how could you not know baby\\r\\nYou belong with me you belong with me\\r\\nOh I remember you driving to my house\\r\\nIn the middle of the night\\r\\nIm the one who makes you laugh\\r\\nWhen you know youre bout to cry\\r\\nAnd I know your favorite songs\\r\\nAnd you tell me bout your dreams\\r\\nThink I know where you belong\\r\\nThink I know its with me\\r\\nCant you see that Im the one who understands you\\r\\nBeen here all along so why cant you see\\r\\nYou belong with me\\r\\nStanding by and waiting at your back door\\r\\nAll this time how could you not know baby\\r\\nYou belong with me you belong with me\\r\\nYou belong with me\\r\\nHave you ever thought just maybe\\r\\nYou belong with me\\r\\nYou belong with me\\r\\nI see your face in my mind as I drive away\\r\\nCause none of us thought it was\\r\\nGoing to end that way\\r\\nPeople are people\\r\\nAnd sometimes we change our minds\\r\\nBut its killing me to see you go after all this time\\r\\nMm mm mm mm mm mm mm mm\\r\\nMm mm mm mm mm mm mm mm\\r\\nMusic starts playing like the end of a sad movie\\r\\nIts the kind of ending you\\r\\nDont really want to see\\r\\nCause its tragedy and itll only bring you\\r\\nDown\\r\\nNow I dont know what to be without you around\\r\\nAnd we know its never simple never easy\\r\\nNever a clean break no one here to\\r\\nSave me\\r\\nYoure the only thing I know like the back of my hand\\r\\nAnd I cant\\r\\nBreathe\\r\\nWithout you but I have to breathe\\r\\nWithout you but I have to\\r\\nNever wanted this never want to see you hurt\\r\\nEvery little bump in the road I tried to swerve\\r\\nBut people are people\\r\\nAnd sometimes it doesnt work out\\r\\nNothing we say is gonna save us from the fall out\\r\\nIts 2 AM\\r\\nFeeling like I just lost a friend\\r\\nHope you know its not easy\\r\\nEasy for me\\r\\nIts 2 AM\\r\\nFeeling like I just lost a friend\\r\\nHope you know this aint easy\\r\\nEasy for me\\r\\nSorry sorry\\r\\nSorry Yeah eh sorry\\r\\nSorry sorry\\r\\nSorry\\r\\nI took a chance\\r\\nI took a shot\\r\\nAnd you might think Im bulletproof\\r\\nBut Im not\\r\\nYou took a swing\\r\\nI took it hard\\r\\nAnd down here from the ground I see who you are\\r\\nIm sick and tired of your attitude\\r\\nIm feeling like I dont know you\\r\\nYou tell me that you love me then you cut me down\\r\\nAnd I need you like a heartbeat\\r\\nBut you know you got a mean streak\\r\\nThat makes me run for cover when youre around\\r\\nAnd heres to you and your temper\\r\\nYes I remember what you said last night\\r\\nAnd I know that you see what youre doing to me\\r\\nTell me why\\r\\nYou could write a book on how to ruin someones perfect day\\r\\nWell I get so confused and frustrated\\r\\nForget what Im trying to say oh\\r\\nIm sick and tired of your reasons\\r\\nI got no one to believe in\\r\\nYou tell me that you want me then push me around\\r\\nAnd I need you like a heartbeat\\r\\nBut you know you got a mean streak\\r\\nThat makes me run for cover when youre around\\r\\nHeres to you and your temper\\r\\nYes I remember what you said last night\\r\\nAnd I know that you see what youre doing to me\\r\\nTell me why\\r\\nWhy do you have to make me feel small\\r\\nSo you can feel whole inside\\r\\nWhy do you have to put down my dreams\\r\\nSo youre the only thing on my mind\\r\\nIm sick and tired of your attitude\\r\\nIm feeling like I dont know you\\r\\nYou tell me that you want me then cut me down\\r\\nIm sick and tired of your reasons\\r\\nIve got no one to believe in\\r\\nYou ask me for my love then you push me around\\r\\nHeres to you and your temper\\r\\nYes I remember what you said last night\\r\\nAnd I know that you see what youre doing to me\\r\\nTell me why why\\r\\nTell me why why\\r\\nI take a step back let you go\\r\\nI told you Im not bulletproof\\r\\nNow you know\\r\\nAll this time I was wasting hoping you would come around\\r\\nIve been giving out chances every time and all you do is let me down\\r\\nAnd its taken me this long baby but Ive figured you out\\r\\nAnd youre thinking well be fine again but not this time around\\r\\nYou dont have to call anymore\\r\\nI wont pick up the phone\\r\\nThis is the last straw\\r\\nDont wanna hurt anymore\\r\\nAnd you can tell me that youre sorry\\r\\nBut I dont believe you baby like I did before\\r\\nYoure not sorry No no no no\\r\\nYoure looking so innocent\\r\\nI might believe you if I didnt know\\r\\nCouldve loved you all my life if you hadnt left me waiting in the cold\\r\\nAnd youve got your share of secrets\\r\\nAnd Im tired of being last to know\\r\\nAnd now youre asking me to listen cause its worked each time before but\\r\\nYou dont have to call anymore\\r\\nI wont pick up the phone\\r\\nThis is the last straw\\r\\nDont wanna hurt anymore\\r\\nAnd you can tell me that youre sorry\\r\\nBut I dont believe you baby like I did before\\r\\nYoure not sorry No no no no\\r\\nYoure not sorry No no no no\\r\\nYou had me crawling for you honey and it never would have gone away\\r\\nYou used to shine so bright but I watched all of it fade so\\r\\nYou dont have to call anymore\\r\\nI wont pick up the phone\\r\\nThis is the last straw\\r\\nTheres nothing left to beg for\\r\\nAnd you can tell me that youre sorry\\r\\nBut I dont believe you baby like I did before\\r\\nYoure not sorry No no no no\\r\\nYoure not sorry No no no no\\r\\nNo no no\\r\\nHe is sensible and so incredible\\r\\nAnd all my single friends are jealous\\r\\nHe says everything I need to hear and its like\\r\\nI couldnt ask for anything better\\r\\nHe opens up my door and I get into his car\\r\\nAnd he says you look beautiful tonight\\r\\nAnd I feel perfectly fine\\r\\nBut I miss screaming and fighting and kissing in the rain\\r\\nAnd its 2am and Im cursing your name\\r\\nYoure so in love that you act insane\\r\\nAnd thats the way I loved you\\r\\nBreaking down and coming undone\\r\\nIts a roller coaster kind of rush\\r\\nAnd I never knew I could feel that much\\r\\nAnd thats the way I loved you\\r\\nHe respects my space\\r\\nAnd never makes me wait\\r\\nAnd he calls exactly when he says he will\\r\\nHes close to my mother\\r\\nTalks business with my father\\r\\nHes charming and endearing\\r\\nAnd Im comfortable\\r\\nHe cant see the smile Im faking\\r\\nAnd my hearts not breaking\\r\\nCause Im not feeling anything at all\\r\\nAnd you were wild and crazy\\r\\nJust so frustrating intoxicating\\r\\nComplicated got away by some mistake and now\\r\\nI miss screaming and fighting and kissing in the rain\\r\\nIts 2am and Im cursing your name\\r\\nIm so in love that I acted insane\\r\\nAnd thats the way I loved you\\r\\nBreaking down and coming undone\\r\\nIts a roller coaster kind of rush\\r\\nAnd I never knew I could feel that much\\r\\nAnd thats the way I loved you oh oh\\r\\nAnd thats the way I loved you oh oh\\r\\nNever knew I could feel that much\\r\\nAnd thats the way I loved you\\r\\nOnce upon a time\\r\\nI believe it was a Tuesday when I caught your eye\\r\\nAnd we caught onto something\\r\\nI hold onto the night you looked me in the eye and told me you loved me\\r\\nWere you just kidding\\r\\nCause it seems to me this thing is breaking down\\r\\nWe almost never speak\\r\\nI dont feel welcome anymore\\r\\nBaby what happened please tell me\\r\\nCause one second it was perfect now youre halfway out the door\\r\\nAnd I stare at the phone he still hasnt called\\r\\nAnd then you feel so low you cant feel nothing at all\\r\\nAnd you flashback to when he said forever and always\\r\\nOh and it rains in your bedroom\\r\\nEverything is wrong\\r\\nIt rains when youre here and it rains when youre gone\\r\\nCause I was there when you said forever and always\\r\\nWas I out of line\\r\\nDid I say something way too honest made you run and hide\\r\\nLike a scared little boy\\r\\nI looked into your eyes\\r\\nThought I knew you for a minute now Im not so sure\\r\\nSo heres to everything coming down to nothing\\r\\nHeres to silence that cuts me to the core\\r\\nWhere is this going\\r\\nThought I knew for a minute but I dont anymore\\r\\nAnd I stare at the phone he still hasnt called\\r\\nAnd then you feel so low you cant feel nothing at all\\r\\nAnd you flashback to when he said forever and always\\r\\nOh and it rains in your bedroom\\r\\nEverything is wrong\\r\\nIt rains when youre here and it rains when youre gone\\r\\nCause I was there when you said forever and always\\r\\nYou didnt mean it baby I dont think so\\r\\nOh back up baby back up\\r\\nDid you forget everything\\r\\nBack up baby back up\\r\\nDid you forget everything\\r\\nCause it rains in your bedroom\\r\\nEverything is wrong\\r\\nIt rains when youre here and it rains when youre gone\\r\\nCause I was there when you said forever and always\\r\\nOh I stare at the phone he still hasnt called\\r\\nAnd then you feel so low you cant feel nothing at all\\r\\nAnd you flashback to when we said forever and always\\r\\nAnd  it rains in your bedroom\\r\\nEverything is wrong\\r\\nIt rains when youre here and it rains when youre gone\\r\\nCause I was there when you said forever and always\\r\\nYou didnt mean it baby you said forever and always yeah\\r\\nIm five years old its getting cold Ive got my big coat on\\r\\nI hear your laugh and look up smiling at you I run and run\\r\\nPast the pumpkin patch and the tractor rides\\r\\nLook now the sky is gold\\r\\nI hug your legs and fall asleep on the way home\\r\\nI dont know why all the trees change in the fall\\r\\nBut I know youre not scared of anything at all\\r\\nDont know if Snow Whites house is near or far away\\r\\nBut I know I had the best day with you today\\r\\nIm thirteen now\\r\\nAnd dont know how my friends could be so mean\\r\\nI come home crying and you hold me tight and grab the keys\\r\\nAnd we drive and drive until we found a town far enough away\\r\\nAnd we talk and window shop til Ive forgotten all their names\\r\\nI dont know who Im going to talk to now at school\\r\\nBut I know Im laughing on the car ride home with you\\r\\nDont know how long its going to take to feel okay\\r\\nBut I know I had the best day with you today\\r\\nI have an excellent father his strength is making me stronger\\r\\nGod smiles on my little brother inside and out\\r\\nHes better than I am\\r\\nI grew up in a pretty house and I had space to run\\r\\nAnd I had the best days with you\\r\\nThere is a video I found from back when I was three\\r\\nYou set up a paint set in the kitchen and youre talking to me\\r\\nIts the age of princesses and pirate ships and the seven dwarfs\\r\\nAnd Daddys smart\\r\\nAnd youre the prettiest lady in the whole wide world\\r\\nAnd now I know why all the trees change in the fall\\r\\nI know you were on my side even when I was wrong\\r\\nAnd I love you for giving me your eyes\\r\\nFor staying back and watching me shine\\r\\nAnd I didnt know if you knew so Im taking this chance to say\\r\\nThat I had the best day with you today\\r\\nAnd its a sad picture the final blow hits you\\r\\nSomebody else gets what you wanted again and\\r\\nYou know its all the same another time and place\\r\\nRepeating history and youre getting sick of it\\r\\nBut I believe in whatever you do\\r\\nAnd Ill do anything to see it through\\r\\nBecause these things will change\\r\\nCan you feel it now\\r\\nThese walls that they put up to hold us back will fall down\\r\\nThis revolution the time will come\\r\\nFor us to finally win\\r\\nAnd well sing hallelujah well sing hallelujah\\r\\nOh oh\\r\\nSo weve been outnumbered raided and now cornered\\r\\nIts hard to fight when the fight aint fair\\r\\nWere getting stronger now finding things they never found\\r\\nThey might be bigger but were faster and never scared\\r\\nYou can walk away say we dont need this\\r\\nBut theres something in your eyes says we can beat this\\r\\nCause these things will change\\r\\nCan you feel it now\\r\\nThese walls that they put up to hold us back will fall down\\r\\nThis revolution the time will come\\r\\nFor us to finally win\\r\\nAnd well sing hallelujah well sing hallelujah\\r\\nOh oh\\r\\nTonight we stand get off our knees\\r\\nFight for what weve worked for all these years\\r\\nAnd the battle was long its the fight of our lives\\r\\nBut well stand up champions tonight\\r\\nIt was the night things changed\\r\\nCan you see it now\\r\\nThese walls that they put up to hold us back fell down\\r\\nIts a revolution throw your hands up\\r\\nCause we never gave in\\r\\nAnd well sing hallelujah we sang hallelujah\\r\\nHallelujah\\r\\nYou were in college working parttime waiting tables\\r\\nLeft a small town and never looked back\\r\\nI was a flight risk with a fear of falling\\r\\nWondering why we bother with love if it never lasts\\r\\nI say Can you believe it\\r\\nAs were lying on the couch\\r\\nThe moment I could see it\\r\\nYes yes I can see it now\\r\\nDo you remember we were sitting there by the water\\r\\nYou put your arm around me for the first time\\r\\nYou made a rebel of a careless mans careful daughter\\r\\nYou are the best thing thats ever been mine\\r\\nFlash forward and were taking on the world together\\r\\nAnd theres a drawer of my things at your place\\r\\nYou learn my secrets and figure out why Im guarded\\r\\nYou say well never make my parents mistakes\\r\\nBut we got bills to pay\\r\\nWe got nothing figured out\\r\\nWhen it was hard to take\\r\\nYes yes\\r\\nThis is what I thought about\\r\\nDo you remember we were sitting there by the water\\r\\nYou put your arm around me for the first time\\r\\nYou made a rebel of a careless mans careful daughter\\r\\nYou are the best thing thats ever been mine\\r\\nDo you remember all the city lights on the water\\r\\nYou saw me start to believe for the first time\\r\\nYou made a rebel of a careless mans careful daughter\\r\\nYou are the best thing thats ever been mine\\r\\nAnd I remember that fight 230 AM\\r\\nAs everything was slipping right out of our hands\\r\\nI ran out crying and you followed me out into the street\\r\\nBraced myself for the goodbye\\r\\nCause thats all Ive ever known\\r\\nThen you took me by surprise\\r\\nYou said Ill never leave you alone\\r\\nYou said I remember how we felt sitting by the water\\r\\nAnd every time I look at you its like the first time\\r\\nI fell in love with a careless mans careful daughter\\r\\nShe is the best thing thats ever been mine\\r\\nHold on make it last\\r\\nHold on never turn back\\r\\nYou made a rebel of a careless mans careful daughter\\r\\nYou are the best thing thats ever been mine\\r\\nYeah yeah\\r\\nDo you believe it\\r\\nHold on\\r\\nWere gonna make it now\\r\\nHold on\\r\\nAnd I can see it\\r\\nYeah yeah\\r\\nI can see it now see it now\\r\\nThe way you move is like a full on rainstorm\\r\\nAnd Im a house of cards\\r\\nYoure the kind of reckless\\r\\nThat should send me running\\r\\nBut I kinda know that I wont get far\\r\\nAnd you stood there in front of me\\r\\nJust close enough to touch\\r\\nClose enough to hope you couldnt see\\r\\nWhat I was thinking of\\r\\nDrop everything now\\r\\nMeet me in the pouring rain\\r\\nKiss me on the sidewalk\\r\\nTake away the pain\\r\\nCause I see sparks fly whenever you smile\\r\\nGet me with those green eyes baby as the lights go down\\r\\nGive me something thatll haunt me when youre not around\\r\\nCause I see sparks fly whenever you smile\\r\\nMy mind forgets to remind me\\r\\nYoure a bad idea\\r\\nYou touch me once and its really something\\r\\nYou find Im even better than you imagined I would be\\r\\nIm on my guard for the rest of the world\\r\\nBut with you I know its no good\\r\\nAnd I could wait patiently but I really wish you would\\r\\nDrop everything now\\r\\nMeet me in the pouring rain\\r\\nKiss me on the sidewalk\\r\\nTake away the pain\\r\\nCause I see sparks fly whenever you smile\\r\\nGet me with those green eyes baby as the lights go down\\r\\nGive me something thatll haunt me when youre not around\\r\\nCause I see sparks fly whenever you smile\\r\\nI run my fingers through your hair and watch the lights go wild\\r\\nJust keep on keeping your eyes on me its just wrong enough to make it feel right\\r\\nAnd lead me up the staircase\\r\\nWont you whisper soft and slow\\r\\nIm captivated by you baby like a firework show\\r\\nDrop everything now\\r\\nMeet me in the pouring rain\\r\\nKiss me on the sidewalk\\r\\nTake away the pain\\r\\nCause I see sparks fly whenever you smile\\r\\nGet me with those green eyes baby as the lights go down\\r\\nGive me something thatll haunt me when youre not around\\r\\nCause I see sparks fly whenever you smile\\r\\nAnd the sparks fly\\r\\nOh baby smile\\r\\nAnd the sparks fly\\r\\nIm so glad you made time to see me\\r\\nHows life tell me hows your family\\r\\nI havent seen them in a while\\r\\nYouve been good busier than ever\\r\\nWe small talk work and the weather\\r\\nYour guard is up and I know why\\r\\nCause the last time you saw me\\r\\nIs still burned in the back of your mind\\r\\nYou gave me roses and I left them there to die\\r\\nSo this is me swallowing my pride\\r\\nStanding in front of you saying Im sorry for that night\\r\\nAnd Id go back to December all the time\\r\\nIt turns out freedom aint nothing but missing you\\r\\nWishing Id realized what I had when you were mine\\r\\nId go back to December turn around and make it alright\\r\\nI go back to December all the time\\r\\nThese days I havent been sleeping\\r\\nStaying up playing back myself leaving\\r\\nWhen your birthday passed and I didnt call\\r\\nAnd I think about summer all the beautiful times\\r\\nI watched you laughing from the passenger side and\\r\\nRealized I loved you in the fall\\r\\nAnd then the cold came\\r\\nThe dark days when fear crept into my mind\\r\\nYou gave me all your love and all I gave you was goodbye\\r\\nSo this is me swallowing my pride\\r\\nStanding in front of you saying Im sorry for that night\\r\\nAnd Id go back to December all the time\\r\\nIt turns out freedom aint nothing but missing you\\r\\nWishing Id realized what I had when you were mine\\r\\nId go back to December turn around and change my own mind\\r\\nI go back to December all the time\\r\\nI miss your tan skin your sweet smile so good to me so right\\r\\nAnd how you held me in your arms that September night\\r\\nThe first time you ever saw me cry\\r\\nMaybe this is wishful thinking\\r\\nProbably mindless dreaming\\r\\nBut if we loved again I swear Id love you right\\r\\nId go back in time and change it but I cant\\r\\nSo if the chain is on your door I understand\\r\\nBut this is me swallowing my pride\\r\\nStanding in front of you saying Im sorry for that night\\r\\nAnd Id go back to December\\r\\nIt turns out freedom aint nothing but missing you\\r\\nWishing Id realized what I had when you were mine\\r\\nId go back to December turn around and make it alright\\r\\nId go back to December turn around and change my own mind\\r\\nI go back to December all the time\\r\\nAll the time\\r\\nI am not the kind of girl\\r\\nWho should be rudely barging in\\r\\nOn a white veil occasion\\r\\nBut you are not the kind of boy\\r\\nWho should be marrying the wrong girl\\r\\nI sneak in and see your friends\\r\\nAnd her snotty little family\\r\\nAll dressed in pastel\\r\\nAnd she is yelling at a bridesmaid\\r\\nSomewhere back inside a room\\r\\nWearing a gown shaped like a pastry\\r\\nThis is surely not\\r\\nWhat you thought it would be\\r\\nI lose myself in a daydream\\r\\nWhere I stand and say\\r\\nDont say yes run away now\\r\\nIll meet you when youre out\\r\\nOf the church at the back door\\r\\nDont wait or say a single vow\\r\\nYou need to hear me out\\r\\nAnd they said speak now\\r\\nFond gestures are exchanged\\r\\nAnd the organ starts to play\\r\\nA song that sounds like a death march\\r\\nAnd I am hiding in the curtains\\r\\nIt seems that I was uninvited\\r\\nBy your lovely bridetobe\\r\\nShe floats down the aisle\\r\\nLike a pageant queen\\r\\nBut I know you wish it was me\\r\\nYou wish it was me Dont you\\r\\nDont say yes run away now\\r\\nIll meet you when youre out\\r\\nOf the church at the back door\\r\\nDont wait or say a single vow\\r\\nYou need to hear me out\\r\\nAnd they said speak now\\r\\nDont say yes run away now\\r\\nIll meet you when youre out\\r\\nOf the church at the back door\\r\\nDont wait or say a single vow\\r\\nYou need to hear me out\\r\\nAnd they said speak now\\r\\nOoh ladadada oh\\r\\nOoh ooh\\r\\nSay a single vow\\r\\nI hear the preacher say\\r\\nSpeak now or forever hold your peace\\r\\nTheres the silence theres my last chance\\r\\nI stand up with shaking hands all eyes on me\\r\\nHorrified looks from everyone in the room\\r\\nBut Im only looking at you\\r\\nI am not the kind of girl\\r\\nWho should be rudely barging in\\r\\nOn a white veil occasion\\r\\nBut you are not the kind of boy\\r\\nWho should be marrying the wrong girl\\r\\nHehe\\r\\nDont say yes run away now\\r\\nIll meet you when youre out\\r\\nOf the church at the back door\\r\\nDont wait or say a single vow\\r\\nYou need to hear me out\\r\\nAnd they said speak now\\r\\nAnd you say\\r\\nLets run away now\\r\\nIll meet you when\\r\\nIm out of my tux at the back door\\r\\nBaby I didnt say my vows\\r\\nSo glad you were around when they said\\r\\nSpeak now\\r\\nLong were the nights when\\r\\nMy days once revolved around you\\r\\nCounting my footsteps\\r\\nPraying the floor wont fall through again\\r\\nMy mother accused me of losing my mind\\r\\nBut I swore I was fine\\r\\nYou paint me a blue sky\\r\\nThen go back and turn it to rain\\r\\nAnd I lived in your chess game\\r\\nBut you changed the rules everyday\\r\\nWonderin which version of you I might get on the phone tonight\\r\\nWell I stopped pickin up and this song is to let you know why\\r\\nDear John I see it all now that youre gone\\r\\nDont you think I was too young to be messed with\\r\\nThe girl in the dress cried the whole way home\\r\\nI shoulda known\\r\\nWell maybe its me\\r\\nAnd my blind optimism to blame\\r\\nOr maybe its you and your sick need\\r\\nTo give love and take it away\\r\\nAnd youll add my name to your long list of traitors\\r\\nWho dont understand\\r\\nAnd I look back in regret how I ignored when they said\\r\\nRun as fast as you can\\r\\nDear John I see it all now that youre gone\\r\\nDont you think I was too young to be messed with\\r\\nThe girl in the dress cried the whole way home\\r\\nDear John I see it all now it was wrong\\r\\nDont you think nineteens too young\\r\\nTo be played by your dark twisted games\\r\\nWhen I loved you so\\r\\nI shoulda known\\r\\nYou are an expert at sorry\\r\\nAnd keeping the lines blurry\\r\\nNever impressed by me acing your tests\\r\\nAll the girls that youve run dry have tired lifeless eyes\\r\\nCause you burned them out\\r\\nBut I took your matches\\r\\nBefore fire could catch me\\r\\nSo dont look now\\r\\nIm shining like fireworks\\r\\nOver your sad empty town yeah\\r\\nOh oh oh oh oh oh\\r\\nDear John I see it all now that youre gone\\r\\nDont you think I was too young to be messed with\\r\\nThe girl in the dress cried the whole way home\\r\\nI see it all now that youre gone\\r\\nDont you think I was too young to be messed with\\r\\nThe girl in the dress\\r\\nWrote you a song you shoulda known\\r\\nYou shoulda known\\r\\nDont you think I was too young\\r\\nYou shoulda known\\r\\nYou with your words like knives\\r\\nAnd swords and weapons that you use against me\\r\\nYou have knocked me off my feet again\\r\\nGot me feeling like Im nothing\\r\\nYou with your voice like nails on a chalkboard\\r\\nCalling me out when Im wounded\\r\\nYou picking on the weaker man\\r\\nBut you can take me down with just one single blow\\r\\nBut you dont know what you dont know\\r\\nSomeday Ill be living in a big old city\\r\\nAnd all youre ever gonna be is mean\\r\\nSomeday Ill be big enough so you cant hit me\\r\\nAnd all youre ever gonna be is mean\\r\\nWhy you gotta be so mean\\r\\nYou with your switching sides\\r\\nAnd your wildfire lies and your humiliation\\r\\nYou have pointed out my flaws again\\r\\nAs if I dont already see them\\r\\nI walk with my head down trying to block you out\\r\\nCause Ill never impress you\\r\\nI just want to feel okay again\\r\\nI bet you got pushed around\\r\\nSomebody made you cold\\r\\nBut the cycle ends right now\\r\\nCause you cant lead me down that road\\r\\nAnd you dont know what you dont know\\r\\nSomeday Ill be living in a big old city\\r\\nAnd all youre ever gonna be is mean\\r\\nSomeday Ill be big enough so you cant hit me\\r\\nAnd all youre ever gonna be is mean\\r\\nWhy you gotta be so mean\\r\\nAnd I can see you years from now in a bar\\r\\nTalking over a football game\\r\\nWith that same big loud opinion\\r\\nBut nobodys listening\\r\\nWashed up and ranting about the same old bitter things\\r\\nDrunk and grumbling on about how I cant sing\\r\\nBut all you are is mean\\r\\nAll you are is mean\\r\\nAnd a liar and pathetic and alone in life\\r\\nAnd mean and mean and mean and mean\\r\\nBut someday Ill be living in a big old city\\r\\nAnd all youre ever going to be is mean yeah\\r\\nSomeday Ill be big enough so you cant hit me\\r\\nAnd all youre ever going to be is mean\\r\\nWhy you gotta be so mean\\r\\nSomeday Ill be living in a big old city\\r\\nWhy you gotta be so mean\\r\\nAnd all youre ever gonna be is mean\\r\\nWhy you gotta be so mean\\r\\nSomeday Ill be big enough so you cant hit me\\r\\nWhy you gotta be so mean\\r\\nAnd all youre ever gonna be is mean\\r\\nWhy you gotta be so mean\\r\\nI used to think one day wed tell the story of us\\r\\nHow we met\\r\\nAnd the sparks flew instantly\\r\\nAnd people would say theyre the lucky ones\\r\\nI used to know my place was a spot next to you\\r\\nNow Im searching the room for an empty seat\\r\\nCause lately I dont even know what page youre on\\r\\nOh a simple complication\\r\\nMiscommunications lead to fallout\\r\\nSo many things that I wish you knew\\r\\nSo many walls up that I cant break through\\r\\nNow Im standing alone in a crowded room\\r\\nAnd were not speaking\\r\\nAnd Im dying to know\\r\\nIs it killing you like its killing me\\r\\nYeah I dont know what to say since a twist of fate when it all broke down\\r\\nAnd the story of us looks a lot like a tragedy now\\r\\nNext chapter\\r\\nHowd we end up this way\\r\\nSee me nervously pulling at my clothes and trying to look busy\\r\\nAnd youre doing your best to avoid me\\r\\nIm starting to think one day Ill tell the story of us\\r\\nOf how I was losing my mind when I saw you here\\r\\nBut you held your pride like you should have held me\\r\\nOh Im scared to see the ending\\r\\nWhy are we pretending this is nothing\\r\\nId tell you I miss you but I dont know how\\r\\nIve never heard silence quite this loud\\r\\nNow Im standing alone in a crowded room\\r\\nAnd were not speaking\\r\\nAnd Im dying to know\\r\\nIs it killing you like its killing me\\r\\nYeah and I dont know what to say since a twist of fate when it all broke down\\r\\nAnd the story of us looks a lot like a tragedy now\\r\\nThis is looking like a contest\\r\\nOf who can act like they care less\\r\\nBut I liked it better when you were on my side\\r\\nThe battles in your hands now\\r\\nBut I would lay my armor down\\r\\nIf you say youd rather love than fight\\r\\nSo many things that you wish I knew\\r\\nBut the story of us might be ending soon\\r\\nNow Im standing alone in a crowded room\\r\\nAnd were not speaking\\r\\nAnd Im dying to know\\r\\nIs it killing you like its killing me\\r\\nYeah and I dont know what to say since a twist of fate when it all broke down\\r\\nAnd the story of us looks a lot like a tragedy now now now\\r\\nAnd were not speaking\\r\\nAnd Im dying to know is it killing you like its killing me\\r\\nYeah\\r\\nAnd I dont know what to say since a twist of fate because were going down\\r\\nAnd the story of us looks a lot like a tragedy now\\r\\nThe End\\r\\nYour little hands wrapped around my finger\\r\\nAnd its so quiet in the world tonight\\r\\nYour little eyelids flutter cause youre dreaming\\r\\nSo I tuck you in turn on your favorite night light\\r\\nTo you everythings funny you got nothing to regret\\r\\nId give all I have honey\\r\\nIf you could stay like that\\r\\nOh darling dont you ever grow up\\r\\nDont you ever grow up just stay this little\\r\\nOh darling dont you ever grow up\\r\\nDont you ever grow up it could stay this simple\\r\\nI wont let nobody hurt you wont let no one break your heart\\r\\nAnd no one will desert you\\r\\nJust try to never grow up never grow up\\r\\nYoure in the car on the way to the movies\\r\\nAnd youre mortified your moms dropping you off\\r\\nAt 14 theres just so much you cant do\\r\\nAnd you cant wait to move out someday and call your own shots\\r\\nBut dont make her drop you off around the block\\r\\nRemember that shes getting older too\\r\\nAnd dont lose the way that you dance around in your pjs getting ready for school\\r\\nOh darling dont you ever grow up\\r\\nDont you ever grow up just stay this little\\r\\nOh darling dont you ever grow up\\r\\nDont you ever grow up it could stay this simple\\r\\nNo ones ever burned you nothings ever left you scarred\\r\\nAnd even though you want to just try to never grow up\\r\\nTake pictures in your mind of your childhood room\\r\\nMemorize what it sounded like when your dad gets home\\r\\nRemember the footsteps remember the words said\\r\\nAnd all your little brothers favorite songs\\r\\nI just realized everything I have is someday gonna be gone\\r\\nSo here I am in my new apartment\\r\\nIn a big city they just dropped me off\\r\\nIts so much colder that I thought it would be\\r\\nSo I tuck myself in and turn my night light on\\r\\nWish Id never grown up\\r\\nI wish Id never grown up\\r\\nOh I dont wanna grow up wish Id never grown up\\r\\nI could still be little\\r\\nOh I dont wanna grow up wish Id never grown up\\r\\nIt could still be simple\\r\\nOh darling dont you ever grow up\\r\\nDont you ever grow up just stay this little\\r\\nOh darling dont you ever grow up\\r\\nDont you ever grow up it could stay this simple\\r\\nWont let nobody hurt you\\r\\nWont let no one break your heart\\r\\nAnd even though you want to please try to never grow up\\r\\nOh dont you ever grow up\\r\\nOh never grow up just never grow up\\r\\nThere I was again tonight\\r\\nForcing laughter faking smiles\\r\\nSame old tired lonely place\\r\\nWalls of insincerity shifting eyes and vacancy\\r\\nVanished when I saw your face\\r\\nAll I can say is\\r\\nIt was enchanting to meet you\\r\\nYour eyes whispered have we met\\r\\nAcross the room your silhouette\\r\\nStarts to make its way to me\\r\\nThe playful conversation starts\\r\\nCounter all your quick remarks\\r\\nLike passing notes in secrecy\\r\\nAnd it was\\r\\nEnchanting to meet you\\r\\nAll I can say is\\r\\nI was enchanted to meet you\\r\\nThis night is sparkling\\r\\nDont you let it go\\r\\nIm wonderstruck\\r\\nBlushing all the way home\\r\\nIll spend forever\\r\\nWondering if you knew\\r\\nI was enchanted to meet you\\r\\nThe lingering question kept me up\\r\\n2AM who do you love\\r\\nI wonder til Im wide awake\\r\\nAnd now Im pacing back and forth\\r\\nWishing you were at my door\\r\\nId open up and you would say hey\\r\\nIt was\\r\\nEnchanting to meet you\\r\\nAll I know is I was\\r\\nEnchanted to meet you\\r\\nThis night is sparkling\\r\\nDont you let it go\\r\\nIm wonderstruck\\r\\nBlushing all the way home\\r\\nIll spend forever\\r\\nWondering if you knew\\r\\nThis night is flawless\\r\\nDont you let it go\\r\\nIm wonderstruck\\r\\nDancing around all alone\\r\\nIll spend forever\\r\\nWondering if you knew\\r\\nI was enchanted to meet you\\r\\nThis is me praying that\\r\\nThis was the very first page\\r\\nNot where the storyline ends\\r\\nMy thoughts will echo your name\\r\\nUntil I see you again\\r\\nThese are the words I held back\\r\\nAs I was leaving too soon\\r\\nI was enchanted to meet you\\r\\nPlease dont be in love\\r\\nWith someone else\\r\\nPlease dont have somebody\\r\\nWaiting on you\\r\\nPlease dont be in love\\r\\nWith someone else\\r\\nPlease dont have somebody\\r\\nWaiting on you\\r\\nThis night is sparkling\\r\\nDont you let it go\\r\\nIm wonderstruck\\r\\nBlushing all the way home\\r\\nIll spend forever\\r\\nWondering if you knew\\r\\nThis night is flawless\\r\\nDont you let it go\\r\\nIm wonderstruck\\r\\nDancing around all alone\\r\\nIll spend forever\\r\\nWondering if you knew\\r\\nI was enchanted to meet you\\r\\nPlease dont be in love\\r\\nWith someone else\\r\\nPlease dont have somebody\\r\\nWaiting on you\\r\\nNow go stand in the corner and think about what you did\\r\\nHa time for a little revenge\\r\\nThe story starts when it was hot and it was summer and\\r\\nI had it all I had him right there where I wanted him\\r\\nShe came along got him alone and lets hear the applause\\r\\nShe took him faster than you can say sabotage\\r\\nI never saw it coming wouldnt have suspected it\\r\\nI underestimated just who I was dealing with\\r\\nShe had to know the pain was beating on me like a drum\\r\\nShe underestimated just who she was stealing from\\r\\nShes not a saint and shes not what you think\\r\\nShes an actress whoa\\r\\nShes better known for the things that she does\\r\\nOn the mattress whoa\\r\\nSoon shes gonna find stealing other peoples toys\\r\\nOn the playground wont make you many friends\\r\\nShe should keep in mind she should keep in mind\\r\\nThere is nothing I do better than revenge ha\\r\\nShe looks at life like its a party and shes on the list\\r\\nShe looks at me like Im a trend and shes so over it\\r\\nI think her everpresent frown is a little troubling\\r\\nAnd she thinks Im psycho cause I like to rhyme her name with things\\r\\nBut sophistication isnt what you wear or who you know\\r\\nOr pushing people down to get you where you wanna go\\r\\nOh they didnt teach you that in prep school so its up to me\\r\\nBut no amount of vintage dresses gives you dignity\\r\\nShes not a saint and shes not what you think\\r\\nShes an actress whoa\\r\\nShes better known for the things that she does\\r\\nOn the mattress whoa\\r\\nSoon shes gonna find stealing other peoples toys\\r\\nOn the playground wont make you many friends\\r\\nShe should keep in mind she should keep in mind\\r\\nThere is nothing I do better than revenge HA\\r\\nIm just another thing for you to roll your eyes at honey\\r\\nYou might have him but havent you heard\\r\\nIm just another thing for you to roll your eyes at honey\\r\\nYou might have him but I always get the last word\\r\\nWhoa whoaahoh\\r\\nShes not a saint and shes not what you think\\r\\nShes an actress whoa\\r\\nShes better known for the things that she does\\r\\nOn the mattress whoa\\r\\nSoon shes gonna find stealing other peoples toys\\r\\nOn the playground wont make you many friends\\r\\nShe should keep in mind she should keep in mind\\r\\nThere is nothing I do better than revenge HA\\r\\nDo you still feel like you know what youre doing\\r\\nCause I dont think you do oh\\r\\nDo you still feel like you know what youre doing\\r\\nI dont think you do I dont think you do\\r\\nLets hear the applause\\r\\nCome on show me how much better you are so much better yeah\\r\\nSee you deserve some applause\\r\\nCause youre so much better\\r\\nShe took him faster than you could say sabotage\\r\\nI guess you really did it this time\\r\\nLeft yourself in your warpath\\r\\nLost your balance on a tightrope\\r\\nLost your mind trying to get it back\\r\\nWasnt it easier in your lunchbox days\\r\\nAlways a bigger bed to crawl into\\r\\nWasnt it beautiful when you believed in everything\\r\\nAnd everybody believed in you\\r\\nIts alright just wait and see\\r\\nYour string of lights is still bright to me\\r\\nOh who you are is not where youve been\\r\\nYoure still an innocent\\r\\nYoure still an innocent\\r\\nDid some things you cant speak of\\r\\nBut at night you live it all again\\r\\nYou wouldnt be shattered on the floor now\\r\\nIf only you had seen what you know now then\\r\\nWasnt it easier in your fireflycatching days\\r\\nWhen everything out of reach someone bigger brought down to you\\r\\nWasnt it beautiful running wild til you fell asleep\\r\\nBefore the monsters caught up to you\\r\\nIts alright just wait and see\\r\\nYour string of lights is still bright to me\\r\\nOhwho you are is not where youve been\\r\\nYoure still an innocent\\r\\nIts okay life is a tough crowd\\r\\n32 and still growing up now\\r\\nWho you are is not what you did\\r\\nYoure still an innocent\\r\\nTime turns flames to embers\\r\\nYoull have new Septembers\\r\\nEvery one of us has messed up too\\r\\nLives change like the weather\\r\\nI hope you remember\\r\\nToday is never too late to be brand new\\r\\nIts alright just wait and see\\r\\nYour string of lights is still bright to me\\r\\nOh who you are is not where youve been\\r\\nYoure still an innocent\\r\\nIts okay life is a tough crowd\\r\\n32 and still growing up now\\r\\nWho you are is not what you did\\r\\nYoure still an innocent\\r\\nYoure still an innocent\\r\\nLost your balance on a tightrope\\r\\nIts never too late to get it back\\r\\nYou and I walk a fragile line\\r\\nI have known it all this time\\r\\nBut I never thought Id live to see it break\\r\\nIts getting dark and its all too quiet\\r\\nAnd I cant trust anything now\\r\\nAnd its coming over you like its all a big mistake\\r\\nWhoa holding my breath\\r\\nWont lose you again\\r\\nSomethings made your eyes go cold\\r\\nCmon cmon dont leave me like this\\r\\nI thought I had you figured out\\r\\nSomethings gone terribly wrong\\r\\nYoure all I wanted\\r\\nCmon cmon dont leave me like this\\r\\nI thought I had you figured out\\r\\nCant breathe whenever youre gone\\r\\nCant turn back now Im haunted\\r\\nStood there and watched you walk away\\r\\nFrom everything we had\\r\\nBut I still mean every word I said to you\\r\\nHe will try to take away my pain\\r\\nAnd he just might make me smile\\r\\nBut the whole time Im wishing it was you instead\\r\\nOh holding my breath\\r\\nWont see you again\\r\\nSomething keeps me holding onto nothing\\r\\nCmon cmon dont leave me like this\\r\\nI thought I had you figured out\\r\\nSomethings gone terribly wrong\\r\\nYoure all I wanted\\r\\nCmon cmon dont leave me like this\\r\\nI thought I had you figured out\\r\\nCant breathe whenever youre gone\\r\\nCant turn back now Im haunted\\r\\nI know\\r\\nI know\\r\\nI just know\\r\\nYoure not gone you cant be gone no\\r\\nCmon cmon dont leave me like this\\r\\nI thought I had you figured out\\r\\nSomethings gone terribly wrong\\r\\nWont finish what you started\\r\\nCmon cmon dont leave me like this\\r\\nI thought I had you figured out\\r\\nCant breathe whenever youre gone\\r\\nCant turn back now Im haunted\\r\\nOh oh oh oh oh oh oh oh oh\\r\\nYou and I walk a fragile line\\r\\nI have known it all this time\\r\\nNever ever thought Id see it break\\r\\nNever thought Id see it\\r\\nI still remember the look on your face\\r\\nLit through the darkness at 158\\r\\nThe words that you whispered\\r\\nFor just us to know\\r\\nYou told me you loved me\\r\\nSo why did you go away\\r\\nAway\\r\\nI do recall now the smell of the rain\\r\\nFresh on the pavement\\r\\nI ran off the plane\\r\\nThat July 9th\\r\\nThe beat of your heart\\r\\nIt jumps through your shirt\\r\\nI can still feel your arms\\r\\nBut now Ill go sit on the floor\\r\\nWearing your clothes\\r\\nAll that I know is\\r\\nI dont know how to be something you miss\\r\\nI never thought wed have a last kiss\\r\\nNever imagined wed end like this\\r\\nYour name forever the name on my lips\\r\\nI do remember the swing of your step\\r\\nThe life of the party youre showing off again\\r\\nAnd I roll my eyes and then\\r\\nYou pull me in\\r\\nIm not much for dancing\\r\\nBut for you I did\\r\\nBecause I love your handshake meeting my father\\r\\nI love how you walk with your hands in your pockets\\r\\nHow you kissed me when I was in the middle of saying something\\r\\nTheres not a day I dont miss those rude interruptions\\r\\nBut now Ill go sit on the floor\\r\\nWearing your clothes\\r\\nAll that I know is\\r\\nI dont know how to be something you miss\\r\\nI never thought wed have a last kiss\\r\\nNever imagined wed end like this\\r\\nYour name forever the name on my lips\\r\\nSo Ill watch your life in pictures like I used to watch you sleep\\r\\nAnd I feel you forget me like I used to feel you breathe\\r\\nAnd I keep up with our old friends just to ask them how you are\\r\\nHope its nice where you are\\r\\nAnd I hope the sun shines\\r\\nAnd its a beautiful day\\r\\nAnd something reminds you\\r\\nYou wish you had stayed\\r\\nYou can plan for a change in weather and time\\r\\nBut I never planned on you changing your mind\\r\\nSo Ill go sit on the floor\\r\\nWearing your clothes\\r\\nAll that I know is\\r\\nI dont know how to be something you miss\\r\\nI never thought wed have a last kiss\\r\\nNever imagined wed end like this\\r\\nYour name forever the name on my lips\\r\\nJust like our last kiss\\r\\nForever the name on my lips\\r\\nForever the name on my lips\\r\\nJust like our last\\r\\nI said remember this moment in the back of my mind\\r\\nThe time we stood with our shaking hands\\r\\nThe crowds in the stands went wild\\r\\nWe were the Kings and the Queens\\r\\nAnd they read off our names\\r\\nThe night you danced like you knew our lives\\r\\nWould never be the same\\r\\nYou held your head like a hero\\r\\nOn a history book page\\r\\nIt was the end of a decade\\r\\nBut the start of an age\\r\\nLong live the walls we crashed through\\r\\nAll the kingdom lights shined just for me and you\\r\\nI was screaming long live all the magic we made\\r\\nAnd bring on all the pretenders\\r\\nOne day we will be remembered\\r\\nI said remember this feeling\\r\\nI passed the pictures around\\r\\nOf all the years that we stood there\\r\\nOn the sidelines wishing for right now\\r\\nWe are the Kings and the Queens\\r\\nYou traded your baseball cap for a crown\\r\\nWhen they gave us our trophies\\r\\nAnd we held them up for our town\\r\\nAnd the cynics were outraged\\r\\nScreaming this is absurd\\r\\nCause for a moment a band of thieves\\r\\nIn ripped up jeans got to rule the world\\r\\nLong live the walls we crashed through\\r\\nAll the kingdom lights shined just for me and you\\r\\nI was screaming long live all the magic we made\\r\\nAnd bring on all the pretenders\\r\\nIm not afraid\\r\\nLong live all the mountains we moved\\r\\nI had the time of my life fighting dragons with you\\r\\nI was screaming long live that look on your face\\r\\nAnd bring on all the pretenders\\r\\nOne day we will be remembered\\r\\nHold on to spinning around\\r\\nConfetti falls to the ground\\r\\nMay these memories break our fall\\r\\nWill you take a moment\\r\\nPromise me this\\r\\nThat youll stand by me forever\\r\\nBut if God forbid fate should step in\\r\\nAnd force us into a goodbye\\r\\nIf you have children some day\\r\\nWhen they point to the pictures\\r\\nPlease tell them my name\\r\\nTell them how the crowds went wild\\r\\nTell them how I hope they shine\\r\\nLong live the walls we crashed through\\r\\nI had the time of my life with you\\r\\nLong long live the walls we crashed through\\r\\nAll the kingdom lights shined just for me and you\\r\\nI was screaming long live all the magic we made\\r\\nAnd bring on all the pretenders\\r\\nIm not afraid\\r\\nSinging long live all the mountains we moved\\r\\nI had the time of my life fighting dragons with you\\r\\nAnd long long live that look on your face\\r\\nAnd bring on all the pretenders\\r\\nOne day we will be remembered\\r\\nElevator buttons and morning air\\r\\nStrangers silence makes me want to take the stairs\\r\\nIf you were here wed laugh about their vacant stares\\r\\nBut right now my time is theirs\\r\\nSeems like theres always someone who disapproves\\r\\nTheyll judge it like they know about me and you\\r\\nAnd the verdict comes from those with nothing else to do\\r\\nThe jurys out but my choice is you\\r\\nSo dont you worry your pretty little mind\\r\\nPeople throw rocks at things that shine\\r\\nAnd life makes love look hard\\r\\nThe stakes are high the waters rough\\r\\nBut this love is ours\\r\\nYou never know what people have up their sleeves\\r\\nGhosts from your past gonna jump out at me\\r\\nLurking in the shadows with their lip gloss smiles\\r\\nBut I dont care cause right now youre mine\\r\\nAnd youll say\\r\\nDont you worry your pretty little mind\\r\\nPeople throw rocks at things that shine\\r\\nAnd life makes love look hard\\r\\nThe stakes are high the waters rough\\r\\nBut this love is ours\\r\\nAnd its not theirs to speculate if its wrong\\r\\nAnd your hands are tough but they are where mine belong\\r\\nAnd Ill fight their doubt and give you faith\\r\\nWith this song for you\\r\\nCause I love the gap between your teeth\\r\\nAnd I love the riddles that you speak\\r\\nAnd any snide remarks from my father about your tattoos will be ignored\\r\\nCause my heart is yours\\r\\nSo dont you worry your pretty little mind\\r\\nPeople throw rocks at things that shine\\r\\nAnd life makes love look hard\\r\\nDont you worry your pretty little mind\\r\\nPeople throw rocks at things that shine\\r\\nBut they cant take whats ours\\r\\nThey cant take whats ours\\r\\nThe stakes are high the waters rough\\r\\nBut this love is ours\\r\\nLast night I heard my own heart beating\\r\\nSounded like footsteps on my stairs\\r\\nSix months gone and Im still reaching\\r\\nEven though I know youre not there\\r\\nI was playing back a thousand memories baby\\r\\nThinkin bout everything weve been through\\r\\nMaybe Ive been going back too much lately\\r\\nWhen time stood still and I had you\\r\\nCome back come back come back to me like\\r\\nYou would you would if this was a movie\\r\\nStand in the rain outside till I came out\\r\\nCome back come back come back to me like\\r\\nYou could you could if you just said youre sorry\\r\\nI know that we could work it out somehow\\r\\nBut if this was a movie youd be here by now\\r\\nI know people change and these things happen\\r\\nBut I remember how it was back then\\r\\nWrapped up in your arms and our friends were laughing\\r\\nCause nothing like this ever happened to them\\r\\nNow Im pacing down the hall chasing down your street\\r\\nFlashback to the night when you said to me\\r\\nNothings gonna change not for me and you\\r\\nNot before I knew how much I had to lose\\r\\nCome back come back come back to me like\\r\\nYou would you would if this was a movie\\r\\nStand in the rain outside till I came out\\r\\nCome back come back come back to me like\\r\\nYou could you could if you just said youre sorry\\r\\nI know that we could work it out somehow\\r\\nBut if this was a movie youd be here by now\\r\\nIf youre out there if youre somewhere if youre moving on\\r\\nIve been waiting for you ever since youve been gone\\r\\nI just want it back the way it was before\\r\\nAnd I just want to see you back at my front door\\r\\nAnd I say Come back come back come back to me like\\r\\nYou would before you said its not that easy\\r\\nBefore the fight before I locked you out\\r\\nBut I take it all back now\\r\\nCome back come back come back to me like\\r\\nYou would you would if this was a movie\\r\\nStand in the rain outside till I came out\\r\\nCome back come back come back to me like\\r\\nYou could you could if you just said youre sorry\\r\\nI know that we could work it out somehow\\r\\nBut if this was a movie youd be here by now\\r\\nYoud be here by now\\r\\nIts not the kind of ending you want to see now\\r\\nBaby what about the ending\\r\\nOh I thought youd be here by now\\r\\nThought youd be here by now\\r\\nTall dark and superman\\r\\nHe puts papers in his briefcase and drives away\\r\\nTo save the world or go to work\\r\\nIts the same thing to me\\r\\nHes got his mothers eyes his fathers ambition\\r\\nI wonder if he knows how much that I miss him\\r\\nI hang on every word you say yay\\r\\nAnd you smile and say How are you\\r\\nI say Just fine\\r\\nI always forget to tell you I love you I love you forever\\r\\nI watch superman fly away\\r\\nYouve got a busy day today\\r\\nGo save the world Ill be around\\r\\nI watch superman fly away\\r\\nCome back Ill be with you someday\\r\\nIll be right here on the ground\\r\\nWhen you come back down\\r\\nTall dark and beautiful\\r\\nHes complicated hes irrational\\r\\nBut I hope someday youll take me away and save the day yeah\\r\\nSomething in his deep brown eyes has me sayin\\r\\nHes not all bad like his reputation\\r\\nAnd I cant hear one single word they say\\r\\nAnd youll leave got places to be and Ill be OK\\r\\nI always forget to tell you I love you I loved you from the very first day\\r\\nI watch superman fly away\\r\\nYouve got a busy day today\\r\\nGo save the world Ill be around\\r\\nI watch superman fly away\\r\\nCome back Ill be with you someday\\r\\nIll be right here on the ground\\r\\nWhen you come back down\\r\\nAnd I watch you fly around the world\\r\\nAnd I hope you dont save some other girl\\r\\nDont forget dont forget about me\\r\\nIm far away but I never let you go\\r\\nIm lovestruck and looking out the window\\r\\nDont forget dont forget where Ill be\\r\\nRight here wishing the flowers were from you\\r\\nWishing the card was from you\\r\\nWishing the call was from you\\r\\nCause I loved you from the very first day\\r\\nI watch superman fly away\\r\\nYouve got a busy day today\\r\\nGo save the world Ill be around\\r\\nForever and ever here\\r\\nI watch superman fly away\\r\\nI swear Ill be with you someday\\r\\nIll be right here on the ground\\r\\nWhen you come back down\\r\\nLa la la la la la\\r\\nLa la la la la la\\r\\nWhen you come back down\\r\\nIm walking fast through the traffic lights\\r\\nBusy streets and busy lives\\r\\nAnd all we know is touch and go\\r\\nWe are alone with our changing minds\\r\\nWe fall in love till it hurts or bleeds or fades in time\\r\\nAnd I never saw you coming\\r\\nAnd Ill never be the same\\r\\nYou come around and the armor falls\\r\\nPierce the room like a cannon ball\\r\\nNow all we know is dont let go\\r\\nWe are alone just you and me\\r\\nUp in your room and our slates are clean\\r\\nJust twin fire signs four blue eyes\\r\\nSo you were never a saint\\r\\nAnd Ive loved in shades of wrong\\r\\nWe learn to live with the pain\\r\\nMosaic broken hearts\\r\\nBut this love is brave and wild\\r\\nAnd I never saw you coming\\r\\nAnd Ill never be the same\\r\\nThis is a state of grace\\r\\nThis is the worthwhile fight\\r\\nLove is a ruthless game\\r\\nUnless you play it good and right\\r\\nThese are the hands of fate\\r\\nYoure my Achilles heel\\r\\nThis is the golden age of something good\\r\\nAnd right and real\\r\\nAnd I never saw you coming\\r\\nAnd Ill never be the same\\r\\nAnd I never saw you coming\\r\\nAnd Ill never be the same\\r\\nThis is a state of grace\\r\\nThis is a worthwhile fight\\r\\nLove is a ruthless game\\r\\nUnless you play it good and right\\r\\nLoving him is like driving a new Maserati\\r\\nDown a deadend street\\r\\nFaster than the wind passionate as sin\\r\\nEnding so suddenly\\r\\nLoving him is like trying to change your mind\\r\\nOnce youre already flying through the free fall\\r\\nLike the colors in autumn so bright\\r\\nJust before they lose it all\\r\\nLosing him was blue like Id never known\\r\\nMissing him was dark grey all alone\\r\\nForgetting him was like trying to know somebody you never met\\r\\nBut loving him was red\\r\\nTouching him was like realizing all you ever wanted\\r\\nWas right there in front of you\\r\\nMemorizing him was as easy as knowing\\r\\nAll the words to your old favorite song\\r\\nFighting with him was like trying to solve a crossword\\r\\nAnd realizing theres no right answer\\r\\nRegretting him was like wishing you never found out\\r\\nThat love could be that strong\\r\\nLosing him was blue like Id never known\\r\\nMissing him was dark grey all alone\\r\\nForgetting him was like trying to know somebody you never met\\r\\nBut loving him was red\\r\\nRemembering him comes in flashbacks and echoes\\r\\nTell myself its time now gotta let go\\r\\nBut moving on from him is impossible\\r\\nWhen I still see it all in my head\\r\\nIn burning red\\r\\nLoving him was red\\r\\nLosing him was blue like Id never known\\r\\nMissing him was dark grey all alone\\r\\nForgetting him was like trying to know somebody you never met\\r\\nBut loving him was red\\r\\nAnd thats why hes spinning round in my head\\r\\nComes back to me burning red\\r\\nYeah yeah\\r\\nHis love was like driving a new Maserati down a deadend street\\r\\nPut your lips close to mine\\r\\nAs long as they dont touch\\r\\nOut of focus eye to eye\\r\\nTill the gravitys too much\\r\\nAnd Ill do anything you say\\r\\nIf you say it with your hands\\r\\nAnd Id be smart to walk away\\r\\nBut youre quick sand\\r\\nThis slope is treacherous\\r\\nThis path is reckless\\r\\nThis slope is treacherous\\r\\nAnd I I I like it\\r\\nI cant decide if its a choice\\r\\nGetting swept away\\r\\nI hear the sound of my own voice\\r\\nAsking you to stay\\r\\nAnd all we are is skin and bone trained to get along\\r\\nForever going with the flow but youre friction\\r\\nThis slope is treacherous\\r\\nThis path is reckless\\r\\nThis slope is treacherous\\r\\nAnd I I I like it\\r\\nTwo headlights shine through the sleepless night\\r\\nAnd I will get you get you alone\\r\\nYour name has echoed through my mind\\r\\nAnd I just think you should think you should know\\r\\nThat nothing safe is worth the drive\\r\\nAnd I will follow you follow you home follow you follow you home\\r\\nThis hope is treacherous\\r\\nThis daydream is dangerous\\r\\nThis slope is treacherous\\r\\nAnd III III III\\r\\nTwo headlights shine through the sleepless night\\r\\nAnd I will get you get you alone\\r\\nYour name has echoed through my mind\\r\\nAnd I just think you should think you should know\\r\\nThat nothing safe is worth the drive\\r\\nAnd I will follow you follow you home follow you follow you home\\r\\nThis hope is treacherous\\r\\nThis daydream is dangerous\\r\\nThis hope is treacherous\\r\\nIII III III \\r\\nTwo headlights shine through the sleepless night\\r\\nAnd I will get you get you alone\\r\\nYour name has echoed through my mind\\r\\nAnd I just think you should think you should know\\r\\nThat nothing safe is worth the drive\\r\\nAnd I will follow you follow you home follow you follow you home\\r\\nIll follow you follow you home follow you follow you home\\r\\nThis slope is treacherous\\r\\nAnd III like it\\r\\nOnce upon a time a few mistakes ago\\r\\nI was in your sights you got me alone\\r\\nYou found me you found me you found me\\r\\nI guess you didnt care and I guess I liked that\\r\\nAnd when I fell hard you took a step back\\r\\nWithout me without me without me\\r\\nAnd hes long gone when hes next to me\\r\\nAnd I realize the blame is on me\\r\\nCause I knew you were trouble when you walked in\\r\\nSo shame on me now\\r\\nFlew me to places Id never been\\r\\nTill you put me down oh\\r\\nI knew you were trouble when you walked in\\r\\nSo shame on me now\\r\\nFlew me to places Id never been\\r\\nNow Im lying on the cold hard ground\\r\\nOh oh\\r\\nTrouble trouble trouble\\r\\nOh oh\\r\\nTrouble trouble trouble\\r\\nNo apologies hell never see you cry\\r\\nPretends he doesnt know that hes the reason why\\r\\nYoure drowning youre drowning\\r\\nYoure drowning\\r\\nAnd I heard you moved on from whispers on the street\\r\\nA new notch in your belt is all Ill ever be\\r\\nAnd now I see now I see\\r\\nNow I see\\r\\nHe was long gone when he met me\\r\\nAnd I realize the joke is on me hey\\r\\nI knew you were trouble when you walked in\\r\\nSo shame on me now\\r\\nFlew me to places Id never been\\r\\nTill you put me down oh\\r\\nI knew you were trouble when you walked in\\r\\nSo shame on me now\\r\\nFlew me to places Id never been\\r\\nNow Im lying on the cold hard ground\\r\\nOh oh\\r\\nTrouble trouble trouble\\r\\nOh oh\\r\\nTrouble trouble trouble\\r\\nAnd the saddest fear comes creeping in\\r\\nThat you never loved me\\r\\nOr her or anyone or anything yeah\\r\\nI knew you were trouble when you walked in\\r\\nSo shame on me now\\r\\nFlew me to places Id never been\\r\\nTill you put me down oh\\r\\nI knew you were trouble when you walked in\\r\\nSo shame on me now\\r\\nFlew me to places Id never been\\r\\nNow Im lying on the cold hard ground\\r\\nOh oh\\r\\nTrouble trouble trouble\\r\\nOh oh\\r\\nTrouble trouble trouble\\r\\nI walked through the door with you the air was cold\\r\\nBut something bout it felt like home somehow and I\\r\\nLeft my scarf there at your sisters house\\r\\nAnd youve still got it in your drawer even now\\r\\nOh your sweet disposition\\r\\nAnd my wideeyed gaze\\r\\nWere singing in a car getting lost Upstate\\r\\nThe autumn leaves falling down like pieces into place\\r\\nAnd I can picture it after all these days\\r\\nAnd I know its long gone and that magics not here no more\\r\\nAnd I might be okay but Im not fine at all\\r\\nCause there we are again on that little town street\\r\\nYou almost ran the red cause you were looking over at me\\r\\nWind in my hair I was there I remember it all too well\\r\\nPhoto album on the counter\\r\\nYour cheeks were turning red\\r\\nYou used to be a little kid with glasses in a twinsized bed\\r\\nAnd your mothers telling stories bout you on the tee ball team\\r\\nYou taught me about your past thinking your future was me\\r\\nAnd I know its long gone and there was nothing else I could do\\r\\nAnd I forget about you long enough to forget why I needed to\\r\\nCause there we are again in the middle of the night\\r\\nWere dancing round the kitchen in the refrigerator light\\r\\nDown the stairs I was there I remember it all too well yeah\\r\\nAnd maybe we got lost in translation\\r\\nMaybe I asked for too much\\r\\nBut maybe this thing was a masterpiece\\r\\nTill you tore it all up\\r\\nRunning scared I was there I remember it all too well\\r\\nAnd you call me up again just to break me like a promise\\r\\nSo casually cruel in the name of being honest\\r\\nIm a crumpled up piece of paper lying here\\r\\nCause I remember it all all all too well\\r\\nTime wont fly its like Im paralyzed by it\\r\\nId like to be my old self again\\r\\nBut Im still trying to find it\\r\\nAfter plaid shirt days and nights when you made me your own\\r\\nNow you mail back my things and I walk home alone\\r\\nBut you keep my old scarf from that very first week\\r\\nCause it reminds you of innocence and it smells like me\\r\\nYou cant get rid of it cause you remember it all too well yeah\\r\\nBecause there we are again when I loved you so\\r\\nBack before you lost the one real thing youve ever known\\r\\nIt was rare I was there I remember it all too well\\r\\nWind in my hair you were there you remember it all\\r\\nDown the stairs you were there you remember it all\\r\\nIt was rare I was there I remember it all too well\\r\\nIt feels like a perfect night to dress up like hipsters\\r\\nAnd make fun of our exes uh uh uh uh\\r\\nIt feels like a perfect night for breakfast at midnight\\r\\nTo fall in love with strangers uh uh uh uh\\r\\nYeah\\r\\nWere happy free confused and lonely at the same time\\r\\nIts miserable and magical oh yeah\\r\\nTonights the night when we forget about the deadlines\\r\\nIts time uh uh\\r\\nI dont know about you but Im feeling 22\\r\\nEverything will be alright if you keep me next to you\\r\\nYou dont know about me but I bet you wanted to\\r\\nEverything will be alright if we just keep dancing like were 22\\r\\n22\\r\\nIt seems like one of those nights\\r\\nThis place is too crowded too many cool kids uh uh uh uh\\r\\nWhos Taylor Swift anyway Ew\\r\\nIt seems like one of those nights\\r\\nWe ditch the whole scene and end up dreaming\\r\\nInstead of sleeping\\r\\nYeah\\r\\nWere happy free confused and lonely in the best way\\r\\nIts miserable and magical oh yeah\\r\\nTonights the night when we forget about\\r\\nThe heartbreaks its time\\r\\nOh oh\\r\\nI dont know about you but Im feeling 22\\r\\nEverything will be alright if you keep me next to you\\r\\nYou dont know about me but I bet you wanted to\\r\\nEverything will be alright if we just keep dancing like were 22\\r\\n22\\r\\nI dont know about you\\r\\n22 22\\r\\nIt feels like one of those nights\\r\\nWe ditch the whole scene\\r\\nIt feels like one of those nights\\r\\nWe wont be sleeping\\r\\nIt feels like one of those nights\\r\\nYou look like bad news I gotta have you\\r\\nI gotta have you\\r\\nI dont know about you but Im feeling 22\\r\\nEverything will be alright if you keep me next to you\\r\\nYou dont know about me but I bet you wanted to\\r\\nEverything will be alright if we just keep dancing like were 22\\r\\n22\\r\\nDancing like 22 yeah 22 yeah yeah\\r\\nIt feels like one of those nights\\r\\nWe ditch the whole scene\\r\\nIt feels like one of those nights\\r\\nWe wont be sleeping\\r\\nIt feels like one of those nights\\r\\nYou look like bad news I gotta have you\\r\\nI gotta have you\\r\\nI bet this time of night youre still up\\r\\nI bet youre tired from a long hard week\\r\\nI bet youre sitting in your chair by the window\\r\\nLooking out at the city\\r\\nAnd I bet sometimes you wonder about me\\r\\nAnd I just want to tell you\\r\\nIt takes everything in me not to call you\\r\\nAnd I wish I could run to you\\r\\nAnd I hope you know that\\r\\nEverytime I dont\\r\\nI almost do I almost do\\r\\nI bet you think I either moved on or hate you\\r\\nCause each time you reach out theres no reply\\r\\nI bet it never ever occurred to you that I cant say hello to you\\r\\nAnd risk another goodbye\\r\\nAnd I just want to tell you\\r\\nIt takes everything in me not to call you\\r\\nAnd I wish I could run to you\\r\\nAnd I hope you know that\\r\\nEverytime I dont\\r\\nI almost do I almost do\\r\\nOh we made quite a mess babe\\r\\nIts probably better off this way\\r\\nAnd I confess baby\\r\\nIn my dreams youre touching my face\\r\\nAnd asking me if Id want to try again with you\\r\\nAnd I almost do\\r\\nAnd I just want to tell you\\r\\nIt takes everything in me not to call you\\r\\nAnd I wish I could run to you\\r\\nAnd I hope you know that\\r\\nEverytime I dont\\r\\nI almost do I almost do\\r\\nI bet this time of night youre still up\\r\\nI bet youre tired from a long hard week\\r\\nI bet youre sittin in your chair by the window\\r\\nLooking out at the city\\r\\nAnd I hope sometimes you wonder about me\\r\\nI remember when we broke up the first time\\r\\nSaying This is it Ive had enough cause like\\r\\nWe hadnt seen each other in a month\\r\\nWhen you said you needed space  whatU203D\\r\\nThen you come around again and say\\r\\nBaby I miss you and I swear Im gonna change trust me\\r\\nRemember how that lasted for a day\\r\\nI say I hate you we break up you call me I love you\\r\\nOohoohoohoohooh\\r\\nWe called it off again last night but\\r\\nOohoohoohoohooh\\r\\nThis time Im telling you Im telling you\\r\\nWe are never ever ever getting back together\\r\\nWe are never ever ever getting back together\\r\\nYou go talk to your friends talk to my friends talk to me\\r\\nBut we are never ever ever ever getting back together\\r\\nLike ever\\r\\nIm really gonna miss you picking fights and me\\r\\nFalling for it screaming that Im right and you\\r\\nWould hide away and find your peace of mind\\r\\nWith some indie record thats much cooler than mine\\r\\nOohoohoohoohooh\\r\\nWe called it off again last night but\\r\\nOohoohoohoohooh\\r\\nThis time Im telling you Im telling you\\r\\nWe are never ever ever getting back together\\r\\nWe are never ever ever getting back together\\r\\nYou go talk to your friends talk to my friends talk to me\\r\\nBut we are never ever ever ever getting back together\\r\\nOohoohoohoohooh yeah\\r\\nOohoohoohoohooh yeah\\r\\nOohoohoohoohooh yeah\\r\\nOhohoh\\r\\nI used to think that we were forever ever\\r\\nAnd I used to say Never say never\\r\\nHuh so he calls me up and hes like I still love you\\r\\nAnd Im like I just I mean this is exhausting you know\\r\\nLike we are never getting back together like ever\\r\\nWe are never ever ever getting back together\\r\\nWe are never ever ever getting back together\\r\\nYou go talk to your friends talk to my friends talk to me\\r\\nBut we are never ever ever ever getting back together\\r\\nWe oohoohoohoohooh oohoohoohoohooh\\r\\ngetting back together\\r\\nWe oohoohoohoohooh oohoohoohoohooh\\r\\ngetting back together\\r\\nYou go talk to your friends talk to my friends talk to me talk to me\\r\\nBut we are never ever ever ever getting back together\\r\\nIm pretty sure we almost broke up last night\\r\\nI threw my phone across the room at you\\r\\nI was expecting some dramatic turn away but you stay\\r\\nThis morning I said we should talk about it\\r\\nCause I read you should never leave a fight unresolved\\r\\nThats when you came in wearing a football helmet\\r\\nAnd said okay lets talk\\r\\nAnd I said\\r\\nStay stay stay\\r\\nIve been loving you for quite some time time time\\r\\nYou think that its funny when Im mad mad mad\\r\\nBut I think that its best if we both stay\\r\\nBefore you Id only dated selfindulgent takers\\r\\nWho took all of their problems out on me\\r\\nBut you carry my groceries and now Im always laughing\\r\\nAnd I love you because you have given me no choice but to\\r\\nStay stay stay\\r\\nIve been loving you for quite some time time time\\r\\nYou think that its funny when Im mad mad mad\\r\\nBut I think that its best if we both stay stay stay stay\\r\\nYou took the time to memorize me my fears my hopes and dreams\\r\\nI just like hanging out with you all the time\\r\\nAll those times that you didnt leave its been occurring to me\\r\\nId like to hang out with you for my whole life\\r\\nStay and Ill be loving you for quite some time\\r\\nNo one else is gonna love me when I get mad mad mad\\r\\nSo I think that its best if we both stay stay\\r\\nStay stay stay stay\\r\\nStay stay stay\\r\\nIve been loving you for quite some time time time\\r\\nYou think that its funny when Im mad mad mad\\r\\nBut I think that its best if we both stay stay\\r\\nStay stay stay stay\\r\\nStay stay stay\\r\\nIve been loving you for quite some time time time\\r\\nYou think that its funny when Im mad mad mad\\r\\nBut I think that its best if we both stay\\r\\nhahahaeee Its so fun\\r\\nFind myself at your door\\r\\nJust like all those times before\\r\\nIm not sure how I got there\\r\\nAll roads they lead me here\\r\\nI imagine you are home\\r\\nIn your room all alone\\r\\nAnd you open your eyes into mine\\r\\nAnd everything feels better\\r\\nAnd right before your eyes\\r\\nIm breaking\\r\\nNo fuss no reasons why\\r\\nJust you and me\\r\\neheeheeheeheeheeheeheehe\\r\\nThis is the last time Im asking you this\\r\\nPut my name at the top of your list\\r\\nThis is the last time Im asking you why\\r\\nYou break my heart in the blink of an eye\\r\\neye eye\\r\\nYou find yourself at my door\\r\\nJust like all those times before\\r\\nYou wear your best apology\\r\\nBut I was there to watch you leave\\r\\nAnd all the times I let you in\\r\\nJust for you to go again\\r\\nDisappear when you come back\\r\\nEverything is better\\r\\nAnd right before your eyes\\r\\nIm aching\\r\\nNo fuss nowhere to hide\\r\\nJust you and me\\r\\neheeheeheeheeheeheeheehe\\r\\nThis is the last time Im asking you this\\r\\nPut my name at the top of your list\\r\\nThis is the last time Im asking you why\\r\\nYou break my heart in the blink of an eye\\r\\neye eye\\r\\nGary Lightbody\\r\\nThis is the last time you tell me Ive got it wrong\\r\\nThis is the last time I say its been you all along\\r\\nThis is the last time I let you in my door\\r\\nThis is the last time I wont hurt you anymore\\r\\nOhho ohho ohho ohho\\r\\nOhho ohho ohho ohho\\r\\nThis is the last time Im asking you this\\r\\nPut my name at the top of your list\\r\\nThis is the last time Im asking you why\\r\\nYou break my heart in the blink of an eye\\r\\nGary Lightbody\\r\\nThis is the last time Im asking you this\\r\\nThis is the last time Im asking you this\\r\\nPut my name at the top of your list\\r\\nPut my name at the top of your list\\r\\nThis is the last time Im asking you why\\r\\nThis is the last time Im asking you why\\r\\nYou break my heart in the blink of an eye\\r\\nYou break my heart\\r\\nThis is the last time Im asking you last time Im asking you\\r\\nLast time Im asking you this\\r\\nThis is the last time Im asking you last time Im asking you\\r\\nLast time Im asking you this\\r\\nThis is the last time Im asking you last time Im asking you\\r\\nLast time Im asking you this\\r\\nThis is the last time Im asking you last time Im asking you\\r\\nLast time Im asking you this\\r\\nI was reminiscing just the other day\\r\\nWhile having coffee all alone and Lord it took me away\\r\\nBack to a firstglance feeling on New York time\\r\\nBack when you fit my poems like a perfect rhyme\\r\\nTook off faster than a green light go\\r\\nHey you skip the conversation when you already know\\r\\nI left a note on the door with a joke wed made\\r\\nAnd that was the first day\\r\\nAnd darling it was good never looking down\\r\\nAnd right there where we stood was holy ground\\r\\nSpinning like a girl in a brand new dress\\r\\nWe had this big wide city all to ourselves\\r\\nWe blocked the noise with the sound of I need you\\r\\nAnd for the first time I had something to lose\\r\\nAnd I guess we fell apart in the usual way\\r\\nAnd the storys got dust on every page\\r\\nBut sometimes I wonder how you think about it now\\r\\nAnd I see your face in every crowd\\r\\nCause darling it was good never looking down\\r\\nAnd right there where we stood was holy ground\\r\\nTonight Im gonna dance for all that weve been through\\r\\nBut I dont wanna dance if Im not dancing with you\\r\\nTonight Im gonna dance like you were in this room\\r\\nBut I dont wanna dance if Im not dancing with you\\r\\nIt was good never looking down\\r\\nAnd right there where we stood was holy ground\\r\\nTonight Im gonna dance for all that weve been through\\r\\nBut I dont wanna dance if Im not dancing with you\\r\\nTonight Im gonna dance like you were in this room\\r\\nBut I dont wanna dance if Im not dancing with you\\r\\nLong handwritten note deep in your pocket\\r\\nWords how little they mean when youre a little too late\\r\\nI stood right by the tracks your face in a locket\\r\\nGood girls hopeful theyll be and long they will wait\\r\\nWe had a beautiful magic love there\\r\\nWhat a sad beautiful tragic love affair\\r\\nIn dreams I meet you in warm conversation\\r\\nWe both wake in lonely beds different cities\\r\\nAnd time is taking its sweet time erasing you\\r\\nAnd youve got your demons and darling they all look like me\\r\\nWe had a beautiful magic love there\\r\\nWhat a sad beautiful tragic love affair\\r\\nDistance timing breakdown fighting\\r\\nSilence the train runs off its tracks\\r\\nKiss me try to fix it could you just try to listen\\r\\nHang up give up and for the life of us we cant get back\\r\\nWe had a beautiful magic love there\\r\\nWhat a sad beautiful tragic love affair\\r\\nWe had a beautiful magic love there\\r\\nWhat a sad beautiful tragic love affair\\r\\nWe had a beautiful magic love there\\r\\nWhat a sad beautiful tragic love affair\\r\\nNew to town with a made up name\\r\\nIn the angel city chasing fortune and fame\\r\\nAnd the camera flashes make it look like a dream\\r\\nYou had it figured out since you were in school\\r\\nEverybody loves pretty everybody loves cool\\r\\nSo overnight you look like a sixties queen\\r\\nAnother name goes up in lights like diamonds in the sky\\r\\nAnd theyll tell you now youre the lucky one\\r\\nYeah theyll tell you now youre the lucky one\\r\\nBut can you tell me now youre the lucky one oh oh oh\\r\\nNow its big black cars and Riviera views\\r\\nAnd your lover in the foyer doesnt even know you\\r\\nAnd your secrets end up splashed on the news front page\\r\\nAnd they tell you that youre lucky\\r\\nBut youre so confused\\r\\nCause you dont feel pretty you just feel used\\r\\nAnd all the young things line up to take your place\\r\\nAnother name goes up in lights\\r\\nYou wonder if youll make it out alive\\r\\nAnd theyll tell you now youre the lucky one\\r\\nYeah theyll tell you now youre the lucky one\\r\\nBut can you tell me now youre the lucky one oh oh oh\\r\\nIt was a few years later I showed up here\\r\\nAnd they still tell the legend of how you disappeared\\r\\nHow you took the money and your dignity and got the hell out\\r\\nThey say you bought a bunch of land somewhere\\r\\nChose a rose garden over Madison Square\\r\\nAnd it took some time but I understand it now\\r\\nCause now my name is up in lights but I think you got it right\\r\\nLet me tell you now youre the lucky one\\r\\nLet me tell you now youre the lucky one\\r\\nLet me tell you now youre the lucky one oh oh oh\\r\\nAnd theyll tell you now youre the lucky one\\r\\nYeah theyll tell you now youre the lucky one\\r\\nAnd theyll tell you now youre the lucky one oh oh oh\\r\\nOh whoa oh oh\\r\\nAll I knew this morning when I woke\\r\\nIs I know something now know something now I didnt before\\r\\nAnd all Ive seen since 18 hours ago is green eyes and freckles and your smile\\r\\nIn the back of my mind making me feel like\\r\\nI just want to know you better\\r\\nKnow you better know you better now\\r\\nI just want to know you better\\r\\nKnow you better know you better now\\r\\nI just want to know you better\\r\\nKnow you better know you better now\\r\\nI just want to know you know you know you\\r\\nCause all I know is we said hello\\r\\nAnd your eyes look like coming home\\r\\nAll I know is a simple name everything has changed\\r\\nAll I know is you held the door\\r\\nYoull be mine and Ill be yours\\r\\nAll I know since yesterday is everything has changed\\r\\nTaylor Swift\\r\\nAnd all my walls stood tall painted blue\\r\\nAnd Ill take them down\\r\\nTake them down and open up the door for you\\r\\nAnd all I feel in my stomach is butterflies\\r\\nThe beautiful kind making up for lost time\\r\\nTaking flight making me feel like\\r\\nI just want to know you better\\r\\nKnow you better know you better now\\r\\nI just want to know you better\\r\\nKnow you better know you better now\\r\\nI just want to know you better\\r\\nKnow you better know you better now\\r\\nI just want to know you know you know you\\r\\nCause all I know is we said hello\\r\\nAnd your eyes look like coming home\\r\\nAll I know is a simple name everything has changed\\r\\nAll I know is you held the door\\r\\nYoull be mine and Ill be yours\\r\\nAll I know since yesterday is everything has changed\\r\\nCome back and tell me why\\r\\nIm feeling like ive missed you all this time\\r\\nAnd meet me there tonight\\r\\nAnd let me know that its not all in my mind\\r\\nI just want to know you better\\r\\nKnow you better know you better now\\r\\nI just want to know you know you know you\\r\\nCause all I know is we said hello\\r\\nAnd your eyes look lIke coming home\\r\\nAll I know is a simple name everything has changed\\r\\nAll I know is you held the door\\r\\nYoull be mine and Ill be yours\\r\\nAll I know since yesterday is everything has changed\\r\\nAll I know is we said hello\\r\\nSo dust off your highest hopes\\r\\nAll I know is pouring rain\\r\\nAnd everything has changed\\r\\nAll I know is a new found grace\\r\\nAll my days Ill know your face\\r\\nAll I know since yesterday is everything has changed\\r\\nI said Oh my what a marvelous tune\\r\\nIt was the best night never would forget how we moved\\r\\nThe whole place was dressed to the nines\\r\\nAnd we were dancing dancing\\r\\nLike were made of starlight\\r\\nLike were made of starlight\\r\\nI met Bobby on the boardwalk summer of 45\\r\\nPicked me up late one night at the window\\r\\nWe were 17 and crazy running wild wild\\r\\nCant remember what song it was playing when we walked in\\r\\nThe night we snuck into a yacht club party\\r\\nPretending to be a duchess and a prince\\r\\nAnd I said Oh my what a marvelous tune\\r\\nIt was the best night never would forget how we moved\\r\\nThe whole place was dressed to the nines\\r\\nAnd we were dancing dancing\\r\\nLike were made of starlight starlight\\r\\nLike were made of starlight starlight\\r\\nHe said Look at you worrying too much about things you cant change\\r\\nYoull spend your whole life singing the blues if you keep thinking that way\\r\\nHe was trying to skip rocks on the ocean saying to me\\r\\nDont you see the starlight starlight\\r\\nDont you dream impossible things\\r\\nLike Oh my what a marvelous tune\\r\\nIt was the best night never would forget how we moved\\r\\nThe whole place was dressed to the nines\\r\\nAnd we were dancing dancing\\r\\nLike were made of starlight starlight\\r\\nLike were made of starlight starlight\\r\\nOoh ooh hes talking crazy\\r\\nOoh ooh dancing with me\\r\\nOoh ooh we could get married\\r\\nHave ten kids and teach em how to dream\\r\\nOh my what a marvelous tune\\r\\nIt was the best night never would forget how we moved\\r\\nThe whole place was dressed to the nines\\r\\nAnd we were dancing dancing\\r\\nLike were made of starlight starlight\\r\\nLike were made of starlight starlight\\r\\nLike were made of starlight starlight\\r\\nLike we dream impossible dreams\\r\\nLike starlight starlight\\r\\nLike we dream impossible dreams\\r\\nDont you see the starlight starlight\\r\\nDont you dream impossible things\\r\\nTook a deep breath in the mirror\\r\\nHe didnt like it when I wore high heels\\r\\nBut I do\\r\\nTurn the lock and put my headphones on\\r\\nHe always said he didnt get this song but I do I do\\r\\nWalked in expecting youd be late\\r\\nBut you got here early and you stand and wave\\r\\nI walk to you\\r\\nYou pull my chair out and help me in\\r\\nAnd you dont know how nice that is but I do\\r\\nAnd you throw your head back laughing like a little kid\\r\\nI think its strange that you think Im funny cause he never did\\r\\nIve been spending the last eight months\\r\\nThinking all love ever does is break and burn and end\\r\\nBut on a Wednesday in a cafe I watched it begin again\\r\\nYou said you never met one girl who\\r\\nHad as many James Taylor records as you\\r\\nBut I do\\r\\nWe tell stories and you dont know why Im coming off a little shy\\r\\nBut I do\\r\\nAnd you throw your head back laughing like a little kid\\r\\nI think its strange that you think Im funny cause he never did\\r\\nIve been spending the last eight months\\r\\nThinking all love ever does is break and burn and end\\r\\nBut on a Wednesday in a cafe I watched it begin again\\r\\nAnd we walked down the block to my car\\r\\nAnd I almost brought him up\\r\\nBut you start to talk about the movies\\r\\nThat your family watches every single Christmas\\r\\nAnd I want to talk about that\\r\\nAnd for the first time whats past is past\\r\\nCause you throw your head back laughing like a little kid\\r\\nI think its strange that you think Im funny cause he never did\\r\\nIve been spending the last eight months\\r\\nThinking all love ever does is break and burn and end\\r\\nBut on a Wednesday in a cafe I watched it begin again\\r\\nBut on a Wednesday in a cafe I watched it begin again\\r\\nYou shouldve been there\\r\\nShouldve burst through the door\\r\\nWith that baby Im right here smile\\r\\nAnd it wouldve felt like\\r\\nA million little shining stars had just aligned\\r\\nAnd I wouldve been so happy\\r\\nChristmas lights glisten\\r\\nIve got my eye on the door\\r\\nJust waiting for you to walk in\\r\\nBut the time is ticking\\r\\nPeople ask me how Ive been\\r\\nAs I comb back through my memory\\r\\nHow you said youd be here\\r\\nYou said youd be here\\r\\nAnd it was like slow motion\\r\\nStanding there in my party dress\\r\\nIn red lipstick\\r\\nWith no one to impress\\r\\nAnd theyre all laughing\\r\\nAs Im looking around the room\\r\\nBut there was one thing missing\\r\\nAnd that was the moment I knew\\r\\nAnd the hours pass by\\r\\nNow I just wanna be alone\\r\\nBut your close friends always seem to know\\r\\nWhen theres something really wrong\\r\\nSo they follow me down the hall\\r\\nAnd there in the bathroom\\r\\nI try not to fall apart\\r\\nAnd the sinking feeling starts\\r\\nAs I say hopelessly\\r\\nHe said hed be here\\r\\nAnd it was like slow motion\\r\\nStanding there in my party dress\\r\\nIn red lipstick\\r\\nWith no one to impress\\r\\nAnd theyre all laughing\\r\\nAnd asking me about you\\r\\nBut there was one thing missing\\r\\nAnd that was the moment I knew\\r\\nWhat do you say\\r\\nWhen tears are streaming down your face\\r\\nIn front of everyone you know\\r\\nAnd what do you do when the one\\r\\nWho means the most to you\\r\\nIs the one who didnt show\\r\\nYou shouldve been here\\r\\nAnd I wouldve been so happy\\r\\nAnd it was like slow motion\\r\\nStanding there in my party dress\\r\\nIn red lipstick\\r\\nWith no one to impress\\r\\nAnd theyre all standing around me singing\\r\\nHappy birthday to you\\r\\nBut there was one thing missing\\r\\nAnd that was the moment I knew\\r\\nOhohohohohohohohohohohoh\\r\\nI knew\\r\\nOhohohohohohohohohohohoh\\r\\nYou call me later\\r\\nAnd said Im sorry I didnt make it\\r\\nAnd I said Im sorry too\\r\\nAnd that was the moment I knew\\r\\nYou said it in a simple way\\r\\n4 AM the second day\\r\\nHow strange that I dont know you at all\\r\\nStumbled through the long goodbye\\r\\nOne last kiss then catch your flight\\r\\nRight when I was just about to fall\\r\\nI told myself dont get attached\\r\\nBut in my mind I play it back\\r\\nSpinning faster than the plane that took you\\r\\nAnd this is when the feeling sinks in\\r\\nI dont wanna miss you like this\\r\\nCome back be here come back be here\\r\\nI guess youre in New York today\\r\\nI dont wanna need you this way\\r\\nCome back be here come back be here\\r\\nThe delicate beginning rush\\r\\nThe feeling you can know so much\\r\\nWithout knowing anything at all\\r\\nAnd now that I can put this down\\r\\nIf I had known what Id known now\\r\\nI never would have played so nonchalant\\r\\nTaxi cabs and busy streets\\r\\nThat never bring you back to me\\r\\nI cant help but wish you took me with you\\r\\nAnd this is when the feeling sinks in\\r\\nI dont wanna miss you like this\\r\\nCome back be here come back be here\\r\\nI guess youre in London today\\r\\nI dont wanna need you this way\\r\\nCome back be here come back be here\\r\\nThis is falling in love in the cruelest way\\r\\nThis is falling for you and you are worlds away\\r\\nNew York be here\\r\\nBut youre in London and I break down\\r\\nCause its not fair that youre not around\\r\\nI dont wanna miss you like this\\r\\nCome back be here\\r\\nCome back be here\\r\\nDont look at me you got a girl at home\\r\\nAnd everybody knows that everybody knows that\\r\\nDont look at me you got a girl at home\\r\\nAnd everybody knows that everybody knows that\\r\\nI dont even know her\\r\\nBut I feel a responsibility to do whats upstanding and right\\r\\nIts kinda like a code yeah\\r\\nAnd youve been getting closer and closer\\r\\nAnd crossing so many lines\\r\\nAnd it would be a fine proposition\\r\\nIf I was a stupid girl\\r\\nBut honey I am no ones exception\\r\\nThis I have previously learned\\r\\nSo dont look at me you got a girl at home\\r\\nAnd everybody knows that everybody knows that\\r\\nDont look at me you got a girl at home\\r\\nAnd everybody knows that everybody knows that\\r\\nI see you turn off your phone\\r\\nNow youve got me alone and I say\\r\\nDont look at me you got a girl at home\\r\\nAnd everybody knows that everybody knows that\\r\\nI just want to make sure\\r\\nYou understand perfectly youre the kind of man who makes me sad\\r\\nWhile she waits up you chase down the newest thing\\r\\nAnd take for granted what you have\\r\\nAnd it would be a fine proposition\\r\\nIf I was a stupid girl\\r\\nAnd yeah I might go with it\\r\\nIf I hadnt once been just like her\\r\\nSo dont look at me you got a girl at home\\r\\nAnd everybody knows that everybody knows that\\r\\nDont look at me you got a girl at home\\r\\nAnd everybody knows that everybody knows that\\r\\nI see you turn off your phone\\r\\nNow youve got me alone and I say\\r\\nDont look at me you got a girl at home\\r\\nAnd everybody knows that everybody knows that\\r\\nCall a cab lose my number\\r\\nYoure about to lose your girl\\r\\nCall a cab lose my number\\r\\nLets consider this lesson learned\\r\\nWant to see you pick up your phone\\r\\nAnd tell her youre coming home\\r\\nDont look at me you got a girl at home\\r\\nAnd everybody knows that everybody knows that\\r\\nIt would be a fine proposition\\r\\nIf I hadnt once been just like her\\r\\nWalking through a crowd the village is aglow\\r\\nKaleidoscope of loud heartbeats under coats\\r\\nEverybody here wanted something more\\r\\nSearching for a sound we hadnt heard before\\r\\nAnd it said\\r\\nWelcome to New York\\r\\nIts been waiting for you\\r\\nWelcome to New York\\r\\nWelcome to New York\\r\\nWelcome to New York\\r\\nIts been waiting for you\\r\\nWelcome to New York\\r\\nWelcome to New York\\r\\nIts a new soundtrack\\r\\nI could dance to this beat beat\\r\\nForevermore\\r\\nThe lights are so bright\\r\\nBut they never blind me me\\r\\nWelcome to New York\\r\\nIts been waiting for you\\r\\nWelcome to New York\\r\\nWelcome to New York\\r\\nWhen we first dropped our bags on apartment floors\\r\\nTook our broken hearts put them in a drawer\\r\\nEverybody here was someone else before\\r\\nAnd you can want who you want\\r\\nBoys and boys and girls and girls\\r\\nWelcome to New York\\r\\nIts been waiting for you\\r\\nWelcome to New York\\r\\nWelcome to New York\\r\\nWelcome to New York\\r\\nIts been waiting for you\\r\\nWelcome to New York\\r\\nWelcome to New York\\r\\nIts a new soundtrack\\r\\nI could dance to this beat beat\\r\\nForevermore\\r\\nThe lights are so bright\\r\\nBut they never blind me me\\r\\nWelcome to New York\\r\\nIts been waiting for you\\r\\nWelcome to New York\\r\\nWelcome to New York\\r\\nLike any great love it keeps you guessing\\r\\nLike any real love its everchanging\\r\\nLike any true love it drives you crazy\\r\\nBut you know you wouldnt change anything anything anything\\r\\nWelcome to New York\\r\\nIts been waiting for you\\r\\nWelcome to New York\\r\\nWelcome to New York\\r\\nWelcome to New York\\r\\nIts been waiting for you\\r\\nWelcome to New York\\r\\nWelcome to New York\\r\\nIts a new soundtrack\\r\\nI could dance to this beat beat\\r\\nForevermore\\r\\nThe lights are so bright\\r\\nBut they never blind me me\\r\\nWelcome to New York\\r\\nIts been waiting for you\\r\\nWelcome to New York\\r\\nWelcome to New York\\r\\nNice to meet you where you been\\r\\nI could show you incredible things\\r\\nMagic madness heaven sin\\r\\nSaw you there and I thought\\r\\nOh my God look at that face\\r\\nYou look like my next mistake\\r\\nLoves a game wanna play Ayy\\r\\nNew money suit and tie\\r\\nI can read you like a magazine\\r\\nAint it funny Rumors fly\\r\\nAnd I know you heard about me\\r\\nSo hey lets be friends\\r\\nIm dyin to see how this one ends\\r\\nGrab your passport and my hand\\r\\nI can make the bad guys good for a weekend\\r\\nSo its gonna be forever\\r\\nOr its gonna go down in flames\\r\\nYou can tell me when its over mm\\r\\nIf the high was worth the pain\\r\\nGot a long list of exlovers\\r\\nTheyll tell you Im insane\\r\\nCause you know I love the players\\r\\nAnd you love the game\\r\\nCause were young and were reckless\\r\\nWell take this way too far\\r\\nItll leave you breathless hmm\\r\\nOr with a nasty scar\\r\\nGot a long list of exlovers\\r\\nTheyll tell you Im insane\\r\\nBut Ive got a blank space baby\\r\\nAnd Ill write your name\\r\\nCherry lips crystal skies\\r\\nI could show you incredible things\\r\\nStolen kisses pretty lies\\r\\nYoure the King baby Im your Queen\\r\\nFind out what you want\\r\\nBe that girl for a month\\r\\nWait the worst is yet to come oh no\\r\\nScreaming crying perfect storms\\r\\nI can make all the tables turn\\r\\nRose garden filled with thorns\\r\\nKeep you second guessin like\\r\\nOh my God who is she\\r\\nI get drunk on jealousy\\r\\nBut youll come back each time you leave\\r\\ncause darling Im a nightmare\\r\\nDressed like a daydream\\r\\nSo its gonna be forever\\r\\nOr its gonna go down in flames\\r\\nYou can tell me when its over mm\\r\\nIf the high was worth the pain\\r\\nGot a long list of exlovers\\r\\nTheyll tell you Im insane\\r\\nCause you know I love the players\\r\\nAnd you love the game\\r\\nCause were young and were reckless\\r\\nWell take this way too far\\r\\nItll leave you breathless hmm\\r\\nOr with a nasty scar\\r\\nGot a long list of exlovers\\r\\nTheyll tell you Im insane\\r\\nBut Ive got a blank space baby\\r\\nAnd Ill write your name\\r\\nBoys only want love if its torture\\r\\nDont say I didnt say I didnt warn ya\\r\\nBoys only want love if its torture\\r\\nDont say I didnt say I didnt warn ya\\r\\nSo its gonna be forever\\r\\nOr its gonna go down in flames\\r\\nYou can tell me when its over mm\\r\\nIf the high was worth the pain\\r\\nGot a long list of exlovers\\r\\nTheyll tell you Im insane\\r\\nCause you know I love the players\\r\\nAnd you love the game\\r\\nCause were young and were reckless\\r\\nWell take this way too far\\r\\nItll leave you breathless hmm\\r\\nOr with a nasty scar\\r\\nGot a long list of exlovers\\r\\nTheyll tell you Im insane\\r\\nBut Ive got a blank space baby\\r\\nAnd Ill write your name\\r\\nMidnight\\r\\nYou come and pick me up no headlights\\r\\nLong drive\\r\\nCould end in burning flames or paradise\\r\\nFade into view\\r\\nOh Its been a while since I have even heard from you\\r\\nHeard from you\\r\\nAnd I should just tell you to leave cause I\\r\\nKnow exactly where it leads but I\\r\\nWatch us go round and round each time\\r\\nYou got that James Dean daydream look in your eye\\r\\nAnd I got that red lip classic thing that you like\\r\\nAnd when we go crashing down we come back every time\\r\\nCause we never go out of style we never go out of style\\r\\nYou got that long hair slicked back white tshirt\\r\\nAnd I got that good girl faith and a tight little skirt\\r\\nAnd when we go crashing down we come back every time\\r\\nCause we never go out of style we never go out of style\\r\\nSo it goes\\r\\nHe cant keep his wild eyes on the road mmm\\r\\nTakes me home\\r\\nLights are off hes taking off his coat mmm yeah\\r\\nI say Ive heard\\r\\nOh that youve been out and about with some other girl\\r\\nSome other girl\\r\\nHe says What you heard is true but I\\r\\nCant stop thinking bout you and I\\r\\nI said Ive been there too a few times\\r\\nCause you got that James Dean daydream look in your eye\\r\\nAnd I got that red lip classic thing that you like\\r\\nAnd when we go crashing down we come back every time\\r\\nCause we never go out of style we never go out of style\\r\\nYou got that long hair slicked back white tshirt\\r\\nAnd I got that good girl faith and a tight little skirt\\r\\nAnd when we go crashing down we come back every time\\r\\nCause we never go out of style we never go out of style\\r\\nTake me home\\r\\nJust take me home\\r\\nYeah just take me home\\r\\nOut of style\\r\\nOh you got that James Dean daydream look in your eye\\r\\nAnd I got that red lip classic thing that you like\\r\\nAnd when we go crashing down we come back everytime\\r\\nCause we never go out of style we never go out of style\\r\\nLooking at it now\\r\\nIt all seems so simple\\r\\nWe were lying on your couch\\r\\nI remember\\r\\nYou took a Polaroid of us\\r\\nThen discovered then discovered\\r\\nThe rest of the world was black and white\\r\\nBut we were in screaming color\\r\\nAnd I remember thinking\\r\\nAre we out of the woods yet Are we out of the woods yet\\r\\nAre we out of the woods yet Are we out of the woods\\r\\nAre we in the clear yet Are we in the clear yet\\r\\nAre we in the clear yet In the clear yet Good\\r\\nAre we out of the woods yet Are we out of the woods yet\\r\\nAre we out of the woods yet Are we out of the woods\\r\\nAre we in the clear yet Are we in the clear yet\\r\\nAre we in the clear yet In the clear yet Good\\r\\nAre we out of the woods\\r\\nLooking at it now\\r\\nLast December last December\\r\\nWe were built to fall apart\\r\\nThen fall back together back together\\r\\nYour necklace hanging from my neck\\r\\nThe night we couldnt quite forget\\r\\nWhen we decided we decided\\r\\nTo move the furniture so we could dance\\r\\nBaby like we stood a chance\\r\\nTwo paper airplanes flying flying flying\\r\\nAnd I remember thinking\\r\\nAre we out of the woods yet Are we out of the woods yet\\r\\nAre we out of the woods yet Are we out of the woods\\r\\nAre we in the clear yet Are we in the clear yet\\r\\nAre we in the clear yet In the clear yet Good\\r\\nAre we out of the woods yet Are we out of the woods yet\\r\\nAre we out of the woods yet Are we out of the woods\\r\\nAre we in the clear yet Are we in the clear yet\\r\\nAre we in the clear yet In the clear yet Good\\r\\nAre we out of the woods\\r\\nRemember when you hit the brakes too soon\\r\\nTwenty stitches in a hospital room\\r\\nWhen you started crying baby I did too\\r\\nWhen the sun came up I was looking at you\\r\\nRemember when you couldnt take the heat\\r\\nI walked out and said Im setting you free\\r\\nBut the monsters turned out to be just trees\\r\\nWhen the sun came up you were looking at me\\r\\nYou were looking at me ooh\\r\\nYou were looking at me\\r\\nAre we out of the woods yet Are we out of the woods yet\\r\\nAre we out of the woods yet Are we out of the woods\\r\\nI remember\\r\\nAre we in the clear yet Are we in the clear yet\\r\\nAre we in the clear yet In the clear yet Good\\r\\nOh I remember\\r\\nAre we out of the woods yet Are we out of the woods yet\\r\\nAre we out of the woods yet Are we out of the woods\\r\\nAre we in the clear yet Are we in the clear yet\\r\\nAre we in the clear yet In the clear yet Good\\r\\nAre we out of the woods yet Are we out of the woods yet\\r\\nAre we out of the woods yet Are we out of the woods\\r\\nAre we in the clear yet Are we in the clear yet\\r\\nAre we in the clear yet In the clear yet Good\\r\\nAre we out of the woods yet Are we out of the woods yet\\r\\nAre we out of the woods yet Are we out of the woods\\r\\nAre we in the clear yet Are we in the clear yet\\r\\nAre we in the clear yet In the clear yet Good\\r\\nAre we out of the woods yet Are we out of the woods yet\\r\\nAre we out of the woods yet Are we out of the woods\\r\\nAre we in the clear yet Are we in the clear yet\\r\\nAre we in the clear yet In the clear yet Good\\r\\nPeople like you always want back\\r\\nThe love they gave away\\r\\nAnd people like me wanna believe you\\r\\nWhen you say youve changed\\r\\nThe more I think about it now\\r\\nThe less I know\\r\\nAll I know is that you drove us\\r\\nOff the road\\r\\nStay Hey\\r\\nAll you had to do was stay\\r\\nHad me in the palm of your hand\\r\\nThen whyd you have to go and lock me out when I let you in\\r\\nStay Hey\\r\\nNow you say you want it back\\r\\nNow that its just too late\\r\\nWell couldve been easy\\r\\nAll you had to do was stay\\r\\nAll you had to do was stay\\r\\nAll you had to do was stay\\r\\nAll you had to do was stay\\r\\nAll you had to do was stay\\r\\nHere you are now calling me up\\r\\nBut I dont know what to say\\r\\nIve been picking up the pieces\\r\\nOf the mess you made\\r\\nPeople like you always want back\\r\\nThe love they pushed aside\\r\\nBut people like me are gone forever\\r\\nWhen you say goodbye\\r\\nStay Hey\\r\\nAll you had to do was stay\\r\\nHad me in the palm of your hand\\r\\nThen whyd you have to go and lock me out when I let you in\\r\\nStay Hey\\r\\nNow you say you want it back\\r\\nNow that its just too late\\r\\nWell couldve been easy\\r\\nAll you had to do was stay\\r\\nAll you had to do was stay\\r\\nAll you had to do was stay\\r\\nAll you had to do was stay stay stay stay stay\\r\\nLet me remind you\\r\\nThis was what you wanted Oh Oh Ohohoh\\r\\nYou ended it\\r\\nYou were all I wanted Oh Oh Ohohoh\\r\\nBut not like this\\r\\nNot like this not like this\\r\\nOh All you had to do was\\r\\nStay Hey\\r\\nAll you had to do was stay\\r\\nHad me in the palm of your hand\\r\\nThen whyd you want to go and lock me out when I let you in\\r\\nStay Hey\\r\\nNow you say you want it back\\r\\nNow that its just too late\\r\\nWell couldve been easy\\r\\nAll you had to do was\\r\\nStay Hey\\r\\nAll you had to do was stay\\r\\nHad me in the palm of your hand\\r\\nThen whyd you have to go and lock me out when I let you in\\r\\nStay Hey\\r\\nNow you say you want it back\\r\\nNow that its just too late all you had to do was stay\\r\\nWell couldve been easy\\r\\nAll you had to do was stay\\r\\nAll you had to do was stay ahhooh\\r\\nAll you had to do was stay\\r\\nAll you had to do was stay Oooowhoa\\r\\nAll you had to do was stay\\r\\nI stay out too late\\r\\nGot nothing in my brain\\r\\nThats what people say mmm mmm\\r\\nThats what people say mmm mmm\\r\\nI go on too many dates\\r\\nBut I cant make them stay\\r\\nAt least thats what people say mmm mmm\\r\\nThats what people say mmm mmm\\r\\nBut I keep cruisin\\r\\nCant stop wont stop movin\\r\\nIts like I got this music in my mind\\r\\nSaying its gonna be alright\\r\\nCause the players gonna play play play play play\\r\\nAnd the haters gonna hate hate hate hate hate\\r\\nBaby Im just gonna shake shake shake shake shake\\r\\nI shake it off  I shake it off\\r\\nHeartbreakers gonna break break break break break\\r\\nAnd the fakers gonna fake fake fake fake fake\\r\\nBaby Im just gonna shake shake shake shake shake\\r\\nI shake it off I shake it off\\r\\nI never miss a beat\\r\\nIm lightning on my feet\\r\\nAnd thats what they dont see mmm mmm\\r\\nThats what they dont see mmm mmm\\r\\nIm dancing on my own dancing on my own\\r\\nI make the moves up as I go moves up as I go\\r\\nAnd thats what they dont know mmm mmm\\r\\nThats what they dont know mmm mmm\\r\\nBut I keep cruisin\\r\\nCant stop wont stop groovin\\r\\nIts like I got this music in my mind\\r\\nSaying its gonna be alright\\r\\nCause the players gonna play play play play play\\r\\nAnd the haters gonna hate hate hate hate hate\\r\\nBaby Im just gonna shake shake shake shake shake\\r\\nI shake it off  I shake it off\\r\\nHeartbreakers gonna break break break break break\\r\\nAnd the fakers gonna fake fake fake fake fake\\r\\nBaby Im just gonna shake shake shake shake shake\\r\\nI shake it off I shake it off\\r\\nShake it off I shake it off\\r\\nI I I shake it off I shake it off\\r\\nI I I shake it off I shake it off\\r\\nI I I shake it off I shake it off\\r\\nHey hey hey\\r\\nJust think while youve been getting down and out about the liars\\r\\nAnd dirty dirty cheats of the world you couldve been getting down to this sick beat\\r\\nMy exman brought his new girlfriend\\r\\nShes like Oh my God but Im just gonna shake\\r\\nAnd to the fella over there with the hella good hair\\r\\nWont you come on over baby we can shake shake shake\\r\\nYeah oh oh oh oh\\r\\nCause the players gonna play play play play play\\r\\nAnd the haters gonna hate hate hate hate hate haters gonna hate\\r\\nBaby Im just gonna shake shake shake shake shake\\r\\nI shake it off  I shake it off\\r\\nHeartbreakers gonna break break break break break mmhm\\r\\nAnd the fakers gonna fake fake fake fake fake fake n fake n fake\\r\\nBaby Im just gonna shake shake shake shake shake\\r\\nI shake it off I shake it off\\r\\nShake it off I shake it off\\r\\nI I I shake it off I shake it off\\r\\nI I I shake it off I shake it off\\r\\nI I I shake it off I shake it off\\r\\nShake it off I shake it off\\r\\nI I I shake it off I shake it off\\r\\nI I I shake it off I shake it off\\r\\nI I I shake it off I shake it off yeah\\r\\nShake it off I shake it off\\r\\nI I I shake it off I shake it off you got to\\r\\nI I I shake it off I shake it off\\r\\nI I I shake it off I shake it off\\r\\nIts 200 AM in your car\\r\\nWindows down you pass my street the memories start\\r\\nYou say its in the past\\r\\nYou drive straight ahead\\r\\nYoure thinking that I hate you now\\r\\nCause you still dont know what I never said\\r\\nI wish you would come back\\r\\nWish I never hung up the phone like I did and I\\r\\nWish you knew that\\r\\nId never forget you as long as I live and I\\r\\nWish you were right here right now\\r\\nIts all good\\r\\nI wish you would\\r\\nIts 200 AM in my room\\r\\nHeadlights pass the window pane\\r\\nI think of you\\r\\nWere a crooked love\\r\\nIn a straight line down\\r\\nMakes you want to run and hide\\r\\nThen it makes you turn right back around\\r\\nI wish you would come back\\r\\nWish I never hung up the phone like I did and I\\r\\nWish you knew that\\r\\nId never forget you as long as I live and I\\r\\nWish you were right here right now\\r\\nIts all good\\r\\nI wish you would\\r\\nI wish we could go back\\r\\nAnd remember what we were fighting for and I\\r\\nWish you knew that\\r\\nI miss you too much to be mad anymore and I\\r\\nWish you were right here right now\\r\\nIts all good\\r\\nI wish you would\\r\\nI I II I I I wish I wish I\\r\\nI I II I I I wish I wish I\\r\\nI I II I I I wish I wish I x7\\r\\nYou always knew how to push my buttons\\r\\nYou give me everything and nothing\\r\\nThis mad mad love makes you come running\\r\\nStand back where you stood\\r\\nI wish you would I wish you would\\r\\nI wish you would I wish you would\\r\\nI wish you would I wish you would\\r\\nI wish you would I wish you would\\r\\n200 AM here we are\\r\\nSee your face hear my voice in the dark\\r\\nWere a crooked love\\r\\nIn a straight line down\\r\\nMakes you wanna run and hide\\r\\nBut it made us turn right back around\\r\\nI wish you would come back\\r\\nWish I never hung up the phone like I did I\\r\\nWish you knew that\\r\\nId never forget you as long as I live and I\\r\\nWish you were right here right now\\r\\nIts all good\\r\\nI wish you would\\r\\nI wish you would come back\\r\\nWish I never hung up the phone like I did I\\r\\nWish you knew that\\r\\nId never forget you as long as I live and I\\r\\nWish you were right here right now\\r\\nIts all good\\r\\nI wish you would\\r\\nI wish we could go back\\r\\nAnd remember what we were fighting for and I\\r\\nWish you knew that\\r\\nI miss you too much to be mad anymore and I\\r\\nWish you were right here right now\\r\\nIts all good\\r\\nI wish you would\\r\\nI I II I I I wish I wish I x8\\r\\nYou always knew how to push my buttons\\r\\nYou give me everything and nothing\\r\\nThis mad mad love makes you come running\\r\\nStand back where you stood\\r\\nI wish you would I wish you would\\r\\nI wish you would I wish you would\\r\\nI wish you would I wish you would\\r\\nI wish you would I wish you would I wish you would\\r\\nI wish you would\\r\\nI wish you would\\r\\nCause baby now weve got bad blood\\r\\nYou know it used to be mad love\\r\\nSo take a look what youve done\\r\\nCause baby now weve got bad blood hey\\r\\nNow weve got problems\\r\\nAnd I dont think we can solve em\\r\\nYou made a really deep cut\\r\\nAnd baby now weve got bad blood hey\\r\\nDid you have to do this\\r\\nI was thinking that you could be trusted\\r\\nDid you have to ruin what was shiny\\r\\nNow its all rusted\\r\\nDid you have to hit me where Im weak\\r\\nBaby I couldnt breathe\\r\\nAnd rub it in so deep\\r\\nSalt in the wound like youre laughing right at me\\r\\nOh its so sad to\\r\\nThink about the good times\\r\\nYou and I\\r\\nCause baby now weve got bad blood\\r\\nYou know it used to be mad love\\r\\nSo take a look what youve done\\r\\nCause baby now weve got bad blood hey\\r\\nNow weve got problems\\r\\nAnd I dont think we can solve em\\r\\nYou made a really deep cut\\r\\nAnd baby now weve got bad blood hey\\r\\nDid you think wed be fine\\r\\nStill got scars in my back from your knives\\r\\nSo dont think its in the past\\r\\nThese kind of wounds they last and they last\\r\\nNow did you think it all through\\r\\nAll these things will catch up to you\\r\\nAnd time can heal but this wont\\r\\nSo if you come in my way\\r\\nJust dont\\r\\nOh its so sad to\\r\\nThink about the good times\\r\\nYou and I\\r\\nCause baby now weve got bad blood\\r\\nYou know it used to be mad love\\r\\nSo take a look what youve done\\r\\nCause baby now weve got bad blood hey\\r\\nNow weve got problems\\r\\nAnd I dont think we can solve em\\r\\nYou made a really deep cut\\r\\nAnd baby now weve got bad blood hey\\r\\nBandaids dont fix bullet holes\\r\\nYou say sorry just for show\\r\\nYou live like that you live with ghosts\\r\\nBandaids dont fix bullet holes\\r\\nYou say sorry just for show\\r\\nIf you live like that you live with ghosts\\r\\nIf you love like that blood runs cold\\r\\nCause baby now weve got bad blood\\r\\nYou know it used to be mad love\\r\\nSo take a look what youve done\\r\\nCause baby now weve got bad blood hey\\r\\nNow weve got problems\\r\\nAnd I dont think we can solve em\\r\\nYou made a really deep cut\\r\\nAnd baby now weve got bad blood hey\\r\\nCause baby now weve got bad blood\\r\\nYou know it used to be mad love\\r\\nSo take a look what youve done\\r\\nCause baby now weve got bad blood hey\\r\\nNow weve got problems\\r\\nAnd I dont think we can solve em\\r\\nYou made a really deep cut\\r\\nAnd baby now weve got bad blood hey\\r\\nHe said Lets get out of this town\\r\\nDrive out of this city away from the crowds\\r\\nI thought Heaven cant help me now\\r\\nNothing lasts forever but this is gonna take me down\\r\\nHes so tall and handsome as hell\\r\\nHes so bad but he does it so well\\r\\nI can see the end as it begins\\r\\nMy one condition is\\r\\nSay youll remember me\\r\\nStanding in a nice dress\\r\\nStaring at the sunset babe\\r\\nRed lips and rosy cheeks\\r\\nSay youll see me again\\r\\nEven if its just in your\\r\\nWildest dreams ahaah haa\\r\\nWildest dreams ahaah haa\\r\\nI said No one has to know what we do\\r\\nHis hands are in my hair his clothes are in my room\\r\\nAnd his voice is a familiar sound\\r\\nNothing lasts forever but this is gettin good now\\r\\nHes so tall and handsome as hell\\r\\nHes so bad but he does it so well\\r\\nAnd when weve had our very last kiss\\r\\nMy last request it is\\r\\nSay youll remember me\\r\\nStanding in a nice dress\\r\\nStaring at the sunset babe\\r\\nRed lips and rosy cheeks\\r\\nSay youll see me again\\r\\nEven if its just in your\\r\\nWildest dreams ahaah haa ahaah haa\\r\\nWildest dreams ahaah haa\\r\\nYoull see me in hindsight tangled up with you all night\\r\\nBurnin it down\\r\\nSomeday when you leave me Id bet these memories\\r\\nFollow you around\\r\\nYoull see me in hindsight tangled up with you all night\\r\\nBurning burning it it down down\\r\\nSomeday when you leave me Ill bet these memories\\r\\nFollow follow you you around around\\r\\nFollow you around\\r\\nSay youll remember me\\r\\nStanding in a nice dress\\r\\nStaring at the sunset babe\\r\\nRed lips and rosy cheeks\\r\\nSay youll see me again\\r\\nEven if its just pretend\\r\\nSay youll remember me\\r\\nStanding in a nice dress\\r\\nStaring at the sunset babe\\r\\nRed lips and rosy cheeks\\r\\nSay youll see me again\\r\\nEven if its just in your pretend just pretend\\r\\nWildest dreams ahaah haa ahaahaahaahaahhaa\\r\\nIn your wildest dreams ahaah haa\\r\\nEven if its just in your\\r\\nWildest dreams ahaah haa\\r\\nIn your wildest dreams ahaah haa\\r\\nUh uh uh\\r\\nUh uh uh\\r\\nUhuh uhuh\\r\\nStand there like a ghost\\r\\nShaking from the rain rain\\r\\nShell open up the door and say Are you insane\\r\\nSay its been a long six months\\r\\nAnd you were too afraid to tell her what you want want\\r\\nAnd thats how it works\\r\\nThats how you get the girl\\r\\nAnd then you say I want you for worse or for better\\r\\nI would wait forever and ever\\r\\nBroke your heart Ill put it back together\\r\\nI would wait forever and ever\\r\\nAnd thats how it works\\r\\nThats how you get the girl girl ohoh ohoh\\r\\nAnd thats how it works\\r\\nThats how you get the girl girl\\r\\nRemind her how it used to be be yeahyeah\\r\\nWith pictures in frames of kisses on cheeks cheeks\\r\\nTell her how you must have lost your mind oohooh\\r\\nWhen you left her all alone and never told her why why\\r\\nAnd thats how it works\\r\\nThats how you lost the girl\\r\\nAnd now you say\\r\\nI want you for worse or for better\\r\\nI would wait forever and ever ever and ever\\r\\nBroke your heart Ill put it back together\\r\\nI would wait forever and ever\\r\\nAnd thats how it works\\r\\nThats how you get the girl girl ohoh ohoh\\r\\nAnd thats how it works\\r\\nThats how you get the girl girl\\r\\nYeah yeah\\r\\nAnd you knowoh oh oh oh oh oh oh oh oh oh\\r\\nThat I dont want you to go oh oh\\r\\nRemind me how it used to be\\r\\nPictures in frames of kisses on cheeks\\r\\nAnd say you want me yeahyeah\\r\\nAnd then you say\\r\\nI want you for worse or for better worse of for better\\r\\nI would wait forever and ever and ever\\r\\nBroke your heart Ill put it back together\\r\\nI would wait forever and ever I want you forever and ever\\r\\nAnd thats how it works\\r\\nThats how you get the girl girl thats how it works\\r\\nAnd thats how it works\\r\\nThats how you get the girl girl get the girl Thats how it works\\r\\nAnd thats how it works\\r\\nThats how you get the girl girl\\r\\nAnd thats how it works\\r\\nThats how you get the girl girl\\r\\nThats how it works thats how you got the girl\\r\\nClear blue water high tides came and brought you in\\r\\nAnd I could go on and on on and on\\r\\nAnd I will\\r\\nSkies grew darker currents swept you out again\\r\\nAnd you are just gone and gone gone and gone\\r\\nIn silent screams and wildest dreams\\r\\nI never dreamed of this\\r\\nThis love is good this love is bad\\r\\nThis love is alive back from the dead\\r\\nThese hands had to let it go free\\r\\nAnd this love came back to me\\r\\nTossing turning struggle through the night with someone new\\r\\nAnd I could go on and on on and on\\r\\nLantern burning flickered in my mind for only you\\r\\nBut you were still gone gone gone\\r\\nBeen losing grip sinking ships\\r\\nYou showed up just in time\\r\\nThis love is good this love is bad\\r\\nThis love is alive back from the dead\\r\\nThese hands had to let it go free\\r\\nAnd this love came back to me\\r\\nThis love left a permanent mark\\r\\nThis love is glowing in the dark\\r\\nThese hands had to let it go free\\r\\nAnd this love came back to me\\r\\nYour kiss my cheek I watched you leave\\r\\nYour smile my ghost I fell to my knees\\r\\nWhen youre young you just run\\r\\nBut you come back to what you need\\r\\nThis love is good this love is bad\\r\\nThis love is alive back from the dead\\r\\nThese hands had to let it go free\\r\\nAnd this love came back to me\\r\\nThis love left a permanent mark\\r\\nThis love is glowing in the dark\\r\\nThese hands had to let it go free\\r\\nAnd this love came back to me\\r\\nYou stand with your hand on my waistline\\r\\nIts a scene and were out here in plain sight\\r\\nI can hear them whisper as we pass by\\r\\nIts a bad sign bad sign\\r\\nSomething happens when everybody finds out\\r\\nSee the vultures circling dark clouds\\r\\nLoves a fragile little flame\\r\\nIt could burn out it could burn out\\r\\nCause they got the cages they got the boxes\\r\\nAnd guns\\r\\nThey are the hunters we are the foxes\\r\\nAnd we run\\r\\nBaby I know places we wont be found\\r\\nAnd theyll be chasing their tails trying to track us down\\r\\nCause I I know places we can hide\\r\\nI know places I know places\\r\\nLights flash and well run for the fences\\r\\nLet them say what they want we wont hear it\\r\\nLoose lips sink ships all the damn time\\r\\nNot this time\\r\\nJust grab my hand and dont ever drop it\\r\\nMy love\\r\\nThey are the hunters we are the foxes\\r\\nAnd we run\\r\\nBaby I know places we wont be found\\r\\nAnd theyll be chasing their tails trying to track us down\\r\\nCause I I know places we can hide\\r\\nI know places I know places\\r\\nThey are the hunters we are the foxes\\r\\nAnd we run\\r\\nJust grab my hand and dont ever drop it\\r\\nMy love\\r\\nBaby I know places we wont be found\\r\\nAnd theyll be chasing their tails trying to track us down\\r\\nCause I I know places we can hide\\r\\nI know places I know places\\r\\nThey take their shots were bulletproof\\r\\nI know places\\r\\nAnd you know for me its always you\\r\\nI know places\\r\\nIn the dead of night your eyes so green\\r\\nI know places\\r\\nAnd I know for you its always me\\r\\nI know places\\r\\nThe drought was the very worst\\r\\nWhen the flowers that wed grown together died of thirst\\r\\nIt was months and months of backandforth\\r\\nYoure still all over me like a winestained dress I cant wear anymore\\r\\nHung my head as I lost the war\\r\\nAnd the sky turned black like a perfect storm\\r\\nRain came pouring down\\r\\nWhen I was drowning thats when I could finally breathe\\r\\nAnd by morning gone was any trace of you\\r\\nI think I am finally clean\\r\\nThere was nothing left to do\\r\\nWhen the butterflies turned to dust that covered my whole room\\r\\nSo I punched a hole in the roof\\r\\nLet the flood carry away all my pictures of you\\r\\nThe water filled my lungs I screamed so loud\\r\\nBut no one heard a thing\\r\\nRain came pouring down\\r\\nWhen I was drowning thats when I could finally breathe\\r\\nAnd by morning gone was any trace of you\\r\\nI think I am finally clean\\r\\nI think I am finally clean\\r\\nTen months sober I must admit\\r\\nJust because youre clean dont mean you dont miss it\\r\\nTen months older I wont give in\\r\\nNow that Im clean Im never gonna risk it\\r\\nThe drought was the very worst\\r\\nWhen the flowers that wed grown together died of thirst\\r\\nRain came pouring down\\r\\nWhen I was drowning thats when I could finally breathe\\r\\nAnd by morning gone was any trace of you\\r\\nI think I am finally clean\\r\\nRain came pouring down\\r\\nWhen I was drowning thats when I could finally breathe\\r\\nAnd by morning gone was any trace of you\\r\\nAnd I think I am finally clean\\r\\nFlashing lights and we\\r\\nTook a wrong turn and we\\r\\nFell down a rabbit hole\\r\\nYou held on tight to me\\r\\nCause nothings as it seems and spinning out of control\\r\\nDidnt they tell us dont rush into things\\r\\nDidnt you flash your green eyes at me\\r\\nHavent you heard what becomes of curious minds\\r\\nDidnt it all seem new and exciting\\r\\nI felt your arms twistin round me\\r\\nI should have slept with one eye open at night\\r\\nWe found Wonderland you and I got lost in it\\r\\nAnd we pretended it could last forever ey ey\\r\\nWe found Wonderland you and I got lost in it\\r\\nAnd life was never worse but never better ey ey\\r\\nEy ey ey ey ey\\r\\nIn Wonderland\\r\\nEy ey ey ey ey\\r\\nIn Wonderland\\r\\nEy ey ey ey ey\\r\\nIn Wonderland\\r\\nEy ey ey ey ey\\r\\nIn Wonderland\\r\\nSo we went on our way too in love to think straight\\r\\nAll alone or so it seemed\\r\\nBut there was strangers watching\\r\\nAnd whispers turned to talking\\r\\nAnd talking turned to screams oh\\r\\nDidnt they tell us dont rush into things\\r\\nDidnt you flash your green eyes at me\\r\\nDidnt you calm my fears with a Cheshire cat smile\\r\\nDidnt it all feel new and exciting\\r\\nI felt your arms twisting round me\\r\\nIts all fun and games till somebody loses their mind\\r\\nBut darlin\\r\\nWe found Wonderland you and I got lost in it\\r\\nAnd we pretended it could last forever ey ey\\r\\nWe found Wonderland you and I got lost in it\\r\\nAnd life was never worse but never better ey ey\\r\\nEy ey ey ey ey\\r\\nIn Wonderland\\r\\nEy ey ey ey ey\\r\\nIn Wonderland\\r\\nEy ey ey ey ey\\r\\nIn Wonderland\\r\\nEy ey ey ey ey\\r\\nIn Wonderland\\r\\nI reached for you but you were gone\\r\\nI knew I had to go back home\\r\\nYou searched the world for something else\\r\\nTo make you feel like what we had\\r\\nAnd in the end in Wonderland\\r\\nWe both went mad\\r\\nOh\\r\\nWe found Wonderland you and I got lost in it\\r\\nWe pretended it could last forever last forever ey ey\\r\\nWe found Wonderland you and I got lost in it got lost in it\\r\\nAnd life was never worse but never better never better ey ey\\r\\nEy ey ey ey ey\\r\\nWe found Wonderland you and I got lost in it in Wonderland\\r\\nEy ey ey ey ey\\r\\nWe pretended it could last forever in Wonderland\\r\\nEy ey ey ey ey\\r\\nWe found Wonderland you and I got lost in it in Wonderland\\r\\nEy ey ey ey ey\\r\\nAnd life was never worse but never better\\r\\nIn Wonderland\\r\\nOne look dark room meant just for you\\r\\nTime moved too fast you play it back\\r\\nButtons on a coat lighthearted joke\\r\\nNo proof not much but you saw enough\\r\\nSmall talk he drives coffee at midnight\\r\\nThe light reflects the chain on your neck\\r\\nHe says Look up and your shoulders brush\\r\\nNo proof one touch you felt enough\\r\\nYou can hear it in the silence silence you\\r\\nYou can feel it on the way home way home you\\r\\nYou can see it with the lights out lights out\\r\\nYou are in love true love\\r\\nYou are in love\\r\\nMorning his place burnt toast Sunday\\r\\nYou keep his shirt he keeps his word\\r\\nAnd for once you let go of your fears and your ghosts\\r\\nOne step not much but it said enough\\r\\nYou kiss on side walks you fight and you talk\\r\\nOne night he wakes strange look on his face\\r\\nPauses then says Youre my best friend\\r\\nAnd you knew what it was he is in love\\r\\nYou can hear it in the silence silence you\\r\\nYou can feel it on the way home way home you\\r\\nYou can see it with the lights out lights out\\r\\nYou are in love true love\\r\\nAnd so it goes\\r\\nYou two are dancing in the snowglobe round and round\\r\\nAnd he keeps a picture of you in his office downtown\\r\\nAnd you understand now why they lost their minds and fought the wars\\r\\nAnd why I spent my whole life trying to put it into words\\r\\nCause you can hear it in the silence\\r\\nYou can feel it on the way home\\r\\nYou can see it with the lights out\\r\\nYou are in love true love\\r\\nYou are in love\\r\\nYou can hear it in the silence silence you\\r\\nYou can feel it on the way home way home you\\r\\nYou can see it with the lights out lights out\\r\\nYou are in love true love\\r\\nYou are in love\\r\\nYou can hear it in the silence silence you\\r\\nYou can feel it on the way home way home you\\r\\nYou can see it with the lights out lights out\\r\\nYou are in love true love\\r\\nYou are in love\\r\\nWere all bored were all so tired of everything\\r\\nWe wait for trains that just arent coming\\r\\nWe show off our different scarlet letters\\r\\nTrust me mine is better\\r\\nWere so young but were on the road to ruin\\r\\nWe play dumb but we know exactly what were doing\\r\\nWe cry tears of mascara in the bathroom\\r\\nHoney life is just a classroom\\r\\nCause baby I could build a castle\\r\\nOut of all the bricks they threw at me\\r\\nAnd every day is like a battle\\r\\nBut every night with us is like a dream\\r\\nBaby were the new romantics\\r\\nCome on come along with me\\r\\nHeartbreak is the national anthem\\r\\nWe sing it proudly\\r\\nWere too busy dancing to get knocked off our feet\\r\\nBaby were the new romantics\\r\\nThe best people in life are free\\r\\nWere all here the lights and noise are blinding\\r\\nWe hang back its all in the timing\\r\\nIts poker you cant see it in my face\\r\\nBut Im about to play my Ace\\r\\nWe need love but all we want is danger\\r\\nWe team up then switch sides like a record changer\\r\\nThe rumors are terrible and cruel\\r\\nBut honey most of them are true\\r\\nCause baby I could build a castle\\r\\nOut of all the bricks they threw at me\\r\\nAnd every day is like a battle\\r\\nBut every night with us is like a dream\\r\\nBaby were the new romantics\\r\\nCome on come along with me\\r\\nHeartbreak is the national anthem\\r\\nWe sing it proudly\\r\\nWere too busy dancing to get knocked off our feet\\r\\nBaby were the new romantics\\r\\nThe best people in life are free\\r\\nPlease take my hand and\\r\\nPlease take me dancing and\\r\\nPlease leave me stranded\\r\\nIts so romantic its so romantic\\r\\nCause baby I could build a castle\\r\\nOut of all the bricks they threw at me\\r\\nAnd every day is like a battle\\r\\nBut every night with us is like a dream\\r\\nCause baby I could build a castle\\r\\nOut of all the bricks they threw at me\\r\\nAnd every day is like a battle\\r\\nBut every night with us is like a dream\\r\\nBaby were the new romantics\\r\\nCome on come along with me\\r\\nHeartbreak is the national anthem\\r\\nWe sing it proudly\\r\\nWere too busy dancing to get knocked off our feet\\r\\nBaby were the new romantics\\r\\nThe best people in life are free\\r\\nKnew he was a killer first time that I saw him\\r\\nWondered how many girls he had loved and left haunted\\r\\nBut if hes a ghost then I can be a phantom\\r\\nHoldin him for ransom some\\r\\nSome boys are tryin too hard he dont try at all though\\r\\nYounger than my exes but he act like such a man so\\r\\nI see nothing better I keep him forever\\r\\nLike a vendettata\\r\\nI I I see how this is gon go\\r\\nTouch me and youll never be alone\\r\\nIIsland breeze and lights down low\\r\\nNo one has to know\\r\\nIn the middle of the night in my dreams\\r\\nYou should see the things we do baby\\r\\nIn the middle of the night in my dreams\\r\\nI know Im gonna be with you\\r\\nSo I take my time\\r\\nAre you ready for it\\r\\nKnew I was a robber first time that he saw me\\r\\nStealing hearts and running off and never sayin sorry\\r\\nBut if Im a thief then he can join the heist and\\r\\nWell move to an island and\\r\\nAnd he can be my jailer Burton to this Taylor\\r\\nEvery love Ive known in comparison is a failure\\r\\nI forget their names now Im so very tame now\\r\\nNever be the same now now\\r\\nI I I see how this is gon go\\r\\nTouch me and youll never be alone\\r\\nIIsland breeze and lights down low\\r\\nNo one has to know no one has to know\\r\\nIn the middle of the night in my dreams\\r\\nYou should see the things we do baby\\r\\nIn the middle of the night in my dreams\\r\\nI know Im gonna be with you\\r\\nSo I take my time\\r\\nAre you ready for it\\r\\nOh are you ready for it\\r\\nBaby let the games begin\\r\\nLet the games begin\\r\\nLet the games begin\\r\\nBaby let the games begin\\r\\nLet the games begin\\r\\nLet the games begin\\r\\nI I I see how this is gon go\\r\\nTouch me and youll never be alone\\r\\nIIsland breeze and lights down low\\r\\nNo one has to know\\r\\nIn the middle of the night in my dreams\\r\\nYou should see the things we do baby\\r\\nIn the middle of the night in my dreams\\r\\nI know Im gonna be with you\\r\\nSo I take my time\\r\\nIn the middle of the night\\r\\nBaby let the games begin\\r\\nLet the games begin\\r\\nLet the games begin\\r\\nAre you ready for it\\r\\nBaby let the games begin\\r\\nLet the games begin\\r\\nLet the games begin\\r\\nAre you ready for it\\r\\nFuture\\r\\nI wanna be your end game\\r\\nI wanna be your first string\\r\\nI wanna be your ATeam \\r\\nwhoa whoa whoa\\r\\nI wanna be your end game end game\\r\\nFuture\\r\\nBig reputation big reputation\\r\\nOoh you and me we got big reputations ah\\r\\nAnd you heard about me ooh\\r\\nI got some big enemies \\r\\nyeah\\r\\nBig reputation big reputation\\r\\nOoh you and me would be a big conversation ah \\r\\ngit git\\r\\nAnd I heard about you ooh \\r\\nyeah\\r\\nYou like the bad ones too\\r\\nYou so dope dont overdose\\r\\nIm so stoked I need a toast\\r\\nWe do the most Im in the Ghost like Im whippin a boat\\r\\nI got a reputation girl that dont precede me yeah\\r\\nIm one call away whenever you need me yeah\\r\\nIm in a G5 yeah come to the ASide yeah\\r\\nI got a bad boy persona thats what they like what they like\\r\\nYou love it I love it too cause you my type you my type\\r\\nYou hold me down and I protect you with my life\\r\\namp Future\\r\\nI dont wanna touch you I dont wanna be\\r\\nJust another exlove you dont wanna see\\r\\nI dont wanna miss you \\r\\nI dont wanna miss you\\r\\nLike the other girls do\\r\\nI dont wanna hurt you I just wanna be\\r\\nDrinking on a beach with you all over me\\r\\nI know what they all say \\r\\nI know what they all say\\r\\nBut I aint tryna play\\r\\nI wanna be your end game end game\\r\\nI wanna be your first string first string\\r\\nI wanna be your ATeam ATeam\\r\\nI wanna be your end game end game\\r\\nKnew her when I was young\\r\\nReconnected when we were little bit older both sprung\\r\\nI got issues and chips on both of my shoulders\\r\\nReputation precedes me in rumors Im kneedeep\\r\\nThe truth is its easier to ignore it believe me\\r\\nEven when wed argue wed not do it for long\\r\\nAnd you understand the good and bad end up in the song\\r\\nFor all your beautiful traits and the way you do it with ease\\r\\nFor all my flaws paranoia and insecurities\\r\\nIve made mistakes and made some choices thats hard to deny\\r\\nAfter the storm something was born on the 4th of July\\r\\nIve passed days without fun this end game is the one\\r\\nWith four words on the tip of my tongue Ill never say it\\r\\nI dont wanna touch you I dont wanna be\\r\\nJust another exlove you dont wanna see\\r\\nI dont wanna miss you I dont wanna miss you\\r\\nLike the other girls do\\r\\nI dont wanna hurt you I just wanna be\\r\\nDrinking on a beach with you all over me\\r\\nI know what they all say yeah\\r\\nBut I aint tryna play\\r\\nI wanna be your end game end game\\r\\nI wanna be your first string wanna be your first string\\r\\nI wanna be your ATeam ATeam\\r\\nI wanna be your end game end game\\r\\namp Future\\r\\nBig reputation big reputation\\r\\nOoh you and me we got big reputations ah\\r\\nAnd you heard about me ooh\\r\\nI got some big enemies\\r\\nHey big reputation big reputation\\r\\nOoh \\r\\nyou and me would be a big conversation\\r\\n ah\\r\\nAnd I heard about you \\r\\nooh\\r\\nYou like the bad ones too\\r\\nI hit you like bang we tried to forget it but we just couldnt\\r\\nAnd I bury hatchets but I keep maps of where I put em\\r\\nReputation precedes me they told you Im crazy\\r\\nI swear I dont love the drama it loves me\\r\\nAnd I cant let you go your hand prints on my soul\\r\\nIts like your eyes are liquor its like your body is gold\\r\\nYouve been calling my bluff on all my usual tricks\\r\\nSo heres the truth from my red lips\\r\\nFuture\\r\\namp Ed Sheeran\\r\\nI wanna be your end game end game\\r\\nI wanna be your first string \\r\\nme and you\\r\\n first string\\r\\nI wanna be your ATeam \\r\\nbe your ATeam now\\r\\n ATeam\\r\\nI wanna be your end game end game\\r\\nI wanna be your end game oh I do\\r\\nI wanna be your first string first string\\r\\nI wanna be your ATeam ATeam\\r\\nI wanna be your end game end game\\r\\nI never trust a narcissist but they love me\\r\\nSo I play em like a violin\\r\\nAnd I make it look ohsoeasy\\r\\nCause for every lie I tell them they tell me three\\r\\nThis is how the world works\\r\\nNow all he thinks about is me\\r\\nI can feel the flames on my skin\\r\\nCrimson red paint on my lips\\r\\nIf a man talks shit then I owe him nothing\\r\\nI dont regret it one bit cause he had it coming\\r\\nThey say I did something bad\\r\\nThen whys it feel so good\\r\\nThey say I did something bad\\r\\nBut whys it feel so good\\r\\nMost fun I ever had\\r\\nAnd Id do it over and over and over again if I could\\r\\nIt just felt so good good\\r\\nI never trust a playboy but they love me\\r\\nSo I fly em all around the world\\r\\nAnd I let them think they saved me\\r\\nThey never see it comin what I do next\\r\\nThis is how the world works\\r\\nYou gotta leave before you get left\\r\\nI can feel the flames on my skin\\r\\nHe says Dont throw away a good thing\\r\\nBut if he drops my name then I owe him nothin\\r\\nAnd if he spends my change then he had it comin\\r\\nThey say I did something bad\\r\\nThen whys it feel so good\\r\\nThey say I did something bad\\r\\nBut whys it feel so good\\r\\nMost fun I ever had\\r\\nAnd Id do it over and over and over again if I could\\r\\nIt just felt so good good\\r\\nIt just felt so good\\r\\nTheyre burning all the witches even if you arent one\\r\\nThey got their pitchforks and proof their receipts and reasons\\r\\nTheyre burning all the witches even if you arent one\\r\\nSo light me up light me up light me up light me up\\r\\nLight me up go ahead and light me up light me up\\r\\nLight me up light me up light me up light me up\\r\\nLight me up light me up light me up\\r\\nThey say I did something bad\\r\\nThen whys it feel so good\\r\\nThey say I did something bad\\r\\nBut whys it feel so good\\r\\nMost fun I ever had\\r\\nAnd Id do it over and over and over again if I could\\r\\nIt just felt so good good\\r\\nOh you say I did something bad\\r\\nYou say I did something bad\\r\\nWhys it feel so good good\\r\\nSo bad whys it feel so good\\r\\nWhys it feel whys it feel so good bad\\r\\nIt just felt so good good\\r\\nDont blame me your love made me crazy\\r\\nIf it doesnt you aint doin it right\\r\\nLord save me my drug is my baby\\r\\nIll be usin for the rest of my life\\r\\nIve been breakin hearts a long time\\r\\nAnd toyin with them older guys\\r\\nJust playthings for me to use\\r\\nSomething happened for the first time\\r\\nIn the darkest little paradise\\r\\nShakin pacin I just need you\\r\\nFor you I would cross the line\\r\\nI would waste my time\\r\\nI would lose my mind\\r\\nThey say Shes gone too far this time\\r\\nDont blame me your love made me crazy\\r\\nIf it doesnt you aint doin it right\\r\\nLord save me my drug is my baby\\r\\nIll be usin for the rest of my life\\r\\nDont blame me your love made me crazy\\r\\nIf it doesnt you aint doin it right\\r\\nOh Lord save me my drug is my baby\\r\\nIll be usin for the rest of my life\\r\\nMy name is whatever you decide\\r\\nAnd Im just gonna call you mine\\r\\nIm insane but Im your baby your baby\\r\\nEchoes echoes of your name inside my mind\\r\\nHalo hiding my obsession\\r\\nI once was poison ivy but now Im your daisy\\r\\nAnd baby for you I would fall from grace\\r\\nJust to touch your face\\r\\nIf you walk away\\r\\nId beg you on my knees to stay\\r\\nDont blame me your love made me crazy\\r\\nIf it doesnt you aint doin it right\\r\\nLord save me my drug is my baby\\r\\nIll be usin for the rest of my life\\r\\nDont blame me your love made me crazy\\r\\nIf it doesnt you aint doin it right\\r\\nOh Lord save me my drug is my baby\\r\\nIll be usin for the rest of my life\\r\\nI get so high oh\\r\\nEvery time youre every time youre lovin me\\r\\nYoure lovin me\\r\\nTrip of my life oh\\r\\nEvery time youre every time youre touchin me\\r\\nYoure touchin me\\r\\nEvery time youre every time youre lovin me\\r\\nOh Lord save me\\r\\nMy drug is my baby\\r\\nIll be usin for the rest of my life\\r\\nUsin for the rest of my life oh\\r\\nDont blame me your love made me crazy\\r\\nIf it doesnt you aint doin it right doin it right no\\r\\nLord save me my drug is my baby\\r\\nIll be usin for the rest of my life oh\\r\\nDont blame me your love made me crazy\\r\\nIf it doesnt you aint doin it right you aint doin it\\r\\nOh Lord save me my drug is my baby\\r\\nIll be usin for the rest of my life Ill be usin Ill be usin\\r\\nI get so high oh\\r\\nEvery time youre every time youre lovin me\\r\\nYoure lovin me\\r\\nOh Lord save me\\r\\nMy drug is my baby\\r\\nIll be usin for the rest of my life\\r\\nThis aint for the best\\r\\nMy reputations never been worse so\\r\\nYou must like me for me\\r\\nWe cant make\\r\\nAny promises now can we babe\\r\\nBut you can make me a drink\\r\\nDive bar on the East Side where you at\\r\\nPhone lights up my nightstand in the black\\r\\nCome here you can meet me in the back\\r\\nDark jeans and your Nikes look at you\\r\\nOh damn never seen that color blue\\r\\nJust think of the fun things we could do\\r\\nCause I like you\\r\\nThis aint for the best\\r\\nMy reputations never been worse so\\r\\nYou must like me for me\\r\\nYeah I want you\\r\\nWe cant make\\r\\nAny promises now can we babe\\r\\nBut you can make me a drink\\r\\nIs it cool that I said all that\\r\\nIs it chill that youre in my head\\r\\nCause I know that its delicate delicate\\r\\nIs it cool that I said all that\\r\\nIs it too soon to do this yet\\r\\nCause I know that its delicate\\r\\nIsnt it Isnt it Isnt it Isnt it\\r\\nIsnt it Isnt it Isnt it\\r\\nIsnt it delicate\\r\\nThird floor on the West Side me and you\\r\\nHandsome youre a mansion with a view\\r\\nDo the girls back home touch you like I do\\r\\nLong night with your hands up in my hair\\r\\nEchoes of your footsteps on the stairs\\r\\nStay here honey I dont wanna share\\r\\nCause I like you\\r\\nThis aint for the best\\r\\nMy reputations never been worse so\\r\\nYou must like me for me\\r\\nYeah I want you\\r\\nWe cant make\\r\\nAny promises now can we babe\\r\\nBut you can make me a drink\\r\\nIs it cool that I said all that\\r\\nIs it chill that youre in my head\\r\\nCause I know that its delicate delicate\\r\\nIs it cool that I said all that\\r\\nIs it too soon to do this yet\\r\\nCause I know that its delicate\\r\\nIsnt it Isnt it Isnt it Isnt it\\r\\nIsnt it Isnt it Isnt it\\r\\nIsnt it delicate\\r\\nSometimes I wonder when you sleep\\r\\nAre you ever dreaming of me\\r\\nSometimes when I look into your eyes\\r\\nI pretend youre mine all the damn time\\r\\nCause I like you\\r\\nIs it cool that I said all that\\r\\nIs it chill that youre in my head\\r\\nCause I know that its delicate delicate\\r\\nYeah I want you\\r\\nIs it cool that I said all that\\r\\nIs it too soon to do this yet\\r\\nCause I know that its delicate delicate\\r\\nCause I like you\\r\\nIs it cool that I said all that\\r\\nIsnt it Isnt it Isnt it Isnt it\\r\\nIs it chill that youre in my head\\r\\nIsnt it Isnt it Isnt it Isnt it\\r\\nCause I know that its delicate\\r\\nIsnt it Isnt it Isnt it Isnt it\\r\\nYeah I want you\\r\\nIs it cool that I said all that\\r\\nIsnt it Isnt it Isnt it Isnt it\\r\\nIs it too soon to do this yet\\r\\nIsnt it Isnt it Isnt it\\r\\nCause I know that its delicate\\r\\nIsnt it delicate\\r\\nI dont like your little games\\r\\nDont like your tilted stage\\r\\nThe role you made me play\\r\\nOf the fool no I dont like you\\r\\nI dont like your perfect crime\\r\\nHow you laugh when you lie\\r\\nYou said the gun was mine\\r\\nIsnt cool no I dont like you oh\\r\\nBut I got smarter I got harder in the nick of time\\r\\nHoney I rose up from the dead I do it all the time\\r\\nIve got a list of names and yours is in red underlined\\r\\nI check it once then I check it twice oh\\r\\nOoh look what you made me do\\r\\nLook what you made me do\\r\\nLook what you just made me do\\r\\nLook what you just made me\\r\\nOoh look what you made me do\\r\\nLook what you made me do\\r\\nLook what you just made me do\\r\\nLook what you just made me do\\r\\nI dont like your kingdom keys\\r\\nThey once belonged to me\\r\\nYou asked me for a place to sleep\\r\\nLocked me out and threw a feast what\\r\\nThe world moves on another day another drama drama\\r\\nBut not for me not for me all I think about is karma\\r\\nAnd then the world moves on but one things for sure\\r\\nMaybe I got mine but youll all get yours\\r\\nBut I got smarter I got harder in the nick of time\\r\\nHoney I rose up from the dead I do it all the time\\r\\nIve got a list of names and yours is in red underlined\\r\\nI check it once then I check it twice oh\\r\\nOoh look what you made me do\\r\\nLook what you made me do\\r\\nLook what you just made me do\\r\\nLook what you just made me\\r\\nOoh look what you made me do\\r\\nLook what you made me do\\r\\nLook what you just made me do\\r\\nLook what you just made me do\\r\\nI dont trust nobody and nobody trusts me\\r\\nIll be the actress starring in your bad dreams\\r\\nI dont trust nobody and nobody trusts me\\r\\nIll be the actress starring in your bad dreams\\r\\nI dont trust nobody and nobody trusts me\\r\\nIll be the actress starring in your bad dreams\\r\\nI dont trust nobody and nobody trusts me\\r\\nIll be the actress starring in your bad dreams\\r\\nOoh look what you made me do\\r\\nLook what you made me do\\r\\nLook what you just made me do\\r\\nLook what you just made me\\r\\nOoh look what you made me do\\r\\nLook what you made me do\\r\\nLook what you just made me\\r\\nIm sorry the old Taylor cant come to the phone right now\\r\\nWhy Oh cause shes dead Oh\\r\\nOoh look what you made me do\\r\\nLook what you made me do\\r\\nLook what you just made me do\\r\\nLook what you just made me\\r\\nOoh look what you made me do\\r\\nLook what you made me do\\r\\nLook what you just made me do\\r\\nLook what you just made me do\\r\\nOoh look what you made me do\\r\\nLook what you made me do\\r\\nLook what you just made me do\\r\\nLook what you just made me\\r\\nOoh look what you made me do\\r\\nLook what you made me do\\r\\nLook what you just made me do\\r\\nLook what you just made me do\\r\\nSee you in the dark\\r\\nAll eyes on you my magician\\r\\nAll eyes on us\\r\\nYou make everyone disappear and\\r\\nCut me into pieces\\r\\nGold cage hostage to my feelings\\r\\nBack against the wall\\r\\nTrippin triptrippin when youre gone\\r\\nCause we break down a little\\r\\nBut when you get me alone its so simple\\r\\nCause baby I know what you know\\r\\nWe can feel it\\r\\nAnd all the pieces fall\\r\\nRight into place\\r\\nGetting caught up in a moment\\r\\nLipstick on your face\\r\\nSo it goes\\r\\nIm yours to keep\\r\\nAnd Im yours to lose\\r\\nYou know Im not a bad girl but I\\r\\nDo bad things with you\\r\\nSo it goes\\r\\nMet you in a bar\\r\\nAll eyes on me your illusionist\\r\\nAll eyes on us\\r\\nI make all your gray days clear\\r\\nAnd wear you like a necklace\\r\\nIm so chill but you make me jealous\\r\\nBut I got your heart\\r\\nSkippin skipskippin when Im gone\\r\\nCause we break down a little\\r\\nBut when I get you alone its so simple\\r\\nCause baby I know what you know\\r\\nWe can feel it\\r\\nAnd all the pieces fall\\r\\nRight into place\\r\\nGetting caught up in a moment\\r\\nLipstick on your face\\r\\nSo it goes\\r\\nIm yours to keep\\r\\nAnd Im yours to lose\\r\\nYou know Im not a bad girl but I\\r\\nDo bad things with you\\r\\nSo it goes\\r\\nCome here dressed in black now\\r\\nSo so so it goes\\r\\nScratches down your back now\\r\\nSo so so it goes\\r\\nYou did a number on me\\r\\nBut honestly baby whos counting\\r\\nI did a number on you\\r\\nBut honestly baby whos counting\\r\\nYou did a number on me\\r\\nBut honestly baby whos counting\\r\\nWhos counting\\r\\n1 2 3\\r\\nAnd all the pieces fall pieces fall\\r\\nRight into place\\r\\nGetting caught up in a moment caught up caught up\\r\\nLipstick on your face\\r\\nSo it goes goes\\r\\nIm yours to keep oh\\r\\nAnd Im yours to lose baby\\r\\nYou know Im not a bad girl but I\\r\\nDo bad things with you\\r\\nSo it goes\\r\\nCome here dressed in black now\\r\\nSo so so it goes\\r\\nScratches down your back now\\r\\nSo so so it goes\\r\\nCome here dressed in black now\\r\\nSo so so it goes\\r\\nScratches down your back now\\r\\nSo so so it goes\\r\\nGorgeous\\r\\nYou should take it as a compliment\\r\\nThat I got drunk and made fun of the way you talk\\r\\nYou should think about the consequence\\r\\nOf your magnetic field being a little too strong\\r\\nAnd I got a boyfriend hes older than us\\r\\nHes in the club doing I dont know what\\r\\nYoure so cool it makes me hate you so much\\r\\nI hate you so much\\r\\nWhiskey on ice Sunset and Vine\\r\\nYouve ruined my life by not being mine\\r\\nYoure so gorgeous\\r\\nI cant say anything to your face\\r\\nCause look at your face\\r\\nAnd Im so furious\\r\\nAt you for making me feel this way\\r\\nBut what can I say\\r\\nYoure gorgeous\\r\\nYou should take it as a compliment\\r\\nThat Im talking to everyone here but you\\r\\nAnd you should think about the consequence\\r\\nOf you touching my hand in a darkened room\\r\\nIf youve got a girlfriend Im jealous of her\\r\\nBut if youre single thats honestly worse\\r\\nCause youre so gorgeous it actually hurts\\r\\nHoney it hurts\\r\\nOcean blue eyes looking in mine\\r\\nI feel like I might sink and drown and die\\r\\nYoure so gorgeous\\r\\nI cant say anything to your face\\r\\nCause look at your face\\r\\nAnd Im so furious\\r\\nAt you for making me feel this way\\r\\nBut what can I say\\r\\nYoure gorgeous\\r\\nYou make me so happy it turns back to sad\\r\\nTheres nothing I hate more than what I cant have\\r\\nAnd you are so gorgeous it makes me so mad\\r\\nYou make me so happy it turns back to sad yeah\\r\\nTheres nothing I hate more than what I cant have\\r\\nGuess Ill just stumble on home to my cats\\r\\nAlone\\r\\nUnless you wanna come along\\r\\nYoure so gorgeous\\r\\nI cant say anything to your face\\r\\nCause look at your face\\r\\nAnd Im so furious\\r\\nAt you for making me feel this way\\r\\nBut what can I say\\r\\nYoure gorgeous\\r\\nYou make me so happy it turns back to sad\\r\\nTheres nothing I hate more than what I cant have\\r\\nAnd you are so gorgeous it makes me so mad\\r\\nYoure gorgeous\\r\\nYou make me so happy it turns back to sad\\r\\nTheres nothing I hate more than what I cant have\\r\\nYou are so gorgeous it makes me so mad\\r\\nYoure gorgeous\\r\\nNo nothing good starts in a getaway car\\r\\nIt was the best of times the worst of crimes\\r\\nI struck a match and blew your mind\\r\\nBut I didnt mean it\\r\\nAnd you didnt see it\\r\\nThe ties were black the lies were white\\r\\nIn shades of gray in candlelight\\r\\nI wanted to leave him\\r\\nI needed a reason\\r\\nX marks the spot where we fell apart\\r\\nHe poisoned the well I was lyin to myself\\r\\nI knew it from the first Old Fashioned we were cursed\\r\\nWe never had a shotgun shot in the dark\\r\\nOh\\r\\nYou were drivin the getaway car\\r\\nWe were flyin but we never get far\\r\\nDont pretend its such a mystery\\r\\nThink about the place where you first met me\\r\\nRidin in a getaway car\\r\\nThere were sirens in the beat of your heart\\r\\nI shoulda known Id be the first to leave\\r\\nThink about the place where you first met me\\r\\nIn a getaway car ohohoh\\r\\nNo they never get far ohohahh\\r\\nNo nothing good starts in a getaway car\\r\\nIt was the great escape the prison break\\r\\nThe light of freedom on my face\\r\\nBut you werent thinkin\\r\\nAnd I was just drinkin\\r\\nWell he was runnin after us I was screamin Go go go\\r\\nBut with three of us honey its a sideshow\\r\\nAnd a circus aint a love story\\r\\nAnd now were both sorry were both sorry\\r\\nX marks the spot where we fell apart\\r\\nHe poisoned the well every man for himself\\r\\nI knew it from the first Old Fashioned we were cursed\\r\\nIt hit you like a shotgun shot to the heart\\r\\nOh\\r\\nYou were drivin the getaway car\\r\\nWe were flyin but wed never get far\\r\\nDont pretend its such a mystery\\r\\nThink about the place where you first met me\\r\\nRidin in a getaway car\\r\\nThere were sirens in the beat of your heart\\r\\nShoulda known Id be the first to leave\\r\\nThink about the place where you first met me\\r\\nIn a getaway car ohohoh\\r\\nNo they never get far ohohahh\\r\\nNo nothing good starts in a getaway car\\r\\nWe were jetset Bonnie and Clyde ohoh\\r\\nUntil I switched to the other side\\r\\nTo the other siiiiide\\r\\nIts no surprise I turned you in ohoh\\r\\nCause us traitors never win\\r\\nIm in a getaway car\\r\\nI left you in a motel bar\\r\\nPut the money in a bag and I stole the keys\\r\\nThat was the last time you ever saw me\\r\\nOh\\r\\nDrivin the getaway car\\r\\nWe were flyin but we never get far dont pretend\\r\\nDont pretend its such a mystery\\r\\nThink about the place where you first met me\\r\\nRidin in a getaway car\\r\\nThere were sirens in the beat of your heart shoulda known\\r\\nShoulda known Id be the first to leave\\r\\nThink about the place where you first met me\\r\\nIn a getaway car ohohoh\\r\\nNo they never get far ohohahh\\r\\nNo nothing good starts in a getaway car\\r\\nI was ridin in a getaway car\\r\\nI was cryin in a getaway car\\r\\nI was dyin in a getaway car\\r\\nSaid goodbye in a getaway car\\r\\nRidin in a getaway car\\r\\nI was cryin in a getaway car\\r\\nI was dyin in a getaway car\\r\\nSaid goodbye in a getaway car\\r\\nIm perfectly fine I live on my own\\r\\nI made up my mind Im better off bein alone\\r\\nWe met a few weeks ago\\r\\nNow you try on callin me baby like tryin on clothes\\r\\nSalute to me Im your American Queen\\r\\nAnd you move to me like Im a Motown beat\\r\\nAnd we rule the kingdom inside my room\\r\\nCause all the boys and their expensive cars\\r\\nWith their Range Rovers and their Jaguars\\r\\nNever took me quite where you do\\r\\nAnd all at once you are the one I have been waiting for\\r\\nKing of my heart body and soul ooh whoa\\r\\nAnd all at once youre all I want Ill never let you go\\r\\nKing of my heart body and soul ooh whoa\\r\\nAnd all at once Ive been waiting waiting\\r\\nOoh whoa ooh whoa\\r\\nAnd all at once you are the one I have been waiting waiting\\r\\nBody and soul ooh whoa\\r\\nAnd all at once\\r\\nLate in the night the citys asleep\\r\\nYour love is a secret Im hoping dreaming dying to keep\\r\\nChange my priorities\\r\\nThe taste of your lips is my idea of luxury\\r\\nSalute to me Im your American Queen\\r\\nAnd you move to me like Im a Motown beat\\r\\nAnd we rule the kingdom inside my room\\r\\nInside my room oh\\r\\nCause all the boys and their expensive cars\\r\\nWith their Range Rovers and their Jaguars\\r\\nNever took me quite where you do\\r\\nAnd all at once you are the one I have been waiting for\\r\\nKing of my heart body and soul ooh whoa\\r\\nAnd all at once youre all I want Ill never let you go\\r\\nKing of my heart body and soul ooh whoa\\r\\nAnd all at once Ive been waiting waiting\\r\\nOoh whoa ooh whoa\\r\\nAnd all at once you are the one I have been waiting waiting waiting waiting\\r\\nBody and soul ooh whoa\\r\\nAnd all at once\\r\\nIs this the end of all the endings\\r\\nMy broken bones are mending\\r\\nWith all these nights were spending\\r\\nUp on the roof with a school girl crush\\r\\nDrinking beer out of plastic cups\\r\\nSay you fancy me not fancy stuff\\r\\nBaby all at once this is enough\\r\\nAnd all at once you are the one I have been waiting for\\r\\nKing of my heart body and soul ooh whoa\\r\\nAnd all at once you are the one I have been waiting for\\r\\nKing of my heart body and soul ooh whoa\\r\\nAnd all at once youre all I want Ill never let you go\\r\\nKing of my heart my heart body and soul my soul ooh whoa\\r\\nAnd all at once Ive been waiting waiting\\r\\nOoh whoa ooh whoa ooh whoa\\r\\nAnd all at once cause youre the one I have been waiting waiting\\r\\nBody and soul ooh whoa\\r\\nAnd all at once\\r\\nI I loved you in secret\\r\\nFirst sight yeah we love without reason\\r\\nOh twentyfive years old\\r\\nOh how were you to know And\\r\\nMy my love had been frozen\\r\\nDeep blue but you painted me golden\\r\\nOh and you held me close\\r\\nOh how was I to know I\\r\\nCouldve spent forever with your hands in my pockets\\r\\nPicture of your face in an invisible locket\\r\\nYou said there was nothing in the world that could stop it\\r\\nI had a bad feeling\\r\\nAnd darling you had turned my bed into a sacred oasis\\r\\nPeople started talking putting us through our paces\\r\\nI knew there was no one in the world who could take it\\r\\nI had a bad feeling\\r\\nBut we were dancing\\r\\nDancing with our hands tied hands tied\\r\\nYeah we were dancing\\r\\nLike it was the first time first time\\r\\nYeah we were dancing\\r\\nDancing with our hands tied hands tied\\r\\nYeah we were dancing\\r\\nAnd I had a bad feeling\\r\\nBut we were dancing\\r\\nI I loved you in spite of\\r\\nDeep fears that the world would divide us\\r\\nSo baby can we dance\\r\\nOh through an avalanche And\\r\\nSay say that we got it\\r\\nIm a mess but Im the mess that you wanted\\r\\nOh cause its gravity\\r\\nOh keeping you with me I\\r\\nCouldve spent forever with your hands in my pockets\\r\\nPicture of your face in an invisible locket\\r\\nYou said there was nothing in the world that could stop it\\r\\nI had a bad feeling\\r\\nBut we were dancing\\r\\nDancing with our hands tied hands tied\\r\\nYeah we were dancing\\r\\nLike it was the first time first time\\r\\nYeah we were dancing\\r\\nDancing with our hands tied hands tied\\r\\nYeah we were dancing\\r\\nKnew we had our hands tied\\r\\nAnd I had a bad feeling\\r\\nBut we were dancing\\r\\nId kiss you as the lights went out\\r\\nSwaying as the room burned down\\r\\nId hold you as the water rushes in\\r\\nIf I could dance with you again\\r\\nId kiss you as the lights went out\\r\\nSwaying as the room burned down\\r\\nId hold you as the water rushes in\\r\\nIf I could dance with you again\\r\\nAgain\\r\\nDancing with our hands tied hands tied\\r\\nOh Yeah we were dancing\\r\\nLike it was the first time first time\\r\\nYeah we were dancing oh\\r\\nDancing with our hands tied hands tied\\r\\nDancing with our hands tied\\r\\nYeah we were dancing\\r\\nAnd I had a bad feeling had a bad feeling\\r\\nBut we were dancing\\r\\nHands tied hands tied\\r\\nDancing\\r\\nOur secret moments in a crowded room\\r\\nThey got no idea about me and you\\r\\nThere is an indentation in the shape of you\\r\\nMade your mark on me a golden tattoo\\r\\nAll of this silence and patience pining and anticipation\\r\\nMy hands are shaking from holding back from you\\r\\nHa ah ah\\r\\nAll of this silence and patience pining and desperately waiting\\r\\nMy hands are shaking from all this\\r\\nAh ha ha haah\\r\\nSay my name and everything just stops\\r\\nI dont want you like a best friend\\r\\nOnly bought this dress so you could take it off\\r\\nTake it oh ha ha haah\\r\\nCarve your name into my bedpost\\r\\nCause I dont want you like a best friend\\r\\nOnly bought this dress so you could take it off\\r\\nTake it oh ha ha haah\\r\\nInescapable Im not even gonna try\\r\\nAnd if I get burned at least we were electrified\\r\\nIm spilling wine in the bathtub\\r\\nYou kiss my face and were both drunk\\r\\nEveryone thinks that they know us\\r\\nBut they know nothing about\\r\\nAll of this silence and patience pining and anticipation\\r\\nMy hands are shaking from holding back from you\\r\\nHa ah ah\\r\\nAll of this silence and patience pining and desperately waiting\\r\\nMy hands are shaking from all this\\r\\nAh ha ha haah\\r\\nSay my name and everything just stops\\r\\nI dont want you like a best friend\\r\\nOnly bought this dress so you could take it off\\r\\nTake it oh ha ha haah\\r\\nCarve your name into my bedpost\\r\\nCause I dont want you like a best friend\\r\\nOnly bought this dress so you could take it off\\r\\nTake it oh ha ha\\r\\nHaahah haahah haahahah\\r\\nOnly bought this dress so you could take it off\\r\\nHaahah haahah haahahah\\r\\nOnly bought this dress so you could take it off\\r\\nFlashback when you met me\\r\\nYour buzzcut and my hair bleached\\r\\nEven in my worst times you could see the best of me\\r\\nFlashback to my mistakes\\r\\nMy rebounds my earthquakes\\r\\nEven in my worst lies you saw the truth in me\\r\\nAnd I woke up just in time\\r\\nNow I wake up by your side\\r\\nMy one and only my lifeline\\r\\nI woke up just in time\\r\\nNow I wake up by your side\\r\\nMy hands shake I cant explain this\\r\\nAh ha ha haah\\r\\nSay my name and everything just stops\\r\\nI dont want you like a best friend\\r\\nOnly bought this dress so you could take it off\\r\\nTake it oh ha ha haah\\r\\nCarve your name into my bedpost\\r\\nCause I dont want you like a best friend\\r\\nOnly bought this dress so you could take it off\\r\\nTake it oh ha ha haah\\r\\nThere is an indentation in the shape of you\\r\\nOnly bought this dress so you could take it off\\r\\nYou made your mark on me golden tattoo\\r\\nOnly bought this dress so you could take it off\\r\\nIt was so nice throwing big parties\\r\\nJump into the pool from the balcony\\r\\nEveryone swimming in a champagne sea\\r\\nAnd there are no rules when you show up here\\r\\nBass beat rattling the chandelier\\r\\nFeeling so Gatsby for that whole year\\r\\nSo whyd you have to rain on my parade\\r\\nIm shaking my head and locking the gates\\r\\nThis is why we cant have nice things darling\\r\\nBecause you break them\\r\\nI had to take them away\\r\\nThis is why we cant have nice things honey\\r\\nDid you think I wouldnt hear all the things you said about me\\r\\nThis is why we cant have nice things\\r\\nIt was so nice being friends again\\r\\nThere I was giving you a second chance\\r\\nBut then you stabbed in the back while shaking my hand\\r\\nAnd therein lies the issue\\r\\nFriends dont try to trick you\\r\\nGet you on the phone and mindtwist you\\r\\nAnd so I took an axe to a mended fence\\r\\nBut Im not the only friend youve lost lately\\r\\nIf only you werent so shady\\r\\nThis is why we cant have nice things darling\\r\\nBecause you break them\\r\\nI had to take them away\\r\\nThis is why we cant have nice things honey\\r\\nDid you think I wouldnt hear all the things you said about me\\r\\nThis is why we cant have\\r\\nHeres a toast to my real friends\\r\\nThey dont care about the hesaidshesaid\\r\\nAnd heres to my baby\\r\\nHe aint reading what they call me lately\\r\\nAnd heres to my momma\\r\\nHad to listen to all this drama\\r\\nAnd heres to you\\r\\nCause forgiveness is a nice thing to do\\r\\nHaha I cant even say it with a straight face\\r\\nThis is why we cant have nice things darling darling\\r\\nBecause you break them\\r\\nI had to take them away\\r\\nThis is why we cant have nice things honey\\r\\nDid you think I wouldnt hear all the things you said about me\\r\\nThis is why we cant have nice things darling\\r\\nAnd heres to my real friends\\r\\nBecause you break them\\r\\nI had to take them away\\r\\nAnd heres to my baby\\r\\nThis is why we cant have nice things darling\\r\\nHe didnt care about that hesaidshesaid\\r\\nDid you think I wouldnt hear all the things you said about me\\r\\nThis is why we cant have nice things\\r\\nMy castle crumbled overnight\\r\\nI brought a knife to a gunfight\\r\\nThey took the crown but its alright\\r\\nAll the liars are calling me one\\r\\nNobodys heard from me for months\\r\\nIm doin better than I ever was\\r\\nCause\\r\\nMy babys fit like a daydream\\r\\nWalking with his head down\\r\\nIm the one hes walking to\\r\\nSo call it what you want yeah\\r\\nCall it what you want to\\r\\nMy babys fly like a jet stream\\r\\nHigh above the whole scene\\r\\nLoves me like Im brand new\\r\\nSo call it what you want yeah\\r\\nCall it what you want to\\r\\nAll my flowers grew back as thorns\\r\\nWindows boarded up after the storm\\r\\nHe built a fire just to keep me warm\\r\\nAll the drama queens taking swings\\r\\nAll the jokers dressing up as kings\\r\\nThey fade to nothing when I look at him\\r\\nAnd I know I make the same mistakes every time\\r\\nBridges burn I never learn\\r\\nAt least I did one thing right\\r\\nI did one thing right\\r\\nIm laughing with my lover makin forts under covers\\r\\nTrust him like a brother\\r\\nYeah you know I did one thing right\\r\\nStarry eyes sparkin up my darkest night\\r\\nMy babys fit like a daydream\\r\\nWalking with his head down\\r\\nIm the one hes walking to\\r\\nSo call it what you want yeah\\r\\nCall it what you want to\\r\\nMy babys fly like a jet stream\\r\\nHigh above the whole scene\\r\\nLoves me like Im brand new\\r\\nCall it what you want call it what you want call it\\r\\nSo call it what you want yeah\\r\\nCall it what you want to\\r\\nI want to wear his initial on a chain round my neck\\r\\nChain round my neck\\r\\nNot because he owns me\\r\\nBut cause he really knows me\\r\\nWhich is more than they can say I\\r\\nI recall late November\\r\\nHoldin my breath slowly I said\\r\\nYou dont need to save me\\r\\nBut would you run away with me\\r\\nYes would you run away\\r\\nMy babys fit like a daydream\\r\\nWalking with his head down\\r\\nIm the one hes walking to\\r\\nCall it what you want call it what you want call it\\r\\nSo call it what you want yeah\\r\\nCall it what you want to\\r\\nMy babys fly like a jet stream\\r\\nHigh above the whole scene\\r\\nLoves me like Im brand new\\r\\nCall it what you want call it what you want call it\\r\\nSo call it what you want yeah\\r\\nCall it what you want to\\r\\nCall it what you want call it\\r\\nCall it what you want call it what you want call it\\r\\nCall it what you want call it what you want call it\\r\\nCall it what you want call it what you want call it\\r\\nCall it what you want call it what you want call it\\r\\nCall it what you want call it what you want call it\\r\\nCall it what you want call it what you want call it\\r\\nCall it what you want yeah\\r\\nCall it what you want to\\r\\nTheres glitter on the floor after the party\\r\\nGirls carrying their shoes down in the lobby\\r\\nCandle wax and Polaroids on the hardwood floor\\r\\nYou and me from the night before but\\r\\nDont read the last page\\r\\nBut I stay when youre lost and Im scared\\r\\nAnd youre turning away\\r\\nI want your midnights\\r\\nBut Ill be cleaning up bottles with you on New Years Day\\r\\nYou squeeze my hand three times in the back of the taxi\\r\\nI can tell that its gonna be a long road\\r\\nIll be there if youre the toast of the town babe\\r\\nOr if you strike out and youre crawling home\\r\\nDont read the last page\\r\\nBut I stay when its hard or its wrong\\r\\nOr were making mistakes\\r\\nI want your midnights\\r\\nBut Ill be cleaning up bottles with you on New Years Day\\r\\nHold on to the memories they will hold on to you\\r\\nHold on to the memories they will hold on to you\\r\\nHold on to the memories they will hold on to you\\r\\nAnd I will hold on to you\\r\\nPlease dont ever become a stranger\\r\\nWhose laugh I could recognize anywhere\\r\\nPlease dont ever become a stranger\\r\\nWhose laugh I could recognize anywhere\\r\\nTheres glitter on the floor after the party\\r\\nGirls carrying their shoes down in the lobby\\r\\nCandle wax and Polaroids on the hardwood floor\\r\\nYou and me forevermore\\r\\nDont read the last page\\r\\nBut I stay when its hard or its wrong\\r\\nOr were making mistakes\\r\\nI want your midnights\\r\\nBut Ill be cleaning up bottles with you on New Years Day\\r\\nHold on to the memories they will hold on to you\\r\\nHold on to the memories they will hold on to you\\r\\nHold on to the memories they will hold on to you\\r\\nAnd I will hold on to you\\r\\nPlease dont ever become a stranger\\r\\nTo the memories they will hold on to you\\r\\nWhose laugh I could recognize anywhere\\r\\nHold on to the memories they will hold on to you\\r\\nPlease dont ever become a stranger\\r\\nHold on to the memories they will hold on to you\\r\\nWhose laugh I could recognize anywhere\\r\\nI will hold on to you'"
            ]
          },
          "metadata": {
            "tags": []
          },
          "execution_count": 4
        }
      ]
    },
    {
      "cell_type": "markdown",
      "metadata": {
        "id": "K9MCosIcIH0n"
      },
      "source": [
        "Now we will convert data, which is a string to a list containing differrent sentences. \n",
        "As we can see, in the string, \"end of line\" is represented by \"\\r\\n\". So, we will split the string by \"\\r\\n\" and store them as list in corpus."
      ]
    },
    {
      "cell_type": "code",
      "metadata": {
        "id": "XvlyWKMRKNsy"
      },
      "source": [
        "# Splitting the string into sentences, while converting whole data into lowercase. \n",
        "corpus = data.lower().split(\"\\r\\n\")\n",
        "\n",
        "# Now, to make sure no sentence appears twice in our corpus, we use set. Otherwise, it will make the model biased.\n",
        "#corpus = list(set(corpus))"
      ],
      "execution_count": 5,
      "outputs": []
    },
    {
      "cell_type": "code",
      "metadata": {
        "id": "8U5dGCoYa9Gn"
      },
      "source": [
        "for i in range(len(corpus)):\n",
        "    sentence = corpus[i]\n",
        "    sentence = \"startsentence \" + sentence + \" endsentence\"\n",
        "    corpus[i] = sentence"
      ],
      "execution_count": 7,
      "outputs": []
    },
    {
      "cell_type": "code",
      "metadata": {
        "id": "WxtXUDGOiWr8",
        "outputId": "b38cf729-0b3d-42a7-d6fe-c574b67b8a51",
        "colab": {
          "base_uri": "https://localhost:8080/"
        }
      },
      "source": [
        "corpus"
      ],
      "execution_count": 8,
      "outputs": [
        {
          "output_type": "execute_result",
          "data": {
            "text/plain": [
              "['startsentence lyric endsentence',\n",
              " 'startsentence he said the way my blue eyes shined endsentence',\n",
              " 'startsentence put those georgia stars to shame that night endsentence',\n",
              " 'startsentence i said thats a lie endsentence',\n",
              " 'startsentence just a boy in a chevy truck endsentence',\n",
              " 'startsentence that had a tendency of gettin stuck endsentence',\n",
              " 'startsentence on backroads at night endsentence',\n",
              " 'startsentence and i was right there beside him all summer long endsentence',\n",
              " 'startsentence and then the time we woke up to find that summer gone endsentence',\n",
              " 'startsentence but when you think tim mcgraw endsentence',\n",
              " 'startsentence i hope you think my favorite song endsentence',\n",
              " 'startsentence the one we danced to all night long endsentence',\n",
              " 'startsentence the moon like a spotlight on the lake endsentence',\n",
              " 'startsentence when you think happiness endsentence',\n",
              " 'startsentence i hope you think that little black dress endsentence',\n",
              " 'startsentence think of my head on your chest endsentence',\n",
              " 'startsentence and my old faded blue jeans endsentence',\n",
              " 'startsentence when you think tim mcgraw endsentence',\n",
              " 'startsentence i hope you think of me endsentence',\n",
              " 'startsentence september saw a month of tears endsentence',\n",
              " 'startsentence and thankin god that you werent here endsentence',\n",
              " 'startsentence to see me like that endsentence',\n",
              " 'startsentence but in a box beneath my bed endsentence',\n",
              " 'startsentence is a letter that you never read endsentence',\n",
              " 'startsentence from three summers back endsentence',\n",
              " 'startsentence its hard not to find it all a little bittersweet endsentence',\n",
              " 'startsentence and lookin back on all of that its nice to believe endsentence',\n",
              " 'startsentence when you think tim mcgraw endsentence',\n",
              " 'startsentence i hope you think my favorite song endsentence',\n",
              " 'startsentence the one we danced to all night long endsentence',\n",
              " 'startsentence the moon like a spotlight on the lake endsentence',\n",
              " 'startsentence when you think happiness endsentence',\n",
              " 'startsentence i hope you think that little black dress endsentence',\n",
              " 'startsentence think of my head on your chest endsentence',\n",
              " 'startsentence and my old faded blue jeans endsentence',\n",
              " 'startsentence when you think tim mcgraw endsentence',\n",
              " 'startsentence i hope you think of me endsentence',\n",
              " 'startsentence and im back for the first time since then endsentence',\n",
              " 'startsentence im standin on your street endsentence',\n",
              " 'startsentence and theres a letter left on your doorstep endsentence',\n",
              " 'startsentence and the first thing that youll read is endsentence',\n",
              " 'startsentence when you think tim mcgraw endsentence',\n",
              " 'startsentence i hope you think my favorite song endsentence',\n",
              " 'startsentence someday youll turn your radio on endsentence',\n",
              " 'startsentence i hope it takes you back to that place endsentence',\n",
              " 'startsentence when you think happiness endsentence',\n",
              " 'startsentence i hope you think that little black dress endsentence',\n",
              " 'startsentence think of my head on your chest endsentence',\n",
              " 'startsentence and my old faded blue jeans endsentence',\n",
              " 'startsentence when you think tim mcgraw endsentence',\n",
              " 'startsentence i hope you think of me endsentence',\n",
              " 'startsentence oh think of me endsentence',\n",
              " 'startsentence mmmm endsentence',\n",
              " 'startsentence he said the way my blue eyes shine endsentence',\n",
              " 'startsentence put those georgia stars to shame that night endsentence',\n",
              " 'startsentence i said thats a lie endsentence',\n",
              " 'startsentence state the obvious i didnt get my perfect fantasy endsentence',\n",
              " 'startsentence i realize you love yourself more than you could ever love me endsentence',\n",
              " 'startsentence so go and tell your friends that im obsessive and crazy endsentence',\n",
              " 'startsentence thats fine ill tell mine that youre gay endsentence',\n",
              " 'startsentence by the way endsentence',\n",
              " 'startsentence i hate that stupid old pickup truck endsentence',\n",
              " 'startsentence you never let me drive endsentence',\n",
              " 'startsentence youre a redneck heartbreak endsentence',\n",
              " 'startsentence whos really bad at lying endsentence',\n",
              " 'startsentence so watch me strike a match endsentence',\n",
              " 'startsentence on all my wasted time endsentence',\n",
              " 'startsentence as far as im concerned youre endsentence',\n",
              " 'startsentence just another picture to burn endsentence',\n",
              " 'startsentence theres no time for tears endsentence',\n",
              " 'startsentence im just sitting here planning my revenge endsentence',\n",
              " 'startsentence theres nothing stopping me endsentence',\n",
              " 'startsentence from going out with all of your best friends endsentence',\n",
              " 'startsentence and if you come around saying sorry to me endsentence',\n",
              " 'startsentence my daddys gonna show you how sorry youll be endsentence',\n",
              " 'startsentence i hate that stupid old pickup truck endsentence',\n",
              " 'startsentence you never let me drive endsentence',\n",
              " 'startsentence youre a redneck heartbreak endsentence',\n",
              " 'startsentence whos really bad at lying endsentence',\n",
              " 'startsentence so watch me strike a match endsentence',\n",
              " 'startsentence on all my wasted time endsentence',\n",
              " 'startsentence as far as im concerned youre endsentence',\n",
              " 'startsentence just another picture to burn endsentence',\n",
              " 'startsentence and if youre missing me endsentence',\n",
              " 'startsentence youd better keep it to yourself endsentence',\n",
              " 'startsentence cause coming back around here endsentence',\n",
              " 'startsentence would be bad for your health endsentence',\n",
              " 'startsentence cause i hate that stupid old pickup truck endsentence',\n",
              " 'startsentence you never let me drive endsentence',\n",
              " 'startsentence youre a redneck heartbreak endsentence',\n",
              " 'startsentence whos really bad at lying endsentence',\n",
              " 'startsentence so watch me strike a match endsentence',\n",
              " 'startsentence on all my wasted time endsentence',\n",
              " 'startsentence in case you havent heard endsentence',\n",
              " 'startsentence i really really hate that endsentence',\n",
              " 'startsentence i hate that stupid old pickup truck endsentence',\n",
              " 'startsentence you never let me drive endsentence',\n",
              " 'startsentence youre a redneck heartbreak endsentence',\n",
              " 'startsentence whos really bad at lying endsentence',\n",
              " 'startsentence so watch me strike a match endsentence',\n",
              " 'startsentence on all my wasted time endsentence',\n",
              " 'startsentence as far as im concerned youre endsentence',\n",
              " 'startsentence just another picture to burn endsentence',\n",
              " 'startsentence burn burn burn baby burn endsentence',\n",
              " 'startsentence youre just another picture to burn endsentence',\n",
              " 'startsentence baby burn endsentence',\n",
              " 'startsentence drew looks at me endsentence',\n",
              " 'startsentence i fake a smile so he wont see endsentence',\n",
              " 'startsentence that i want and im needing endsentence',\n",
              " 'startsentence everything that we should be endsentence',\n",
              " 'startsentence ill bet shes beautiful that girl he talks about endsentence',\n",
              " 'startsentence and shes got everything that i have to live without endsentence',\n",
              " 'startsentence drew talks to me endsentence',\n",
              " 'startsentence i laugh cause its so damn funny endsentence',\n",
              " 'startsentence that i cant even see endsentence',\n",
              " 'startsentence anyone when hes with me endsentence',\n",
              " 'startsentence he says hes so in love hes finally got it right endsentence',\n",
              " 'startsentence i wonder if he knows hes all i think about at night endsentence',\n",
              " 'startsentence hes the reason for the teardrops on my guitar endsentence',\n",
              " 'startsentence the only thing that keeps me wishing on a wishing star endsentence',\n",
              " 'startsentence hes the song in the car endsentence',\n",
              " 'startsentence i keep singing dont know why i do endsentence',\n",
              " 'startsentence drew walks by me endsentence',\n",
              " 'startsentence cant he tell that i cant breathe endsentence',\n",
              " 'startsentence and there he goes so perfectly endsentence',\n",
              " 'startsentence the kind of flawless i wish i could be endsentence',\n",
              " 'startsentence shed better hold him tight give him all her love endsentence',\n",
              " 'startsentence look in those beautiful eyes and know shes lucky cause endsentence',\n",
              " 'startsentence hes the reason for the teardrops on my guitar endsentence',\n",
              " 'startsentence the only thing that keeps me wishing on a wishing star endsentence',\n",
              " 'startsentence hes the song in the car endsentence',\n",
              " 'startsentence i keep singing dont know why i do endsentence',\n",
              " 'startsentence so i drive home alone as i turn off the light endsentence',\n",
              " 'startsentence ill put his picture down and maybe get some sleep tonight endsentence',\n",
              " 'startsentence hes the reason for the teardrops on my guitar endsentence',\n",
              " 'startsentence the only one whos got enough of me to break my heart endsentence',\n",
              " 'startsentence hes the song in the car endsentence',\n",
              " 'startsentence i keep singing dont know why i do endsentence',\n",
              " 'startsentence hes the time taken up but theres never enough endsentence',\n",
              " 'startsentence and hes all that i need to fall into endsentence',\n",
              " 'startsentence drew looks at me endsentence',\n",
              " 'startsentence i fake a smile so he wont see endsentence',\n",
              " 'startsentence i dont know what i want so dont ask me endsentence',\n",
              " 'startsentence cause im still trying to figure it out endsentence',\n",
              " 'startsentence dont know whats down this road im just walking endsentence',\n",
              " 'startsentence trying to see through the rain coming down endsentence',\n",
              " 'startsentence even though im not the only one endsentence',\n",
              " 'startsentence who feels the way i do endsentence',\n",
              " 'startsentence im alone on my own and thats all i know endsentence',\n",
              " 'startsentence ill be strong ill be wrong oh but life goes on endsentence',\n",
              " 'startsentence oh im just a girl trying to find a place in this world endsentence',\n",
              " 'startsentence got the radio on my old blue jeans endsentence',\n",
              " 'startsentence and im wearing my heart on my sleeve endsentence',\n",
              " 'startsentence feeling lucky today got the sunshine endsentence',\n",
              " 'startsentence could you tell me what more do i need endsentence',\n",
              " 'startsentence and tomorrows just a mystery oh yeah endsentence',\n",
              " 'startsentence but thats ok endsentence',\n",
              " 'startsentence im alone on my own and thats all i know endsentence',\n",
              " 'startsentence ill be strong ill be wrong oh but life goes on endsentence',\n",
              " 'startsentence oh im just a girl trying to find a place in this world endsentence',\n",
              " 'startsentence maybe im just a girl on a mission endsentence',\n",
              " 'startsentence but im ready to fly endsentence',\n",
              " 'startsentence im alone on my own and thats all i know endsentence',\n",
              " 'startsentence ill be strong ill be wrong oh but life goes on endsentence',\n",
              " 'startsentence oh im alone on my own and thats all i know endsentence',\n",
              " 'startsentence oh im just a girl trying to find a place in this world endsentence',\n",
              " 'startsentence oh im just a girl endsentence',\n",
              " 'startsentence oh im just a girl oh oh endsentence',\n",
              " 'startsentence oh im just a girl endsentence',\n",
              " 'startsentence you have a way of coming easily to me endsentence',\n",
              " 'startsentence and when you take you take the very best of me endsentence',\n",
              " 'startsentence so i start a fight cause i need to feel something endsentence',\n",
              " 'startsentence and you do what you want cause im not what you wanted endsentence',\n",
              " 'startsentence oh what a shame what a rainy ending given to a perfect day endsentence',\n",
              " 'startsentence just walk away no use defending words that you will never say endsentence',\n",
              " 'startsentence and now that im sitting here thinking it through endsentence',\n",
              " 'startsentence ive never been anywhere cold as you endsentence',\n",
              " 'startsentence you put up walls and paint them all a shade of gray endsentence',\n",
              " 'startsentence and i stood there loving you and wished them all away endsentence',\n",
              " 'startsentence and you come away with a great little story endsentence',\n",
              " 'startsentence of a mess of a dreamer with the nerve to adore you endsentence',\n",
              " 'startsentence oh what a shame what a rainy ending given to a perfect day endsentence',\n",
              " 'startsentence just walk away no use defending words that you will never say endsentence',\n",
              " 'startsentence and now that im sitting here thinking it through endsentence',\n",
              " 'startsentence ive never been anywhere cold as you endsentence',\n",
              " 'startsentence you never did give a damn thing honey but i cried cried for you endsentence',\n",
              " 'startsentence and i know you wouldnt have told nobody if i died died for you endsentence',\n",
              " 'startsentence died for you endsentence',\n",
              " 'startsentence oh what a shame what a rainy ending given to a perfect day endsentence',\n",
              " 'startsentence every smile you fake is so condescending endsentence',\n",
              " 'startsentence counting all the scars you made endsentence',\n",
              " 'startsentence and now that im sitting here thinking it through endsentence',\n",
              " 'startsentence ive never been anywhere cold as you endsentence',\n",
              " 'startsentence i didnt know what i would find endsentence',\n",
              " 'startsentence when i went looking for a reason i know endsentence',\n",
              " 'startsentence i didnt read between the lines endsentence',\n",
              " 'startsentence and baby ive got nowhere to go endsentence',\n",
              " 'startsentence i tried to take the road less traveled by endsentence',\n",
              " 'startsentence but nothing seems to work the first few times endsentence',\n",
              " 'startsentence am i right endsentence',\n",
              " 'startsentence so how can i ever try to be better endsentence',\n",
              " 'startsentence nobody ever lets me in endsentence',\n",
              " 'startsentence i can still see you this aint the best view endsentence',\n",
              " 'startsentence on the outside looking in endsentence',\n",
              " 'startsentence ive been a lot of lonely places endsentence',\n",
              " 'startsentence ive never been on the outside endsentence',\n",
              " 'startsentence you saw me there but never knew endsentence',\n",
              " 'startsentence i would give it all up to be endsentence',\n",
              " 'startsentence a part of this a part of you endsentence',\n",
              " 'startsentence and now its all too late so you see endsentence',\n",
              " 'startsentence you couldve helped if you had wanted to endsentence',\n",
              " 'startsentence but no one notices until its too endsentence',\n",
              " 'startsentence late to do anything endsentence',\n",
              " 'startsentence so how can i ever try to be better endsentence',\n",
              " 'startsentence nobody ever lets me in endsentence',\n",
              " 'startsentence i can still see you this aint the best view endsentence',\n",
              " 'startsentence on the outside looking in endsentence',\n",
              " 'startsentence ive been a lot of lonely places endsentence',\n",
              " 'startsentence ive never been on the outside endsentence',\n",
              " 'startsentence so how can i ever try to be better endsentence',\n",
              " 'startsentence nobody ever lets me in endsentence',\n",
              " 'startsentence i can still see you this aint the best view endsentence',\n",
              " 'startsentence on the outside looking in endsentence',\n",
              " 'startsentence ive been a lot of lonely places endsentence',\n",
              " 'startsentence ive never been on the outside endsentence',\n",
              " 'startsentence seems the only one who doesnt see your beauty endsentence',\n",
              " 'startsentence is the face in the mirror looking back at you endsentence',\n",
              " 'startsentence you walk around here thinking youre not pretty endsentence',\n",
              " 'startsentence but thats not true cause i know you endsentence',\n",
              " 'startsentence hold on endsentence',\n",
              " 'startsentence baby youre losing it endsentence',\n",
              " 'startsentence the waters high endsentence',\n",
              " 'startsentence youre jumping into it endsentence',\n",
              " 'startsentence and letting go endsentence',\n",
              " 'startsentence and no one knows endsentence',\n",
              " 'startsentence that you cry endsentence',\n",
              " 'startsentence but you dont tell anyone endsentence',\n",
              " 'startsentence that you might endsentence',\n",
              " 'startsentence not be the golden one endsentence',\n",
              " 'startsentence and youre tied together with a smile endsentence',\n",
              " 'startsentence but youre coming undone endsentence',\n",
              " 'startsentence i guess its true that love was all you wanted endsentence',\n",
              " 'startsentence cause youre giving it away like its extra change endsentence',\n",
              " 'startsentence hoping it will end up in his pocket endsentence',\n",
              " 'startsentence but he leaves you out like a penny in the rain endsentence',\n",
              " 'startsentence oh cause its not his price to pay endsentence',\n",
              " 'startsentence not his price to pay endsentence',\n",
              " 'startsentence hold on endsentence',\n",
              " 'startsentence baby youre losing it endsentence',\n",
              " 'startsentence the waters high endsentence',\n",
              " 'startsentence youre jumping into it endsentence',\n",
              " 'startsentence and letting go endsentence',\n",
              " 'startsentence and no one knows endsentence',\n",
              " 'startsentence that you cry endsentence',\n",
              " 'startsentence but you dont tell anyone endsentence',\n",
              " 'startsentence that you might endsentence',\n",
              " 'startsentence not be the golden one endsentence',\n",
              " 'startsentence and youre tied together with a smile endsentence',\n",
              " 'startsentence but youre coming undone endsentence',\n",
              " 'startsentence hold on endsentence',\n",
              " 'startsentence baby youre losing it endsentence',\n",
              " 'startsentence the waters high endsentence',\n",
              " 'startsentence youre jumping into it endsentence',\n",
              " 'startsentence and letting go endsentence',\n",
              " 'startsentence and no one knows endsentence',\n",
              " 'startsentence that you cry endsentence',\n",
              " 'startsentence but you dont tell anyone endsentence',\n",
              " 'startsentence that you might endsentence',\n",
              " 'startsentence not be the golden one endsentence',\n",
              " 'startsentence and youre tied together with a smile endsentence',\n",
              " 'startsentence but youre coming undone endsentence',\n",
              " 'startsentence youre tied together with a smile endsentence',\n",
              " 'startsentence but youre coming undone oh endsentence',\n",
              " 'startsentence goodbye baby endsentence',\n",
              " 'startsentence with a smile baby baby endsentence',\n",
              " 'startsentence corys eyes are like a jungle endsentence',\n",
              " 'startsentence he smiles its like the radio endsentence',\n",
              " 'startsentence he whispers songs into my window endsentence',\n",
              " 'startsentence in words that nobody knows endsentence',\n",
              " 'startsentence these pretty girls on every corner endsentence',\n",
              " 'startsentence they watch him as hes walking home endsentence',\n",
              " 'startsentence saying does he know endsentence',\n",
              " 'startsentence will you ever know endsentence',\n",
              " 'startsentence youre beautiful endsentence',\n",
              " 'startsentence every little piece love endsentence',\n",
              " 'startsentence and dont you know endsentence',\n",
              " 'startsentence youre really gonna be someone endsentence',\n",
              " 'startsentence ask anyone endsentence',\n",
              " 'startsentence and when you find everything you looked for endsentence',\n",
              " 'startsentence i hope your life will lead you back to my door endsentence',\n",
              " 'startsentence oh but if it dont endsentence',\n",
              " 'startsentence stay beautiful endsentence',\n",
              " 'startsentence cory finds another way to be endsentence',\n",
              " 'startsentence the highlight of my day endsentence',\n",
              " 'startsentence im taking pictures in my mind endsentence',\n",
              " 'startsentence so i can save them for a rainy day endsentence',\n",
              " 'startsentence its hard to make a conversation endsentence',\n",
              " 'startsentence when hes taking my breath away endsentence',\n",
              " 'startsentence i should say hey by the way endsentence',\n",
              " 'startsentence youre beautiful endsentence',\n",
              " 'startsentence every little piece love endsentence',\n",
              " 'startsentence and dont you know endsentence',\n",
              " 'startsentence youre really gonna be someone endsentence',\n",
              " 'startsentence ask anyone endsentence',\n",
              " 'startsentence and when you find everything you looked for endsentence',\n",
              " 'startsentence i hope your life will lead you back to my door endsentence',\n",
              " 'startsentence oh but if it dont endsentence',\n",
              " 'startsentence stay beautiful endsentence',\n",
              " 'startsentence if you and i are a story endsentence',\n",
              " 'startsentence that never gets told endsentence',\n",
              " 'startsentence if what you are is a daydream endsentence',\n",
              " 'startsentence ill never get to hold endsentence',\n",
              " 'startsentence at least youll know endsentence',\n",
              " 'startsentence youre beautiful endsentence',\n",
              " 'startsentence every little piece love endsentence',\n",
              " 'startsentence and dont you know endsentence',\n",
              " 'startsentence youre really gonna be someone endsentence',\n",
              " 'startsentence ask anyone endsentence',\n",
              " 'startsentence and when you find everything you looked for endsentence',\n",
              " 'startsentence i hope your life will lead you back to my front door endsentence',\n",
              " 'startsentence oh but if it dont endsentence',\n",
              " 'startsentence will you stay endsentence',\n",
              " 'startsentence beautiful beautiful beautiful endsentence',\n",
              " 'startsentence beautiful beautiful beautiful endsentence',\n",
              " 'startsentence la la la endsentence',\n",
              " 'startsentence oh oh oh oh endsentence',\n",
              " 'startsentence oh but if it dont endsentence',\n",
              " 'startsentence stay beautiful endsentence',\n",
              " 'startsentence stay beautiful endsentence',\n",
              " 'startsentence na na na na na endsentence',\n",
              " 'startsentence its strange to think the songs we used to sing endsentence',\n",
              " 'startsentence the smiles the flowers everything is gone endsentence',\n",
              " 'startsentence yesterday i found out about you endsentence',\n",
              " 'startsentence even now just looking at you feels wrong endsentence',\n",
              " 'startsentence you say that youd take it all back given one chance endsentence',\n",
              " 'startsentence it was a moment of weakness and you said yes endsentence',\n",
              " 'startsentence you shouldve said no you shouldve gone home endsentence',\n",
              " 'startsentence you shouldve thought twice fore you let it all go endsentence',\n",
              " 'startsentence you shouldve know that word bout what you did with her endsentence',\n",
              " 'startsentence get back to me get back to me endsentence',\n",
              " 'startsentence and i shouldve been there in the back of your mind endsentence',\n",
              " 'startsentence i shouldnt be asking myself why endsentence',\n",
              " 'startsentence you shouldnt be begging for forgiveness at my feet endsentence',\n",
              " 'startsentence you shouldve said no baby and you might still have me endsentence',\n",
              " 'startsentence you can see that ive been crying endsentence',\n",
              " 'startsentence baby you know all the right things to say endsentence',\n",
              " 'startsentence but do you honestly expect me to believe endsentence',\n",
              " 'startsentence we could ever be the same endsentence',\n",
              " 'startsentence you say that the past is the past you need one chance endsentence',\n",
              " 'startsentence it was a moment of weakness and you said yes endsentence',\n",
              " 'startsentence you shouldve said no you shouldve gone home endsentence',\n",
              " 'startsentence you shouldve thought twice fore you let it all go endsentence',\n",
              " 'startsentence you shouldve know that word bout what you did with her endsentence',\n",
              " 'startsentence get back to me get back to me endsentence',\n",
              " 'startsentence and i shouldve been there in the back of your mind endsentence',\n",
              " 'startsentence i shouldnt be asking myself why endsentence',\n",
              " 'startsentence you shouldnt be begging for forgiveness at my feet endsentence',\n",
              " 'startsentence you shouldve said no baby and you might still have me endsentence',\n",
              " 'startsentence i cant resist endsentence',\n",
              " 'startsentence before you go tell me this endsentence',\n",
              " 'startsentence was it worth it endsentence',\n",
              " 'startsentence was she worth this endsentence',\n",
              " 'startsentence no no no no endsentence',\n",
              " 'startsentence you shouldve said no you shouldve gone home endsentence',\n",
              " 'startsentence you shouldve thought twice fore you let it all go endsentence',\n",
              " 'startsentence you shouldve know that word bout what you did with her endsentence',\n",
              " 'startsentence get back to me get back to me endsentence',\n",
              " 'startsentence and i shouldve been there in the back of your mind endsentence',\n",
              " 'startsentence i shouldnt be asking myself why endsentence',\n",
              " 'startsentence you shouldnt be begging for forgiveness at my feet endsentence',\n",
              " 'startsentence you shouldve said no baby and you might still have me endsentence',\n",
              " 'startsentence she said i was seven and you were nine endsentence',\n",
              " 'startsentence i looked at you like the stars that shined endsentence',\n",
              " 'startsentence in the sky the pretty lights endsentence',\n",
              " 'startsentence and our daddies used to joke about the two of us endsentence',\n",
              " 'startsentence growing up and falling in love and our mamas smiled endsentence',\n",
              " 'startsentence and rolled their eyes and said oh my my my endsentence',\n",
              " 'startsentence take me back to the house in the backyard tree endsentence',\n",
              " 'startsentence said youd beat me up you were bigger than me endsentence',\n",
              " 'startsentence you never did you never did endsentence',\n",
              " 'startsentence take me back when our world was one block wide endsentence',\n",
              " 'startsentence i dared you to kiss me and ran when you tried endsentence',\n",
              " 'startsentence just two kids you and i endsentence',\n",
              " 'startsentence oh my my my my endsentence',\n",
              " 'startsentence well i was sixteen when suddenly endsentence',\n",
              " 'startsentence i wasnt that little girl you used to see endsentence',\n",
              " 'startsentence but your eyes still shined like pretty lights endsentence',\n",
              " 'startsentence and our daddies used to joke about the two of us endsentence',\n",
              " 'startsentence they never believed wed really fall in love endsentence',\n",
              " 'startsentence and our mamas smiled and rolled their eyes endsentence',\n",
              " 'startsentence and said oh my my my endsentence',\n",
              " 'startsentence take me back to the creek beds we turned up endsentence',\n",
              " 'startsentence two am riding in your truck and all i need is you next to me endsentence',\n",
              " 'startsentence take me back to the time we had our very first fight endsentence',\n",
              " 'startsentence the slamming of doors instead of kissing goodnight endsentence',\n",
              " 'startsentence you stayed outside till the morning light endsentence',\n",
              " 'startsentence oh my my my my endsentence',\n",
              " 'startsentence a few years had gone and come around endsentence',\n",
              " 'startsentence we were sitting at our favorite spot in town endsentence',\n",
              " 'startsentence and you looked at me got down on one knee endsentence',\n",
              " 'startsentence take me back to the time when we walked down the aisle endsentence',\n",
              " 'startsentence our whole town came and our mamas cried endsentence',\n",
              " 'startsentence you said i do and i did too endsentence',\n",
              " 'startsentence take me home where we met so many years before endsentence',\n",
              " 'startsentence well rock our babies on that very front porch endsentence',\n",
              " 'startsentence after all this time you and i endsentence',\n",
              " 'startsentence ill be eightyseven youll be eightynine endsentence',\n",
              " 'startsentence ill still look at you like the stars that shine endsentence',\n",
              " 'startsentence in the sky oh my my my endsentence',\n",
              " 'startsentence i was riding shotgun with my hair undone endsentence',\n",
              " 'startsentence in the front seat of his car endsentence',\n",
              " 'startsentence hes got a onehand feel on the steering wheel endsentence',\n",
              " 'startsentence the other on my heart endsentence',\n",
              " 'startsentence i look around turn the radio down endsentence',\n",
              " 'startsentence he says baby is something wrong endsentence',\n",
              " 'startsentence i say nothing i was just thinking endsentence',\n",
              " 'startsentence how we dont have a song endsentence',\n",
              " 'startsentence and he says endsentence',\n",
              " 'startsentence our song is the slamming screen door endsentence',\n",
              " 'startsentence sneakin out late tapping on your window endsentence',\n",
              " 'startsentence when were on the phone and you talk real slow endsentence',\n",
              " 'startsentence cause its late and your mama dont know endsentence',\n",
              " 'startsentence our song is the way you laugh endsentence',\n",
              " 'startsentence the first date man i didnt kiss her and i should have endsentence',\n",
              " 'startsentence and when i got home fore i said amen endsentence',\n",
              " 'startsentence asking god if he could play it again endsentence',\n",
              " 'startsentence i was walking up the front porch steps endsentence',\n",
              " 'startsentence after everything that day endsentence',\n",
              " 'startsentence had gone all wrong and been trampled on endsentence',\n",
              " 'startsentence and lost and thrown away endsentence',\n",
              " 'startsentence got to the hallway well on my way endsentence',\n",
              " 'startsentence to my lovin bed endsentence',\n",
              " 'startsentence i almost didnt notice all the roses endsentence',\n",
              " 'startsentence and the note that said endsentence',\n",
              " 'startsentence our song is the slamming screen door endsentence',\n",
              " 'startsentence sneakin out late tapping on your window endsentence',\n",
              " 'startsentence when were on the phone and you talk real slow endsentence',\n",
              " 'startsentence cause its late and your mama dont know endsentence',\n",
              " 'startsentence our song is the way you laugh endsentence',\n",
              " 'startsentence the first date man i didnt kiss her and i should have endsentence',\n",
              " 'startsentence and when i got home fore i said amen endsentence',\n",
              " 'startsentence asking god if he could play it again endsentence',\n",
              " 'startsentence ive heard every album listened to the radio endsentence',\n",
              " 'startsentence waited for something to come along endsentence',\n",
              " 'startsentence that was as good as our song endsentence',\n",
              " 'startsentence cause our song is the slamming screen door endsentence',\n",
              " 'startsentence sneakin out late tapping on his window endsentence',\n",
              " 'startsentence when were on the phone and he talks real slow endsentence',\n",
              " 'startsentence cause its late and his mama dont know endsentence',\n",
              " 'startsentence our song is the way he laughs endsentence',\n",
              " 'startsentence the first date man i didnt kiss him and i should have endsentence',\n",
              " 'startsentence and when i got home fore i said amen endsentence',\n",
              " 'startsentence asking god if he could play it again endsentence',\n",
              " 'startsentence play it again endsentence',\n",
              " 'startsentence i was riding shotgun with my hair undone endsentence',\n",
              " 'startsentence in the front seat of his car endsentence',\n",
              " 'startsentence i grabbed a pen and an old napkin endsentence',\n",
              " 'startsentence and i wrote down our song endsentence',\n",
              " 'startsentence friday night beneath the stars endsentence',\n",
              " 'startsentence in a field behind your yard endsentence',\n",
              " 'startsentence you and i are painting pictures in the sky endsentence',\n",
              " 'startsentence and sometimes we dont say a thing endsentence',\n",
              " 'startsentence just listen to the crickets sing endsentence',\n",
              " 'startsentence everything i need is right here by my side endsentence',\n",
              " 'startsentence and i know everything about you endsentence',\n",
              " 'startsentence i dont wanna live without you endsentence',\n",
              " 'startsentence im only up when youre not down endsentence',\n",
              " 'startsentence dont wanna fly if youre still on the ground endsentence',\n",
              " 'startsentence its like no matter what i do endsentence',\n",
              " 'startsentence well you drive me crazy half the time endsentence',\n",
              " 'startsentence the other half im only trying to let you know that what i feel is true endsentence',\n",
              " 'startsentence and im only me when im with you endsentence',\n",
              " 'startsentence just a small town boy and girl endsentence',\n",
              " 'startsentence living in a crazy world endsentence',\n",
              " 'startsentence trying to figure out what is and isnt true endsentence',\n",
              " 'startsentence and i dont try to hide my tears endsentence',\n",
              " 'startsentence the secrets or my deepest fears endsentence',\n",
              " 'startsentence through it all nobody gets me like you do endsentence',\n",
              " 'startsentence and you know everything about me endsentence',\n",
              " 'startsentence you say that you cant live without me endsentence',\n",
              " 'startsentence im only up when youre not down endsentence',\n",
              " 'startsentence dont wanna fly if youre still on the ground endsentence',\n",
              " 'startsentence its like no matter what i do endsentence',\n",
              " 'startsentence well you drive me crazy half the time endsentence',\n",
              " 'startsentence the other half im only trying to let you know that what i feel is true endsentence',\n",
              " 'startsentence and im only me when im with you endsentence',\n",
              " 'startsentence when im with anybody else its so hard to be myself endsentence',\n",
              " 'startsentence only you can tell endsentence',\n",
              " 'startsentence that im only up when youre not down endsentence',\n",
              " 'startsentence dont wanna fly if youre still on the ground endsentence',\n",
              " 'startsentence its like no matter what i do endsentence',\n",
              " 'startsentence well you drive me crazy half the time endsentence',\n",
              " 'startsentence the other half im only trying to let you know that what i feel is true endsentence',\n",
              " 'startsentence and im only me endsentence',\n",
              " 'startsentence who i wanna be endsentence',\n",
              " 'startsentence well im only me when im with you endsentence',\n",
              " 'startsentence with you endsentence',\n",
              " 'startsentence uh huh endsentence',\n",
              " 'startsentence yeah endsentence',\n",
              " 'startsentence she cant see the way your eyes endsentence',\n",
              " 'startsentence light up when you smile endsentence',\n",
              " 'startsentence shell never notice how you stop and stare endsentence',\n",
              " 'startsentence whenever she walks by endsentence',\n",
              " 'startsentence and you cant see me wanting you the way you want her endsentence',\n",
              " 'startsentence but you are everything to me endsentence',\n",
              " 'startsentence i just want to show you endsentence',\n",
              " 'startsentence she dont even know you endsentence',\n",
              " 'startsentence shes never going to love you like i want to endsentence',\n",
              " 'startsentence and you just see right through me endsentence',\n",
              " 'startsentence if you only knew me endsentence',\n",
              " 'startsentence we could be a beautiful endsentence',\n",
              " 'startsentence miracle endsentence',\n",
              " 'startsentence unbelievable endsentence',\n",
              " 'startsentence instead of just invisible endsentence',\n",
              " 'startsentence theres a fire inside of you endsentence',\n",
              " 'startsentence that cant help but shine through endsentence',\n",
              " 'startsentence shes never going to see the light endsentence',\n",
              " 'startsentence no matter what you do endsentence',\n",
              " 'startsentence and all i think about is how to make you think of me endsentence',\n",
              " 'startsentence and everything that we could be endsentence',\n",
              " 'startsentence i just want to show you endsentence',\n",
              " 'startsentence she dont even know you endsentence',\n",
              " 'startsentence shes never going to love you like i want to endsentence',\n",
              " 'startsentence and you just see right through me endsentence',\n",
              " 'startsentence if you only knew me endsentence',\n",
              " 'startsentence we could be a beautiful endsentence',\n",
              " 'startsentence miracle endsentence',\n",
              " 'startsentence unbelievable endsentence',\n",
              " 'startsentence instead of just invisible endsentence',\n",
              " 'startsentence like shadows in a faded light endsentence',\n",
              " 'startsentence oh were invisible endsentence',\n",
              " 'startsentence i just want to open your eyes endsentence',\n",
              " 'startsentence and make you realize endsentence',\n",
              " 'startsentence i just want to show you endsentence',\n",
              " 'startsentence she dont even know you endsentence',\n",
              " 'startsentence baby let me love you endsentence',\n",
              " 'startsentence let me want you endsentence',\n",
              " 'startsentence you just see right through me endsentence',\n",
              " 'startsentence but if you only knew me endsentence',\n",
              " 'startsentence we could be a beautiful endsentence',\n",
              " 'startsentence miracle endsentence',\n",
              " 'startsentence unbelievable endsentence',\n",
              " 'startsentence instead of just invisible endsentence',\n",
              " 'startsentence she cant see the way your eyes endsentence',\n",
              " 'startsentence light up when you smile endsentence',\n",
              " 'startsentence why would you wanna break a perfectly good heart endsentence',\n",
              " 'startsentence why would you wanna take our love and tear it all apart now endsentence',\n",
              " 'startsentence why would you wanna make the very first scar endsentence',\n",
              " 'startsentence why would you wanna break a perfectly good heart endsentence',\n",
              " 'startsentence maybe i shouldve seen the signs shouldve read the writing on the wall endsentence',\n",
              " 'startsentence and realized by the distance in your eyes that i would be the one to fall endsentence',\n",
              " 'startsentence no matter what you say i still cant believe endsentence',\n",
              " 'startsentence that you would walk away endsentence',\n",
              " 'startsentence it dont make sense to me but endsentence',\n",
              " 'startsentence why would you wanna break a perfectly good heart endsentence',\n",
              " 'startsentence why would you wanna take our love and tear it all apartnow endsentence',\n",
              " 'startsentence why would you wanna make the very first scar endsentence',\n",
              " 'startsentence why would you wanna break a perfectly good heart endsentence',\n",
              " 'startsentence its not unbroken anymore endsentence',\n",
              " 'startsentence how do i get it back the way it was before endsentence',\n",
              " 'startsentence why would you wanna break a perfectly good heart endsentence',\n",
              " 'startsentence why would you wanna take our love and tear it all apart now endsentence',\n",
              " 'startsentence why would you wanna make the very first scar endsentence',\n",
              " 'startsentence why would you wanna break a perfectly good heart endsentence',\n",
              " 'startsentence why would you wanna break a perfectly good heart endsentence',\n",
              " 'startsentence why would you wanna take our love and tear it all apart now endsentence',\n",
              " 'startsentence why would you wanna make the very first scar endsentence',\n",
              " 'startsentence why would you wanna break a perfectly good heart endsentence',\n",
              " 'startsentence theres something bout the way endsentence',\n",
              " 'startsentence the street looks when its just rained endsentence',\n",
              " 'startsentence theres a glow off the pavement endsentence',\n",
              " 'startsentence you walk me to the car endsentence',\n",
              " 'startsentence and you know i wanna ask you to dance right there endsentence',\n",
              " 'startsentence in the middle of the parking lot yeah endsentence',\n",
              " 'startsentence oh yeah endsentence',\n",
              " 'startsentence were driving down the road endsentence',\n",
              " 'startsentence i wonder if you know endsentence',\n",
              " 'startsentence im trying so hard not to get caught up now endsentence',\n",
              " 'startsentence but youre just so cool endsentence',\n",
              " 'startsentence run your hands through your hair endsentence',\n",
              " 'startsentence absent mindedly making me want you endsentence',\n",
              " 'startsentence and i dont know how it gets better than this endsentence',\n",
              " 'startsentence you take my hand and drag me head first endsentence',\n",
              " 'startsentence fearless endsentence',\n",
              " 'startsentence and i dont know why but with you id dance in a storm in my best dress endsentence',\n",
              " 'startsentence fearless endsentence',\n",
              " 'startsentence so baby drive slow endsentence',\n",
              " 'startsentence til we run out of road in this one horse town endsentence',\n",
              " 'startsentence i wanna stay right here in this passengers seat endsentence',\n",
              " 'startsentence you put your eyes on me endsentence',\n",
              " 'startsentence in this moment now capture it remember it endsentence',\n",
              " 'startsentence and i dont know how it gets better than this endsentence',\n",
              " 'startsentence you take my hand and drag me head first endsentence',\n",
              " 'startsentence fearless endsentence',\n",
              " 'startsentence and i dont know why but with you id dance in a storm in my best dress endsentence',\n",
              " 'startsentence fearless endsentence',\n",
              " 'startsentence well you stood there with me in the doorway endsentence',\n",
              " 'startsentence my hands shake im not usually this way but endsentence',\n",
              " 'startsentence you pull me in and im a little more brave endsentence',\n",
              " 'startsentence its the first kiss its flawless really something endsentence',\n",
              " 'startsentence its fearless endsentence',\n",
              " 'startsentence oh yeah endsentence',\n",
              " 'startsentence and i dont know how it gets better than this endsentence',\n",
              " 'startsentence you take my hand and drag me head first endsentence',\n",
              " 'startsentence fearless endsentence',\n",
              " 'startsentence and i dont know why but with you id dance in a storm in my best dress endsentence',\n",
              " 'startsentence fearless endsentence',\n",
              " 'startsentence and i dont know how it gets better than this endsentence',\n",
              " 'startsentence you take my hand and drag me head first endsentence',\n",
              " 'startsentence fearless endsentence',\n",
              " 'startsentence and i dont know why but with you id dance in a storm in my best dress endsentence',\n",
              " 'startsentence fearless endsentence',\n",
              " 'startsentence oh oh endsentence',\n",
              " 'startsentence oh yeah endsentence',\n",
              " 'startsentence you take a deep breath and you walk through the doors endsentence',\n",
              " 'startsentence its the morning of your very first day endsentence',\n",
              " 'startsentence you say hi to your friends you aint seen in a while endsentence',\n",
              " 'startsentence try and stay out of everybodys way endsentence',\n",
              " 'startsentence its your freshman year and youre going to be here endsentence',\n",
              " 'startsentence for the next four years in this town endsentence',\n",
              " 'startsentence hoping one of those senior boys will wink at you and say endsentence',\n",
              " 'startsentence you know i havent seen you around before endsentence',\n",
              " 'startsentence because when youre fifteen and somebody tells you they love you endsentence',\n",
              " 'startsentence youre going to believe them endsentence',\n",
              " 'startsentence and when youre fifteen feeling like theres nothing to figure out endsentence',\n",
              " 'startsentence well count to ten take it in endsentence',\n",
              " 'startsentence this is life before you know who youre going to be endsentence',\n",
              " 'startsentence fifteen endsentence',\n",
              " 'startsentence you sit in class next to a redhead named abigail endsentence',\n",
              " 'startsentence and soon enough youre best friends endsentence',\n",
              " 'startsentence laughing at the other girls who think theyre so cool endsentence',\n",
              " 'startsentence well be outta here as soon as we can endsentence',\n",
              " 'startsentence and then youre on your very first date and hes got a car endsentence',\n",
              " 'startsentence and youre feeling like flying endsentence',\n",
              " 'startsentence and your mommas waiting up and youre thinking hes the one endsentence',\n",
              " 'startsentence and youre dancing round your room when the night ends endsentence',\n",
              " 'startsentence when the night ends endsentence',\n",
              " 'startsentence because when youre fifteen and somebody tells you they love you endsentence',\n",
              " 'startsentence youre going to believe them endsentence',\n",
              " 'startsentence when youre fifteen and your first kiss endsentence',\n",
              " 'startsentence makes your head spin round endsentence',\n",
              " 'startsentence but in your life youll do things greater than endsentence',\n",
              " 'startsentence dating the boy on the football team endsentence',\n",
              " 'startsentence but i didnt know it at fifteen endsentence',\n",
              " 'startsentence when all you wanted was to be wanted endsentence',\n",
              " 'startsentence wish you could go back and tell yourself what you know now endsentence',\n",
              " 'startsentence back then i swore i was going to marry him someday endsentence',\n",
              " 'startsentence but i realized some bigger dreams of mine endsentence',\n",
              " 'startsentence and abigail gave everything she had to a boy endsentence',\n",
              " 'startsentence who changed his mind and we both cried endsentence',\n",
              " 'startsentence because when youre fifteen and somebody tells you they love you endsentence',\n",
              " 'startsentence youre going to believe them endsentence',\n",
              " 'startsentence and when youre fifteen dont forget to look before you fall endsentence',\n",
              " 'startsentence ive found time can heal most anything endsentence',\n",
              " 'startsentence and you just might find who youre supposed to be endsentence',\n",
              " 'startsentence i didnt know who i was supposed to be at fifteen endsentence',\n",
              " 'startsentence la la la la la la la la la la endsentence',\n",
              " 'startsentence la la la la la la la la la la endsentence',\n",
              " 'startsentence la la la la la la endsentence',\n",
              " 'startsentence your very first day endsentence',\n",
              " 'startsentence take a deep breath girl endsentence',\n",
              " 'startsentence take a deep breath as you walk through the doors endsentence',\n",
              " 'startsentence we were both young when i first saw you endsentence',\n",
              " 'startsentence i close my eyes and the flashback starts endsentence',\n",
              " 'startsentence im standing there endsentence',\n",
              " 'startsentence on a balcony in summer air endsentence',\n",
              " 'startsentence see the lights see the party the ball gowns endsentence',\n",
              " 'startsentence see you make your way through the crowd endsentence',\n",
              " 'startsentence and say hello endsentence',\n",
              " 'startsentence little did i know endsentence',\n",
              " 'startsentence that you were romeo you were throwing pebbles endsentence',\n",
              " 'startsentence and my daddy said stay away from juliet endsentence',\n",
              " 'startsentence and i was crying on the staircase endsentence',\n",
              " 'startsentence begging you please dont go and i said endsentence',\n",
              " 'startsentence romeo take me somewhere we can be alone endsentence',\n",
              " 'startsentence ill be waiting all theres left to do is run endsentence',\n",
              " 'startsentence youll be the prince and ill be the princess endsentence',\n",
              " 'startsentence its a love story baby just say yes endsentence',\n",
              " 'startsentence so i sneak out to the garden to see you endsentence',\n",
              " 'startsentence we keep quiet cause were dead if they knew endsentence',\n",
              " 'startsentence so close your eyes endsentence',\n",
              " 'startsentence escape this town for a little while endsentence',\n",
              " 'startsentence cause you were romeo i was a scarlet letter endsentence',\n",
              " 'startsentence and my daddy said stay away from juliet endsentence',\n",
              " 'startsentence but you were everything to me endsentence',\n",
              " 'startsentence i was begging you please dont go and i said endsentence',\n",
              " 'startsentence romeo take me somewhere we can be alone endsentence',\n",
              " 'startsentence ill be waiting all theres left to do is run endsentence',\n",
              " 'startsentence youll be the prince and ill be the princess endsentence',\n",
              " 'startsentence its a love story baby just say yes endsentence',\n",
              " 'startsentence romeo save me theyre trying to tell me how to feel endsentence',\n",
              " 'startsentence this love is difficult but its real endsentence',\n",
              " 'startsentence dont be afraid well make it out of this mess endsentence',\n",
              " 'startsentence its a love story baby just say yes endsentence',\n",
              " 'startsentence oh oh endsentence',\n",
              " 'startsentence i got tired of waiting endsentence',\n",
              " 'startsentence wondering if you were ever coming around endsentence',\n",
              " 'startsentence my faith in you was fading endsentence',\n",
              " 'startsentence when i met you on the outskirts of town and i said endsentence',\n",
              " 'startsentence romeo save me ive been feeling so alone endsentence',\n",
              " 'startsentence i keep waiting for you but you never come endsentence',\n",
              " 'startsentence is this in my head i dont know what to think endsentence',\n",
              " 'startsentence he knelt to the ground and pulled out a ring endsentence',\n",
              " 'startsentence and said marry me juliet endsentence',\n",
              " 'startsentence youll never have to be alone endsentence',\n",
              " 'startsentence i love you and thats all i really know endsentence',\n",
              " 'startsentence i talked to your dad go pick out a white dress endsentence',\n",
              " 'startsentence its a love story baby just say yes endsentence',\n",
              " 'startsentence oh oh endsentence',\n",
              " 'startsentence oh oh endsentence',\n",
              " 'startsentence because we were both young when i first saw you endsentence',\n",
              " 'startsentence hey stephen i know looks can be deceiving endsentence',\n",
              " 'startsentence but i know i saw a light in you endsentence',\n",
              " 'startsentence and as we walked we were talking endsentence',\n",
              " 'startsentence i didnt say half the things i wanted to endsentence',\n",
              " 'startsentence of all the girls tossing rocks at your window endsentence',\n",
              " 'startsentence ill be the one waiting there even when its cold endsentence',\n",
              " 'startsentence hey stephen boy you might have me believing endsentence',\n",
              " 'startsentence i dont always have to be alone endsentence',\n",
              " 'startsentence cause i cant help it if you look like an angel endsentence',\n",
              " 'startsentence cant help it if i wanna kiss you in the rain so endsentence',\n",
              " 'startsentence come feel this magic ive been feeling since i met you endsentence',\n",
              " 'startsentence cant help it if theres no one else endsentence',\n",
              " 'startsentence mmm i cant help myself endsentence',\n",
              " 'startsentence hey stephen ive been holding back this feeling endsentence',\n",
              " 'startsentence so i got some things to say to you endsentence',\n",
              " 'startsentence ive seen it all so i thought endsentence',\n",
              " 'startsentence but i never seen nobody shine the way you do endsentence',\n",
              " 'startsentence the way you walk way you talk way you say my name endsentence',\n",
              " 'startsentence its beautiful wonderful dont you ever change endsentence',\n",
              " 'startsentence hey stephen why are people always leaving endsentence',\n",
              " 'startsentence i think you and i should stay the same endsentence',\n",
              " 'startsentence cause i cant help it if you look like an angel endsentence',\n",
              " 'startsentence cant help it if i wanna kiss you in the rain so endsentence',\n",
              " 'startsentence come feel this magic ive been feeling since i met you endsentence',\n",
              " 'startsentence cant help it if theres no one else endsentence',\n",
              " 'startsentence mmm i cant help myself endsentence',\n",
              " 'startsentence theyre dimming the street lights youre perfect for me endsentence',\n",
              " 'startsentence why arent you here tonight endsentence',\n",
              " 'startsentence im waiting alone now so come on and come out endsentence',\n",
              " 'startsentence and pull me near and shine shine shine endsentence',\n",
              " 'startsentence hey stephen i could give you fifty reasons endsentence',\n",
              " 'startsentence why i should be the one you choose endsentence',\n",
              " 'startsentence all those other girls well theyre beautiful endsentence',\n",
              " 'startsentence but would they write a song for you endsentence',\n",
              " 'startsentence cause i cant help it if you look like an angel endsentence',\n",
              " 'startsentence cant help it if i wanna kiss you in the rain so endsentence',\n",
              " 'startsentence come feel this magic ive been feeling since i met you endsentence',\n",
              " 'startsentence cant help it if theres no one else endsentence',\n",
              " 'startsentence mmm i cant help myself endsentence',\n",
              " 'startsentence cause i cant help it if you look like an angel endsentence',\n",
              " 'startsentence cant help it if i wanna kiss you in the rain so endsentence',\n",
              " 'startsentence come feel this magic ive been feeling since i met you endsentence',\n",
              " 'startsentence cant help it if theres no one else endsentence',\n",
              " 'startsentence mmm i cant help myself endsentence',\n",
              " 'startsentence myself endsentence',\n",
              " 'startsentence cant help myself endsentence',\n",
              " 'startsentence i cant help myself endsentence',\n",
              " 'startsentence say youre sorry that face of an angel endsentence',\n",
              " 'startsentence comes out just when you need it to endsentence',\n",
              " 'startsentence as i paced back and forth all this time endsentence',\n",
              " 'startsentence cause i honestly believed in you endsentence',\n",
              " 'startsentence holdin on the days drag on endsentence',\n",
              " 'startsentence stupid girl i shoulda known i shoulda known endsentence',\n",
              " 'startsentence that im not a princess this aint a fairytale endsentence',\n",
              " 'startsentence im not the one youll sweep off her feet lead her up the stairwell endsentence',\n",
              " 'startsentence this aint hollywood this is a small town endsentence',\n",
              " 'startsentence i was a dreamer before you went and let me down endsentence',\n",
              " 'startsentence now its too late for you and your white horse endsentence',\n",
              " 'startsentence to come around endsentence',\n",
              " 'startsentence baby i was naive got lost in your eyes endsentence',\n",
              " 'startsentence and never really had a chance endsentence',\n",
              " 'startsentence my mistake i didnt know to be in love endsentence',\n",
              " 'startsentence you had to fight to have the upper hand endsentence',\n",
              " 'startsentence i had so many dreams about you and me endsentence',\n",
              " 'startsentence happy endings now i know endsentence',\n",
              " 'startsentence that im not a princess this aint a fairytale endsentence',\n",
              " 'startsentence im not the one youll sweep off her feet lead her up the stairwell endsentence',\n",
              " 'startsentence this aint hollywood this is a small town endsentence',\n",
              " 'startsentence i was a dreamer before you went and let me down endsentence',\n",
              " 'startsentence now its too late for you and your white horse endsentence',\n",
              " 'startsentence to come around endsentence',\n",
              " 'startsentence and there you are on your knees endsentence',\n",
              " 'startsentence beggin for forgiveness beggin for me endsentence',\n",
              " 'startsentence just like i always wanted endsentence',\n",
              " 'startsentence but im so sorry endsentence',\n",
              " 'startsentence cause im not your princess this aint our fairytale endsentence',\n",
              " 'startsentence im gonna find someone someday endsentence',\n",
              " 'startsentence who might actually treat me well endsentence',\n",
              " 'startsentence this is a big world that was a small town endsentence',\n",
              " 'startsentence there in my rear view mirror disappearing now endsentence',\n",
              " 'startsentence and its too late for you and your white horse endsentence',\n",
              " 'startsentence now its too late for you and your white horse endsentence',\n",
              " 'startsentence to catch me now endsentence',\n",
              " 'startsentence oh whoa whoa whoa endsentence',\n",
              " 'startsentence try and catch me now oh endsentence',\n",
              " 'startsentence its too late to catch me now endsentence',\n",
              " 'startsentence youre on the phone with your girlfriend shes upset endsentence',\n",
              " 'startsentence shes going off about something that you said endsentence',\n",
              " 'startsentence cause she doesnt get your humor like i do endsentence',\n",
              " 'startsentence im in the room its a typical tuesday night endsentence',\n",
              " 'startsentence im listening to the kind of music she doesnt like endsentence',\n",
              " 'startsentence and shell never know your story like i do endsentence',\n",
              " 'startsentence but she wears short skirts i wear tshirts endsentence',\n",
              " 'startsentence shes cheer captain and im on the bleachers endsentence',\n",
              " 'startsentence dreaming about the day when you wake up and find endsentence',\n",
              " 'startsentence that what youre looking for has been here the whole time endsentence',\n",
              " 'startsentence if you could see that im the one who understands you endsentence',\n",
              " 'startsentence been here all along so why cant you see endsentence',\n",
              " 'startsentence you belong with me you belong with me endsentence',\n",
              " 'startsentence walking the streets with you and your wornout jeans endsentence',\n",
              " 'startsentence i cant help thinking this is how it ought to be endsentence',\n",
              " 'startsentence laughing on a park bench thinking to myself endsentence',\n",
              " 'startsentence hey isnt this easy endsentence',\n",
              " 'startsentence and youve got a smile that could light up this whole town endsentence',\n",
              " 'startsentence i havent seen it in a while since she brought you down endsentence',\n",
              " 'startsentence you say youre fine i know you better than that endsentence',\n",
              " 'startsentence hey whatcha doing with a girl like that endsentence',\n",
              " 'startsentence she wears high heels i wear sneakers endsentence',\n",
              " 'startsentence shes cheer captain and im on the bleachers endsentence',\n",
              " 'startsentence dreaming about the day when you wake up and find endsentence',\n",
              " 'startsentence that what youre looking for has been here the whole time endsentence',\n",
              " 'startsentence if you could see that im the one who understands you endsentence',\n",
              " 'startsentence been here all along so why cant you see endsentence',\n",
              " 'startsentence you belong with me endsentence',\n",
              " 'startsentence standing by and waiting at your back door endsentence',\n",
              " 'startsentence all this time how could you not know baby endsentence',\n",
              " 'startsentence you belong with me you belong with me endsentence',\n",
              " 'startsentence oh i remember you driving to my house endsentence',\n",
              " 'startsentence in the middle of the night endsentence',\n",
              " 'startsentence im the one who makes you laugh endsentence',\n",
              " 'startsentence when you know youre bout to cry endsentence',\n",
              " 'startsentence and i know your favorite songs endsentence',\n",
              " 'startsentence and you tell me bout your dreams endsentence',\n",
              " 'startsentence think i know where you belong endsentence',\n",
              " 'startsentence think i know its with me endsentence',\n",
              " 'startsentence cant you see that im the one who understands you endsentence',\n",
              " 'startsentence been here all along so why cant you see endsentence',\n",
              " 'startsentence you belong with me endsentence',\n",
              " 'startsentence standing by and waiting at your back door endsentence',\n",
              " 'startsentence all this time how could you not know baby endsentence',\n",
              " 'startsentence you belong with me you belong with me endsentence',\n",
              " 'startsentence you belong with me endsentence',\n",
              " 'startsentence have you ever thought just maybe endsentence',\n",
              " 'startsentence you belong with me endsentence',\n",
              " 'startsentence you belong with me endsentence',\n",
              " 'startsentence i see your face in my mind as i drive away endsentence',\n",
              " 'startsentence cause none of us thought it was endsentence',\n",
              " 'startsentence going to end that way endsentence',\n",
              " 'startsentence people are people endsentence',\n",
              " 'startsentence and sometimes we change our minds endsentence',\n",
              " 'startsentence but its killing me to see you go after all this time endsentence',\n",
              " 'startsentence mm mm mm mm mm mm mm mm endsentence',\n",
              " 'startsentence mm mm mm mm mm mm mm mm endsentence',\n",
              " 'startsentence music starts playing like the end of a sad movie endsentence',\n",
              " 'startsentence its the kind of ending you endsentence',\n",
              " 'startsentence dont really want to see endsentence',\n",
              " 'startsentence cause its tragedy and itll only bring you endsentence',\n",
              " 'startsentence down endsentence',\n",
              " 'startsentence now i dont know what to be without you around endsentence',\n",
              " 'startsentence and we know its never simple never easy endsentence',\n",
              " 'startsentence never a clean break no one here to endsentence',\n",
              " 'startsentence save me endsentence',\n",
              " 'startsentence youre the only thing i know like the back of my hand endsentence',\n",
              " 'startsentence and i cant endsentence',\n",
              " 'startsentence breathe endsentence',\n",
              " 'startsentence without you but i have to breathe endsentence',\n",
              " 'startsentence without you but i have to endsentence',\n",
              " 'startsentence never wanted this never want to see you hurt endsentence',\n",
              " 'startsentence every little bump in the road i tried to swerve endsentence',\n",
              " 'startsentence but people are people endsentence',\n",
              " 'startsentence and sometimes it doesnt work out endsentence',\n",
              " 'startsentence nothing we say is gonna save us from the fall out endsentence',\n",
              " 'startsentence its 2 am endsentence',\n",
              " 'startsentence feeling like i just lost a friend endsentence',\n",
              " 'startsentence hope you know its not easy endsentence',\n",
              " 'startsentence easy for me endsentence',\n",
              " 'startsentence its 2 am endsentence',\n",
              " 'startsentence feeling like i just lost a friend endsentence',\n",
              " 'startsentence hope you know this aint easy endsentence',\n",
              " 'startsentence easy for me endsentence',\n",
              " 'startsentence sorry sorry endsentence',\n",
              " 'startsentence sorry yeah eh sorry endsentence',\n",
              " 'startsentence sorry sorry endsentence',\n",
              " 'startsentence sorry endsentence',\n",
              " 'startsentence i took a chance endsentence',\n",
              " 'startsentence i took a shot endsentence',\n",
              " 'startsentence and you might think im bulletproof endsentence',\n",
              " 'startsentence but im not endsentence',\n",
              " 'startsentence you took a swing endsentence',\n",
              " 'startsentence i took it hard endsentence',\n",
              " 'startsentence and down here from the ground i see who you are endsentence',\n",
              " 'startsentence im sick and tired of your attitude endsentence',\n",
              " 'startsentence im feeling like i dont know you endsentence',\n",
              " 'startsentence you tell me that you love me then you cut me down endsentence',\n",
              " 'startsentence and i need you like a heartbeat endsentence',\n",
              " 'startsentence but you know you got a mean streak endsentence',\n",
              " 'startsentence that makes me run for cover when youre around endsentence',\n",
              " 'startsentence and heres to you and your temper endsentence',\n",
              " 'startsentence yes i remember what you said last night endsentence',\n",
              " 'startsentence and i know that you see what youre doing to me endsentence',\n",
              " 'startsentence tell me why endsentence',\n",
              " 'startsentence you could write a book on how to ruin someones perfect day endsentence',\n",
              " 'startsentence well i get so confused and frustrated endsentence',\n",
              " 'startsentence forget what im trying to say oh endsentence',\n",
              " 'startsentence im sick and tired of your reasons endsentence',\n",
              " 'startsentence i got no one to believe in endsentence',\n",
              " 'startsentence you tell me that you want me then push me around endsentence',\n",
              " 'startsentence and i need you like a heartbeat endsentence',\n",
              " 'startsentence but you know you got a mean streak endsentence',\n",
              " 'startsentence that makes me run for cover when youre around endsentence',\n",
              " 'startsentence heres to you and your temper endsentence',\n",
              " 'startsentence yes i remember what you said last night endsentence',\n",
              " 'startsentence and i know that you see what youre doing to me endsentence',\n",
              " 'startsentence tell me why endsentence',\n",
              " 'startsentence why do you have to make me feel small endsentence',\n",
              " 'startsentence so you can feel whole inside endsentence',\n",
              " 'startsentence why do you have to put down my dreams endsentence',\n",
              " 'startsentence so youre the only thing on my mind endsentence',\n",
              " 'startsentence im sick and tired of your attitude endsentence',\n",
              " 'startsentence im feeling like i dont know you endsentence',\n",
              " 'startsentence you tell me that you want me then cut me down endsentence',\n",
              " 'startsentence im sick and tired of your reasons endsentence',\n",
              " 'startsentence ive got no one to believe in endsentence',\n",
              " 'startsentence you ask me for my love then you push me around endsentence',\n",
              " 'startsentence heres to you and your temper endsentence',\n",
              " 'startsentence yes i remember what you said last night endsentence',\n",
              " 'startsentence and i know that you see what youre doing to me endsentence',\n",
              " 'startsentence tell me why why endsentence',\n",
              " 'startsentence tell me why why endsentence',\n",
              " 'startsentence i take a step back let you go endsentence',\n",
              " 'startsentence i told you im not bulletproof endsentence',\n",
              " 'startsentence now you know endsentence',\n",
              " 'startsentence all this time i was wasting hoping you would come around endsentence',\n",
              " 'startsentence ive been giving out chances every time and all you do is let me down endsentence',\n",
              " 'startsentence and its taken me this long baby but ive figured you out endsentence',\n",
              " 'startsentence and youre thinking well be fine again but not this time around endsentence',\n",
              " 'startsentence you dont have to call anymore endsentence',\n",
              " 'startsentence i wont pick up the phone endsentence',\n",
              " 'startsentence this is the last straw endsentence',\n",
              " 'startsentence dont wanna hurt anymore endsentence',\n",
              " 'startsentence and you can tell me that youre sorry endsentence',\n",
              " 'startsentence but i dont believe you baby like i did before endsentence',\n",
              " 'startsentence youre not sorry no no no no endsentence',\n",
              " 'startsentence youre looking so innocent endsentence',\n",
              " 'startsentence i might believe you if i didnt know endsentence',\n",
              " 'startsentence couldve loved you all my life if you hadnt left me waiting in the cold endsentence',\n",
              " 'startsentence and youve got your share of secrets endsentence',\n",
              " 'startsentence and im tired of being last to know endsentence',\n",
              " 'startsentence and now youre asking me to listen cause its worked each time before but endsentence',\n",
              " 'startsentence you dont have to call anymore endsentence',\n",
              " 'startsentence i wont pick up the phone endsentence',\n",
              " 'startsentence this is the last straw endsentence',\n",
              " 'startsentence dont wanna hurt anymore endsentence',\n",
              " 'startsentence and you can tell me that youre sorry endsentence',\n",
              " 'startsentence but i dont believe you baby like i did before endsentence',\n",
              " 'startsentence youre not sorry no no no no endsentence',\n",
              " 'startsentence youre not sorry no no no no endsentence',\n",
              " 'startsentence you had me crawling for you honey and it never would have gone away endsentence',\n",
              " 'startsentence you used to shine so bright but i watched all of it fade so endsentence',\n",
              " 'startsentence you dont have to call anymore endsentence',\n",
              " 'startsentence i wont pick up the phone endsentence',\n",
              " 'startsentence this is the last straw endsentence',\n",
              " 'startsentence theres nothing left to beg for endsentence',\n",
              " 'startsentence and you can tell me that youre sorry endsentence',\n",
              " 'startsentence but i dont believe you baby like i did before endsentence',\n",
              " 'startsentence youre not sorry no no no no endsentence',\n",
              " 'startsentence youre not sorry no no no no endsentence',\n",
              " 'startsentence no no no endsentence',\n",
              " 'startsentence he is sensible and so incredible endsentence',\n",
              " 'startsentence and all my single friends are jealous endsentence',\n",
              " 'startsentence he says everything i need to hear and its like endsentence',\n",
              " 'startsentence i couldnt ask for anything better endsentence',\n",
              " 'startsentence he opens up my door and i get into his car endsentence',\n",
              " 'startsentence and he says you look beautiful tonight endsentence',\n",
              " 'startsentence and i feel perfectly fine endsentence',\n",
              " 'startsentence but i miss screaming and fighting and kissing in the rain endsentence',\n",
              " 'startsentence and its 2am and im cursing your name endsentence',\n",
              " 'startsentence youre so in love that you act insane endsentence',\n",
              " 'startsentence and thats the way i loved you endsentence',\n",
              " 'startsentence breaking down and coming undone endsentence',\n",
              " 'startsentence its a roller coaster kind of rush endsentence',\n",
              " 'startsentence and i never knew i could feel that much endsentence',\n",
              " 'startsentence and thats the way i loved you endsentence',\n",
              " 'startsentence he respects my space endsentence',\n",
              " 'startsentence and never makes me wait endsentence',\n",
              " 'startsentence and he calls exactly when he says he will endsentence',\n",
              " 'startsentence hes close to my mother endsentence',\n",
              " 'startsentence talks business with my father endsentence',\n",
              " 'startsentence hes charming and endearing endsentence',\n",
              " 'startsentence and im comfortable endsentence',\n",
              " 'startsentence he cant see the smile im faking endsentence',\n",
              " 'startsentence and my hearts not breaking endsentence',\n",
              " 'startsentence cause im not feeling anything at all endsentence',\n",
              " 'startsentence and you were wild and crazy endsentence',\n",
              " 'startsentence just so frustrating intoxicating endsentence',\n",
              " 'startsentence complicated got away by some mistake and now endsentence',\n",
              " 'startsentence i miss screaming and fighting and kissing in the rain endsentence',\n",
              " 'startsentence its 2am and im cursing your name endsentence',\n",
              " 'startsentence im so in love that i acted insane endsentence',\n",
              " ...]"
            ]
          },
          "metadata": {
            "tags": []
          },
          "execution_count": 8
        }
      ]
    },
    {
      "cell_type": "code",
      "metadata": {
        "id": "-XQM2bq4GE-w"
      },
      "source": [
        "new_corpus = []\n",
        "\n",
        "for i in range(0, len(corpus), 3):\n",
        "    if i+1 in range(len(corpus)):\n",
        "        sentence = corpus[i] + \" newsentence \" + corpus[i+1]\n",
        "        new_corpus.append(sentence)"
      ],
      "execution_count": 9,
      "outputs": []
    },
    {
      "cell_type": "markdown",
      "metadata": {
        "id": "ztz9xk_LMlDb"
      },
      "source": [
        "Let's see how an element of corpus looks like. "
      ]
    },
    {
      "cell_type": "code",
      "metadata": {
        "id": "bwi0lHLJGFD_",
        "outputId": "30777640-1f41-4cfe-e863-bb95c4885548",
        "colab": {
          "base_uri": "https://localhost:8080/",
          "height": 35
        }
      },
      "source": [
        "new_corpus[3]"
      ],
      "execution_count": 10,
      "outputs": [
        {
          "output_type": "execute_result",
          "data": {
            "application/vnd.google.colaboratory.intrinsic+json": {
              "type": "string"
            },
            "text/plain": [
              "'startsentence but when you think tim mcgraw endsentence newsentence startsentence i hope you think my favorite song endsentence'"
            ]
          },
          "metadata": {
            "tags": []
          },
          "execution_count": 10
        }
      ]
    },
    {
      "cell_type": "code",
      "metadata": {
        "id": "kwQMFmCIMiFY",
        "outputId": "4f55f340-1b04-446f-dae9-12a2c4322078",
        "colab": {
          "base_uri": "https://localhost:8080/",
          "height": 35
        }
      },
      "source": [
        "corpus[3]"
      ],
      "execution_count": 11,
      "outputs": [
        {
          "output_type": "execute_result",
          "data": {
            "application/vnd.google.colaboratory.intrinsic+json": {
              "type": "string"
            },
            "text/plain": [
              "'startsentence i said thats a lie endsentence'"
            ]
          },
          "metadata": {
            "tags": []
          },
          "execution_count": 11
        }
      ]
    },
    {
      "cell_type": "code",
      "metadata": {
        "id": "5Pszw5v6HiX7"
      },
      "source": [
        "temp = corpus + new_corpus\n",
        "corpus = []\n",
        "for i in temp:\n",
        "    if i not in corpus:\n",
        "        corpus.append(i)"
      ],
      "execution_count": 12,
      "outputs": []
    },
    {
      "cell_type": "markdown",
      "metadata": {
        "id": "rSuoyJVGI6D5"
      },
      "source": [
        "# Organising Data\n",
        "Now we will use Tokenizer to convert the words to word vectors. \n",
        "Our model understands numbers only, so we need to give it numbers instead of words. "
      ]
    },
    {
      "cell_type": "code",
      "metadata": {
        "id": "PRnDnCW-Z7qv"
      },
      "source": [
        "tokenizer = Tokenizer()\n",
        "\n",
        "tokenizer.fit_on_texts(corpus)\n",
        "total_words = len(tokenizer.word_index) + 1\n",
        "\n",
        "# create input sequences using list of tokens\n",
        "input_sequences = []\n",
        "for line in corpus:\n",
        "    token_list = tokenizer.texts_to_sequences([line])[0]\n",
        "    for i in range(1, len(token_list)):\n",
        "        n_gram_sequence = token_list[max(0, i-6):i+1]\n",
        "        input_sequences.append(n_gram_sequence)\n",
        "\n",
        "\n",
        "# pad sequences \n",
        "max_sequence_len = max([len(x) for x in input_sequences])\n",
        "input_sequences = np.array(pad_sequences(input_sequences, maxlen=max_sequence_len, padding='pre'))\n",
        "\n",
        "# create predictors and label\n",
        "predictors, label = input_sequences[:,:-1],input_sequences[:,-1]\n",
        "\n",
        "label = ku.to_categorical(label, num_classes=total_words)"
      ],
      "execution_count": 13,
      "outputs": []
    },
    {
      "cell_type": "code",
      "metadata": {
        "id": "P-X6EuigK0AW",
        "outputId": "e51f373e-594a-4f1a-c46d-1590eddcefdd",
        "colab": {
          "base_uri": "https://localhost:8080/"
        }
      },
      "source": [
        "print(\"Input Sequences\")\n",
        "print(input_sequences)\n",
        "print(\"*****\")\n",
        "print(\"Shape of Input Sequences\", input_sequences.shape)"
      ],
      "execution_count": 14,
      "outputs": [
        {
          "output_type": "stream",
          "text": [
            "Input Sequences\n",
            "[[   0    0    0 ...    0    1 1322]\n",
            " [   0    0    0 ...    1 1322    2]\n",
            " [   0    0    0 ...    0    1   59]\n",
            " ...\n",
            " [   6    1 1121 ...    4   72 1122]\n",
            " [   1 1121  410 ...   72 1122  674]\n",
            " [1121  410    4 ... 1122  674    2]]\n",
            "*****\n",
            "Shape of Input Sequences (53180, 7)\n"
          ],
          "name": "stdout"
        }
      ]
    },
    {
      "cell_type": "code",
      "metadata": {
        "id": "-EuezRa8KNYC",
        "outputId": "502886d0-5b60-49ca-8416-433c55fdcc79",
        "colab": {
          "base_uri": "https://localhost:8080/"
        }
      },
      "source": [
        "print(\"Predictors\")\n",
        "print(predictors)\n",
        "print('*****')\n",
        "print(\"Shape of predictors is\", predictors.shape)"
      ],
      "execution_count": 15,
      "outputs": [
        {
          "output_type": "stream",
          "text": [
            "Predictors\n",
            "[[   0    0    0    0    0    1]\n",
            " [   0    0    0    0    1 1322]\n",
            " [   0    0    0    0    0    1]\n",
            " ...\n",
            " [   6    1 1121  410    4   72]\n",
            " [   1 1121  410    4   72 1122]\n",
            " [1121  410    4   72 1122  674]]\n",
            "*****\n",
            "Shape of predictors is (53180, 6)\n"
          ],
          "name": "stdout"
        }
      ]
    },
    {
      "cell_type": "code",
      "metadata": {
        "id": "JXv6R3EwbZEt",
        "outputId": "c22853a0-fdb3-483a-b966-c5e9183f29e6",
        "colab": {
          "base_uri": "https://localhost:8080/"
        }
      },
      "source": [
        "print(\"Label\")\n",
        "print(label)\n",
        "print(\"*****\")\n",
        "print(\"Shape of label\", label.shape)"
      ],
      "execution_count": 16,
      "outputs": [
        {
          "output_type": "stream",
          "text": [
            "Label\n",
            "[[0. 0. 0. ... 0. 0. 0.]\n",
            " [0. 0. 1. ... 0. 0. 0.]\n",
            " [0. 0. 0. ... 0. 0. 0.]\n",
            " ...\n",
            " [0. 0. 0. ... 0. 0. 0.]\n",
            " [0. 0. 0. ... 0. 0. 0.]\n",
            " [0. 0. 1. ... 0. 0. 0.]]\n",
            "*****\n",
            "Shape of label (53180, 2402)\n"
          ],
          "name": "stdout"
        }
      ]
    },
    {
      "cell_type": "markdown",
      "metadata": {
        "id": "_SyLUtByJ2WK"
      },
      "source": [
        "Now, we will start building model using Keras. We use LSTM so that our model could be more accurate and understand the context better. "
      ]
    },
    {
      "cell_type": "code",
      "metadata": {
        "id": "w9vH8Y59ajYL",
        "outputId": "9342576b-92e6-4454-9d20-5971ff81fc9d",
        "colab": {
          "base_uri": "https://localhost:8080/"
        }
      },
      "source": [
        "model = Sequential()\n",
        "model.add(Embedding(total_words, 50, input_length=max_sequence_len-1))  #(# Embedding Layer)\n",
        "model.add(Bidirectional(LSTM(150, return_sequences=True)))  #(An LSTM Layer)\n",
        "model.add(Dropout(0.2))  #(# A dropout layer for regularisation)\n",
        "model.add(LSTM(100))  #(# Another LSTM Layer)\n",
        "model.add(Dense(total_words/2, activation='relu'))  #(# A Dense Layer including regularizers)\n",
        "#(# Last Layer, the shape is equal to total number of words present in our vocabulary)\n",
        "model.add(Dense(total_words, activation='softmax'))  \n",
        "# Pick an optimizer\n",
        "model.compile(loss='categorical_crossentropy', optimizer='adam', metrics='accuracy')  #(# Pick a loss function and an optimizer)\n",
        "print(model.summary())"
      ],
      "execution_count": 17,
      "outputs": [
        {
          "output_type": "stream",
          "text": [
            "Model: \"sequential\"\n",
            "_________________________________________________________________\n",
            "Layer (type)                 Output Shape              Param #   \n",
            "=================================================================\n",
            "embedding (Embedding)        (None, 6, 50)             120100    \n",
            "_________________________________________________________________\n",
            "bidirectional (Bidirectional (None, 6, 300)            241200    \n",
            "_________________________________________________________________\n",
            "dropout (Dropout)            (None, 6, 300)            0         \n",
            "_________________________________________________________________\n",
            "lstm_1 (LSTM)                (None, 100)               160400    \n",
            "_________________________________________________________________\n",
            "dense (Dense)                (None, 1201)              121301    \n",
            "_________________________________________________________________\n",
            "dense_1 (Dense)              (None, 2402)              2887204   \n",
            "=================================================================\n",
            "Total params: 3,530,205\n",
            "Trainable params: 3,530,205\n",
            "Non-trainable params: 0\n",
            "_________________________________________________________________\n",
            "None\n"
          ],
          "name": "stdout"
        }
      ]
    },
    {
      "cell_type": "code",
      "metadata": {
        "id": "AIg2f1HBxqof",
        "outputId": "0c7e76dc-a0db-4b7d-ad7a-6f7768aa2407",
        "colab": {
          "base_uri": "https://localhost:8080/"
        }
      },
      "source": [
        "history = model.fit(predictors, label, epochs= 60, verbose=1)"
      ],
      "execution_count": 18,
      "outputs": [
        {
          "output_type": "stream",
          "text": [
            "Epoch 1/60\n",
            "1662/1662 [==============================] - 15s 9ms/step - loss: 5.0776 - accuracy: 0.1828\n",
            "Epoch 2/60\n",
            "1662/1662 [==============================] - 15s 9ms/step - loss: 4.4051 - accuracy: 0.2279\n",
            "Epoch 3/60\n",
            "1662/1662 [==============================] - 15s 9ms/step - loss: 3.9224 - accuracy: 0.2645\n",
            "Epoch 4/60\n",
            "1662/1662 [==============================] - 15s 9ms/step - loss: 3.4744 - accuracy: 0.3042\n",
            "Epoch 5/60\n",
            "1662/1662 [==============================] - 15s 9ms/step - loss: 3.0202 - accuracy: 0.3577\n",
            "Epoch 6/60\n",
            "1662/1662 [==============================] - 15s 9ms/step - loss: 2.5858 - accuracy: 0.4200\n",
            "Epoch 7/60\n",
            "1662/1662 [==============================] - 15s 9ms/step - loss: 2.2147 - accuracy: 0.4922\n",
            "Epoch 8/60\n",
            "1662/1662 [==============================] - 15s 9ms/step - loss: 1.9264 - accuracy: 0.5468\n",
            "Epoch 9/60\n",
            "1662/1662 [==============================] - 15s 9ms/step - loss: 1.6996 - accuracy: 0.5974\n",
            "Epoch 10/60\n",
            "1662/1662 [==============================] - 15s 9ms/step - loss: 1.5332 - accuracy: 0.6347\n",
            "Epoch 11/60\n",
            "1662/1662 [==============================] - 15s 9ms/step - loss: 1.4060 - accuracy: 0.6663\n",
            "Epoch 12/60\n",
            "1662/1662 [==============================] - 15s 9ms/step - loss: 1.3124 - accuracy: 0.6891\n",
            "Epoch 13/60\n",
            "1662/1662 [==============================] - 15s 9ms/step - loss: 1.2468 - accuracy: 0.7048\n",
            "Epoch 14/60\n",
            "1662/1662 [==============================] - 15s 9ms/step - loss: 1.1919 - accuracy: 0.7166\n",
            "Epoch 15/60\n",
            "1662/1662 [==============================] - 15s 9ms/step - loss: 1.1455 - accuracy: 0.7285\n",
            "Epoch 16/60\n",
            "1662/1662 [==============================] - 15s 9ms/step - loss: 1.1134 - accuracy: 0.7341\n",
            "Epoch 17/60\n",
            "1662/1662 [==============================] - 15s 9ms/step - loss: 1.0849 - accuracy: 0.7413\n",
            "Epoch 18/60\n",
            "1662/1662 [==============================] - 15s 9ms/step - loss: 1.0604 - accuracy: 0.7458\n",
            "Epoch 19/60\n",
            "1662/1662 [==============================] - 15s 9ms/step - loss: 1.0417 - accuracy: 0.7495\n",
            "Epoch 20/60\n",
            "1662/1662 [==============================] - 15s 9ms/step - loss: 1.0206 - accuracy: 0.7533\n",
            "Epoch 21/60\n",
            "1662/1662 [==============================] - 14s 9ms/step - loss: 1.0035 - accuracy: 0.7574\n",
            "Epoch 22/60\n",
            "1662/1662 [==============================] - 15s 9ms/step - loss: 0.9854 - accuracy: 0.7603\n",
            "Epoch 23/60\n",
            "1662/1662 [==============================] - 15s 9ms/step - loss: 0.9708 - accuracy: 0.7647\n",
            "Epoch 24/60\n",
            "1662/1662 [==============================] - 15s 9ms/step - loss: 0.9581 - accuracy: 0.7665\n",
            "Epoch 25/60\n",
            "1662/1662 [==============================] - 15s 9ms/step - loss: 0.9425 - accuracy: 0.7716\n",
            "Epoch 26/60\n",
            "1662/1662 [==============================] - 15s 9ms/step - loss: 0.9304 - accuracy: 0.7730\n",
            "Epoch 27/60\n",
            "1662/1662 [==============================] - 15s 9ms/step - loss: 0.9257 - accuracy: 0.7748\n",
            "Epoch 28/60\n",
            "1662/1662 [==============================] - 15s 9ms/step - loss: 0.9120 - accuracy: 0.7761\n",
            "Epoch 29/60\n",
            "1662/1662 [==============================] - 15s 9ms/step - loss: 0.8983 - accuracy: 0.7813\n",
            "Epoch 30/60\n",
            "1662/1662 [==============================] - 16s 10ms/step - loss: 0.8933 - accuracy: 0.7825\n",
            "Epoch 31/60\n",
            "1662/1662 [==============================] - 15s 9ms/step - loss: 0.8865 - accuracy: 0.7815\n",
            "Epoch 32/60\n",
            "1662/1662 [==============================] - 15s 9ms/step - loss: 0.8758 - accuracy: 0.7852\n",
            "Epoch 33/60\n",
            "1662/1662 [==============================] - 15s 9ms/step - loss: 0.8736 - accuracy: 0.7859\n",
            "Epoch 34/60\n",
            "1662/1662 [==============================] - 15s 9ms/step - loss: 0.8710 - accuracy: 0.7858\n",
            "Epoch 35/60\n",
            "1662/1662 [==============================] - 15s 9ms/step - loss: 0.8619 - accuracy: 0.7896\n",
            "Epoch 36/60\n",
            "1662/1662 [==============================] - 15s 9ms/step - loss: 0.8522 - accuracy: 0.7909\n",
            "Epoch 37/60\n",
            "1662/1662 [==============================] - 15s 9ms/step - loss: 0.8547 - accuracy: 0.7903\n",
            "Epoch 38/60\n",
            "1662/1662 [==============================] - 15s 9ms/step - loss: 0.8449 - accuracy: 0.7929\n",
            "Epoch 39/60\n",
            "1662/1662 [==============================] - 14s 9ms/step - loss: 0.8392 - accuracy: 0.7942\n",
            "Epoch 40/60\n",
            "1662/1662 [==============================] - 14s 9ms/step - loss: 0.8361 - accuracy: 0.7942\n",
            "Epoch 41/60\n",
            "1662/1662 [==============================] - 15s 9ms/step - loss: 0.8371 - accuracy: 0.7936\n",
            "Epoch 42/60\n",
            "1662/1662 [==============================] - 14s 9ms/step - loss: 0.8360 - accuracy: 0.7932\n",
            "Epoch 43/60\n",
            "1662/1662 [==============================] - 15s 9ms/step - loss: 0.8311 - accuracy: 0.7945\n",
            "Epoch 44/60\n",
            "1662/1662 [==============================] - 14s 9ms/step - loss: 0.8302 - accuracy: 0.7953\n",
            "Epoch 45/60\n",
            "1662/1662 [==============================] - 15s 9ms/step - loss: 0.8182 - accuracy: 0.7988\n",
            "Epoch 46/60\n",
            "1662/1662 [==============================] - 15s 9ms/step - loss: 0.8235 - accuracy: 0.7976\n",
            "Epoch 47/60\n",
            "1662/1662 [==============================] - 14s 9ms/step - loss: 0.8181 - accuracy: 0.7978\n",
            "Epoch 48/60\n",
            "1662/1662 [==============================] - 15s 9ms/step - loss: 0.8178 - accuracy: 0.7975\n",
            "Epoch 49/60\n",
            "1662/1662 [==============================] - 14s 9ms/step - loss: 0.8159 - accuracy: 0.7984\n",
            "Epoch 50/60\n",
            "1662/1662 [==============================] - 15s 9ms/step - loss: 0.8119 - accuracy: 0.7982\n",
            "Epoch 51/60\n",
            "1662/1662 [==============================] - 15s 9ms/step - loss: 0.8124 - accuracy: 0.7993\n",
            "Epoch 52/60\n",
            "1662/1662 [==============================] - 15s 9ms/step - loss: 0.8117 - accuracy: 0.7993\n",
            "Epoch 53/60\n",
            "1662/1662 [==============================] - 15s 9ms/step - loss: 0.8093 - accuracy: 0.7997\n",
            "Epoch 54/60\n",
            "1662/1662 [==============================] - 16s 9ms/step - loss: 0.8059 - accuracy: 0.8010\n",
            "Epoch 55/60\n",
            "1662/1662 [==============================] - 15s 9ms/step - loss: 0.8100 - accuracy: 0.7996\n",
            "Epoch 56/60\n",
            "1662/1662 [==============================] - 15s 9ms/step - loss: 0.8055 - accuracy: 0.8008\n",
            "Epoch 57/60\n",
            "1662/1662 [==============================] - 15s 9ms/step - loss: 0.8010 - accuracy: 0.8010\n",
            "Epoch 58/60\n",
            "1662/1662 [==============================] - 15s 9ms/step - loss: 0.8023 - accuracy: 0.8004\n",
            "Epoch 59/60\n",
            "1662/1662 [==============================] - 15s 9ms/step - loss: 0.8018 - accuracy: 0.8004\n",
            "Epoch 60/60\n",
            "1662/1662 [==============================] - 16s 9ms/step - loss: 0.7975 - accuracy: 0.8022\n"
          ],
          "name": "stdout"
        }
      ]
    },
    {
      "cell_type": "markdown",
      "metadata": {
        "id": "blUBajLlOPyD"
      },
      "source": [
        "Now, we will see how our model performed with each iteration. "
      ]
    },
    {
      "cell_type": "code",
      "metadata": {
        "id": "XWTK8pcgsmqG"
      },
      "source": [
        "import matplotlib.pyplot as plt\n",
        "\n",
        "def plot_graph(history,string):\n",
        "    plt.plot(history.history[string])\n",
        "    plt.xlabel(\"Epochs\")\n",
        "    plt.ylabel(string)\n",
        "    plt.show()"
      ],
      "execution_count": 19,
      "outputs": []
    },
    {
      "cell_type": "code",
      "metadata": {
        "id": "srDqi-U3smqW",
        "outputId": "c869f3cf-b45a-4a9f-d9e0-340422e073b5",
        "colab": {
          "base_uri": "https://localhost:8080/",
          "height": 279
        }
      },
      "source": [
        "plot_graph(history,'accuracy')"
      ],
      "execution_count": 20,
      "outputs": [
        {
          "output_type": "display_data",
          "data": {
            "image/png": "[encoded data removed]",
            "text/plain": [
              "<Figure size 432x288 with 1 Axes>"
            ]
          },
          "metadata": {
            "tags": [],
            "needs_background": "light"
          }
        }
      ]
    },
    {
      "cell_type": "code",
      "metadata": {
        "id": "70XUUhDnTpuY",
        "outputId": "eef379a5-d81c-446e-b05b-fde8c44ba8b9",
        "colab": {
          "base_uri": "https://localhost:8080/",
          "height": 279
        }
      },
      "source": [
        "plot_graph(history,'loss')"
      ],
      "execution_count": 21,
      "outputs": [
        {
          "output_type": "display_data",
          "data": {
            "image/png": "[encoded data removed]",
            "text/plain": [
              "<Figure size 432x288 with 1 Axes>"
            ]
          },
          "metadata": {
            "tags": [],
            "needs_background": "light"
          }
        }
      ]
    },
    {
      "cell_type": "code",
      "metadata": {
        "id": "B3n3gF-wotgL",
        "outputId": "81de9b67-814a-4fe1-f111-cf1f5fbc0b40",
        "colab": {
          "base_uri": "https://localhost:8080/"
        }
      },
      "source": [
        "# Further training if not satisfied\n",
        "history = model.fit(predictors, label, epochs= 20, verbose=1)"
      ],
      "execution_count": 33,
      "outputs": [
        {
          "output_type": "stream",
          "text": [
            "Epoch 1/20\n",
            "1662/1662 [==============================] - 14s 9ms/step - loss: 0.7980 - accuracy: 0.8027\n",
            "Epoch 2/20\n",
            "1662/1662 [==============================] - 15s 9ms/step - loss: 0.7975 - accuracy: 0.8019\n",
            "Epoch 3/20\n",
            "1662/1662 [==============================] - 15s 9ms/step - loss: 0.8008 - accuracy: 0.8007\n",
            "Epoch 4/20\n",
            "1662/1662 [==============================] - 15s 9ms/step - loss: 0.7935 - accuracy: 0.8025\n",
            "Epoch 5/20\n",
            "1662/1662 [==============================] - 15s 9ms/step - loss: 0.7922 - accuracy: 0.8028\n",
            "Epoch 6/20\n",
            "1662/1662 [==============================] - 15s 9ms/step - loss: 0.7928 - accuracy: 0.8021\n",
            "Epoch 7/20\n",
            "1662/1662 [==============================] - 15s 9ms/step - loss: 0.7930 - accuracy: 0.8024\n",
            "Epoch 8/20\n",
            "1662/1662 [==============================] - 15s 9ms/step - loss: 0.7900 - accuracy: 0.8032\n",
            "Epoch 9/20\n",
            "1662/1662 [==============================] - 15s 9ms/step - loss: 0.7880 - accuracy: 0.8030\n",
            "Epoch 10/20\n",
            "1662/1662 [==============================] - 15s 9ms/step - loss: 0.7940 - accuracy: 0.8008\n",
            "Epoch 11/20\n",
            "1662/1662 [==============================] - 15s 9ms/step - loss: 0.7926 - accuracy: 0.8030\n",
            "Epoch 12/20\n",
            "1662/1662 [==============================] - 15s 9ms/step - loss: 0.7871 - accuracy: 0.8038\n",
            "Epoch 13/20\n",
            "1662/1662 [==============================] - 15s 9ms/step - loss: 0.7864 - accuracy: 0.8036\n",
            "Epoch 14/20\n",
            "1662/1662 [==============================] - 15s 9ms/step - loss: 0.7875 - accuracy: 0.8035\n",
            "Epoch 15/20\n",
            "1662/1662 [==============================] - 15s 9ms/step - loss: 0.7844 - accuracy: 0.8046\n",
            "Epoch 16/20\n",
            "1662/1662 [==============================] - 14s 9ms/step - loss: 0.7877 - accuracy: 0.8032\n",
            "Epoch 17/20\n",
            "1662/1662 [==============================] - 15s 9ms/step - loss: 0.7824 - accuracy: 0.8041\n",
            "Epoch 18/20\n",
            "1662/1662 [==============================] - 15s 9ms/step - loss: 0.7857 - accuracy: 0.8039\n",
            "Epoch 19/20\n",
            "1662/1662 [==============================] - 15s 9ms/step - loss: 0.7809 - accuracy: 0.8050\n",
            "Epoch 20/20\n",
            "1662/1662 [==============================] - 16s 9ms/step - loss: 0.7825 - accuracy: 0.8050\n"
          ],
          "name": "stdout"
        }
      ]
    },
    {
      "cell_type": "code",
      "metadata": {
        "id": "B528MBF2i36c"
      },
      "source": [
        "# How to save your trained model\n",
        "\n",
        "# serialize to JSON\n",
        "json_file = model.to_json()\n",
        "with open(\"model.json\", \"w\") as file:\n",
        "   file.write(json_file)\n",
        "# serialize weights to HDF5\n",
        "model.save_weights(\"model.h5\")"
      ],
      "execution_count": null,
      "outputs": []
    },
    {
      "cell_type": "code",
      "metadata": {
        "id": "gVdOEp1bjHzI"
      },
      "source": [
        "# How to load your saved model\n",
        "\n",
        "from keras.models import model_from_json\n",
        "\n",
        "# load json and create model\n",
        "file = open('model.json', 'r')\n",
        "model_json = file.read()\n",
        "file.close()\n",
        "loaded_model = model_from_json(model_json)\n",
        "# load weights\n",
        "loaded_model.load_weights(\"model.h5\")"
      ],
      "execution_count": null,
      "outputs": []
    },
    {
      "cell_type": "markdown",
      "metadata": {
        "id": "LHaZnz8xpzY2"
      },
      "source": [
        "# Generate Lyrics"
      ]
    },
    {
      "cell_type": "code",
      "metadata": {
        "id": "S6L4WV_lsmq2"
      },
      "source": [
        "def get_lyrics(seed_text):\n",
        "    ans = True\n",
        "    end_count = 0\n",
        "    seed_text = \"startsentence \" + seed_text \n",
        "    while True:\n",
        "        token_list = tokenizer.texts_to_sequences([seed_text])[0]\n",
        "        token_list = pad_sequences([token_list], maxlen=max_sequence_len-1, padding='pre')\n",
        "        predicted = model.predict_classes(token_list, verbose=0)\n",
        "        output_word = \"\"\n",
        "        for word, index in tokenizer.word_index.items():\n",
        "            if index == predicted:\n",
        "                output_word = word\n",
        "                break\n",
        "        if output_word == \"endsentence\":\n",
        "            end_count += 1\n",
        "\n",
        "        if end_count == 3:\n",
        "            new_sentence_words = seed_text.split()[1:]\n",
        "            seed_text = ' '.join(new_sentence_words)\n",
        "            return(seed_text)\n",
        "            ans = False\n",
        "            break\n",
        "        seed_text += \" \" + output_word\n",
        "    if ans == True:\n",
        "        new_sentence_words = seed_text.split()[1:]\n",
        "        seed_text = ' '.join(new_sentence_words)\n",
        "        return(seed_text)\n",
        "\n",
        "\n",
        "def make_lyrics(text):\n",
        "    seed_text = get_lyrics(text)\n",
        "    lyrics = seed_text.split(\"newsentence\")\n",
        "    for i in range(len(lyrics)):\n",
        "        sentence = lyrics[i]\n",
        "        words = sentence.split()\n",
        "        if \"endsentence\" in words:\n",
        "            words.remove(\"endsentence\")\n",
        "        if \"startsentence\" in words:\n",
        "            words.remove(\"startsentence\")\n",
        "        sentence = ' '.join(words)\n",
        "        lyrics[i] = sentence\n",
        "    for sentence in lyrics:\n",
        "        print(sentence)"
      ],
      "execution_count": 34,
      "outputs": []
    },
    {
      "cell_type": "code",
      "metadata": {
        "id": "QOkUwwAOKDJy",
        "outputId": "9477b048-c659-4342-df7a-2181f193086d",
        "colab": {
          "base_uri": "https://localhost:8080/"
        }
      },
      "source": [
        "make_lyrics(\"How\")"
      ],
      "execution_count": 35,
      "outputs": [
        {
          "output_type": "stream",
          "text": [
            "How you said youd be here\n",
            "and it was like slow motion\n",
            "got me feeling like im nothing\n"
          ],
          "name": "stdout"
        }
      ]
    },
    {
      "cell_type": "code",
      "metadata": {
        "id": "Qsb9RquVOdo8",
        "outputId": "88722642-d297-4e1b-e03d-439b7af730eb",
        "colab": {
          "base_uri": "https://localhost:8080/"
        }
      },
      "source": [
        "make_lyrics(\"When I will\")"
      ],
      "execution_count": 36,
      "outputs": [
        {
          "output_type": "stream",
          "text": [
            "When I will hold on to you\n",
            "and time can heal but this wont\n",
            "my old scarf from that very first week\n"
          ],
          "name": "stdout"
        }
      ]
    },
    {
      "cell_type": "code",
      "metadata": {
        "id": "u9St39_AOmKM",
        "outputId": "fff2e5cf-08d0-41d2-9335-b6003773cbe2",
        "colab": {
          "base_uri": "https://localhost:8080/"
        }
      },
      "source": [
        "make_lyrics(\"Light in the\")"
      ],
      "execution_count": 37,
      "outputs": [
        {
          "output_type": "stream",
          "text": [
            "Light in the night forever ships\n",
            "oh yeah\n",
            "and i dont know what to say since a twist of fate when it all broke down\n"
          ],
          "name": "stdout"
        }
      ]
    },
    {
      "cell_type": "code",
      "metadata": {
        "id": "RveFcd0hOvVr",
        "outputId": "13ff077a-90d6-4ced-f65d-46c9f0cc4105",
        "colab": {
          "base_uri": "https://localhost:8080/"
        }
      },
      "source": [
        "make_lyrics(\"Walking\")"
      ],
      "execution_count": 38,
      "outputs": [
        {
          "output_type": "stream",
          "text": [
            "Walking through a crowd the village is aglow\n",
            "kaleidoscope of loud heartbeats under coats\n",
            "or if i strike out of you\n"
          ],
          "name": "stdout"
        }
      ]
    },
    {
      "cell_type": "code",
      "metadata": {
        "id": "ySdhR0oxO4GM",
        "outputId": "69bf79ff-0fcb-4a4b-e18d-f6339a5e8e4d",
        "colab": {
          "base_uri": "https://localhost:8080/"
        }
      },
      "source": [
        "make_lyrics(\"Do you\")"
      ],
      "execution_count": 39,
      "outputs": [
        {
          "output_type": "stream",
          "text": [
            "Do you believe it\n",
            "two headlights shine through the sleepless night\n",
            "and i know that you see what youre doing to me\n"
          ],
          "name": "stdout"
        }
      ]
    },
    {
      "cell_type": "code",
      "metadata": {
        "id": "U3fQaM-G0GCA",
        "outputId": "ff590922-e936-470b-a079-0aa02f344a2b",
        "colab": {
          "base_uri": "https://localhost:8080/"
        }
      },
      "source": [
        "make_lyrics(\"If this is\")"
      ],
      "execution_count": 43,
      "outputs": [
        {
          "output_type": "stream",
          "text": [
            "If this is just gonna shake shake shake shake shake\n",
            "i shake it off i shake it off\n",
            "i never miss a beat\n"
          ],
          "name": "stdout"
        }
      ]
    },
    {
      "cell_type": "code",
      "metadata": {
        "id": "WSHshet40Mbo"
      },
      "source": [
        ""
      ],
      "execution_count": null,
      "outputs": []
    }
  ]
}