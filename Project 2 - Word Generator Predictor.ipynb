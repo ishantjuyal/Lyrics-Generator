{
  "nbformat": 4,
  "nbformat_minor": 0,
  "metadata": {
    "colab": {
      "name": "Project 2 - Word Generator/ Predictor",
      "provenance": [],
      "collapsed_sections": []
    },
    "kernelspec": {
      "display_name": "Python 3",
      "language": "python",
      "name": "python3"
    },
    "language_info": {
      "codemirror_mode": {
        "name": "ipython",
        "version": 3
      },
      "file_extension": ".py",
      "mimetype": "text/x-python",
      "name": "python",
      "nbconvert_exporter": "python",
      "pygments_lexer": "ipython3",
      "version": "3.7.4"
    }
  },
  "cells": [
    {
      "cell_type": "code",
      "metadata": {
        "colab_type": "code",
        "id": "BOwsuGQQY9OL",
        "colab": {}
      },
      "source": [
        "from tensorflow.keras.preprocessing.sequence import pad_sequences\n",
        "from tensorflow.keras.layers import Embedding, LSTM, Dense, Dropout, Bidirectional\n",
        "from tensorflow.keras.preprocessing.text import Tokenizer\n",
        "from tensorflow.keras.models import Sequential\n",
        "from tensorflow.keras.optimizers import Adam\n",
        "\n",
        "from tensorflow.keras.regularizers import Regularizer\n",
        "\n",
        "import tensorflow.keras.utils as ku \n",
        "import numpy as np "
      ],
      "execution_count": 0,
      "outputs": []
    },
    {
      "cell_type": "code",
      "metadata": {
        "id": "V3oel-VxFsaK",
        "colab_type": "code",
        "colab": {}
      },
      "source": [
        "tokenizer = Tokenizer()\n",
        "\n",
        "import urllib.request\n",
        "\n",
        "url = \"https://raw.githubusercontent.com/ishantjuyal/Word-Prediction/master/Data/Taylor_Swift.txt\"\n",
        "data = urllib.request.urlopen(url).read().decode(\"utf-8\")"
      ],
      "execution_count": 0,
      "outputs": []
    },
    {
      "cell_type": "code",
      "metadata": {
        "colab_type": "code",
        "id": "PRnDnCW-Z7qv",
        "colab": {}
      },
      "source": [
        "corpus = data.lower().split(\"\\r\\n\")\n",
        "\n",
        "corpus = list(set(corpus))\n",
        "\n",
        "tokenizer.fit_on_texts(corpus)\n",
        "total_words = len(tokenizer.word_index) + 1\n",
        "\n",
        "# create input sequences using list of tokens\n",
        "input_sequences = []\n",
        "for line in corpus:\n",
        "    token_list = tokenizer.texts_to_sequences([line])[0]\n",
        "    for i in range(1, len(token_list)):\n",
        "        n_gram_sequence = token_list[:i+1]\n",
        "        input_sequences.append(n_gram_sequence)\n",
        "\n",
        "\n",
        "# pad sequences \n",
        "max_sequence_len = max([len(x) for x in input_sequences])\n",
        "input_sequences = np.array(pad_sequences(input_sequences, maxlen=max_sequence_len, padding='pre'))\n",
        "\n",
        "# create predictors and label\n",
        "predictors, label = input_sequences[:,:-1],input_sequences[:,-1]\n",
        "\n",
        "label = ku.to_categorical(label, num_classes=total_words)"
      ],
      "execution_count": 0,
      "outputs": []
    },
    {
      "cell_type": "code",
      "metadata": {
        "id": "JXv6R3EwbZEt",
        "colab_type": "code",
        "colab": {
          "base_uri": "https://localhost:8080/",
          "height": 136
        },
        "outputId": "a5fbb67e-33a2-4f51-a0f9-537465bce6d1"
      },
      "source": [
        "label"
      ],
      "execution_count": 49,
      "outputs": [
        {
          "output_type": "execute_result",
          "data": {
            "text/plain": [
              "array([[0., 0., 0., ..., 0., 0., 0.],\n",
              "       [0., 0., 0., ..., 0., 0., 0.],\n",
              "       [0., 0., 0., ..., 0., 0., 0.],\n",
              "       ...,\n",
              "       [0., 0., 0., ..., 0., 0., 0.],\n",
              "       [0., 0., 0., ..., 0., 0., 0.],\n",
              "       [0., 0., 0., ..., 0., 0., 0.]], dtype=float32)"
            ]
          },
          "metadata": {
            "tags": []
          },
          "execution_count": 49
        }
      ]
    },
    {
      "cell_type": "code",
      "metadata": {
        "colab_type": "code",
        "id": "w9vH8Y59ajYL",
        "outputId": "0cf38bac-2dae-4f80-d035-1e12c12111d3",
        "colab": {
          "base_uri": "https://localhost:8080/",
          "height": 374
        }
      },
      "source": [
        "model = Sequential()\n",
        "model.add(Embedding(total_words, 50, input_length=max_sequence_len-1))  #(# Your Embedding Layer)\n",
        "model.add(Bidirectional(LSTM(150, return_sequences=True)))  #(# An LSTM Layer)\n",
        "model.add(Dropout(0.2))  #(# A dropout layer)\n",
        "model.add(LSTM(100))  #(# Another LSTM Layer)\n",
        "model.add(Dense(total_words/2, activation='relu'))  #(# A Dense Layer including regularizers)\n",
        "model.add(Dense(total_words, activation='softmax'))  #(# A Dense Layer)\n",
        "# Pick an optimizer\n",
        "model.compile(loss='categorical_crossentropy', optimizer='adam', metrics='accuracy')  #(# Pick a loss function and an optimizer)\n",
        "print(model.summary())\n"
      ],
      "execution_count": 0,
      "outputs": [
        {
          "output_type": "stream",
          "text": [
            "Model: \"sequential_1\"\n",
            "_________________________________________________________________\n",
            "Layer (type)                 Output Shape              Param #   \n",
            "=================================================================\n",
            "embedding_1 (Embedding)      (None, 17, 50)            120450    \n",
            "_________________________________________________________________\n",
            "bidirectional_1 (Bidirection (None, 17, 300)           241200    \n",
            "_________________________________________________________________\n",
            "dropout_1 (Dropout)          (None, 17, 300)           0         \n",
            "_________________________________________________________________\n",
            "lstm_3 (LSTM)                (None, 100)               160400    \n",
            "_________________________________________________________________\n",
            "dense_2 (Dense)              (None, 1204)              121604    \n",
            "_________________________________________________________________\n",
            "dense_3 (Dense)              (None, 2409)              2902845   \n",
            "=================================================================\n",
            "Total params: 3,546,499\n",
            "Trainable params: 3,546,499\n",
            "Non-trainable params: 0\n",
            "_________________________________________________________________\n",
            "None\n"
          ],
          "name": "stdout"
        }
      ]
    },
    {
      "cell_type": "code",
      "metadata": {
        "colab_type": "code",
        "id": "AIg2f1HBxqof",
        "outputId": "fb297953-b67b-4a2f-b8e3-f4c5bfe0605a",
        "colab": {
          "base_uri": "https://localhost:8080/",
          "height": 1000
        }
      },
      "source": [
        "history = model.fit(predictors, label, epochs=100, verbose=1)"
      ],
      "execution_count": 0,
      "outputs": [
        {
          "output_type": "stream",
          "text": [
            "Epoch 1/50\n",
            "637/637 [==============================] - 70s 110ms/step - loss: 6.1309 - accuracy: 0.0466\n",
            "Epoch 2/50\n",
            "637/637 [==============================] - 70s 110ms/step - loss: 5.6952 - accuracy: 0.0550\n",
            "Epoch 3/50\n",
            "637/637 [==============================] - 70s 110ms/step - loss: 5.4061 - accuracy: 0.0680\n",
            "Epoch 4/50\n",
            "637/637 [==============================] - 70s 110ms/step - loss: 5.1630 - accuracy: 0.0867\n",
            "Epoch 5/50\n",
            "637/637 [==============================] - 70s 110ms/step - loss: 4.9639 - accuracy: 0.1015\n",
            "Epoch 6/50\n",
            "637/637 [==============================] - 70s 110ms/step - loss: 4.7856 - accuracy: 0.1179\n",
            "Epoch 7/50\n",
            "637/637 [==============================] - 70s 111ms/step - loss: 4.6188 - accuracy: 0.1358\n",
            "Epoch 8/50\n",
            "637/637 [==============================] - 77s 120ms/step - loss: 4.4682 - accuracy: 0.1467\n",
            "Epoch 9/50\n",
            "637/637 [==============================] - 71s 112ms/step - loss: 4.3187 - accuracy: 0.1568\n",
            "Epoch 10/50\n",
            "637/637 [==============================] - 70s 110ms/step - loss: 4.1823 - accuracy: 0.1670\n",
            "Epoch 11/50\n",
            "637/637 [==============================] - 70s 110ms/step - loss: 4.0479 - accuracy: 0.1760\n",
            "Epoch 12/50\n",
            "637/637 [==============================] - 70s 111ms/step - loss: 3.9241 - accuracy: 0.1831\n",
            "Epoch 13/50\n",
            "637/637 [==============================] - 70s 110ms/step - loss: 3.7986 - accuracy: 0.1941\n",
            "Epoch 14/50\n",
            "637/637 [==============================] - 70s 110ms/step - loss: 3.6698 - accuracy: 0.2062\n",
            "Epoch 15/50\n",
            "637/637 [==============================] - 70s 110ms/step - loss: 3.5362 - accuracy: 0.2196\n",
            "Epoch 16/50\n",
            "637/637 [==============================] - 70s 110ms/step - loss: 3.4119 - accuracy: 0.2370\n",
            "Epoch 17/50\n",
            "637/637 [==============================] - 70s 110ms/step - loss: 3.2882 - accuracy: 0.2496\n",
            "Epoch 18/50\n",
            "637/637 [==============================] - 70s 110ms/step - loss: 3.1601 - accuracy: 0.2665\n",
            "Epoch 19/50\n",
            "637/637 [==============================] - 70s 110ms/step - loss: 3.0389 - accuracy: 0.2867\n",
            "Epoch 20/50\n",
            "637/637 [==============================] - 70s 110ms/step - loss: 2.9198 - accuracy: 0.3021\n",
            "Epoch 21/50\n",
            "637/637 [==============================] - 71s 111ms/step - loss: 2.8053 - accuracy: 0.3190\n",
            "Epoch 22/50\n",
            "637/637 [==============================] - 71s 111ms/step - loss: 2.6968 - accuracy: 0.3388\n",
            "Epoch 23/50\n",
            "637/637 [==============================] - 70s 110ms/step - loss: 2.5788 - accuracy: 0.3597\n",
            "Epoch 24/50\n",
            "637/637 [==============================] - 70s 110ms/step - loss: 2.4792 - accuracy: 0.3782\n",
            "Epoch 25/50\n",
            "637/637 [==============================] - 71s 111ms/step - loss: 2.3785 - accuracy: 0.3990\n",
            "Epoch 26/50\n",
            "637/637 [==============================] - 71s 111ms/step - loss: 2.2804 - accuracy: 0.4198\n",
            "Epoch 27/50\n",
            "637/637 [==============================] - 70s 110ms/step - loss: 2.1923 - accuracy: 0.4367\n",
            "Epoch 28/50\n",
            "637/637 [==============================] - 71s 111ms/step - loss: 2.0956 - accuracy: 0.4579\n",
            "Epoch 29/50\n",
            "637/637 [==============================] - 70s 110ms/step - loss: 2.0069 - accuracy: 0.4731\n",
            "Epoch 30/50\n",
            "637/637 [==============================] - 70s 111ms/step - loss: 1.9337 - accuracy: 0.4926\n",
            "Epoch 31/50\n",
            "637/637 [==============================] - 71s 111ms/step - loss: 1.8564 - accuracy: 0.5065\n",
            "Epoch 32/50\n",
            "637/637 [==============================] - 70s 111ms/step - loss: 1.7901 - accuracy: 0.5248\n",
            "Epoch 33/50\n",
            "637/637 [==============================] - 70s 110ms/step - loss: 1.7293 - accuracy: 0.5363\n",
            "Epoch 34/50\n",
            "637/637 [==============================] - 71s 111ms/step - loss: 1.6562 - accuracy: 0.5528\n",
            "Epoch 35/50\n",
            "637/637 [==============================] - 71s 111ms/step - loss: 1.6033 - accuracy: 0.5683\n",
            "Epoch 36/50\n",
            "637/637 [==============================] - 70s 111ms/step - loss: 1.5451 - accuracy: 0.5786\n",
            "Epoch 37/50\n",
            "637/637 [==============================] - 70s 111ms/step - loss: 1.4800 - accuracy: 0.6000\n",
            "Epoch 38/50\n",
            "637/637 [==============================] - 71s 111ms/step - loss: 1.4381 - accuracy: 0.6068\n",
            "Epoch 39/50\n",
            "637/637 [==============================] - 70s 110ms/step - loss: 1.3945 - accuracy: 0.6171\n",
            "Epoch 40/50\n",
            "637/637 [==============================] - 75s 118ms/step - loss: 1.3535 - accuracy: 0.6302\n",
            "Epoch 41/50\n",
            "637/637 [==============================] - 70s 110ms/step - loss: 1.3143 - accuracy: 0.6377\n",
            "Epoch 42/50\n",
            "637/637 [==============================] - 70s 110ms/step - loss: 1.2767 - accuracy: 0.6489\n",
            "Epoch 43/50\n",
            "637/637 [==============================] - 71s 111ms/step - loss: 1.2394 - accuracy: 0.6566\n",
            "Epoch 44/50\n",
            "637/637 [==============================] - 70s 110ms/step - loss: 1.2091 - accuracy: 0.6646\n",
            "Epoch 45/50\n",
            "637/637 [==============================] - 70s 111ms/step - loss: 1.1737 - accuracy: 0.6732\n",
            "Epoch 46/50\n",
            "637/637 [==============================] - 70s 111ms/step - loss: 1.1464 - accuracy: 0.6823\n",
            "Epoch 47/50\n",
            "637/637 [==============================] - 71s 111ms/step - loss: 1.1153 - accuracy: 0.6889\n",
            "Epoch 48/50\n",
            "637/637 [==============================] - 75s 118ms/step - loss: 1.0939 - accuracy: 0.6973\n",
            "Epoch 49/50\n",
            "637/637 [==============================] - 70s 110ms/step - loss: 1.0804 - accuracy: 0.6974\n",
            "Epoch 50/50\n",
            "637/637 [==============================] - 71s 111ms/step - loss: 1.0530 - accuracy: 0.7060\n"
          ],
          "name": "stdout"
        }
      ]
    },
    {
      "cell_type": "code",
      "metadata": {
        "id": "SJEH-yAOsmpw",
        "colab_type": "code",
        "outputId": "16b026ac-39e6-4c92-ffe9-262af67fba71",
        "colab": {
          "base_uri": "https://localhost:8080/",
          "height": 34
        }
      },
      "source": [
        "model_json = model.to_json()\n",
        "with open(\"model.json\", \"w\") as json_file:\n",
        "    json_file.write(model_json)\n",
        "# serialize weights to HDF5\n",
        "model.save_weights(\"model.h5\")\n",
        "print(\"Saved model to disk\")"
      ],
      "execution_count": 0,
      "outputs": [
        {
          "output_type": "stream",
          "text": [
            "Saved model to disk\n"
          ],
          "name": "stdout"
        }
      ]
    },
    {
      "cell_type": "code",
      "metadata": {
        "id": "XWTK8pcgsmqG",
        "colab_type": "code",
        "colab": {}
      },
      "source": [
        "import matplotlib.pyplot as plt\n",
        "\n",
        "def plot_graph(history,string):\n",
        "    plt.plot(history.history[string])\n",
        "    plt.xlabel(\"Epochs\")\n",
        "    plt.ylabel(string)\n",
        "    plt.show()"
      ],
      "execution_count": 0,
      "outputs": []
    },
    {
      "cell_type": "code",
      "metadata": {
        "id": "srDqi-U3smqW",
        "colab_type": "code",
        "outputId": "22c7ed7a-4524-4c90-b6b7-e4d2f84127ca",
        "colab": {
          "base_uri": "https://localhost:8080/",
          "height": 279
        }
      },
      "source": [
        "plot_graph(history,'accuracy')"
      ],
      "execution_count": 0,
      "outputs": [
        {
          "output_type": "display_data",
          "data": {
            "image/png": "[encoded data removed]",
            "text/plain": [
              "<Figure size 432x288 with 1 Axes>"
            ]
          },
          "metadata": {
            "tags": [],
            "needs_background": "light"
          }
        }
      ]
    },
    {
      "cell_type": "code",
      "metadata": {
        "id": "70XUUhDnTpuY",
        "colab_type": "code",
        "outputId": "1c57d0bc-316f-48ee-8132-95bc5ed403b8",
        "colab": {
          "base_uri": "https://localhost:8080/",
          "height": 279
        }
      },
      "source": [
        "plot_graph(history,'loss')"
      ],
      "execution_count": 0,
      "outputs": [
        {
          "output_type": "display_data",
          "data": {
            "image/png": "[encoded data removed]",
            "text/plain": [
              "<Figure size 432x288 with 1 Axes>"
            ]
          },
          "metadata": {
            "tags": [],
            "needs_background": "light"
          }
        }
      ]
    },
    {
      "cell_type": "code",
      "metadata": {
        "colab_type": "code",
        "id": "6Vc6PHgxa6Hm",
        "outputId": "0abb7b43-aeea-4715-a3ed-42c7ef287c1d",
        "colab": {
          "base_uri": "https://localhost:8080/",
          "height": 34
        }
      },
      "source": [
        "seed_text = \"What you made\"\n",
        "next_words = 6\n",
        "  \n",
        "for _ in range(next_words):\n",
        "    token_list = tokenizer.texts_to_sequences([seed_text])[0]\n",
        "    token_list = pad_sequences([token_list], maxlen=max_sequence_len-1, padding='pre')\n",
        "    predicted = model.predict_classes(token_list, verbose=0)\n",
        "    output_word = \"\"\n",
        "    for word, index in tokenizer.word_index.items():\n",
        "        if index == predicted:\n",
        "            output_word = word\n",
        "            break\n",
        "    seed_text += \" \" + output_word\n",
        "print(seed_text)"
      ],
      "execution_count": 0,
      "outputs": [
        {
          "output_type": "stream",
          "text": [
            "What you made me play yeah i'm your daisy\n"
          ],
          "name": "stdout"
        }
      ]
    },
    {
      "cell_type": "code",
      "metadata": {
        "id": "S6L4WV_lsmq2",
        "colab_type": "code",
        "colab": {}
      },
      "source": [
        "def make_lyrics(seed_text, next_words):\n",
        "    for _ in range(next_words):\n",
        "        token_list = tokenizer.texts_to_sequences([seed_text])[0]\n",
        "        token_list = pad_sequences([token_list], maxlen=max_sequence_len-1, padding='pre')\n",
        "        predicted = model.predict_classes(token_list, verbose=0)\n",
        "        output_word = \"\"\n",
        "        for word, index in tokenizer.word_index.items():\n",
        "            if index == predicted:\n",
        "                output_word = word\n",
        "                break\n",
        "        seed_text += \" \" + output_word\n",
        "    print(seed_text)"
      ],
      "execution_count": 0,
      "outputs": []
    },
    {
      "cell_type": "code",
      "metadata": {
        "id": "bRNxRSeoJJJQ",
        "colab_type": "code",
        "outputId": "b375edd4-eedc-4f73-ad0d-1d445ef6905f",
        "colab": {
          "base_uri": "https://localhost:8080/",
          "height": 34
        }
      },
      "source": [
        "make_lyrics(\"Do you\", 5)"
      ],
      "execution_count": 52,
      "outputs": [
        {
          "output_type": "stream",
          "text": [
            "Do you remember we were sitting there\n"
          ],
          "name": "stdout"
        }
      ]
    },
    {
      "cell_type": "code",
      "metadata": {
        "id": "gbd2QiR0aDiM",
        "colab_type": "code",
        "colab": {
          "base_uri": "https://localhost:8080/",
          "height": 34
        },
        "outputId": "7ee5cb42-ffe0-4b23-d9d1-9b45da5e5d49"
      },
      "source": [
        "make_lyrics(\"He said\", 5)"
      ],
      "execution_count": 55,
      "outputs": [
        {
          "output_type": "stream",
          "text": [
            "He said he'd be here by now\n"
          ],
          "name": "stdout"
        }
      ]
    },
    {
      "cell_type": "code",
      "metadata": {
        "id": "RJfPG4wJbujU",
        "colab_type": "code",
        "colab": {
          "base_uri": "https://localhost:8080/",
          "height": 34
        },
        "outputId": "67d0d744-97bf-4990-e24b-f404e7f485ea"
      },
      "source": [
        "make_lyrics(\"Think of my\", 4)"
      ],
      "execution_count": 56,
      "outputs": [
        {
          "output_type": "stream",
          "text": [
            "Think of my mind forgets to remind\n"
          ],
          "name": "stdout"
        }
      ]
    },
    {
      "cell_type": "code",
      "metadata": {
        "id": "yWrWLXK6b6vr",
        "colab_type": "code",
        "colab": {
          "base_uri": "https://localhost:8080/",
          "height": 34
        },
        "outputId": "74bafa8a-765f-4dba-dc6b-72d94b499536"
      },
      "source": [
        "make_lyrics(\"Cold\", 6)"
      ],
      "execution_count": 57,
      "outputs": [
        {
          "output_type": "stream",
          "text": [
            "Cold would you wanna make our love\n"
          ],
          "name": "stdout"
        }
      ]
    },
    {
      "cell_type": "code",
      "metadata": {
        "id": "ybSfFmZbcBpN",
        "colab_type": "code",
        "colab": {
          "base_uri": "https://localhost:8080/",
          "height": 34
        },
        "outputId": "4c5057e5-a7ea-43aa-cc1d-5ce7713f8e7f"
      },
      "source": [
        "make_lyrics(\"A letter\", 4)"
      ],
      "execution_count": 59,
      "outputs": [
        {
          "output_type": "stream",
          "text": [
            "A letter that you didn't mean\n"
          ],
          "name": "stdout"
        }
      ]
    },
    {
      "cell_type": "code",
      "metadata": {
        "id": "gGwPf12IcIHR",
        "colab_type": "code",
        "colab": {
          "base_uri": "https://localhost:8080/",
          "height": 34
        },
        "outputId": "27e7fbcc-d85d-4602-c7ac-96067b2a8ef8"
      },
      "source": [
        "make_lyrics(\"I'll be\", 7)"
      ],
      "execution_count": 61,
      "outputs": [
        {
          "output_type": "stream",
          "text": [
            "I'll be usin' for the rest of my life\n"
          ],
          "name": "stdout"
        }
      ]
    },
    {
      "cell_type": "code",
      "metadata": {
        "id": "Gnrl6s96cRpQ",
        "colab_type": "code",
        "colab": {
          "base_uri": "https://localhost:8080/",
          "height": 34
        },
        "outputId": "50da9063-a060-44d2-fade-0ade24238298"
      },
      "source": [
        "make_lyrics(\"Honey\", 5)"
      ],
      "execution_count": 62,
      "outputs": [
        {
          "output_type": "stream",
          "text": [
            "Honey life is just a classroom\n"
          ],
          "name": "stdout"
        }
      ]
    },
    {
      "cell_type": "code",
      "metadata": {
        "id": "ai9AWwJecXjR",
        "colab_type": "code",
        "colab": {
          "base_uri": "https://localhost:8080/",
          "height": 34
        },
        "outputId": "8a00087e-7029-4adc-e92a-d4d51013a16f"
      },
      "source": [
        "make_lyrics(\"The water\", 7)"
      ],
      "execution_count": 64,
      "outputs": [
        {
          "output_type": "stream",
          "text": [
            "The water filled my lungs i screamed so loud\n"
          ],
          "name": "stdout"
        }
      ]
    },
    {
      "cell_type": "code",
      "metadata": {
        "id": "BqYsHGfLcdcP",
        "colab_type": "code",
        "colab": {
          "base_uri": "https://localhost:8080/",
          "height": 34
        },
        "outputId": "3bb7bdb7-a770-492c-cdff-04a493da3c1d"
      },
      "source": [
        "make_lyrics(\"Make you\", 3)"
      ],
      "execution_count": 68,
      "outputs": [
        {
          "output_type": "stream",
          "text": [
            "Make you tore it all\n"
          ],
          "name": "stdout"
        }
      ]
    },
    {
      "cell_type": "code",
      "metadata": {
        "id": "JZZulqpec3WG",
        "colab_type": "code",
        "colab": {
          "base_uri": "https://localhost:8080/",
          "height": 34
        },
        "outputId": "7e341266-f664-4c8d-c899-eee6ac82d75c"
      },
      "source": [
        "make_lyrics(\"Look at you\", 5)"
      ],
      "execution_count": 72,
      "outputs": [
        {
          "output_type": "stream",
          "text": [
            "Look at you worrying too much about things\n"
          ],
          "name": "stdout"
        }
      ]
    },
    {
      "cell_type": "code",
      "metadata": {
        "id": "cTu8A_R8dF2Y",
        "colab_type": "code",
        "colab": {}
      },
      "source": [
        ""
      ],
      "execution_count": 0,
      "outputs": []
    }
  ]
}