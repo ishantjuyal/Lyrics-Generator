{
  "nbformat": 4,
  "nbformat_minor": 0,
  "metadata": {
    "colab": {
      "name": "Project 2 - Word Generator/ Predictor",
      "provenance": [],
      "collapsed_sections": []
    },
    "kernelspec": {
      "display_name": "Python 3",
      "language": "python",
      "name": "python3"
    },
    "language_info": {
      "codemirror_mode": {
        "name": "ipython",
        "version": 3
      },
      "file_extension": ".py",
      "mimetype": "text/x-python",
      "name": "python",
      "nbconvert_exporter": "python",
      "pygments_lexer": "ipython3",
      "version": "3.7.4"
    },
    "accelerator": "GPU"
  },
  "cells": [
    {
      "cell_type": "markdown",
      "metadata": {
        "id": "tcCD15vhHGbQ",
        "colab_type": "text"
      },
      "source": [
        "Let's import all the libraries and classes we will need while making this project"
      ]
    },
    {
      "cell_type": "code",
      "metadata": {
        "colab_type": "code",
        "id": "BOwsuGQQY9OL",
        "colab": {}
      },
      "source": [
        "from tensorflow.keras.preprocessing.sequence import pad_sequences\n",
        "from tensorflow.keras.layers import Embedding, LSTM, Dense, Dropout, Bidirectional\n",
        "from tensorflow.keras.preprocessing.text import Tokenizer\n",
        "from tensorflow.keras.models import Sequential\n",
        "from tensorflow.keras.optimizers import Adam\n",
        "\n",
        "from tensorflow.keras.regularizers import Regularizer\n",
        "\n",
        "import tensorflow.keras.utils as ku \n",
        "import numpy as np "
      ],
      "execution_count": 0,
      "outputs": []
    },
    {
      "cell_type": "markdown",
      "metadata": {
        "id": "EKAs7efCNDId",
        "colab_type": "text"
      },
      "source": [
        "# Importing Data"
      ]
    },
    {
      "cell_type": "markdown",
      "metadata": {
        "id": "jXROh8GuHWeg",
        "colab_type": "text"
      },
      "source": [
        "Now we will read the data. I'm reading the data from my github profile link, you can directly use txt files. "
      ]
    },
    {
      "cell_type": "code",
      "metadata": {
        "id": "V3oel-VxFsaK",
        "colab_type": "code",
        "colab": {}
      },
      "source": [
        "import urllib.request\n",
        "\n",
        "url = \"https://raw.githubusercontent.com/ishantjuyal/Word-Prediction/master/Data/Taylor_Swift.txt\"\n",
        "data = urllib.request.urlopen(url).read().decode(\"utf-8\")"
      ],
      "execution_count": 0,
      "outputs": []
    },
    {
      "cell_type": "code",
      "metadata": {
        "id": "5BRo00AsgYcz",
        "colab_type": "code",
        "outputId": "a9d32496-d1d8-458f-fd03-4b9966132191",
        "colab": {
          "base_uri": "https://localhost:8080/",
          "height": 34
        }
      },
      "source": [
        "len(data)"
      ],
      "execution_count": 0,
      "outputs": [
        {
          "output_type": "execute_result",
          "data": {
            "text/plain": [
              "178471"
            ]
          },
          "metadata": {
            "tags": []
          },
          "execution_count": 3
        }
      ]
    },
    {
      "cell_type": "markdown",
      "metadata": {
        "id": "K9MCosIcIH0n",
        "colab_type": "text"
      },
      "source": [
        "Now we will convert data, which is a string to a list containing differrent sentences. \n",
        "As we can see, in the string, \"end of line\" is represented by \"\\r\\n\". So, we will split the string by \"\\r\\n\" and store them as list in corpus."
      ]
    },
    {
      "cell_type": "code",
      "metadata": {
        "id": "XvlyWKMRKNsy",
        "colab_type": "code",
        "colab": {}
      },
      "source": [
        "# Splitting the string into sentences, while converting whole data into lowercase. \n",
        "corpus = data.lower().split(\"\\r\\n\")\n",
        "\n",
        "# Now, to make sure no sentence appears twice in our corpus, we use set. Otherwise, it will make the model biased.\n",
        "corpus = list(set(corpus))"
      ],
      "execution_count": 0,
      "outputs": []
    },
    {
      "cell_type": "markdown",
      "metadata": {
        "id": "ztz9xk_LMlDb",
        "colab_type": "text"
      },
      "source": [
        "Let's see how an element of corpus looks like. "
      ]
    },
    {
      "cell_type": "code",
      "metadata": {
        "id": "kwQMFmCIMiFY",
        "colab_type": "code",
        "outputId": "e7ec3ea2-65f2-4102-ae7a-912b43eec1b1",
        "colab": {
          "base_uri": "https://localhost:8080/",
          "height": 34
        }
      },
      "source": [
        "corpus[3]"
      ],
      "execution_count": 0,
      "outputs": [
        {
          "output_type": "execute_result",
          "data": {
            "text/plain": [
              "'lurking in the shadows with their lip gloss smiles'"
            ]
          },
          "metadata": {
            "tags": []
          },
          "execution_count": 6
        }
      ]
    },
    {
      "cell_type": "markdown",
      "metadata": {
        "id": "XusOCWiyMrIb",
        "colab_type": "text"
      },
      "source": [
        "As we can see, it is just a sentence without any \"\\r or \\n\""
      ]
    },
    {
      "cell_type": "markdown",
      "metadata": {
        "id": "rSuoyJVGI6D5",
        "colab_type": "text"
      },
      "source": [
        "# Organising Data\n",
        "Now we will use Tokenizer to convert the words to word vectors. \n",
        "Our model understands numbers only, so we need to give it numbers instead of words. "
      ]
    },
    {
      "cell_type": "code",
      "metadata": {
        "colab_type": "code",
        "id": "PRnDnCW-Z7qv",
        "colab": {}
      },
      "source": [
        "tokenizer = Tokenizer()\n",
        "\n",
        "tokenizer.fit_on_texts(corpus)\n",
        "total_words = len(tokenizer.word_index) + 1\n",
        "\n",
        "# create input sequences using list of tokens\n",
        "input_sequences = []\n",
        "for line in corpus:\n",
        "    token_list = tokenizer.texts_to_sequences([line])[0]\n",
        "    for i in range(1, len(token_list)):\n",
        "        n_gram_sequence = token_list[:i+1]\n",
        "        input_sequences.append(n_gram_sequence)\n",
        "\n",
        "\n",
        "# pad sequences \n",
        "max_sequence_len = max([len(x) for x in input_sequences])\n",
        "input_sequences = np.array(pad_sequences(input_sequences, maxlen=max_sequence_len, padding='pre'))\n",
        "\n",
        "# create predictors and label\n",
        "predictors, label = input_sequences[:,:-1],input_sequences[:,-1]\n",
        "\n",
        "label = ku.to_categorical(label, num_classes=total_words)"
      ],
      "execution_count": 0,
      "outputs": []
    },
    {
      "cell_type": "code",
      "metadata": {
        "id": "P-X6EuigK0AW",
        "colab_type": "code",
        "outputId": "5a5e366a-effa-4603-848b-bfcf26cd7e6c",
        "colab": {
          "base_uri": "https://localhost:8080/",
          "height": 187
        }
      },
      "source": [
        "print(\"Input Sequences\")\n",
        "print(input_sequences)\n",
        "print(\"*****\")\n",
        "print(\"Shape of Input Sequences\", input_sequences.shape)"
      ],
      "execution_count": 0,
      "outputs": [
        {
          "output_type": "stream",
          "text": [
            "Input Sequences\n",
            "[[   0    0    0 ...    0    3    4]\n",
            " [   0    0    0 ...    3    4  901]\n",
            " [   0    0    0 ...    4  901  109]\n",
            " ...\n",
            " [   0    0    0 ...    8   13    7]\n",
            " [   0    0    0 ...   13    7  101]\n",
            " [   0    0    0 ...    7  101 2408]]\n",
            "*****\n",
            "Shape of Input Sequences (20384, 18)\n"
          ],
          "name": "stdout"
        }
      ]
    },
    {
      "cell_type": "code",
      "metadata": {
        "id": "-EuezRa8KNYC",
        "colab_type": "code",
        "outputId": "18a5882f-7665-49b9-8334-8dd2a7e9cbd5",
        "colab": {
          "base_uri": "https://localhost:8080/",
          "height": 187
        }
      },
      "source": [
        "print(\"Predictors\")\n",
        "print(predictors)\n",
        "print('*****')\n",
        "print(\"Shape of predictors is\", predictors.shape)"
      ],
      "execution_count": 0,
      "outputs": [
        {
          "output_type": "stream",
          "text": [
            "Predictors\n",
            "[[  0   0   0 ...   0   0   3]\n",
            " [  0   0   0 ...   0   3   4]\n",
            " [  0   0   0 ...   3   4 901]\n",
            " ...\n",
            " [  0   0   0 ... 232   8  13]\n",
            " [  0   0   0 ...   8  13   7]\n",
            " [  0   0   0 ...  13   7 101]]\n",
            "*****\n",
            "Shape of predictors is (20384, 17)\n"
          ],
          "name": "stdout"
        }
      ]
    },
    {
      "cell_type": "code",
      "metadata": {
        "id": "JXv6R3EwbZEt",
        "colab_type": "code",
        "outputId": "7774b0ff-3ac0-404e-92d1-2db68fa78208",
        "colab": {
          "base_uri": "https://localhost:8080/",
          "height": 187
        }
      },
      "source": [
        "print(\"Label\")\n",
        "print(label)\n",
        "print(\"*****\")\n",
        "print(\"Shape of label\", label.shape)"
      ],
      "execution_count": 0,
      "outputs": [
        {
          "output_type": "stream",
          "text": [
            "Label\n",
            "[[0. 0. 0. ... 0. 0. 0.]\n",
            " [0. 0. 0. ... 0. 0. 0.]\n",
            " [0. 0. 0. ... 0. 0. 0.]\n",
            " ...\n",
            " [0. 0. 0. ... 0. 0. 0.]\n",
            " [0. 0. 0. ... 0. 0. 0.]\n",
            " [0. 0. 0. ... 0. 0. 1.]]\n",
            "*****\n",
            "Shape of label (20384, 2409)\n"
          ],
          "name": "stdout"
        }
      ]
    },
    {
      "cell_type": "markdown",
      "metadata": {
        "id": "_SyLUtByJ2WK",
        "colab_type": "text"
      },
      "source": [
        "Now, we will start building model using Keras. We use LSTM so that our model could be more accurate and inderstand the context better. "
      ]
    },
    {
      "cell_type": "code",
      "metadata": {
        "colab_type": "code",
        "id": "w9vH8Y59ajYL",
        "outputId": "3ab34dc4-f50a-42c3-b9a4-0a0aff32003e",
        "colab": {
          "base_uri": "https://localhost:8080/",
          "height": 374
        }
      },
      "source": [
        "model = Sequential()\n",
        "model.add(Embedding(total_words, 50, input_length=max_sequence_len-1))  #(# Embedding Layer)\n",
        "model.add(Bidirectional(LSTM(150, return_sequences=True)))  #(An LSTM Layer)\n",
        "model.add(Dropout(0.2))  #(# A dropout layer for regularisation)\n",
        "model.add(LSTM(100))  #(# Another LSTM Layer)\n",
        "model.add(Dense(total_words/2, activation='relu'))  #(# A Dense Layer including regularizers)\n",
        "#(# Last Layer, the shape is equal to total number of words present in our vocabulary)\n",
        "model.add(Dense(total_words, activation='softmax'))  \n",
        "# Pick an optimizer\n",
        "model.compile(loss='categorical_crossentropy', optimizer='adam', metrics='accuracy')  #(# Pick a loss function and an optimizer)\n",
        "print(model.summary())\n"
      ],
      "execution_count": 0,
      "outputs": [
        {
          "output_type": "stream",
          "text": [
            "Model: \"sequential\"\n",
            "_________________________________________________________________\n",
            "Layer (type)                 Output Shape              Param #   \n",
            "=================================================================\n",
            "embedding (Embedding)        (None, 17, 50)            120450    \n",
            "_________________________________________________________________\n",
            "bidirectional (Bidirectional (None, 17, 300)           241200    \n",
            "_________________________________________________________________\n",
            "dropout (Dropout)            (None, 17, 300)           0         \n",
            "_________________________________________________________________\n",
            "lstm_1 (LSTM)                (None, 100)               160400    \n",
            "_________________________________________________________________\n",
            "dense (Dense)                (None, 1204)              121604    \n",
            "_________________________________________________________________\n",
            "dense_1 (Dense)              (None, 2409)              2902845   \n",
            "=================================================================\n",
            "Total params: 3,546,499\n",
            "Trainable params: 3,546,499\n",
            "Non-trainable params: 0\n",
            "_________________________________________________________________\n",
            "None\n"
          ],
          "name": "stdout"
        }
      ]
    },
    {
      "cell_type": "code",
      "metadata": {
        "colab_type": "code",
        "id": "AIg2f1HBxqof",
        "outputId": "8ba6692a-2110-4cbc-ee46-b17537d1f557",
        "colab": {
          "base_uri": "https://localhost:8080/"
        }
      },
      "source": [
        "history = model.fit(predictors, label, epochs= 125, verbose=1)"
      ],
      "execution_count": 0,
      "outputs": [
        {
          "output_type": "stream",
          "text": [
            "Epoch 1/125\n",
            "637/637 [==============================] - 19s 29ms/step - loss: 6.1419 - accuracy: 0.0464\n",
            "Epoch 2/125\n",
            "637/637 [==============================] - 18s 29ms/step - loss: 5.6784 - accuracy: 0.0574\n",
            "Epoch 3/125\n",
            "637/637 [==============================] - 19s 29ms/step - loss: 5.4677 - accuracy: 0.0590\n",
            "Epoch 4/125\n",
            "637/637 [==============================] - 19s 29ms/step - loss: 5.3045 - accuracy: 0.0692\n",
            "Epoch 5/125\n",
            "637/637 [==============================] - 19s 29ms/step - loss: 5.1348 - accuracy: 0.0873\n",
            "Epoch 6/125\n",
            "637/637 [==============================] - 18s 29ms/step - loss: 4.9654 - accuracy: 0.1016\n",
            "Epoch 7/125\n",
            "637/637 [==============================] - 19s 29ms/step - loss: 4.8137 - accuracy: 0.1176\n",
            "Epoch 8/125\n",
            "637/637 [==============================] - 19s 29ms/step - loss: 4.6863 - accuracy: 0.1242\n",
            "Epoch 9/125\n",
            "637/637 [==============================] - 19s 29ms/step - loss: 4.5457 - accuracy: 0.1369\n",
            "Epoch 10/125\n",
            "637/637 [==============================] - 18s 29ms/step - loss: 4.4109 - accuracy: 0.1450\n",
            "Epoch 11/125\n",
            "637/637 [==============================] - 18s 29ms/step - loss: 4.2748 - accuracy: 0.1526\n",
            "Epoch 12/125\n",
            "637/637 [==============================] - 18s 29ms/step - loss: 4.1417 - accuracy: 0.1641\n",
            "Epoch 13/125\n",
            "637/637 [==============================] - 18s 29ms/step - loss: 4.0157 - accuracy: 0.1745\n",
            "Epoch 14/125\n",
            "637/637 [==============================] - 18s 29ms/step - loss: 3.9114 - accuracy: 0.1835\n",
            "Epoch 15/125\n",
            "637/637 [==============================] - 18s 29ms/step - loss: 3.7791 - accuracy: 0.1963\n",
            "Epoch 16/125\n",
            "637/637 [==============================] - 18s 29ms/step - loss: 3.6657 - accuracy: 0.2120\n",
            "Epoch 17/125\n",
            "637/637 [==============================] - 18s 29ms/step - loss: 3.5526 - accuracy: 0.2206\n",
            "Epoch 18/125\n",
            "637/637 [==============================] - 18s 29ms/step - loss: 3.4481 - accuracy: 0.2304\n",
            "Epoch 19/125\n",
            "637/637 [==============================] - 18s 29ms/step - loss: 3.3595 - accuracy: 0.2434\n",
            "Epoch 20/125\n",
            "637/637 [==============================] - 18s 29ms/step - loss: 3.2542 - accuracy: 0.2536\n",
            "Epoch 21/125\n",
            "637/637 [==============================] - 19s 30ms/step - loss: 3.1380 - accuracy: 0.2704\n",
            "Epoch 22/125\n",
            "637/637 [==============================] - 18s 29ms/step - loss: 3.0365 - accuracy: 0.2843\n",
            "Epoch 23/125\n",
            "637/637 [==============================] - 18s 29ms/step - loss: 2.9434 - accuracy: 0.2979\n",
            "Epoch 24/125\n",
            "637/637 [==============================] - 18s 29ms/step - loss: 2.8517 - accuracy: 0.3152\n",
            "Epoch 25/125\n",
            "637/637 [==============================] - 18s 29ms/step - loss: 2.7773 - accuracy: 0.3248\n",
            "Epoch 26/125\n",
            "637/637 [==============================] - 18s 29ms/step - loss: 2.6797 - accuracy: 0.3424\n",
            "Epoch 27/125\n",
            "637/637 [==============================] - 18s 29ms/step - loss: 2.5886 - accuracy: 0.3623\n",
            "Epoch 28/125\n",
            "637/637 [==============================] - 19s 29ms/step - loss: 2.5100 - accuracy: 0.3697\n",
            "Epoch 29/125\n",
            "637/637 [==============================] - 19s 29ms/step - loss: 2.4303 - accuracy: 0.3873\n",
            "Epoch 30/125\n",
            "637/637 [==============================] - 19s 29ms/step - loss: 2.3656 - accuracy: 0.4010\n",
            "Epoch 31/125\n",
            "637/637 [==============================] - 19s 29ms/step - loss: 2.2836 - accuracy: 0.4159\n",
            "Epoch 32/125\n",
            "637/637 [==============================] - 19s 29ms/step - loss: 2.2144 - accuracy: 0.4275\n",
            "Epoch 33/125\n",
            "637/637 [==============================] - 19s 29ms/step - loss: 2.1465 - accuracy: 0.4450\n",
            "Epoch 34/125\n",
            "637/637 [==============================] - 19s 29ms/step - loss: 2.0775 - accuracy: 0.4606\n",
            "Epoch 35/125\n",
            "637/637 [==============================] - 19s 29ms/step - loss: 2.0156 - accuracy: 0.4699\n",
            "Epoch 36/125\n",
            "637/637 [==============================] - 18s 29ms/step - loss: 1.9630 - accuracy: 0.4813\n",
            "Epoch 37/125\n",
            "637/637 [==============================] - 19s 29ms/step - loss: 1.8955 - accuracy: 0.4968\n",
            "Epoch 38/125\n",
            "637/637 [==============================] - 19s 29ms/step - loss: 1.8466 - accuracy: 0.5097\n",
            "Epoch 39/125\n",
            "637/637 [==============================] - 18s 29ms/step - loss: 1.7872 - accuracy: 0.5247\n",
            "Epoch 40/125\n",
            "637/637 [==============================] - 18s 29ms/step - loss: 1.7374 - accuracy: 0.5345\n",
            "Epoch 41/125\n",
            "637/637 [==============================] - 18s 29ms/step - loss: 1.6968 - accuracy: 0.5431\n",
            "Epoch 42/125\n",
            "637/637 [==============================] - 18s 29ms/step - loss: 1.6676 - accuracy: 0.5531\n",
            "Epoch 43/125\n",
            "637/637 [==============================] - 18s 29ms/step - loss: 1.5965 - accuracy: 0.5674\n",
            "Epoch 44/125\n",
            "637/637 [==============================] - 18s 29ms/step - loss: 1.5447 - accuracy: 0.5802\n",
            "Epoch 45/125\n",
            "637/637 [==============================] - 19s 29ms/step - loss: 1.5092 - accuracy: 0.5879\n",
            "Epoch 46/125\n",
            "637/637 [==============================] - 19s 29ms/step - loss: 1.4803 - accuracy: 0.5927\n",
            "Epoch 47/125\n",
            "637/637 [==============================] - 19s 29ms/step - loss: 1.4436 - accuracy: 0.6063\n",
            "Epoch 48/125\n",
            "637/637 [==============================] - 19s 29ms/step - loss: 1.4052 - accuracy: 0.6115\n",
            "Epoch 49/125\n",
            "637/637 [==============================] - 18s 29ms/step - loss: 1.3604 - accuracy: 0.6288\n",
            "Epoch 50/125\n",
            "637/637 [==============================] - 18s 29ms/step - loss: 1.3396 - accuracy: 0.6338\n",
            "Epoch 51/125\n",
            "637/637 [==============================] - 18s 29ms/step - loss: 1.3006 - accuracy: 0.6418\n",
            "Epoch 52/125\n",
            "637/637 [==============================] - 18s 29ms/step - loss: 1.2770 - accuracy: 0.6485\n",
            "Epoch 53/125\n",
            "637/637 [==============================] - 18s 29ms/step - loss: 1.2462 - accuracy: 0.6545\n",
            "Epoch 54/125\n",
            "637/637 [==============================] - 19s 29ms/step - loss: 1.2305 - accuracy: 0.6596\n",
            "Epoch 55/125\n",
            "637/637 [==============================] - 18s 29ms/step - loss: 1.1968 - accuracy: 0.6653\n",
            "Epoch 56/125\n",
            "637/637 [==============================] - 18s 29ms/step - loss: 1.1773 - accuracy: 0.6723\n",
            "Epoch 57/125\n",
            "637/637 [==============================] - 18s 29ms/step - loss: 1.1579 - accuracy: 0.6783\n",
            "Epoch 58/125\n",
            "637/637 [==============================] - 18s 29ms/step - loss: 1.1551 - accuracy: 0.6808\n",
            "Epoch 59/125\n",
            "637/637 [==============================] - 18s 29ms/step - loss: 1.1180 - accuracy: 0.6884\n",
            "Epoch 60/125\n",
            "637/637 [==============================] - 18s 29ms/step - loss: 1.0971 - accuracy: 0.6942\n",
            "Epoch 61/125\n",
            "637/637 [==============================] - 18s 29ms/step - loss: 1.0766 - accuracy: 0.6958\n",
            "Epoch 62/125\n",
            "637/637 [==============================] - 18s 29ms/step - loss: 1.0632 - accuracy: 0.7013\n",
            "Epoch 63/125\n",
            "637/637 [==============================] - 18s 29ms/step - loss: 1.0455 - accuracy: 0.7044\n",
            "Epoch 64/125\n",
            "637/637 [==============================] - 19s 29ms/step - loss: 1.0303 - accuracy: 0.7091\n",
            "Epoch 65/125\n",
            "637/637 [==============================] - 18s 29ms/step - loss: 1.0118 - accuracy: 0.7153\n",
            "Epoch 66/125\n",
            "637/637 [==============================] - 19s 29ms/step - loss: 1.0058 - accuracy: 0.7180\n",
            "Epoch 67/125\n",
            "637/637 [==============================] - 19s 29ms/step - loss: 0.9947 - accuracy: 0.7189\n",
            "Epoch 68/125\n",
            "637/637 [==============================] - 19s 30ms/step - loss: 0.9747 - accuracy: 0.7265\n",
            "Epoch 69/125\n",
            "637/637 [==============================] - 19s 30ms/step - loss: 0.9697 - accuracy: 0.7274\n",
            "Epoch 70/125\n",
            "637/637 [==============================] - 19s 29ms/step - loss: 0.9527 - accuracy: 0.7305\n",
            "Epoch 71/125\n",
            "637/637 [==============================] - 19s 30ms/step - loss: 0.9490 - accuracy: 0.7320\n",
            "Epoch 72/125\n",
            "637/637 [==============================] - 19s 29ms/step - loss: 0.9352 - accuracy: 0.7358\n",
            "Epoch 73/125\n",
            "637/637 [==============================] - 19s 29ms/step - loss: 0.9270 - accuracy: 0.7368\n",
            "Epoch 74/125\n",
            "637/637 [==============================] - 19s 29ms/step - loss: 0.9214 - accuracy: 0.7399\n",
            "Epoch 75/125\n",
            "637/637 [==============================] - 19s 29ms/step - loss: 0.9079 - accuracy: 0.7435\n",
            "Epoch 76/125\n",
            "637/637 [==============================] - 19s 29ms/step - loss: 0.8947 - accuracy: 0.7481\n",
            "Epoch 77/125\n",
            "637/637 [==============================] - 19s 29ms/step - loss: 0.9019 - accuracy: 0.7390\n",
            "Epoch 78/125\n",
            "637/637 [==============================] - 19s 29ms/step - loss: 0.8909 - accuracy: 0.7462\n",
            "Epoch 79/125\n",
            "637/637 [==============================] - 19s 29ms/step - loss: 0.8799 - accuracy: 0.7516\n",
            "Epoch 80/125\n",
            "637/637 [==============================] - 19s 29ms/step - loss: 0.8707 - accuracy: 0.7503\n",
            "Epoch 81/125\n",
            "637/637 [==============================] - 19s 29ms/step - loss: 0.8573 - accuracy: 0.7566\n",
            "Epoch 82/125\n",
            "637/637 [==============================] - 19s 29ms/step - loss: 0.8697 - accuracy: 0.7508\n",
            "Epoch 83/125\n",
            "637/637 [==============================] - 19s 29ms/step - loss: 0.8616 - accuracy: 0.7525\n",
            "Epoch 84/125\n",
            "637/637 [==============================] - 19s 29ms/step - loss: 0.8473 - accuracy: 0.7564\n",
            "Epoch 85/125\n",
            "637/637 [==============================] - 19s 30ms/step - loss: 0.8414 - accuracy: 0.7561\n",
            "Epoch 86/125\n",
            "637/637 [==============================] - 19s 29ms/step - loss: 0.8414 - accuracy: 0.7586\n",
            "Epoch 87/125\n",
            "637/637 [==============================] - 19s 29ms/step - loss: 0.8306 - accuracy: 0.7595\n",
            "Epoch 88/125\n",
            "637/637 [==============================] - 19s 30ms/step - loss: 0.8286 - accuracy: 0.7616\n",
            "Epoch 89/125\n",
            "637/637 [==============================] - 19s 30ms/step - loss: 0.8186 - accuracy: 0.7637\n",
            "Epoch 90/125\n",
            "637/637 [==============================] - 19s 30ms/step - loss: 0.8241 - accuracy: 0.7616\n",
            "Epoch 91/125\n",
            "637/637 [==============================] - 19s 30ms/step - loss: 0.8209 - accuracy: 0.7630\n",
            "Epoch 92/125\n",
            "637/637 [==============================] - 19s 29ms/step - loss: 0.8094 - accuracy: 0.7653\n",
            "Epoch 93/125\n",
            "637/637 [==============================] - 19s 30ms/step - loss: 0.8021 - accuracy: 0.7676\n",
            "Epoch 94/125\n",
            "637/637 [==============================] - 19s 30ms/step - loss: 0.8140 - accuracy: 0.7646\n",
            "Epoch 95/125\n",
            "637/637 [==============================] - 19s 30ms/step - loss: 0.8042 - accuracy: 0.7692\n",
            "Epoch 96/125\n",
            "637/637 [==============================] - 19s 30ms/step - loss: 0.7874 - accuracy: 0.7726\n",
            "Epoch 97/125\n",
            "637/637 [==============================] - 19s 30ms/step - loss: 0.7839 - accuracy: 0.7741\n",
            "Epoch 98/125\n",
            "637/637 [==============================] - 19s 30ms/step - loss: 0.7907 - accuracy: 0.7711\n",
            "Epoch 99/125\n",
            "637/637 [==============================] - 19s 30ms/step - loss: 0.7813 - accuracy: 0.7732\n",
            "Epoch 100/125\n",
            "637/637 [==============================] - 19s 30ms/step - loss: 0.7742 - accuracy: 0.7724\n",
            "Epoch 101/125\n",
            "637/637 [==============================] - 19s 29ms/step - loss: 0.7826 - accuracy: 0.7709\n",
            "Epoch 102/125\n",
            "637/637 [==============================] - 19s 29ms/step - loss: 0.7759 - accuracy: 0.7744\n",
            "Epoch 103/125\n",
            "637/637 [==============================] - 19s 30ms/step - loss: 0.7701 - accuracy: 0.7772\n",
            "Epoch 104/125\n",
            "637/637 [==============================] - 19s 30ms/step - loss: 0.7887 - accuracy: 0.7696\n",
            "Epoch 105/125\n",
            "637/637 [==============================] - 19s 29ms/step - loss: 0.7726 - accuracy: 0.7741\n",
            "Epoch 106/125\n",
            "637/637 [==============================] - 19s 29ms/step - loss: 0.7624 - accuracy: 0.7780\n",
            "Epoch 107/125\n",
            "637/637 [==============================] - 19s 30ms/step - loss: 0.7620 - accuracy: 0.7770\n",
            "Epoch 108/125\n",
            "637/637 [==============================] - 19s 29ms/step - loss: 0.7714 - accuracy: 0.7739\n",
            "Epoch 109/125\n",
            "637/637 [==============================] - 19s 29ms/step - loss: 0.7579 - accuracy: 0.7770\n",
            "Epoch 110/125\n",
            "637/637 [==============================] - 21s 33ms/step - loss: 0.7499 - accuracy: 0.7796\n",
            "Epoch 111/125\n",
            "637/637 [==============================] - 19s 30ms/step - loss: 0.7536 - accuracy: 0.7777\n",
            "Epoch 112/125\n",
            "637/637 [==============================] - 19s 30ms/step - loss: 0.7576 - accuracy: 0.7779\n",
            "Epoch 113/125\n",
            "637/637 [==============================] - 19s 30ms/step - loss: 0.7603 - accuracy: 0.7772\n",
            "Epoch 114/125\n",
            "637/637 [==============================] - 19s 30ms/step - loss: 0.7559 - accuracy: 0.7767\n",
            "Epoch 115/125\n",
            "637/637 [==============================] - 19s 30ms/step - loss: 0.7455 - accuracy: 0.7812\n",
            "Epoch 116/125\n",
            "637/637 [==============================] - 19s 30ms/step - loss: 0.7504 - accuracy: 0.7807\n",
            "Epoch 117/125\n",
            "637/637 [==============================] - 19s 29ms/step - loss: 0.7435 - accuracy: 0.7806\n",
            "Epoch 118/125\n",
            "637/637 [==============================] - 19s 30ms/step - loss: 0.7392 - accuracy: 0.7832\n",
            "Epoch 119/125\n",
            "637/637 [==============================] - 19s 30ms/step - loss: 0.7378 - accuracy: 0.7832\n",
            "Epoch 120/125\n",
            "637/637 [==============================] - 19s 30ms/step - loss: 0.7367 - accuracy: 0.7830\n",
            "Epoch 121/125\n",
            "637/637 [==============================] - 19s 30ms/step - loss: 0.7458 - accuracy: 0.7803\n",
            "Epoch 122/125\n",
            "637/637 [==============================] - 19s 30ms/step - loss: 0.7321 - accuracy: 0.7812\n",
            "Epoch 123/125\n",
            "637/637 [==============================] - 19s 30ms/step - loss: 0.7407 - accuracy: 0.7809\n",
            "Epoch 124/125\n",
            "637/637 [==============================] - 19s 30ms/step - loss: 0.7347 - accuracy: 0.7837\n",
            "Epoch 125/125\n",
            "637/637 [==============================] - 19s 29ms/step - loss: 0.7287 - accuracy: 0.7839\n"
          ],
          "name": "stdout"
        }
      ]
    },
    {
      "cell_type": "markdown",
      "metadata": {
        "id": "blUBajLlOPyD",
        "colab_type": "text"
      },
      "source": [
        "Now, we will see how our model performed with each iteration. "
      ]
    },
    {
      "cell_type": "code",
      "metadata": {
        "id": "XWTK8pcgsmqG",
        "colab_type": "code",
        "colab": {}
      },
      "source": [
        "import matplotlib.pyplot as plt\n",
        "\n",
        "def plot_graph(history,string):\n",
        "    plt.plot(history.history[string])\n",
        "    plt.xlabel(\"Epochs\")\n",
        "    plt.ylabel(string)\n",
        "    plt.show()"
      ],
      "execution_count": 0,
      "outputs": []
    },
    {
      "cell_type": "code",
      "metadata": {
        "id": "srDqi-U3smqW",
        "colab_type": "code",
        "outputId": "3929986a-4386-4ecf-e04d-a230b666ead0",
        "colab": {
          "base_uri": "https://localhost:8080/"
        }
      },
      "source": [
        "plot_graph(history,'accuracy')"
      ],
      "execution_count": 0,
      "outputs": [
        {
          "output_type": "display_data",
          "data": {
            "image/png": "[encoded data removed]",
            "text/plain": [
              "<Figure size 432x288 with 1 Axes>"
            ]
          },
          "metadata": {
            "tags": [],
            "needs_background": "light"
          }
        }
      ]
    },
    {
      "cell_type": "code",
      "metadata": {
        "id": "70XUUhDnTpuY",
        "colab_type": "code",
        "outputId": "76ed2ee5-070e-4c40-cef0-71a3cbfe3fb2",
        "colab": {
          "base_uri": "https://localhost:8080/"
        }
      },
      "source": [
        "plot_graph(history,'loss')"
      ],
      "execution_count": 0,
      "outputs": [
        {
          "output_type": "display_data",
          "data": {
            "image/png": "[encoded data removed]",
            "text/plain": [
              "<Figure size 432x288 with 1 Axes>"
            ]
          },
          "metadata": {
            "tags": [],
            "needs_background": "light"
          }
        }
      ]
    },
    {
      "cell_type": "markdown",
      "metadata": {
        "id": "LHaZnz8xpzY2",
        "colab_type": "text"
      },
      "source": [
        "# Generate Lyrics"
      ]
    },
    {
      "cell_type": "code",
      "metadata": {
        "id": "S6L4WV_lsmq2",
        "colab_type": "code",
        "colab": {}
      },
      "source": [
        "def make_lyrics(seed_text, next_words):\n",
        "    for _ in range(next_words):\n",
        "        token_list = tokenizer.texts_to_sequences([seed_text])[0]\n",
        "        token_list = pad_sequences([token_list], maxlen=max_sequence_len-1, padding='pre')\n",
        "        predicted = model.predict_classes(token_list, verbose=0)\n",
        "        output_word = \"\"\n",
        "        for word, index in tokenizer.word_index.items():\n",
        "            if index == predicted:\n",
        "                output_word = word\n",
        "                break\n",
        "        seed_text += \" \" + output_word\n",
        "    print(seed_text)"
      ],
      "execution_count": 0,
      "outputs": []
    },
    {
      "cell_type": "code",
      "metadata": {
        "id": "QOkUwwAOKDJy",
        "colab_type": "code",
        "outputId": "6e2106e5-4832-4973-8784-99b9a2530327",
        "colab": {
          "base_uri": "https://localhost:8080/"
        }
      },
      "source": [
        "make_lyrics(\"How\", 12)"
      ],
      "execution_count": 0,
      "outputs": [
        {
          "output_type": "stream",
          "text": [
            "How you kissed me when i was in the middle of saying something\n"
          ],
          "name": "stdout"
        }
      ]
    },
    {
      "cell_type": "code",
      "metadata": {
        "id": "Qsb9RquVOdo8",
        "colab_type": "code",
        "outputId": "5a75c0bd-1c91-4a86-90d6-993fc26e617b",
        "colab": {
          "base_uri": "https://localhost:8080/"
        }
      },
      "source": [
        "make_lyrics(\"Hello\", 8)"
      ],
      "execution_count": 0,
      "outputs": [
        {
          "output_type": "stream",
          "text": [
            "Hello to you and your temper days was someday\n"
          ],
          "name": "stdout"
        }
      ]
    },
    {
      "cell_type": "code",
      "metadata": {
        "id": "u9St39_AOmKM",
        "colab_type": "code",
        "outputId": "d4ea560a-62f6-4de7-8dd8-2f07c961ac4d",
        "colab": {
          "base_uri": "https://localhost:8080/"
        }
      },
      "source": [
        "make_lyrics(\"Light\", 8)"
      ],
      "execution_count": 0,
      "outputs": [
        {
          "output_type": "stream",
          "text": [
            "Light me up light me up light me up\n"
          ],
          "name": "stdout"
        }
      ]
    },
    {
      "cell_type": "code",
      "metadata": {
        "id": "RveFcd0hOvVr",
        "colab_type": "code",
        "outputId": "d07b6a37-5c02-4437-8075-5639fb81da24",
        "colab": {
          "base_uri": "https://localhost:8080/"
        }
      },
      "source": [
        "make_lyrics(\"Walking\", 10)"
      ],
      "execution_count": 0,
      "outputs": [
        {
          "output_type": "stream",
          "text": [
            "Walking through a crowd the village is aglow you can know\n"
          ],
          "name": "stdout"
        }
      ]
    },
    {
      "cell_type": "code",
      "metadata": {
        "id": "ySdhR0oxO4GM",
        "colab_type": "code",
        "colab": {}
      },
      "source": [
        ""
      ],
      "execution_count": 0,
      "outputs": []
    }
  ]
}