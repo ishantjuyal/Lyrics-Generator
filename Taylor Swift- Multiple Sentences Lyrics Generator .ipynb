{
  "nbformat": 4,
  "nbformat_minor": 0,
  "metadata": {
    "colab": {
      "name": "Lyrics Generator",
      "provenance": [],
      "collapsed_sections": []
    },
    "kernelspec": {
      "display_name": "Python 3",
      "language": "python",
      "name": "python3"
    },
    "language_info": {
      "codemirror_mode": {
        "name": "ipython",
        "version": 3
      },
      "file_extension": ".py",
      "mimetype": "text/x-python",
      "name": "python",
      "nbconvert_exporter": "python",
      "pygments_lexer": "ipython3",
      "version": "3.7.4"
    },
    "accelerator": "GPU"
  },
  "cells": [
    {
      "cell_type": "markdown",
      "metadata": {
        "id": "tcCD15vhHGbQ"
      },
      "source": [
        "Let's import all the libraries and classes we will need while making this project"
      ]
    },
    {
      "cell_type": "code",
      "metadata": {
        "id": "BOwsuGQQY9OL"
      },
      "source": [
        "from tensorflow.keras.preprocessing.sequence import pad_sequences\n",
        "from tensorflow.keras.layers import Embedding, LSTM, Dense, Dropout, Bidirectional\n",
        "from tensorflow.keras.preprocessing.text import Tokenizer\n",
        "from tensorflow.keras.models import Sequential\n",
        "from tensorflow.keras.optimizers import Adam\n",
        "\n",
        "from tensorflow.keras.regularizers import Regularizer\n",
        "\n",
        "import tensorflow.keras.utils as ku \n",
        "import numpy as np "
      ],
      "execution_count": 1,
      "outputs": []
    },
    {
      "cell_type": "markdown",
      "metadata": {
        "id": "EKAs7efCNDId"
      },
      "source": [
        "# Importing Data"
      ]
    },
    {
      "cell_type": "markdown",
      "metadata": {
        "id": "jXROh8GuHWeg"
      },
      "source": [
        "Now we will read the data. I'm reading the data from my github profile link, you can directly use txt files. "
      ]
    },
    {
      "cell_type": "code",
      "metadata": {
        "id": "V3oel-VxFsaK"
      },
      "source": [
        "import urllib.request\n",
        "\n",
        "url = \"https://raw.githubusercontent.com/ishantjuyal/Word-Prediction/master/Data/Taylor_Swift.txt\"\n",
        "data = urllib.request.urlopen(url).read().decode(\"utf-8\")"
      ],
      "execution_count": 2,
      "outputs": []
    },
    {
      "cell_type": "code",
      "execution_count": null,
      "metadata": {},
      "outputs": [],
      "source": [
        "import re\n",
        "data = re.sub(r'[^\\w\\s]', '', data)"
      ]
    },
    {
      "cell_type": "markdown",
      "metadata": {
        "id": "K9MCosIcIH0n"
      },
      "source": [
        "Now we will convert data, which is a string to a list containing differrent sentences. \n",
        "As we can see, in the string, \"end of line\" is represented by \"\\r\\n\". So, we will split the string by \"\\r\\n\" and store them as list in corpus."
      ]
    },
    {
      "cell_type": "code",
      "metadata": {
        "id": "XvlyWKMRKNsy"
      },
      "source": [
        "# Splitting the string into sentences, while converting whole data into lowercase. \n",
        "corpus = data.lower().split(\"\\r\\n\")\n",
        "\n",
        "# Now, to make sure no sentence appears twice in our corpus, we use set. Otherwise, it will make the model biased.\n",
        "#corpus = list(set(corpus))"
      ],
      "execution_count": 5,
      "outputs": []
    },
    {
      "cell_type": "code",
      "metadata": {
        "id": "8U5dGCoYa9Gn"
      },
      "source": [
        "for i in range(len(corpus)):\n",
        "    sentence = corpus[i]\n",
        "    sentence = \"startsentence \" + sentence + \" endsentence\"\n",
        "    corpus[i] = sentence"
      ],
      "execution_count": 7,
      "outputs": []
    },
    {
      "cell_type": "code",
      "metadata": {
        "id": "-XQM2bq4GE-w"
      },
      "source": [
        "new_corpus = []\n",
        "\n",
        "for i in range(0, len(corpus), 3):\n",
        "    if i+1 in range(len(corpus)):\n",
        "        sentence = corpus[i] + \" newsentence \" + corpus[i+1]\n",
        "        new_corpus.append(sentence)"
      ],
      "execution_count": 9,
      "outputs": []
    },
    {
      "cell_type": "markdown",
      "metadata": {
        "id": "ztz9xk_LMlDb"
      },
      "source": [
        "Let's see how an element of corpus looks like. "
      ]
    },
    {
      "cell_type": "code",
      "metadata": {
        "id": "bwi0lHLJGFD_",
        "outputId": "30777640-1f41-4cfe-e863-bb95c4885548",
        "colab": {
          "base_uri": "https://localhost:8080/",
          "height": 35
        }
      },
      "source": [
        "new_corpus[3]"
      ],
      "execution_count": 10,
      "outputs": [
        {
          "output_type": "execute_result",
          "data": {
            "application/vnd.google.colaboratory.intrinsic+json": {
              "type": "string"
            },
            "text/plain": [
              "'startsentence but when you think tim mcgraw endsentence newsentence startsentence i hope you think my favorite song endsentence'"
            ]
          },
          "metadata": {
            "tags": []
          },
          "execution_count": 10
        }
      ]
    },
    {
      "cell_type": "code",
      "metadata": {
        "id": "kwQMFmCIMiFY",
        "outputId": "4f55f340-1b04-446f-dae9-12a2c4322078",
        "colab": {
          "base_uri": "https://localhost:8080/",
          "height": 35
        }
      },
      "source": [
        "corpus[3]"
      ],
      "execution_count": 11,
      "outputs": [
        {
          "output_type": "execute_result",
          "data": {
            "application/vnd.google.colaboratory.intrinsic+json": {
              "type": "string"
            },
            "text/plain": [
              "'startsentence i said thats a lie endsentence'"
            ]
          },
          "metadata": {
            "tags": []
          },
          "execution_count": 11
        }
      ]
    },
    {
      "cell_type": "code",
      "metadata": {
        "id": "5Pszw5v6HiX7"
      },
      "source": [
        "temp = corpus + new_corpus\n",
        "corpus = []\n",
        "for i in temp:\n",
        "    if i not in corpus:\n",
        "        corpus.append(i)"
      ],
      "execution_count": 12,
      "outputs": []
    },
    {
      "cell_type": "markdown",
      "metadata": {
        "id": "rSuoyJVGI6D5"
      },
      "source": [
        "# Organising Data\n",
        "Now we will use Tokenizer to convert the words to word vectors. \n",
        "Our model understands numbers only, so we need to give it numbers instead of words. "
      ]
    },
    {
      "cell_type": "code",
      "metadata": {
        "id": "PRnDnCW-Z7qv"
      },
      "source": [
        "tokenizer = Tokenizer()\n",
        "\n",
        "tokenizer.fit_on_texts(corpus)\n",
        "total_words = len(tokenizer.word_index) + 1\n",
        "\n",
        "# create input sequences using list of tokens\n",
        "input_sequences = []\n",
        "for line in corpus:\n",
        "    token_list = tokenizer.texts_to_sequences([line])[0]\n",
        "    for i in range(1, len(token_list)):\n",
        "        n_gram_sequence = token_list[max(0, i-6):i+1]\n",
        "        input_sequences.append(n_gram_sequence)\n",
        "\n",
        "\n",
        "# pad sequences \n",
        "max_sequence_len = max([len(x) for x in input_sequences])\n",
        "input_sequences = np.array(pad_sequences(input_sequences, maxlen=max_sequence_len, padding='pre'))\n",
        "\n",
        "# create predictors and label\n",
        "predictors, label = input_sequences[:,:-1],input_sequences[:,-1]\n",
        "\n",
        "label = ku.to_categorical(label, num_classes=total_words)"
      ],
      "execution_count": 13,
      "outputs": []
    },
    {
      "cell_type": "code",
      "metadata": {
        "id": "P-X6EuigK0AW",
        "outputId": "e51f373e-594a-4f1a-c46d-1590eddcefdd",
        "colab": {
          "base_uri": "https://localhost:8080/"
        }
      },
      "source": [
        "print(\"Input Sequences\")\n",
        "print(input_sequences)\n",
        "print(\"*****\")\n",
        "print(\"Shape of Input Sequences\", input_sequences.shape)"
      ],
      "execution_count": 14,
      "outputs": [
        {
          "output_type": "stream",
          "text": [
            "Input Sequences\n",
            "[[   0    0    0 ...    0    1 1322]\n",
            " [   0    0    0 ...    1 1322    2]\n",
            " [   0    0    0 ...    0    1   59]\n",
            " ...\n",
            " [   6    1 1121 ...    4   72 1122]\n",
            " [   1 1121  410 ...   72 1122  674]\n",
            " [1121  410    4 ... 1122  674    2]]\n",
            "*****\n",
            "Shape of Input Sequences (53180, 7)\n"
          ],
          "name": "stdout"
        }
      ]
    },
    {
      "cell_type": "code",
      "metadata": {
        "id": "-EuezRa8KNYC",
        "outputId": "502886d0-5b60-49ca-8416-433c55fdcc79",
        "colab": {
          "base_uri": "https://localhost:8080/"
        }
      },
      "source": [
        "print(\"Predictors\")\n",
        "print(predictors)\n",
        "print('*****')\n",
        "print(\"Shape of predictors is\", predictors.shape)"
      ],
      "execution_count": 15,
      "outputs": [
        {
          "output_type": "stream",
          "text": [
            "Predictors\n",
            "[[   0    0    0    0    0    1]\n",
            " [   0    0    0    0    1 1322]\n",
            " [   0    0    0    0    0    1]\n",
            " ...\n",
            " [   6    1 1121  410    4   72]\n",
            " [   1 1121  410    4   72 1122]\n",
            " [1121  410    4   72 1122  674]]\n",
            "*****\n",
            "Shape of predictors is (53180, 6)\n"
          ],
          "name": "stdout"
        }
      ]
    },
    {
      "cell_type": "code",
      "metadata": {
        "id": "JXv6R3EwbZEt",
        "outputId": "c22853a0-fdb3-483a-b966-c5e9183f29e6",
        "colab": {
          "base_uri": "https://localhost:8080/"
        }
      },
      "source": [
        "print(\"Label\")\n",
        "print(label)\n",
        "print(\"*****\")\n",
        "print(\"Shape of label\", label.shape)"
      ],
      "execution_count": 16,
      "outputs": [
        {
          "output_type": "stream",
          "text": [
            "Label\n",
            "[[0. 0. 0. ... 0. 0. 0.]\n",
            " [0. 0. 1. ... 0. 0. 0.]\n",
            " [0. 0. 0. ... 0. 0. 0.]\n",
            " ...\n",
            " [0. 0. 0. ... 0. 0. 0.]\n",
            " [0. 0. 0. ... 0. 0. 0.]\n",
            " [0. 0. 1. ... 0. 0. 0.]]\n",
            "*****\n",
            "Shape of label (53180, 2402)\n"
          ],
          "name": "stdout"
        }
      ]
    },
    {
      "cell_type": "markdown",
      "metadata": {
        "id": "_SyLUtByJ2WK"
      },
      "source": [
        "Now, we will start building model using Keras. We use LSTM so that our model could be more accurate and understand the context better. "
      ]
    },
    {
      "cell_type": "code",
      "metadata": {
        "id": "w9vH8Y59ajYL",
        "outputId": "9342576b-92e6-4454-9d20-5971ff81fc9d",
        "colab": {
          "base_uri": "https://localhost:8080/"
        }
      },
      "source": [
        "model = Sequential()\n",
        "model.add(Embedding(total_words, 50, input_length=max_sequence_len-1))  #(# Embedding Layer)\n",
        "model.add(Bidirectional(LSTM(150, return_sequences=True)))  #(An LSTM Layer)\n",
        "model.add(Dropout(0.2))  #(# A dropout layer for regularisation)\n",
        "model.add(LSTM(100))  #(# Another LSTM Layer)\n",
        "model.add(Dense(total_words/2, activation='relu'))  #(# A Dense Layer including regularizers)\n",
        "#(# Last Layer, the shape is equal to total number of words present in our vocabulary)\n",
        "model.add(Dense(total_words, activation='softmax'))  \n",
        "# Pick an optimizer\n",
        "model.compile(loss='categorical_crossentropy', optimizer='adam', metrics='accuracy')  #(# Pick a loss function and an optimizer)\n",
        "print(model.summary())"
      ],
      "execution_count": 17,
      "outputs": [
        {
          "output_type": "stream",
          "text": [
            "Model: \"sequential\"\n",
            "_________________________________________________________________\n",
            "Layer (type)                 Output Shape              Param #   \n",
            "=================================================================\n",
            "embedding (Embedding)        (None, 6, 50)             120100    \n",
            "_________________________________________________________________\n",
            "bidirectional (Bidirectional (None, 6, 300)            241200    \n",
            "_________________________________________________________________\n",
            "dropout (Dropout)            (None, 6, 300)            0         \n",
            "_________________________________________________________________\n",
            "lstm_1 (LSTM)                (None, 100)               160400    \n",
            "_________________________________________________________________\n",
            "dense (Dense)                (None, 1201)              121301    \n",
            "_________________________________________________________________\n",
            "dense_1 (Dense)              (None, 2402)              2887204   \n",
            "=================================================================\n",
            "Total params: 3,530,205\n",
            "Trainable params: 3,530,205\n",
            "Non-trainable params: 0\n",
            "_________________________________________________________________\n",
            "None\n"
          ],
          "name": "stdout"
        }
      ]
    },
    {
      "cell_type": "code",
      "metadata": {
        "id": "AIg2f1HBxqof",
        "outputId": "0c7e76dc-a0db-4b7d-ad7a-6f7768aa2407",
        "colab": {
          "base_uri": "https://localhost:8080/"
        }
      },
      "source": [
        "history = model.fit(predictors, label, epochs= 60, verbose=1)"
      ],
      "execution_count": 18,
      "outputs": [
        {
          "output_type": "stream",
          "text": [
            "Epoch 1/60\n",
            "1662/1662 [==============================] - 15s 9ms/step - loss: 5.0776 - accuracy: 0.1828\n",
            "Epoch 2/60\n",
            "1662/1662 [==============================] - 15s 9ms/step - loss: 4.4051 - accuracy: 0.2279\n",
            "Epoch 3/60\n",
            "1662/1662 [==============================] - 15s 9ms/step - loss: 3.9224 - accuracy: 0.2645\n",
            "Epoch 4/60\n",
            "1662/1662 [==============================] - 15s 9ms/step - loss: 3.4744 - accuracy: 0.3042\n",
            "Epoch 5/60\n",
            "1662/1662 [==============================] - 15s 9ms/step - loss: 3.0202 - accuracy: 0.3577\n",
            "Epoch 6/60\n",
            "1662/1662 [==============================] - 15s 9ms/step - loss: 2.5858 - accuracy: 0.4200\n",
            "Epoch 7/60\n",
            "1662/1662 [==============================] - 15s 9ms/step - loss: 2.2147 - accuracy: 0.4922\n",
            "Epoch 8/60\n",
            "1662/1662 [==============================] - 15s 9ms/step - loss: 1.9264 - accuracy: 0.5468\n",
            "Epoch 9/60\n",
            "1662/1662 [==============================] - 15s 9ms/step - loss: 1.6996 - accuracy: 0.5974\n",
            "Epoch 10/60\n",
            "1662/1662 [==============================] - 15s 9ms/step - loss: 1.5332 - accuracy: 0.6347\n",
            "Epoch 11/60\n",
            "1662/1662 [==============================] - 15s 9ms/step - loss: 1.4060 - accuracy: 0.6663\n",
            "Epoch 12/60\n",
            "1662/1662 [==============================] - 15s 9ms/step - loss: 1.3124 - accuracy: 0.6891\n",
            "Epoch 13/60\n",
            "1662/1662 [==============================] - 15s 9ms/step - loss: 1.2468 - accuracy: 0.7048\n",
            "Epoch 14/60\n",
            "1662/1662 [==============================] - 15s 9ms/step - loss: 1.1919 - accuracy: 0.7166\n",
            "Epoch 15/60\n",
            "1662/1662 [==============================] - 15s 9ms/step - loss: 1.1455 - accuracy: 0.7285\n",
            "Epoch 16/60\n",
            "1662/1662 [==============================] - 15s 9ms/step - loss: 1.1134 - accuracy: 0.7341\n",
            "Epoch 17/60\n",
            "1662/1662 [==============================] - 15s 9ms/step - loss: 1.0849 - accuracy: 0.7413\n",
            "Epoch 18/60\n",
            "1662/1662 [==============================] - 15s 9ms/step - loss: 1.0604 - accuracy: 0.7458\n",
            "Epoch 19/60\n",
            "1662/1662 [==============================] - 15s 9ms/step - loss: 1.0417 - accuracy: 0.7495\n",
            "Epoch 20/60\n",
            "1662/1662 [==============================] - 15s 9ms/step - loss: 1.0206 - accuracy: 0.7533\n",
            "Epoch 21/60\n",
            "1662/1662 [==============================] - 14s 9ms/step - loss: 1.0035 - accuracy: 0.7574\n",
            "Epoch 22/60\n",
            "1662/1662 [==============================] - 15s 9ms/step - loss: 0.9854 - accuracy: 0.7603\n",
            "Epoch 23/60\n",
            "1662/1662 [==============================] - 15s 9ms/step - loss: 0.9708 - accuracy: 0.7647\n",
            "Epoch 24/60\n",
            "1662/1662 [==============================] - 15s 9ms/step - loss: 0.9581 - accuracy: 0.7665\n",
            "Epoch 25/60\n",
            "1662/1662 [==============================] - 15s 9ms/step - loss: 0.9425 - accuracy: 0.7716\n",
            "Epoch 26/60\n",
            "1662/1662 [==============================] - 15s 9ms/step - loss: 0.9304 - accuracy: 0.7730\n",
            "Epoch 27/60\n",
            "1662/1662 [==============================] - 15s 9ms/step - loss: 0.9257 - accuracy: 0.7748\n",
            "Epoch 28/60\n",
            "1662/1662 [==============================] - 15s 9ms/step - loss: 0.9120 - accuracy: 0.7761\n",
            "Epoch 29/60\n",
            "1662/1662 [==============================] - 15s 9ms/step - loss: 0.8983 - accuracy: 0.7813\n",
            "Epoch 30/60\n",
            "1662/1662 [==============================] - 16s 10ms/step - loss: 0.8933 - accuracy: 0.7825\n",
            "Epoch 31/60\n",
            "1662/1662 [==============================] - 15s 9ms/step - loss: 0.8865 - accuracy: 0.7815\n",
            "Epoch 32/60\n",
            "1662/1662 [==============================] - 15s 9ms/step - loss: 0.8758 - accuracy: 0.7852\n",
            "Epoch 33/60\n",
            "1662/1662 [==============================] - 15s 9ms/step - loss: 0.8736 - accuracy: 0.7859\n",
            "Epoch 34/60\n",
            "1662/1662 [==============================] - 15s 9ms/step - loss: 0.8710 - accuracy: 0.7858\n",
            "Epoch 35/60\n",
            "1662/1662 [==============================] - 15s 9ms/step - loss: 0.8619 - accuracy: 0.7896\n",
            "Epoch 36/60\n",
            "1662/1662 [==============================] - 15s 9ms/step - loss: 0.8522 - accuracy: 0.7909\n",
            "Epoch 37/60\n",
            "1662/1662 [==============================] - 15s 9ms/step - loss: 0.8547 - accuracy: 0.7903\n",
            "Epoch 38/60\n",
            "1662/1662 [==============================] - 15s 9ms/step - loss: 0.8449 - accuracy: 0.7929\n",
            "Epoch 39/60\n",
            "1662/1662 [==============================] - 14s 9ms/step - loss: 0.8392 - accuracy: 0.7942\n",
            "Epoch 40/60\n",
            "1662/1662 [==============================] - 14s 9ms/step - loss: 0.8361 - accuracy: 0.7942\n",
            "Epoch 41/60\n",
            "1662/1662 [==============================] - 15s 9ms/step - loss: 0.8371 - accuracy: 0.7936\n",
            "Epoch 42/60\n",
            "1662/1662 [==============================] - 14s 9ms/step - loss: 0.8360 - accuracy: 0.7932\n",
            "Epoch 43/60\n",
            "1662/1662 [==============================] - 15s 9ms/step - loss: 0.8311 - accuracy: 0.7945\n",
            "Epoch 44/60\n",
            "1662/1662 [==============================] - 14s 9ms/step - loss: 0.8302 - accuracy: 0.7953\n",
            "Epoch 45/60\n",
            "1662/1662 [==============================] - 15s 9ms/step - loss: 0.8182 - accuracy: 0.7988\n",
            "Epoch 46/60\n",
            "1662/1662 [==============================] - 15s 9ms/step - loss: 0.8235 - accuracy: 0.7976\n",
            "Epoch 47/60\n",
            "1662/1662 [==============================] - 14s 9ms/step - loss: 0.8181 - accuracy: 0.7978\n",
            "Epoch 48/60\n",
            "1662/1662 [==============================] - 15s 9ms/step - loss: 0.8178 - accuracy: 0.7975\n",
            "Epoch 49/60\n",
            "1662/1662 [==============================] - 14s 9ms/step - loss: 0.8159 - accuracy: 0.7984\n",
            "Epoch 50/60\n",
            "1662/1662 [==============================] - 15s 9ms/step - loss: 0.8119 - accuracy: 0.7982\n",
            "Epoch 51/60\n",
            "1662/1662 [==============================] - 15s 9ms/step - loss: 0.8124 - accuracy: 0.7993\n",
            "Epoch 52/60\n",
            "1662/1662 [==============================] - 15s 9ms/step - loss: 0.8117 - accuracy: 0.7993\n",
            "Epoch 53/60\n",
            "1662/1662 [==============================] - 15s 9ms/step - loss: 0.8093 - accuracy: 0.7997\n",
            "Epoch 54/60\n",
            "1662/1662 [==============================] - 16s 9ms/step - loss: 0.8059 - accuracy: 0.8010\n",
            "Epoch 55/60\n",
            "1662/1662 [==============================] - 15s 9ms/step - loss: 0.8100 - accuracy: 0.7996\n",
            "Epoch 56/60\n",
            "1662/1662 [==============================] - 15s 9ms/step - loss: 0.8055 - accuracy: 0.8008\n",
            "Epoch 57/60\n",
            "1662/1662 [==============================] - 15s 9ms/step - loss: 0.8010 - accuracy: 0.8010\n",
            "Epoch 58/60\n",
            "1662/1662 [==============================] - 15s 9ms/step - loss: 0.8023 - accuracy: 0.8004\n",
            "Epoch 59/60\n",
            "1662/1662 [==============================] - 15s 9ms/step - loss: 0.8018 - accuracy: 0.8004\n",
            "Epoch 60/60\n",
            "1662/1662 [==============================] - 16s 9ms/step - loss: 0.7975 - accuracy: 0.8022\n"
          ],
          "name": "stdout"
        }
      ]
    },
    {
      "cell_type": "markdown",
      "metadata": {
        "id": "blUBajLlOPyD"
      },
      "source": [
        "Now, we will see how our model performed with each iteration. "
      ]
    },
    {
      "cell_type": "code",
      "metadata": {
        "id": "XWTK8pcgsmqG"
      },
      "source": [
        "import matplotlib.pyplot as plt\n",
        "\n",
        "def plot_graph(history,string):\n",
        "    plt.plot(history.history[string])\n",
        "    plt.xlabel(\"Epochs\")\n",
        "    plt.ylabel(string)\n",
        "    plt.show()"
      ],
      "execution_count": 19,
      "outputs": []
    },
    {
      "cell_type": "code",
      "metadata": {
        "id": "srDqi-U3smqW",
        "outputId": "c869f3cf-b45a-4a9f-d9e0-340422e073b5",
        "colab": {
          "base_uri": "https://localhost:8080/",
          "height": 279
        }
      },
      "source": [
        "plot_graph(history,'accuracy')"
      ],
      "execution_count": 20,
      "outputs": [
        {
          "output_type": "display_data",
          "data": {
            "image/png": "[encoded data removed]",
            "text/plain": [
              "<Figure size 432x288 with 1 Axes>"
            ]
          },
          "metadata": {
            "tags": [],
            "needs_background": "light"
          }
        }
      ]
    },
    {
      "cell_type": "code",
      "metadata": {
        "id": "70XUUhDnTpuY",
        "outputId": "eef379a5-d81c-446e-b05b-fde8c44ba8b9",
        "colab": {
          "base_uri": "https://localhost:8080/",
          "height": 279
        }
      },
      "source": [
        "plot_graph(history,'loss')"
      ],
      "execution_count": 21,
      "outputs": [
        {
          "output_type": "display_data",
          "data": {
            "image/png": "[encoded data removed]",
            "text/plain": [
              "<Figure size 432x288 with 1 Axes>"
            ]
          },
          "metadata": {
            "tags": [],
            "needs_background": "light"
          }
        }
      ]
    },
    {
      "cell_type": "code",
      "metadata": {
        "id": "B3n3gF-wotgL",
        "outputId": "81de9b67-814a-4fe1-f111-cf1f5fbc0b40",
        "colab": {
          "base_uri": "https://localhost:8080/"
        }
      },
      "source": [
        "# Further training if not satisfied\n",
        "history = model.fit(predictors, label, epochs= 20, verbose=1)"
      ],
      "execution_count": 33,
      "outputs": [
        {
          "output_type": "stream",
          "text": [
            "Epoch 1/20\n",
            "1662/1662 [==============================] - 14s 9ms/step - loss: 0.7980 - accuracy: 0.8027\n",
            "Epoch 2/20\n",
            "1662/1662 [==============================] - 15s 9ms/step - loss: 0.7975 - accuracy: 0.8019\n",
            "Epoch 3/20\n",
            "1662/1662 [==============================] - 15s 9ms/step - loss: 0.8008 - accuracy: 0.8007\n",
            "Epoch 4/20\n",
            "1662/1662 [==============================] - 15s 9ms/step - loss: 0.7935 - accuracy: 0.8025\n",
            "Epoch 5/20\n",
            "1662/1662 [==============================] - 15s 9ms/step - loss: 0.7922 - accuracy: 0.8028\n",
            "Epoch 6/20\n",
            "1662/1662 [==============================] - 15s 9ms/step - loss: 0.7928 - accuracy: 0.8021\n",
            "Epoch 7/20\n",
            "1662/1662 [==============================] - 15s 9ms/step - loss: 0.7930 - accuracy: 0.8024\n",
            "Epoch 8/20\n",
            "1662/1662 [==============================] - 15s 9ms/step - loss: 0.7900 - accuracy: 0.8032\n",
            "Epoch 9/20\n",
            "1662/1662 [==============================] - 15s 9ms/step - loss: 0.7880 - accuracy: 0.8030\n",
            "Epoch 10/20\n",
            "1662/1662 [==============================] - 15s 9ms/step - loss: 0.7940 - accuracy: 0.8008\n",
            "Epoch 11/20\n",
            "1662/1662 [==============================] - 15s 9ms/step - loss: 0.7926 - accuracy: 0.8030\n",
            "Epoch 12/20\n",
            "1662/1662 [==============================] - 15s 9ms/step - loss: 0.7871 - accuracy: 0.8038\n",
            "Epoch 13/20\n",
            "1662/1662 [==============================] - 15s 9ms/step - loss: 0.7864 - accuracy: 0.8036\n",
            "Epoch 14/20\n",
            "1662/1662 [==============================] - 15s 9ms/step - loss: 0.7875 - accuracy: 0.8035\n",
            "Epoch 15/20\n",
            "1662/1662 [==============================] - 15s 9ms/step - loss: 0.7844 - accuracy: 0.8046\n",
            "Epoch 16/20\n",
            "1662/1662 [==============================] - 14s 9ms/step - loss: 0.7877 - accuracy: 0.8032\n",
            "Epoch 17/20\n",
            "1662/1662 [==============================] - 15s 9ms/step - loss: 0.7824 - accuracy: 0.8041\n",
            "Epoch 18/20\n",
            "1662/1662 [==============================] - 15s 9ms/step - loss: 0.7857 - accuracy: 0.8039\n",
            "Epoch 19/20\n",
            "1662/1662 [==============================] - 15s 9ms/step - loss: 0.7809 - accuracy: 0.8050\n",
            "Epoch 20/20\n",
            "1662/1662 [==============================] - 16s 9ms/step - loss: 0.7825 - accuracy: 0.8050\n"
          ],
          "name": "stdout"
        }
      ]
    },
    {
      "cell_type": "code",
      "metadata": {
        "id": "B528MBF2i36c"
      },
      "source": [
        "# How to save your trained model\n",
        "\n",
        "# serialize to JSON\n",
        "json_file = model.to_json()\n",
        "with open(\"model.json\", \"w\") as file:\n",
        "   file.write(json_file)\n",
        "# serialize weights to HDF5\n",
        "model.save_weights(\"model.h5\")"
      ],
      "execution_count": null,
      "outputs": []
    },
    {
      "cell_type": "code",
      "metadata": {
        "id": "gVdOEp1bjHzI"
      },
      "source": [
        "# How to load your saved model\n",
        "\n",
        "from keras.models import model_from_json\n",
        "\n",
        "# load json and create model\n",
        "file = open('model.json', 'r')\n",
        "model_json = file.read()\n",
        "file.close()\n",
        "loaded_model = model_from_json(model_json)\n",
        "# load weights\n",
        "loaded_model.load_weights(\"model.h5\")"
      ],
      "execution_count": null,
      "outputs": []
    },
    {
      "cell_type": "markdown",
      "metadata": {
        "id": "LHaZnz8xpzY2"
      },
      "source": [
        "# Generate Lyrics"
      ]
    },
    {
      "cell_type": "code",
      "metadata": {
        "id": "S6L4WV_lsmq2"
      },
      "source": [
        "def get_lyrics(seed_text):\n",
        "    ans = True\n",
        "    end_count = 0\n",
        "    seed_text = \"startsentence \" + seed_text \n",
        "    while True:\n",
        "        token_list = tokenizer.texts_to_sequences([seed_text])[0]\n",
        "        token_list = pad_sequences([token_list], maxlen=max_sequence_len-1, padding='pre')\n",
        "        predicted = np.argmax(model.predict(token_list, verbose=0), axis = -1)\n",
        "        output_word = \"\"\n",
        "        for word, index in tokenizer.word_index.items():\n",
        "            if index == predicted:\n",
        "                output_word = word\n",
        "                break\n",
        "        if output_word == \"endsentence\":\n",
        "            end_count += 1\n",
        "\n",
        "        if end_count == 3:\n",
        "            new_sentence_words = seed_text.split()[1:]\n",
        "            seed_text = ' '.join(new_sentence_words)\n",
        "            return(seed_text)\n",
        "            ans = False\n",
        "            break\n",
        "        seed_text += \" \" + output_word\n",
        "    if ans == True:\n",
        "        new_sentence_words = seed_text.split()[1:]\n",
        "        seed_text = ' '.join(new_sentence_words)\n",
        "        return(seed_text)\n",
        "\n",
        "\n",
        "def make_lyrics(text):\n",
        "    seed_text = get_lyrics(text)\n",
        "    lyrics = seed_text.split(\"newsentence\")\n",
        "    for i in range(len(lyrics)):\n",
        "        sentence = lyrics[i]\n",
        "        words = sentence.split()\n",
        "        if \"endsentence\" in words:\n",
        "            words.remove(\"endsentence\")\n",
        "        if \"startsentence\" in words:\n",
        "            words.remove(\"startsentence\")\n",
        "        sentence = ' '.join(words)\n",
        "        lyrics[i] = sentence\n",
        "    for sentence in lyrics:\n",
        "        print(sentence)"
      ],
      "execution_count": 34,
      "outputs": []
    },
    {
      "cell_type": "code",
      "metadata": {
        "id": "QOkUwwAOKDJy",
        "outputId": "9477b048-c659-4342-df7a-2181f193086d",
        "colab": {
          "base_uri": "https://localhost:8080/"
        }
      },
      "source": [
        "make_lyrics(\"How\")"
      ],
      "execution_count": 35,
      "outputs": [
        {
          "output_type": "stream",
          "text": [
            "How you said youd be here\n",
            "and it was like slow motion\n",
            "got me feeling like im nothing\n"
          ],
          "name": "stdout"
        }
      ]
    },
    {
      "cell_type": "code",
      "metadata": {
        "id": "Qsb9RquVOdo8",
        "outputId": "88722642-d297-4e1b-e03d-439b7af730eb",
        "colab": {
          "base_uri": "https://localhost:8080/"
        }
      },
      "source": [
        "make_lyrics(\"When I will\")"
      ],
      "execution_count": 36,
      "outputs": [
        {
          "output_type": "stream",
          "text": [
            "When I will hold on to you\n",
            "and time can heal but this wont\n",
            "my old scarf from that very first week\n"
          ],
          "name": "stdout"
        }
      ]
    },
    {
      "cell_type": "code",
      "metadata": {
        "id": "u9St39_AOmKM",
        "outputId": "fff2e5cf-08d0-41d2-9335-b6003773cbe2",
        "colab": {
          "base_uri": "https://localhost:8080/"
        }
      },
      "source": [
        "make_lyrics(\"Light in the\")"
      ],
      "execution_count": 37,
      "outputs": [
        {
          "output_type": "stream",
          "text": [
            "Light in the night forever ships\n",
            "oh yeah\n",
            "and i dont know what to say since a twist of fate when it all broke down\n"
          ],
          "name": "stdout"
        }
      ]
    },
    {
      "cell_type": "code",
      "metadata": {
        "id": "RveFcd0hOvVr",
        "outputId": "13ff077a-90d6-4ced-f65d-46c9f0cc4105",
        "colab": {
          "base_uri": "https://localhost:8080/"
        }
      },
      "source": [
        "make_lyrics(\"Walking\")"
      ],
      "execution_count": 38,
      "outputs": [
        {
          "output_type": "stream",
          "text": [
            "Walking through a crowd the village is aglow\n",
            "kaleidoscope of loud heartbeats under coats\n",
            "or if i strike out of you\n"
          ],
          "name": "stdout"
        }
      ]
    },
    {
      "cell_type": "code",
      "metadata": {
        "id": "ySdhR0oxO4GM",
        "outputId": "69bf79ff-0fcb-4a4b-e18d-f6339a5e8e4d",
        "colab": {
          "base_uri": "https://localhost:8080/"
        }
      },
      "source": [
        "make_lyrics(\"Do you\")"
      ],
      "execution_count": 39,
      "outputs": [
        {
          "output_type": "stream",
          "text": [
            "Do you believe it\n",
            "two headlights shine through the sleepless night\n",
            "and i know that you see what youre doing to me\n"
          ],
          "name": "stdout"
        }
      ]
    },
    {
      "cell_type": "code",
      "metadata": {
        "id": "U3fQaM-G0GCA",
        "outputId": "ff590922-e936-470b-a079-0aa02f344a2b",
        "colab": {
          "base_uri": "https://localhost:8080/"
        }
      },
      "source": [
        "make_lyrics(\"If this is\")"
      ],
      "execution_count": 43,
      "outputs": [
        {
          "output_type": "stream",
          "text": [
            "If this is just gonna shake shake shake shake shake\n",
            "i shake it off i shake it off\n",
            "i never miss a beat\n"
          ],
          "name": "stdout"
        }
      ]
    },
    {
      "cell_type": "code",
      "metadata": {
        "id": "WSHshet40Mbo"
      },
      "source": [
        ""
      ],
      "execution_count": null,
      "outputs": []
    }
  ]
}